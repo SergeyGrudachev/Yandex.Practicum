{
 "cells": [
  {
   "cell_type": "markdown",
   "metadata": {},
   "source": [
    "<div style=\"border:solid green 2px; padding: 20px\">\n",
    "  \n",
    "**Привет, Сергей )**\n",
    "\n",
    "Еще раз поздравляю - проект принят. Мои новые комментарии ты найдешь с пометкой *ревью 2*, и они все зеленые )\n",
    "    \n",
    "По поводу имени и сертификата - я спросила твоего куратора, он должен тебе написать.\n",
    "    \n",
    "Желаю успехов в дальнейшем обучении!\n"
   ]
  },
  {
   "cell_type": "markdown",
   "metadata": {},
   "source": [
    "<div style=\"border:solid green 2px; padding: 20px\">\n",
    "  \n",
    "**Привет, Петр!**\n",
    "\n",
    "Меня зовут Юлия Никишина, я ревьювер, буду проверять твой проект. \n",
    "\n",
    "Если не против, я буду обращаться к тебе на \"ты\". Если это неприемлемо, обязательно напиши мне в комментариях, и мы перейдем на \"Вы\".\n",
    "\n",
    "Далее в файле ты увидишь мои комментарии в цветных ячейках с пометкой \"Комментарий ревьюера\". Цвет ячеек зависит от того, какие действия от тебя требуются, ниже указано подробнее. \n",
    "\n",
    "**Важно:** Пожалуйста, не удаляй и не изменяй мои комментарии. При повторной проверке я буду ориентироваться на них. \n",
    "    \n",
    "<div class=\"alert alert-success\"; style=\"border-left: 7px solid green\">\n",
    "<b>✅ Комментарий ревьювера</b> \n",
    "    \n",
    "Такими комментариями я буду отмечать хорошо проделанную работу.\n",
    "</div>\n",
    "\n",
    "<div class=\"alert alert-warning\"; style=\"border-left: 7px solid gold\">\n",
    "<b>⚠️ Комментарий ревьювера</b> \n",
    "    \n",
    "Части проекта, помеченные такими комментариями, можно не исправлять, но стоит обратить на них внимание. В таких комментариях я постараюсь предложить альтернативный вариант решения или дам рекомендации на будущее. \n",
    "</div>\n",
    "\n",
    "<div class=\"alert alert-danger\"; style=\"border-left: 7px solid red\">\n",
    "<b>⛔️ Комментарий ревьювера</b> \n",
    "    \n",
    "Если ты видишь такой комментарий, значит я указываю тебе на недочёт, его нужно исправить. Без такого исправления я не смогу принять твою работу.\n",
    "</div>\n",
    "\n",
    "Ты можешь под моими комментариями оставлять свои, описывать в них сделанные исправления или задавать вопросы, выделяя их другим цветом. \n",
    "\n",
    "<div class=\"alert alert-block alert-info\"; style=\"border-left: 7px solid blue\">\n",
    "<b>Комментарий студента</b>\n",
    "    \n",
    "Например, вот так.\n",
    "</div>"
   ]
  },
  {
   "cell_type": "markdown",
   "metadata": {},
   "source": [
    "<div class=\"alert alert-block alert-info\"; style=\"border-left: 7px solid blue\">\n",
    "<b>Комментарий студента</b><br>\n",
    "Привет!<br>\n",
    "Я не Петр :)<br>\n",
    "Меня зовут Грудачев Сергей. Очень приятно.<br>\n",
    "Просто решил указать при создании почтового ящика выдуманную фамилию и имя. А потом на этот ящик зарегестрировал аккаунт в Практикуме.<br>\n",
    "У меня не будет из-за этого проблем при получении сертификата?\n",
    "</div>"
   ]
  },
  {
   "cell_type": "markdown",
   "metadata": {
    "id": "E0vqbgi9ay0H"
   },
   "source": [
    "# Яндекс.Музыка"
   ]
  },
  {
   "cell_type": "markdown",
   "metadata": {
    "id": "VUC88oWjTJw2"
   },
   "source": [
    "Сравнение Москвы и Петербурга окружено мифами. Например:\n",
    " * Москва — мегаполис, подчинённый жёсткому ритму рабочей недели;\n",
    " * Петербург — культурная столица, со своими вкусами.\n",
    "\n",
    "На данных Яндекс.Музыки вы сравните поведение пользователей двух столиц.\n",
    "\n",
    "**Цель исследования** — проверьте три гипотезы:\n",
    "1. Активность пользователей зависит от дня недели. Причём в Москве и Петербурге это проявляется по-разному.\n",
    "2. В понедельник утром в Москве преобладают одни жанры, а в Петербурге — другие. Так же и вечером пятницы преобладают разные жанры — в зависимости от города. \n",
    "3. Москва и Петербург предпочитают разные жанры музыки. В Москве чаще слушают поп-музыку, в Петербурге — русский рэп.\n",
    "\n",
    "**Ход исследования**\n",
    "\n",
    "Данные о поведении пользователей вы получите из файла `yandex_music_project.csv`. О качестве данных ничего не известно. Поэтому перед проверкой гипотез понадобится обзор данных. \n",
    "\n",
    "Вы проверите данные на ошибки и оцените их влияние на исследование. Затем, на этапе предобработки вы поищете возможность исправить самые критичные ошибки данных.\n",
    " \n",
    "Таким образом, исследование пройдёт в три этапа:\n",
    " 1. Обзор данных.\n",
    " 2. Предобработка данных.\n",
    " 3. Проверка гипотез.\n",
    "\n"
   ]
  },
  {
   "cell_type": "markdown",
   "metadata": {
    "id": "Ml1hmfXC_Zcs"
   },
   "source": [
    "## Обзор данных\n",
    "\n",
    "Составьте первое представление о данных Яндекс.Музыки.\n",
    "\n",
    "\n"
   ]
  },
  {
   "cell_type": "markdown",
   "metadata": {
    "id": "57eAOGIz_Zcs"
   },
   "source": [
    "Основной инструмент аналитика — `pandas`. Импортируйте эту библиотеку."
   ]
  },
  {
   "cell_type": "code",
   "execution_count": 1,
   "metadata": {
    "id": "AXN7PHPN_Zcs"
   },
   "outputs": [],
   "source": [
    "# импорт библиотеки pandas\n",
    "import pandas as pd"
   ]
  },
  {
   "cell_type": "markdown",
   "metadata": {},
   "source": [
    "    \n",
    "<div class=\"alert alert-success\"; style=\"border-left: 7px solid green\">\n",
    "<b>✅ Комментарий ревьювера</b> \n",
    "    \n",
    "Молодец, что используешь общепринятое сокращенное название библиотеки.\n",
    "</div>"
   ]
  },
  {
   "cell_type": "markdown",
   "metadata": {
    "id": "SG23P8tt_Zcs"
   },
   "source": [
    "Прочитайте файл `yandex_music_project.csv` из папки `/datasets` и сохраните его в переменной `df`:"
   ]
  },
  {
   "cell_type": "code",
   "execution_count": 2,
   "metadata": {
    "id": "fFVu7vqh_Zct"
   },
   "outputs": [],
   "source": [
    "# чтение файла с данными и сохранение в df\n",
    "df = pd.read_csv('/datasets/yandex_music_project.csv')"
   ]
  },
  {
   "cell_type": "markdown",
   "metadata": {},
   "source": [
    "    \n",
    "<div class=\"alert alert-success\"; style=\"border-left: 7px solid green\">\n",
    "<b>✅ Комментарий ревьювера</b> \n",
    "    \n",
    "Верно указан путь к файлу. Слеш в начале пути важен, так как указывает, что файл хранится в корневой папке.\n",
    "</div>"
   ]
  },
  {
   "cell_type": "markdown",
   "metadata": {
    "id": "rDoOMd3uTqnZ"
   },
   "source": [
    "Выведите на экран первые десять строк таблицы:"
   ]
  },
  {
   "cell_type": "code",
   "execution_count": 3,
   "metadata": {
    "id": "oWTVX3gW_Zct"
   },
   "outputs": [
    {
     "data": {
      "text/html": [
       "<div>\n",
       "<style scoped>\n",
       "    .dataframe tbody tr th:only-of-type {\n",
       "        vertical-align: middle;\n",
       "    }\n",
       "\n",
       "    .dataframe tbody tr th {\n",
       "        vertical-align: top;\n",
       "    }\n",
       "\n",
       "    .dataframe thead th {\n",
       "        text-align: right;\n",
       "    }\n",
       "</style>\n",
       "<table border=\"1\" class=\"dataframe\">\n",
       "  <thead>\n",
       "    <tr style=\"text-align: right;\">\n",
       "      <th></th>\n",
       "      <th>userID</th>\n",
       "      <th>Track</th>\n",
       "      <th>artist</th>\n",
       "      <th>genre</th>\n",
       "      <th>City</th>\n",
       "      <th>time</th>\n",
       "      <th>Day</th>\n",
       "    </tr>\n",
       "  </thead>\n",
       "  <tbody>\n",
       "    <tr>\n",
       "      <th>0</th>\n",
       "      <td>FFB692EC</td>\n",
       "      <td>Kamigata To Boots</td>\n",
       "      <td>The Mass Missile</td>\n",
       "      <td>rock</td>\n",
       "      <td>Saint-Petersburg</td>\n",
       "      <td>20:28:33</td>\n",
       "      <td>Wednesday</td>\n",
       "    </tr>\n",
       "    <tr>\n",
       "      <th>1</th>\n",
       "      <td>55204538</td>\n",
       "      <td>Delayed Because of Accident</td>\n",
       "      <td>Andreas Rönnberg</td>\n",
       "      <td>rock</td>\n",
       "      <td>Moscow</td>\n",
       "      <td>14:07:09</td>\n",
       "      <td>Friday</td>\n",
       "    </tr>\n",
       "    <tr>\n",
       "      <th>2</th>\n",
       "      <td>20EC38</td>\n",
       "      <td>Funiculì funiculà</td>\n",
       "      <td>Mario Lanza</td>\n",
       "      <td>pop</td>\n",
       "      <td>Saint-Petersburg</td>\n",
       "      <td>20:58:07</td>\n",
       "      <td>Wednesday</td>\n",
       "    </tr>\n",
       "    <tr>\n",
       "      <th>3</th>\n",
       "      <td>A3DD03C9</td>\n",
       "      <td>Dragons in the Sunset</td>\n",
       "      <td>Fire + Ice</td>\n",
       "      <td>folk</td>\n",
       "      <td>Saint-Petersburg</td>\n",
       "      <td>08:37:09</td>\n",
       "      <td>Monday</td>\n",
       "    </tr>\n",
       "    <tr>\n",
       "      <th>4</th>\n",
       "      <td>E2DC1FAE</td>\n",
       "      <td>Soul People</td>\n",
       "      <td>Space Echo</td>\n",
       "      <td>dance</td>\n",
       "      <td>Moscow</td>\n",
       "      <td>08:34:34</td>\n",
       "      <td>Monday</td>\n",
       "    </tr>\n",
       "    <tr>\n",
       "      <th>5</th>\n",
       "      <td>842029A1</td>\n",
       "      <td>Преданная</td>\n",
       "      <td>IMPERVTOR</td>\n",
       "      <td>rusrap</td>\n",
       "      <td>Saint-Petersburg</td>\n",
       "      <td>13:09:41</td>\n",
       "      <td>Friday</td>\n",
       "    </tr>\n",
       "    <tr>\n",
       "      <th>6</th>\n",
       "      <td>4CB90AA5</td>\n",
       "      <td>True</td>\n",
       "      <td>Roman Messer</td>\n",
       "      <td>dance</td>\n",
       "      <td>Moscow</td>\n",
       "      <td>13:00:07</td>\n",
       "      <td>Wednesday</td>\n",
       "    </tr>\n",
       "    <tr>\n",
       "      <th>7</th>\n",
       "      <td>F03E1C1F</td>\n",
       "      <td>Feeling This Way</td>\n",
       "      <td>Polina Griffith</td>\n",
       "      <td>dance</td>\n",
       "      <td>Moscow</td>\n",
       "      <td>20:47:49</td>\n",
       "      <td>Wednesday</td>\n",
       "    </tr>\n",
       "    <tr>\n",
       "      <th>8</th>\n",
       "      <td>8FA1D3BE</td>\n",
       "      <td>И вновь продолжается бой</td>\n",
       "      <td>NaN</td>\n",
       "      <td>ruspop</td>\n",
       "      <td>Moscow</td>\n",
       "      <td>09:17:40</td>\n",
       "      <td>Friday</td>\n",
       "    </tr>\n",
       "    <tr>\n",
       "      <th>9</th>\n",
       "      <td>E772D5C0</td>\n",
       "      <td>Pessimist</td>\n",
       "      <td>NaN</td>\n",
       "      <td>dance</td>\n",
       "      <td>Saint-Petersburg</td>\n",
       "      <td>21:20:49</td>\n",
       "      <td>Wednesday</td>\n",
       "    </tr>\n",
       "  </tbody>\n",
       "</table>\n",
       "</div>"
      ],
      "text/plain": [
       "     userID                        Track            artist   genre  \\\n",
       "0  FFB692EC            Kamigata To Boots  The Mass Missile    rock   \n",
       "1  55204538  Delayed Because of Accident  Andreas Rönnberg    rock   \n",
       "2    20EC38            Funiculì funiculà       Mario Lanza     pop   \n",
       "3  A3DD03C9        Dragons in the Sunset        Fire + Ice    folk   \n",
       "4  E2DC1FAE                  Soul People        Space Echo   dance   \n",
       "5  842029A1                    Преданная         IMPERVTOR  rusrap   \n",
       "6  4CB90AA5                         True      Roman Messer   dance   \n",
       "7  F03E1C1F             Feeling This Way   Polina Griffith   dance   \n",
       "8  8FA1D3BE     И вновь продолжается бой               NaN  ruspop   \n",
       "9  E772D5C0                    Pessimist               NaN   dance   \n",
       "\n",
       "             City        time        Day  \n",
       "0  Saint-Petersburg  20:28:33  Wednesday  \n",
       "1            Moscow  14:07:09     Friday  \n",
       "2  Saint-Petersburg  20:58:07  Wednesday  \n",
       "3  Saint-Petersburg  08:37:09     Monday  \n",
       "4            Moscow  08:34:34     Monday  \n",
       "5  Saint-Petersburg  13:09:41     Friday  \n",
       "6            Moscow  13:00:07  Wednesday  \n",
       "7            Moscow  20:47:49  Wednesday  \n",
       "8            Moscow  09:17:40     Friday  \n",
       "9  Saint-Petersburg  21:20:49  Wednesday  "
      ]
     },
     "execution_count": 3,
     "metadata": {},
     "output_type": "execute_result"
    }
   ],
   "source": [
    "# получение первых 10 строк таблицы df\n",
    "df.head(10)"
   ]
  },
  {
   "cell_type": "markdown",
   "metadata": {
    "id": "EO73Kwic_Zct"
   },
   "source": [
    "Одной командой получить общую информацию о таблице:"
   ]
  },
  {
   "cell_type": "code",
   "execution_count": 4,
   "metadata": {
    "id": "DSf2kIb-_Zct"
   },
   "outputs": [
    {
     "name": "stdout",
     "output_type": "stream",
     "text": [
      "<class 'pandas.core.frame.DataFrame'>\n",
      "RangeIndex: 65079 entries, 0 to 65078\n",
      "Data columns (total 7 columns):\n",
      " #   Column    Non-Null Count  Dtype \n",
      "---  ------    --------------  ----- \n",
      " 0     userID  65079 non-null  object\n",
      " 1   Track     63848 non-null  object\n",
      " 2   artist    57876 non-null  object\n",
      " 3   genre     63881 non-null  object\n",
      " 4     City    65079 non-null  object\n",
      " 5   time      65079 non-null  object\n",
      " 6   Day       65079 non-null  object\n",
      "dtypes: object(7)\n",
      "memory usage: 3.5+ MB\n"
     ]
    }
   ],
   "source": [
    "# получение общей информации о данных в таблице df\n",
    "df.info()"
   ]
  },
  {
   "cell_type": "markdown",
   "metadata": {},
   "source": [
    "    \n",
    "<div class=\"alert alert-success\"; style=\"border-left: 7px solid green\">\n",
    "<b>✅ Комментарий ревьювера</b> \n",
    "    \n",
    "Абсолютно верно использованы методы head() и info().\n",
    "</div>"
   ]
  },
  {
   "cell_type": "markdown",
   "metadata": {
    "id": "TaQ2Iwbr_Zct"
   },
   "source": [
    "Итак, в таблице семь столбцов. Тип данных во всех столбцах — `object`.\n",
    "\n",
    "Согласно документации к данным:\n",
    "* `userID` — идентификатор пользователя;\n",
    "* `Track` — название трека;  \n",
    "* `artist` — имя исполнителя;\n",
    "* `genre` — название жанра;\n",
    "* `City` — город пользователя;\n",
    "* `time` — время начала прослушивания;\n",
    "* `Day` — день недели.\n",
    "\n",
    "В названиях колонок видны три нарушения стиля:\n",
    "1. Строчные буквы сочетаются с прописными.\n",
    "2. Встречаются пробелы.\n",
    "3. Использован CamelCase вместо snake_case.\n",
    "\n",
    "\n",
    "\n",
    "Количество значений в столбцах различается. Значит, в данных есть пропущенные значения.\n"
   ]
  },
  {
   "cell_type": "markdown",
   "metadata": {},
   "source": [
    "    \n",
    "<div class=\"alert alert-success\"; style=\"border-left: 7px solid green\">\n",
    "<b>✅ Комментарий ревьювера</b> \n",
    "    \n",
    "Отлично, все проблемы найдены.\n",
    "</div>"
   ]
  },
  {
   "cell_type": "markdown",
   "metadata": {
    "id": "MCB6-dXG_Zct"
   },
   "source": [
    "**Выводы**\n",
    "\n",
    "В каждой строке таблицы — данные о прослушанном треке. Часть колонок описывает саму композицию: название, исполнителя и жанр. Остальные данные рассказывают о пользователе: из какого он города, когда он слушал музыку. \n",
    "\n",
    "Предварительно можно утверждать, что, данных достаточно для проверки гипотез. Но встречаются пропуски в данных, а в названиях колонок — расхождения с хорошим стилем.\n",
    "\n",
    "Чтобы двигаться дальше, нужно устранить проблемы в данных."
   ]
  },
  {
   "cell_type": "markdown",
   "metadata": {},
   "source": [
    "    \n",
    "<div class=\"alert alert-success\"; style=\"border-left: 7px solid green\">\n",
    "<b>✅ Комментарий ревьюера</b>\n",
    "\n",
    "Отмечу, что промежуточные выводы - важная часть исследования. </div>"
   ]
  },
  {
   "cell_type": "markdown",
   "metadata": {
    "id": "SjYF6Ub9_Zct"
   },
   "source": [
    "## Предобработка данных\n",
    "Исправьте стиль в заголовках столбцов, исключите пропуски. Затем проверьте данные на дубликаты."
   ]
  },
  {
   "cell_type": "markdown",
   "metadata": {
    "id": "dIaKXr29_Zct"
   },
   "source": [
    "### Стиль заголовков\n",
    "Выведите на экран названия столбцов:"
   ]
  },
  {
   "cell_type": "code",
   "execution_count": 5,
   "metadata": {
    "id": "oKOTdF_Q_Zct"
   },
   "outputs": [
    {
     "name": "stdout",
     "output_type": "stream",
     "text": [
      "Перечень названий столбцов:   userID, Track, artist, genre,   City  , time, Day\n"
     ]
    }
   ],
   "source": [
    "# перечень названий столбцов таблицы df\n",
    "print('Перечень названий столбцов: ', end='')\n",
    "print(*df.columns, sep=', ')"
   ]
  },
  {
   "cell_type": "markdown",
   "metadata": {
    "id": "FPZA3ki8xe7T"
   },
   "source": []
  },
  {
   "cell_type": "markdown",
   "metadata": {
    "id": "zj5534cv_Zct"
   },
   "source": [
    "Приведите названия в соответствие с хорошим стилем:\n",
    "* несколько слов в названии запишите в «змеином_регистре»,\n",
    "* все символы сделайте строчными,\n",
    "* устраните пробелы.\n",
    "\n",
    "Для этого переименуйте колонки так:\n",
    "* `'  userID'` → `'user_id'`;\n",
    "* `'Track'` → `'track'`;\n",
    "* `'  City  '` → `'city'`;\n",
    "* `'Day'` → `'day'`."
   ]
  },
  {
   "cell_type": "code",
   "execution_count": 6,
   "metadata": {
    "id": "ISlFqs5y_Zct"
   },
   "outputs": [],
   "source": [
    "# переименование столбцов\n",
    "df = df.rename(columns={'  userID': 'user_id',\n",
    "                        'Track': 'track',\n",
    "                        '  City  ': 'city',\n",
    "                        'Day': 'day'})"
   ]
  },
  {
   "cell_type": "markdown",
   "metadata": {},
   "source": [
    "    \n",
    "<div class=\"alert alert-success\"; style=\"border-left: 7px solid green\">\n",
    "<b>✅ Комментарий ревьюера</b>\n",
    "\n",
    "Отличный выбор способа переименования столбцов. </div>"
   ]
  },
  {
   "cell_type": "markdown",
   "metadata": {
    "id": "1dqbh00J_Zct"
   },
   "source": [
    "Проверьте результат. Для этого ещё раз выведите на экран названия столбцов:"
   ]
  },
  {
   "cell_type": "code",
   "execution_count": 7,
   "metadata": {
    "id": "d4NOAmTW_Zct"
   },
   "outputs": [
    {
     "name": "stdout",
     "output_type": "stream",
     "text": [
      "Перечень названий столбцов: user_id, track, artist, genre, city, time, day\n"
     ]
    }
   ],
   "source": [
    "# проверка результатов - перечень названий столбцов\n",
    "print('Перечень названий столбцов: ', end='')\n",
    "print(*df.columns, sep=', ')"
   ]
  },
  {
   "cell_type": "markdown",
   "metadata": {
    "id": "5ISfbcfY_Zct"
   },
   "source": [
    "### Пропуски значений\n",
    "Сначала посчитайте, сколько в таблице пропущенных значений. Для этого достаточно двух методов `pandas`:"
   ]
  },
  {
   "cell_type": "code",
   "execution_count": 8,
   "metadata": {
    "id": "RskX29qr_Zct"
   },
   "outputs": [
    {
     "data": {
      "text/plain": [
       "user_id       0\n",
       "track      1231\n",
       "artist     7203\n",
       "genre      1198\n",
       "city          0\n",
       "time          0\n",
       "day           0\n",
       "dtype: int64"
      ]
     },
     "execution_count": 8,
     "metadata": {},
     "output_type": "execute_result"
    }
   ],
   "source": [
    "# подсчёт пропусков\n",
    "df.isna().sum()"
   ]
  },
  {
   "cell_type": "markdown",
   "metadata": {
    "id": "qubhgnlO_Zct"
   },
   "source": [
    "Не все пропущенные значения влияют на исследование. Так в `track` и `artist` пропуски не важны для вашей работы. Достаточно заменить их явными обозначениями.\n",
    "\n",
    "Но пропуски в `genre` могут помешать сравнению музыкальных вкусов в Москве и Санкт-Петербурге. На практике было бы правильно установить причину пропусков и восстановить данные. Такой возможности нет в учебном проекте. Придётся:\n",
    "* заполнить и эти пропуски явными обозначениями,\n",
    "* оценить, насколько они повредят расчётам. "
   ]
  },
  {
   "cell_type": "markdown",
   "metadata": {
    "id": "fSv2laPA_Zct"
   },
   "source": [
    "Замените пропущенные значения в столбцах `track`, `artist` и `genre` на строку `'unknown'`. Для этого создайте список `columns_to_replace`, переберите его элементы циклом `for` и для каждого столбца выполните замену пропущенных значений:"
   ]
  },
  {
   "cell_type": "code",
   "execution_count": 9,
   "metadata": {
    "id": "KplB5qWs_Zct"
   },
   "outputs": [],
   "source": [
    "# перебор названий столбцов в цикле и замена пропущенных значений на 'unknown'\n",
    "columns_to_replace = ['track', 'artist', 'genre']\n",
    "for column in columns_to_replace:\n",
    "    df[column] = df[column].fillna('unknown')"
   ]
  },
  {
   "cell_type": "markdown",
   "metadata": {
    "id": "Ilsm-MZo_Zct"
   },
   "source": [
    "Убедитесь, что в таблице не осталось пропусков. Для этого ещё раз посчитайте пропущенные значения."
   ]
  },
  {
   "cell_type": "code",
   "execution_count": 10,
   "metadata": {
    "id": "Tq4nYRX4_Zct"
   },
   "outputs": [
    {
     "data": {
      "text/plain": [
       "user_id    0\n",
       "track      0\n",
       "artist     0\n",
       "genre      0\n",
       "city       0\n",
       "time       0\n",
       "day        0\n",
       "dtype: int64"
      ]
     },
     "execution_count": 10,
     "metadata": {},
     "output_type": "execute_result"
    }
   ],
   "source": [
    "# подсчёт пропусков\n",
    "df.isna().sum()"
   ]
  },
  {
   "cell_type": "markdown",
   "metadata": {},
   "source": [
    "    \n",
    "<div class=\"alert alert-success\"; style=\"border-left: 7px solid green\">\n",
    "<b>✅ Комментарий ревьюера</b>\n",
    "\n",
    "Супер - все пропуски найдены и заполнены. </div>"
   ]
  },
  {
   "cell_type": "markdown",
   "metadata": {
    "id": "BWKRtBJ3_Zct"
   },
   "source": [
    "### Дубликаты\n",
    "Посчитайте явные дубликаты в таблице одной командой:"
   ]
  },
  {
   "cell_type": "code",
   "execution_count": 11,
   "metadata": {
    "id": "36eES_S0_Zct"
   },
   "outputs": [
    {
     "name": "stdout",
     "output_type": "stream",
     "text": [
      "Количество явных дубликатов: 3826\n"
     ]
    }
   ],
   "source": [
    "# подсчёт явных дубликатов\n",
    "print('Количество явных дубликатов:', df.duplicated().sum())"
   ]
  },
  {
   "cell_type": "markdown",
   "metadata": {},
   "source": [
    "    \n",
    "<div class=\"alert alert-success\"; style=\"border-left: 7px solid green\">\n",
    "<b>✅ Комментарий ревьюера</b>\n",
    "\n",
    "Отлично. </div>"
   ]
  },
  {
   "cell_type": "markdown",
   "metadata": {
    "id": "Ot25h6XR_Zct"
   },
   "source": [
    "Вызовите специальный метод `pandas`, чтобы удалить явные дубликаты:"
   ]
  },
  {
   "cell_type": "code",
   "execution_count": 12,
   "metadata": {
    "id": "exFHq6tt_Zct"
   },
   "outputs": [],
   "source": [
    "# удаление явных дубликатов (с удалением старых индексов и формированием новых)\n",
    "df = df.drop_duplicates().reset_index(drop=True)"
   ]
  },
  {
   "cell_type": "markdown",
   "metadata": {
    "id": "Im2YwBEG_Zct"
   },
   "source": [
    "Ещё раз посчитайте явные дубликаты в таблице — убедитесь, что полностью от них избавились:"
   ]
  },
  {
   "cell_type": "code",
   "execution_count": 13,
   "metadata": {
    "id": "-8PuNWQ0_Zct"
   },
   "outputs": [
    {
     "name": "stdout",
     "output_type": "stream",
     "text": [
      "Количество явных дубликатов: 0\n"
     ]
    }
   ],
   "source": [
    "# проверка на отсутствие дубликатов\n",
    "print('Количество явных дубликатов:', df.duplicated().sum())"
   ]
  },
  {
   "cell_type": "markdown",
   "metadata": {},
   "source": [
    "    \n",
    "<div class=\"alert alert-success\"; style=\"border-left: 7px solid green\">\n",
    "<b>✅ Комментарий ревьюера</b>\n",
    "\n",
    "Явных дубликатов больше нет. </div>"
   ]
  },
  {
   "cell_type": "markdown",
   "metadata": {
    "id": "QlFBsxAr_Zct"
   },
   "source": [
    "Теперь избавьтесь от неявных дубликатов в колонке `genre`. Например, название одного и того же жанра может быть записано немного по-разному. Такие ошибки тоже повлияют на результат исследования."
   ]
  },
  {
   "cell_type": "markdown",
   "metadata": {
    "id": "eSjWwsOh_Zct"
   },
   "source": [
    "Выведите на экран список уникальных названий жанров, отсортированный в алфавитном порядке. Для этого:\n",
    "* извлеките нужный столбец датафрейма, \n",
    "* примените к нему метод сортировки,\n",
    "* для отсортированного столбца вызовите метод, который вернёт уникальные значения из столбца."
   ]
  },
  {
   "cell_type": "code",
   "execution_count": 14,
   "metadata": {},
   "outputs": [],
   "source": [
    "def print_unique(col_name):\n",
    "    print(f'Уникальные значения в столбце {col_name}: ', end='')\n",
    "    print(*df[col_name].sort_values().unique(), sep=', ')"
   ]
  },
  {
   "cell_type": "code",
   "execution_count": 15,
   "metadata": {
    "id": "JIUcqzZN_Zct"
   },
   "outputs": [
    {
     "name": "stdout",
     "output_type": "stream",
     "text": [
      "Уникальные значения в столбце genre: acid, acoustic, action, adult, africa, afrikaans, alternative, alternativepunk, ambient, americana, animated, anime, arabesk, arabic, arena, argentinetango, art, audiobook, author, avantgarde, axé, baile, balkan, beats, bigroom, black, bluegrass, blues, bollywood, bossa, brazilian, breakbeat, breaks, broadway, cantautori, cantopop, canzone, caribbean, caucasian, celtic, chamber, chanson, children, chill, chinese, choral, christian, christmas, classical, classicmetal, club, colombian, comedy, conjazz, contemporary, country, cuban, dance, dancehall, dancepop, dark, death, deep, deutschrock, deutschspr, dirty, disco, dnb, documentary, downbeat, downtempo, drum, dub, dubstep, eastern, easy, electronic, electropop, emo, entehno, epicmetal, estrada, ethnic, eurofolk, european, experimental, extrememetal, fado, fairytail, film, fitness, flamenco, folk, folklore, folkmetal, folkrock, folktronica, forró, frankreich, französisch, french, funk, future, gangsta, garage, german, ghazal, gitarre, glitch, gospel, gothic, grime, grunge, gypsy, handsup, hard'n'heavy, hardcore, hardstyle, hardtechno, hip, hip-hop, hiphop, historisch, holiday, hop, horror, house, hymn, idm, independent, indian, indie, indipop, industrial, inspirational, instrumental, international, irish, jam, japanese, jazz, jewish, jpop, jungle, k-pop, karadeniz, karaoke, kayokyoku, korean, laiko, latin, latino, leftfield, local, lounge, loungeelectronic, lovers, malaysian, mandopop, marschmusik, meditative, mediterranean, melodic, metal, metalcore, mexican, middle, minimal, miscellaneous, modern, mood, mpb, muslim, native, neoklassik, neue, new, newage, newwave, nu, nujazz, numetal, oceania, old, opera, orchestral, other, piano, podcasts, pop, popdance, popelectronic, popeurodance, poprussian, post, posthardcore, postrock, power, progmetal, progressive, psychedelic, punjabi, punk, quebecois, ragga, ram, rancheras, rap, rave, reggae, reggaeton, regional, relax, religious, retro, rhythm, rnb, rnr, rock, rockabilly, rockalternative, rockindie, rockother, romance, roots, ruspop, rusrap, rusrock, russian, salsa, samba, scenic, schlager, self, sertanejo, shanson, shoegazing, showtunes, singer, ska, skarock, slow, smooth, soft, soul, soulful, sound, soundtrack, southern, specialty, speech, spiritual, sport, stonerrock, surf, swing, synthpop, synthrock, sängerportrait, tango, tanzorchester, taraftar, tatar, tech, techno, teen, thrash, top, traditional, tradjazz, trance, tribal, trip, triphop, tropical, türk, türkçe, ukrrock, unknown, urban, uzbek, variété, vi, videogame, vocal, western, world, worldbeat, ïîï, электроника\n"
     ]
    }
   ],
   "source": [
    "# Просмотр уникальных названий жанров\n",
    "print_unique('genre')"
   ]
  },
  {
   "cell_type": "markdown",
   "metadata": {},
   "source": [
    "    \n",
    "<div class=\"alert alert-success\"; style=\"border-left: 7px solid green\">\n",
    "<b>✅ Комментарий ревьюера</b>\n",
    "\n",
    "Практикуешься писать функции? У тебя хорошо получается. </div>"
   ]
  },
  {
   "cell_type": "markdown",
   "metadata": {
    "id": "qej-Qmuo_Zct"
   },
   "source": [
    "Просмотрите список и найдите неявные дубликаты названия `hiphop`. Это могут быть названия с ошибками или альтернативные названия того же жанра.\n",
    "\n",
    "Вы увидите следующие неявные дубликаты:\n",
    "* *hip*,\n",
    "* *hop*,\n",
    "* *hip-hop*.\n",
    "* ???*rap*???\n",
    "\n",
    "Чтобы очистить от них таблицу, напишите функцию `replace_wrong_genres()` с двумя параметрами: \n",
    "* `wrong_genres` — список дубликатов,\n",
    "* `correct_genre` — строка с правильным значением.\n",
    "\n",
    "Функция должна исправить колонку `genre` в таблице `df`: заменить каждое значение из списка `wrong_genres` на значение из `correct_genre`."
   ]
  },
  {
   "cell_type": "markdown",
   "metadata": {},
   "source": [
    "Также неявными дубликатами являются `electronic`, `электроника`."
   ]
  },
  {
   "cell_type": "code",
   "execution_count": 16,
   "metadata": {
    "id": "ErNDkmns_Zct"
   },
   "outputs": [],
   "source": [
    "# Функция для замены неявных дубликатов\n",
    "def replace_wrong_genres(wrong_genres, correct_genre):\n",
    "    for genre in wrong_genres:\n",
    "        df['genre'] = df['genre'].replace(genre, correct_genre)"
   ]
  },
  {
   "cell_type": "markdown",
   "metadata": {
    "id": "aDoBJxbA_Zct"
   },
   "source": [
    "Вызовите `replace_wrong_genres()` и передайте ей такие аргументы, чтобы она устранила неявные дубликаты: вместо `hip`, `hop` и `hip-hop` в таблице должно быть значение `hiphop`:"
   ]
  },
  {
   "cell_type": "code",
   "execution_count": 17,
   "metadata": {
    "id": "YN5i2hpmSo09"
   },
   "outputs": [],
   "source": [
    "# Устранение неявных дубликатов\n",
    "replace_wrong_genres(['hip', 'hop', 'hip-hop'], 'hiphop')\n",
    "replace_wrong_genres(['электроника'], 'electronic')"
   ]
  },
  {
   "cell_type": "markdown",
   "metadata": {
    "id": "zQKF16_RG15m"
   },
   "source": [
    "Проверьте, что заменили неправильные названия:\n",
    "\n",
    "*   hip\n",
    "*   hop\n",
    "*   hip-hop\n",
    "\n",
    "Выведите отсортированный список уникальных значений столбца `genre`:"
   ]
  },
  {
   "cell_type": "markdown",
   "metadata": {},
   "source": [
    "    \n",
    "<div class=\"alert alert-success\"; style=\"border-left: 7px solid green\">\n",
    "<b>✅ Комментарий ревьюера</b>\n",
    "\n",
    "Молодец, ты заметил больше неявных дубликатов! </div>"
   ]
  },
  {
   "cell_type": "code",
   "execution_count": 18,
   "metadata": {
    "id": "wvixALnFG15m"
   },
   "outputs": [
    {
     "name": "stdout",
     "output_type": "stream",
     "text": [
      "Уникальные значения в столбце genre: acid, acoustic, action, adult, africa, afrikaans, alternative, alternativepunk, ambient, americana, animated, anime, arabesk, arabic, arena, argentinetango, art, audiobook, author, avantgarde, axé, baile, balkan, beats, bigroom, black, bluegrass, blues, bollywood, bossa, brazilian, breakbeat, breaks, broadway, cantautori, cantopop, canzone, caribbean, caucasian, celtic, chamber, chanson, children, chill, chinese, choral, christian, christmas, classical, classicmetal, club, colombian, comedy, conjazz, contemporary, country, cuban, dance, dancehall, dancepop, dark, death, deep, deutschrock, deutschspr, dirty, disco, dnb, documentary, downbeat, downtempo, drum, dub, dubstep, eastern, easy, electronic, electropop, emo, entehno, epicmetal, estrada, ethnic, eurofolk, european, experimental, extrememetal, fado, fairytail, film, fitness, flamenco, folk, folklore, folkmetal, folkrock, folktronica, forró, frankreich, französisch, french, funk, future, gangsta, garage, german, ghazal, gitarre, glitch, gospel, gothic, grime, grunge, gypsy, handsup, hard'n'heavy, hardcore, hardstyle, hardtechno, hiphop, historisch, holiday, horror, house, hymn, idm, independent, indian, indie, indipop, industrial, inspirational, instrumental, international, irish, jam, japanese, jazz, jewish, jpop, jungle, k-pop, karadeniz, karaoke, kayokyoku, korean, laiko, latin, latino, leftfield, local, lounge, loungeelectronic, lovers, malaysian, mandopop, marschmusik, meditative, mediterranean, melodic, metal, metalcore, mexican, middle, minimal, miscellaneous, modern, mood, mpb, muslim, native, neoklassik, neue, new, newage, newwave, nu, nujazz, numetal, oceania, old, opera, orchestral, other, piano, podcasts, pop, popdance, popelectronic, popeurodance, poprussian, post, posthardcore, postrock, power, progmetal, progressive, psychedelic, punjabi, punk, quebecois, ragga, ram, rancheras, rap, rave, reggae, reggaeton, regional, relax, religious, retro, rhythm, rnb, rnr, rock, rockabilly, rockalternative, rockindie, rockother, romance, roots, ruspop, rusrap, rusrock, russian, salsa, samba, scenic, schlager, self, sertanejo, shanson, shoegazing, showtunes, singer, ska, skarock, slow, smooth, soft, soul, soulful, sound, soundtrack, southern, specialty, speech, spiritual, sport, stonerrock, surf, swing, synthpop, synthrock, sängerportrait, tango, tanzorchester, taraftar, tatar, tech, techno, teen, thrash, top, traditional, tradjazz, trance, tribal, trip, triphop, tropical, türk, türkçe, ukrrock, unknown, urban, uzbek, variété, vi, videogame, vocal, western, world, worldbeat, ïîï\n"
     ]
    }
   ],
   "source": [
    "# Проверка на неявные дубликаты\n",
    "print_unique('genre')"
   ]
  },
  {
   "cell_type": "markdown",
   "metadata": {
    "id": "jz6a9-7HQUDd"
   },
   "source": [
    "**Выводы**\n",
    "\n",
    "Предобработка обнаружила три проблемы в данных:\n",
    "\n",
    "- нарушения в стиле заголовков,\n",
    "- пропущенные значения,\n",
    "- дубликаты — явные и неявные.\n",
    "\n",
    "Вы исправили заголовки, чтобы упростить работу с таблицей. Без дубликатов исследование станет более точным.\n",
    "\n",
    "Пропущенные значения вы заменили на `'unknown'`. Ещё предстоит увидеть, не повредят ли исследованию пропуски в колонке `genre`.\n",
    "\n",
    "Теперь можно перейти к проверке гипотез. "
   ]
  },
  {
   "cell_type": "markdown",
   "metadata": {
    "id": "WttZHXH0SqKk"
   },
   "source": [
    "## Проверка гипотез"
   ]
  },
  {
   "cell_type": "markdown",
   "metadata": {
    "id": "Im936VVi_Zcu"
   },
   "source": [
    "### Сравнение поведения пользователей двух столиц"
   ]
  },
  {
   "cell_type": "markdown",
   "metadata": {
    "id": "nwt_MuaL_Zcu"
   },
   "source": [
    "Первая гипотеза утверждает, что пользователи по-разному слушают музыку в Москве и Санкт-Петербурге. Проверьте это предположение по данным о трёх днях недели — понедельнике, среде и пятнице. Для этого:\n",
    "\n",
    "* Разделите пользователей Москвы и Санкт-Петербурга\n",
    "* Сравните, сколько треков послушала каждая группа пользователей в понедельник, среду и пятницу.\n"
   ]
  },
  {
   "cell_type": "markdown",
   "metadata": {
    "id": "8Dw_YMmT_Zcu"
   },
   "source": [
    "Для тренировки сначала выполните каждый из расчётов по отдельности. \n",
    "\n",
    "Оцените активность пользователей в каждом городе. Сгруппируйте данные по городу и посчитайте прослушивания в каждой группе.\n",
    "\n"
   ]
  },
  {
   "cell_type": "code",
   "execution_count": 19,
   "metadata": {},
   "outputs": [
    {
     "name": "stdout",
     "output_type": "stream",
     "text": [
      "Уникальные значения в столбце city: Moscow, Saint-Petersburg\n"
     ]
    }
   ],
   "source": [
    "# Проверка\n",
    "print_unique('city')"
   ]
  },
  {
   "cell_type": "code",
   "execution_count": 20,
   "metadata": {
    "id": "0_Qs96oh_Zcu"
   },
   "outputs": [
    {
     "data": {
      "text/plain": [
       "city\n",
       "Moscow              42741\n",
       "Saint-Petersburg    18512\n",
       "Name: user_id, dtype: int64"
      ]
     },
     "execution_count": 20,
     "metadata": {},
     "output_type": "execute_result"
    }
   ],
   "source": [
    "# Подсчёт прослушиваний в каждом городе\n",
    "songs_by_city = df.groupby('city')['user_id'].count()\n",
    "songs_by_city"
   ]
  },
  {
   "cell_type": "markdown",
   "metadata": {
    "id": "dzli3w8o_Zcu"
   },
   "source": [
    "В Москве прослушиваний больше, чем в Петербурге. Из этого не следует, что московские пользователи чаще слушают музыку. Просто самих пользователей в Москве больше.\n",
    "\n",
    "Теперь сгруппируйте данные по дню недели и подсчитайте прослушивания в понедельник, среду и пятницу. Учтите, что в данных есть информация о прослушиваниях только за эти дни.\n"
   ]
  },
  {
   "cell_type": "code",
   "execution_count": 21,
   "metadata": {},
   "outputs": [
    {
     "name": "stdout",
     "output_type": "stream",
     "text": [
      "Уникальные значения в столбце day: Friday, Monday, Wednesday\n"
     ]
    }
   ],
   "source": [
    "# Проверка\n",
    "print_unique('day')"
   ]
  },
  {
   "cell_type": "code",
   "execution_count": 22,
   "metadata": {
    "id": "uZMKjiJz_Zcu"
   },
   "outputs": [
    {
     "data": {
      "text/plain": [
       "day\n",
       "Friday       21840\n",
       "Monday       21354\n",
       "Wednesday    18059\n",
       "Name: user_id, dtype: int64"
      ]
     },
     "execution_count": 22,
     "metadata": {},
     "output_type": "execute_result"
    }
   ],
   "source": [
    "# Подсчёт прослушиваний в каждый из трёх дней\n",
    "songs_by_day = df.groupby('day')['user_id'].count()\n",
    "songs_by_day"
   ]
  },
  {
   "cell_type": "markdown",
   "metadata": {},
   "source": [
    "    \n",
    "<div class=\"alert alert-success\"; style=\"border-left: 7px solid green\">\n",
    "<b>✅ Комментарий ревьюера</b>\n",
    "\n",
    "Все верно сгруппировано. </div>"
   ]
  },
  {
   "cell_type": "markdown",
   "metadata": {
    "id": "cC2tNrlL_Zcu"
   },
   "source": [
    "В среднем пользователи из двух городов менее активны по средам. Но картина может измениться, если рассмотреть каждый город в отдельности."
   ]
  },
  {
   "cell_type": "markdown",
   "metadata": {
    "id": "POzs8bGa_Zcu"
   },
   "source": [
    "Вы видели, как работает группировка по городу и по дням недели. Теперь напишите функцию, которая объединит два эти расчёта.\n",
    "\n",
    "Создайте функцию `number_tracks()`, которая посчитает прослушивания для заданного дня и города. Ей понадобятся два параметра:\n",
    "* день недели,\n",
    "* название города.\n",
    "\n",
    "В функции сохраните в переменную строки исходной таблицы, у которых значение:\n",
    "  * в колонке `day` равно параметру `day`,\n",
    "  * в колонке `city` равно параметру `city`.\n",
    "\n",
    "Для этого примените последовательную фильтрацию с логической индексацией.\n",
    "\n",
    "Затем посчитайте значения в столбце `user_id` получившейся таблицы. Результат сохраните в новую переменную. Верните эту переменную из функции."
   ]
  },
  {
   "cell_type": "code",
   "execution_count": 23,
   "metadata": {
    "id": "Nz3GdQB1_Zcu"
   },
   "outputs": [],
   "source": [
    "# <создание функции number_tracks()>\n",
    "# Объявляется функция с двумя параметрами: day, city.\n",
    "# В переменной track_list сохраняются те строки таблицы df, для которых \n",
    "# значение в столбце 'day' равно параметру day и одновременно значение\n",
    "# в столбце 'city' равно параметру city (используйте последовательную фильтрацию\n",
    "# с помощью логической индексации).\n",
    "# В переменной track_list_count сохраняется число значений столбца 'user_id',\n",
    "# рассчитанное методом count() для таблицы track_list.\n",
    "# Функция возвращает число - значение track_list_count.\n",
    "    \n",
    "def number_tracks(day, city):\n",
    "    return df[(df['day'] == day) & (df['city'] == city)]['user_id'].count()\n",
    "\n",
    "# Функция для подсчёта прослушиваний для конкретного города и дня.\n",
    "# С помощью последовательной фильтрации с логической индексацией она \n",
    "# сначала получит из исходной таблицы строки с нужным днём,\n",
    "# затем из результата отфильтрует строки с нужным городом,\n",
    "# методом count() посчитает количество значений в колонке user_id. \n",
    "# Это количество функция вернёт в качестве результата"
   ]
  },
  {
   "cell_type": "markdown",
   "metadata": {},
   "source": [
    "<div class=\"alert alert-block alert-info\"; style=\"border-left: 7px solid blue\">\n",
    "<b>Комментарий студента</b><br>\n",
    "    Насколько приемлимо писать функции, которые работают с глобальными переменными? Как в этом случае с df.<br>\n",
    "    Что лучше написать такой, что называется, oneliner или такую же функцию, но в три-четыре строки?\n",
    "    \n",
    "        \n",
    "<div class=\"alert alert-success\"; style=\"border-left: 7px solid green\">\n",
    "<b>✅ Комментарий ревьювера, ревью 2</b> \n",
    "    \n",
    "Ты имеешь в виду датафреймы, созданные за пределами функции? Да, конечно, это приемлимо и постоянно используется.\n",
    "    \n",
    "По поводу, как лучше писать. Важный критерий - простота и ясность кода. Дробление на 3-4 строки, скорее, делают начинающие аналитики или если в этом есть необходимость (например, промежуточная переменная / датафрейм, еще будет использоваться в другом месте). Лично я бы написала в 2 строки: 1 - создание промежуточного датафрейма, 2 - return промежуточный датафрейм.\n",
    "</div>\n",
    "</div>"
   ]
  },
  {
   "cell_type": "markdown",
   "metadata": {
    "id": "ytf7xFrFJQ2r"
   },
   "source": [
    "Вызовите `number_tracks()` шесть раз, меняя значение параметров — так, чтобы получить данные для каждого города в каждый из трёх дней."
   ]
  },
  {
   "cell_type": "code",
   "execution_count": 24,
   "metadata": {},
   "outputs": [
    {
     "name": "stdout",
     "output_type": "stream",
     "text": [
      "Количество прослушиваний в Moscow по Monday: 15740\n",
      "Количество прослушиваний в Saint-Petersburg по Monday: 5614\n",
      "Количество прослушиваний в Moscow по Wednesday: 11056\n",
      "Количество прослушиваний в Saint-Petersburg по Wednesday: 7003\n",
      "Количество прослушиваний в Moscow по Friday: 15945\n",
      "Количество прослушиваний в Saint-Petersburg по Friday: 5895\n"
     ]
    }
   ],
   "source": [
    "# не понимаю, зачем нужно 6 раз писать один и тот же код, когда можно сделать все в цикле.\n",
    "# к тому же, если записывать результаты в словарь, потом будет удобно создавать датасет.\n",
    "\n",
    "res = {}\n",
    "week = ['Monday', 'Wednesday', 'Friday']\n",
    "cities = ['Moscow', 'Saint-Petersburg']\n",
    "\n",
    "for weekday in week:\n",
    "    for city in cities:\n",
    "        if city in res:\n",
    "            res[city].append(number_tracks(weekday, city))\n",
    "        else:\n",
    "            res[city] = [number_tracks(weekday, city)]\n",
    "        print(f'Количество прослушиваний в {city} по {weekday}: {number_tracks(weekday, city)}')"
   ]
  },
  {
   "cell_type": "markdown",
   "metadata": {},
   "source": [
    "    \n",
    "<div class=\"alert alert-success\"; style=\"border-left: 7px solid green\">\n",
    "<b>✅ Комментарий ревьюера</b>\n",
    "\n",
    "Да, так намного компактнее! </div>"
   ]
  },
  {
   "cell_type": "code",
   "execution_count": 25,
   "metadata": {
    "id": "rJcRATNQ_Zcu"
   },
   "outputs": [],
   "source": [
    "# количество прослушиваний в Москве по понедельникам"
   ]
  },
  {
   "cell_type": "code",
   "execution_count": 26,
   "metadata": {
    "id": "hq_ncZ5T_Zcu"
   },
   "outputs": [],
   "source": [
    "# количество прослушиваний в Санкт-Петербурге по понедельникам"
   ]
  },
  {
   "cell_type": "code",
   "execution_count": 27,
   "metadata": {
    "id": "_NTy2VPU_Zcu"
   },
   "outputs": [],
   "source": [
    "# количество прослушиваний в Москве по средам"
   ]
  },
  {
   "cell_type": "code",
   "execution_count": 28,
   "metadata": {
    "id": "j2y3TAwo_Zcu"
   },
   "outputs": [],
   "source": [
    "# количество прослушиваний в Санкт-Петербурге по средам"
   ]
  },
  {
   "cell_type": "code",
   "execution_count": 29,
   "metadata": {
    "id": "vYDw5u_K_Zcu"
   },
   "outputs": [],
   "source": [
    "# количество прослушиваний в Москве по пятницам"
   ]
  },
  {
   "cell_type": "code",
   "execution_count": 30,
   "metadata": {
    "id": "8_yzFtW3_Zcu"
   },
   "outputs": [],
   "source": [
    "# количество прослушиваний в Санкт-Петербурге по пятницам"
   ]
  },
  {
   "cell_type": "markdown",
   "metadata": {
    "id": "7QXffbO-_Zcu"
   },
   "source": [
    "Создайте c помощью конструктора `pd.DataFrame` таблицу, где\n",
    "* названия колонок — `['city', 'monday', 'wednesday', 'friday']`;\n",
    "* данные — результаты, которые вы получили с помощью `number_tracks`."
   ]
  },
  {
   "cell_type": "code",
   "execution_count": 31,
   "metadata": {
    "id": "APAcLpOr_Zcu"
   },
   "outputs": [
    {
     "data": {
      "text/html": [
       "<div>\n",
       "<style scoped>\n",
       "    .dataframe tbody tr th:only-of-type {\n",
       "        vertical-align: middle;\n",
       "    }\n",
       "\n",
       "    .dataframe tbody tr th {\n",
       "        vertical-align: top;\n",
       "    }\n",
       "\n",
       "    .dataframe thead th {\n",
       "        text-align: right;\n",
       "    }\n",
       "</style>\n",
       "<table border=\"1\" class=\"dataframe\">\n",
       "  <thead>\n",
       "    <tr style=\"text-align: right;\">\n",
       "      <th></th>\n",
       "      <th>monday</th>\n",
       "      <th>wednesday</th>\n",
       "      <th>friday</th>\n",
       "    </tr>\n",
       "  </thead>\n",
       "  <tbody>\n",
       "    <tr>\n",
       "      <th>Moscow</th>\n",
       "      <td>15740</td>\n",
       "      <td>11056</td>\n",
       "      <td>15945</td>\n",
       "    </tr>\n",
       "    <tr>\n",
       "      <th>Saint-Petersburg</th>\n",
       "      <td>5614</td>\n",
       "      <td>7003</td>\n",
       "      <td>5895</td>\n",
       "    </tr>\n",
       "  </tbody>\n",
       "</table>\n",
       "</div>"
      ],
      "text/plain": [
       "                  monday  wednesday  friday\n",
       "Moscow             15740      11056   15945\n",
       "Saint-Petersburg    5614       7003    5895"
      ]
     },
     "execution_count": 31,
     "metadata": {},
     "output_type": "execute_result"
    }
   ],
   "source": [
    "# Таблица с результатами\n",
    "first_hip_res = pd.DataFrame(data=res, index=['monday', 'wednesday', 'friday', ]).T\n",
    "first_hip_res"
   ]
  },
  {
   "cell_type": "markdown",
   "metadata": {},
   "source": [
    "    \n",
    "<div class=\"alert alert-success\"; style=\"border-left: 7px solid green\">\n",
    "<b>✅ Комментарий ревьюера</b>\n",
    "\n",
    "Просто 🔥 </div>"
   ]
  },
  {
   "cell_type": "markdown",
   "metadata": {
    "id": "-EgPIHYu_Zcu"
   },
   "source": [
    "**Выводы**\n",
    "\n",
    "Данные показывают разницу поведения пользователей:\n",
    "\n",
    "- В Москве пик прослушиваний приходится на понедельник и пятницу, а в среду заметен спад.\n",
    "- В Петербурге, наоборот, больше слушают музыку по средам. Активность в понедельник и пятницу здесь почти в равной мере уступает среде.\n",
    "\n",
    "Значит, данные говорят в пользу первой гипотезы."
   ]
  },
  {
   "cell_type": "markdown",
   "metadata": {
    "id": "atZAxtq4_Zcu"
   },
   "source": [
    "### Музыка в начале и в конце недели"
   ]
  },
  {
   "cell_type": "markdown",
   "metadata": {
    "id": "eXrQqXFH_Zcu"
   },
   "source": [
    "Согласно второй гипотезе, утром в понедельник в Москве преобладают одни жанры, а в Петербурге — другие. Так же и вечером пятницы преобладают разные жанры — в зависимости от города."
   ]
  },
  {
   "cell_type": "markdown",
   "metadata": {
    "id": "S8UcW6Hw_Zcu"
   },
   "source": [
    "Сохраните таблицы с данными в две переменные:\n",
    "* по Москве — в `moscow_general`;\n",
    "* по Санкт-Петербургу — в `spb_general`."
   ]
  },
  {
   "cell_type": "code",
   "execution_count": 32,
   "metadata": {
    "id": "qeaFfM_P_Zcu"
   },
   "outputs": [],
   "source": [
    "# получение таблицы moscow_general из тех строк таблицы df, \n",
    "# для которых значение в столбце 'city' равно 'Moscow'\n",
    "moscow_general = df[df['city'] == 'Moscow']"
   ]
  },
  {
   "cell_type": "code",
   "execution_count": 33,
   "metadata": {
    "id": "ORaVRKto_Zcu"
   },
   "outputs": [],
   "source": [
    "# получение таблицы spb_general из тех строк таблицы df,\n",
    "# для которых значение в столбце 'city' равно 'Saint-Petersburg'\n",
    "spb_general = df[df['city'] == 'Saint-Petersburg']"
   ]
  },
  {
   "cell_type": "markdown",
   "metadata": {},
   "source": [
    "    \n",
    "<div class=\"alert alert-success\"; style=\"border-left: 7px solid green\">\n",
    "<b>✅ Комментарий ревьюера</b>\n",
    "\n",
    "Все верно отфильтровал и сохранил. </div>"
   ]
  },
  {
   "cell_type": "markdown",
   "metadata": {
    "id": "MEJV-CX2_Zcu"
   },
   "source": [
    "Создайте функцию `genre_weekday()` с четырьмя параметрами:\n",
    "* таблица (датафрейм) с данными,\n",
    "* день недели,\n",
    "* начальная временная метка в формате 'hh:mm', \n",
    "* последняя временная метка в формате 'hh:mm'.\n",
    "\n",
    "Функция должна вернуть информацию о топ-10 жанров тех треков, которые прослушивали в указанный день, в промежутке между двумя отметками времени."
   ]
  },
  {
   "cell_type": "code",
   "execution_count": 34,
   "metadata": {},
   "outputs": [],
   "source": [
    "#def to_min(time):\n",
    " #   # переводит время в формате hh:mm в целое число - количество минут\n",
    "  #  return int(time[:2]) * 60 + int(time[3:5])"
   ]
  },
  {
   "cell_type": "code",
   "execution_count": 35,
   "metadata": {},
   "outputs": [],
   "source": [
    "#to_min('22:34:45')"
   ]
  },
  {
   "cell_type": "code",
   "execution_count": 36,
   "metadata": {
    "id": "laJT9BYl_Zcu"
   },
   "outputs": [],
   "source": [
    "# Объявление функции genre_weekday() с параметрами table, day, time1, time2,\n",
    "# которая возвращает информацию о самых популярных жанрах в указанный день в\n",
    "# заданное время:\n",
    "# 1) в переменную genre_df сохраняются те строки переданного датафрейма table, для\n",
    "#    которых одновременно:\n",
    "#    - значение в столбце day равно значению аргумента day\n",
    "#    - значение в столбце time больше значения аргумента time1\n",
    "#    - значение в столбце time меньше значения аргумента time2\n",
    "#    Используйте последовательную фильтрацию с помощью логической индексации.\n",
    "# 2) сгруппировать датафрейм genre_df по столбцу genre, взять один из его\n",
    "#    столбцов и посчитать методом count() количество записей для каждого из\n",
    "#    присутствующих жанров, получившийся Series записать в переменную\n",
    "#    genre_df_count\n",
    "# 3) отсортировать genre_df_count по убыванию встречаемости и сохранить\n",
    "#    в переменную genre_df_sorted\n",
    "# 4) вернуть Series из 10 первых значений genre_df_sorted, это будут топ-10\n",
    "#    популярных жанров (в указанный день, в заданное время)\n",
    "        \n",
    "def genre_weekday(table, day, time1, time2):\n",
    "    genre_df = table[(table['day'] == day) & \n",
    "                     (table['time'] > time1) & \n",
    "                     (table['time'] < time2)]\n",
    "    genre_df_count = genre_df.groupby('genre')['user_id'].count()\n",
    "    genre_df_sorted = genre_df_count.sort_values(ascending=False)\n",
    "    return genre_df_sorted.head(10)"
   ]
  },
  {
   "cell_type": "markdown",
   "metadata": {},
   "source": [
    "<div class=\"alert alert-warning\"; style=\"border-left: 7px solid gold\">\n",
    "<b>⚠️ Комментарий ревьювера</b> \n",
    "    \n",
    "Ты можешь сравнивать время, не переводя в минуты. \n",
    "</div>"
   ]
  },
  {
   "cell_type": "markdown",
   "metadata": {},
   "source": [
    "<div class=\"alert alert-block alert-info\"; style=\"border-left: 7px solid blue\">\n",
    "<b>Комментарий студента</b><br>\n",
    "    Я подумал про pd.to_datetime() как только увидел этот столбец, но мне не очень нравится, что этот метод, во-первых, довольно долго выполняется, а во-вторых, добавляет ко времени дату сегодняшнюю или 1 января 1900 года. В реальных задачах нужно будет обрезать дату вручную? Или существует какой-то способ переводить именно ВРЕМЯ из строки в какой-то пандосовский тип?<br>\n",
    "    Просто у нас в этом датасете уже есть информация о дне, наверное будет плохо ее задублировать. Тем более дату он реально везде одну и ту же ставит, поэтому 09:00 понедельника и 09:00 cреды после to_datetime() будут 26-04-2022 09:00, хотя это не так.<br>\n",
    "    <br>\n",
    "    Просто лексикографически - скучно :)\n",
    "    \n",
    "        \n",
    "<div class=\"alert alert-success\"; style=\"border-left: 7px solid green\">\n",
    "<b>✅ Комментарий ревьювера, ревью 2</b> \n",
    "    \n",
    "Здесь не требуется изменение типа данных в столбце, так как ты можешь сравнивать просто строки. И это тоже важно понимать, что:\n",
    "    \n",
    "- 'а' < 'b', \n",
    "             \n",
    "- 'mango' > 'apple', \n",
    "    \n",
    "- '1' все так же < '2'. \n",
    "\n",
    "В реальных задачах мне ни разу не встречалось, чтобы время было отделено от даты и выделено в отдельный столбец. Обычно это timestamp в виде 2022-04-27 16:21:12. \n",
    "                    \n",
    "Но, если прям нужно время без даты, можешь посмотреть по ссылке про datetime.time() \n",
    "https://pythonworld.ru/moduli/modul-datetime.html\n",
    "</div>\n",
    "</div>"
   ]
  },
  {
   "cell_type": "markdown",
   "metadata": {
    "id": "la2s2_PF_Zcu"
   },
   "source": [
    "Cравните результаты функции `genre_weekday()` для Москвы и Санкт-Петербурга в понедельник утром (с 7:00 до 11:00) и в пятницу вечером (с 17:00 до 23:00):"
   ]
  },
  {
   "cell_type": "code",
   "execution_count": 37,
   "metadata": {
    "id": "yz7itPUQ_Zcu"
   },
   "outputs": [],
   "source": [
    "# вызов функции для утра понедельника в Москве (вместо df — таблица moscow_general)\n",
    "# объекты, хранящие время, являются строками и сравниваются как строки\n",
    "# пример вызова: genre_weekday(moscow_general, 'Monday', '07:00', '11:00')"
   ]
  },
  {
   "cell_type": "code",
   "execution_count": 38,
   "metadata": {
    "id": "kwUcHPdy_Zcu"
   },
   "outputs": [],
   "source": [
    "# вызов функции для утра понедельника в Петербурге (вместо df — таблица spb_general)"
   ]
  },
  {
   "cell_type": "code",
   "execution_count": 39,
   "metadata": {
    "id": "EzXVRE1o_Zcu"
   },
   "outputs": [],
   "source": [
    "# вызов функции для вечера пятницы в Москве"
   ]
  },
  {
   "cell_type": "code",
   "execution_count": 40,
   "metadata": {
    "id": "JZaEKu5v_Zcu"
   },
   "outputs": [],
   "source": [
    "# вызов функции для вечера пятницы в Петербурге"
   ]
  },
  {
   "cell_type": "code",
   "execution_count": 41,
   "metadata": {},
   "outputs": [
    {
     "data": {
      "text/html": [
       "<div>\n",
       "<style scoped>\n",
       "    .dataframe tbody tr th:only-of-type {\n",
       "        vertical-align: middle;\n",
       "    }\n",
       "\n",
       "    .dataframe tbody tr th {\n",
       "        vertical-align: top;\n",
       "    }\n",
       "\n",
       "    .dataframe thead th {\n",
       "        text-align: right;\n",
       "    }\n",
       "</style>\n",
       "<table border=\"1\" class=\"dataframe\">\n",
       "  <thead>\n",
       "    <tr style=\"text-align: right;\">\n",
       "      <th></th>\n",
       "      <th>MSC Monday Morning</th>\n",
       "      <th>SPB Monday Morning</th>\n",
       "      <th>MSC Friday Evening</th>\n",
       "      <th>SPB Friday Evening</th>\n",
       "    </tr>\n",
       "    <tr>\n",
       "      <th>genre</th>\n",
       "      <th></th>\n",
       "      <th></th>\n",
       "      <th></th>\n",
       "      <th></th>\n",
       "    </tr>\n",
       "  </thead>\n",
       "  <tbody>\n",
       "    <tr>\n",
       "      <th>pop</th>\n",
       "      <td>781.0</td>\n",
       "      <td>218.0</td>\n",
       "      <td>713.0</td>\n",
       "      <td>256.0</td>\n",
       "    </tr>\n",
       "    <tr>\n",
       "      <th>dance</th>\n",
       "      <td>549.0</td>\n",
       "      <td>182.0</td>\n",
       "      <td>495.0</td>\n",
       "      <td>210.0</td>\n",
       "    </tr>\n",
       "    <tr>\n",
       "      <th>electronic</th>\n",
       "      <td>480.0</td>\n",
       "      <td>147.0</td>\n",
       "      <td>482.0</td>\n",
       "      <td>216.0</td>\n",
       "    </tr>\n",
       "    <tr>\n",
       "      <th>rock</th>\n",
       "      <td>474.0</td>\n",
       "      <td>162.0</td>\n",
       "      <td>517.0</td>\n",
       "      <td>216.0</td>\n",
       "    </tr>\n",
       "    <tr>\n",
       "      <th>hiphop</th>\n",
       "      <td>286.0</td>\n",
       "      <td>80.0</td>\n",
       "      <td>273.0</td>\n",
       "      <td>97.0</td>\n",
       "    </tr>\n",
       "    <tr>\n",
       "      <th>ruspop</th>\n",
       "      <td>186.0</td>\n",
       "      <td>64.0</td>\n",
       "      <td>170.0</td>\n",
       "      <td>NaN</td>\n",
       "    </tr>\n",
       "    <tr>\n",
       "      <th>world</th>\n",
       "      <td>181.0</td>\n",
       "      <td>NaN</td>\n",
       "      <td>208.0</td>\n",
       "      <td>54.0</td>\n",
       "    </tr>\n",
       "    <tr>\n",
       "      <th>rusrap</th>\n",
       "      <td>175.0</td>\n",
       "      <td>55.0</td>\n",
       "      <td>142.0</td>\n",
       "      <td>59.0</td>\n",
       "    </tr>\n",
       "    <tr>\n",
       "      <th>alternative</th>\n",
       "      <td>164.0</td>\n",
       "      <td>58.0</td>\n",
       "      <td>163.0</td>\n",
       "      <td>63.0</td>\n",
       "    </tr>\n",
       "    <tr>\n",
       "      <th>unknown</th>\n",
       "      <td>161.0</td>\n",
       "      <td>NaN</td>\n",
       "      <td>NaN</td>\n",
       "      <td>NaN</td>\n",
       "    </tr>\n",
       "    <tr>\n",
       "      <th>jazz</th>\n",
       "      <td>NaN</td>\n",
       "      <td>44.0</td>\n",
       "      <td>NaN</td>\n",
       "      <td>61.0</td>\n",
       "    </tr>\n",
       "    <tr>\n",
       "      <th>classical</th>\n",
       "      <td>NaN</td>\n",
       "      <td>40.0</td>\n",
       "      <td>163.0</td>\n",
       "      <td>60.0</td>\n",
       "    </tr>\n",
       "  </tbody>\n",
       "</table>\n",
       "</div>"
      ],
      "text/plain": [
       "             MSC Monday Morning  SPB Monday Morning  MSC Friday Evening  \\\n",
       "genre                                                                     \n",
       "pop                       781.0               218.0               713.0   \n",
       "dance                     549.0               182.0               495.0   \n",
       "electronic                480.0               147.0               482.0   \n",
       "rock                      474.0               162.0               517.0   \n",
       "hiphop                    286.0                80.0               273.0   \n",
       "ruspop                    186.0                64.0               170.0   \n",
       "world                     181.0                 NaN               208.0   \n",
       "rusrap                    175.0                55.0               142.0   \n",
       "alternative               164.0                58.0               163.0   \n",
       "unknown                   161.0                 NaN                 NaN   \n",
       "jazz                        NaN                44.0                 NaN   \n",
       "classical                   NaN                40.0               163.0   \n",
       "\n",
       "             SPB Friday Evening  \n",
       "genre                            \n",
       "pop                       256.0  \n",
       "dance                     210.0  \n",
       "electronic                216.0  \n",
       "rock                      216.0  \n",
       "hiphop                     97.0  \n",
       "ruspop                      NaN  \n",
       "world                      54.0  \n",
       "rusrap                     59.0  \n",
       "alternative                63.0  \n",
       "unknown                     NaN  \n",
       "jazz                       61.0  \n",
       "classical                  60.0  "
      ]
     },
     "execution_count": 41,
     "metadata": {},
     "output_type": "execute_result"
    }
   ],
   "source": [
    "# при таком выводе результата есть проблема, что жанры везде, кроме первого столбца, перестают быть отсортированы,\n",
    "# но, мне кажется, так нагляднее, чем 4 Series'а в разных ячейках.\n",
    "\n",
    "second_hip_res = pd.concat([genre_weekday(moscow_general, 'Monday', '07:00', '11:00'),\n",
    "                            genre_weekday(spb_general, 'Monday', '07:00', '11:00'),\n",
    "                            genre_weekday(moscow_general, 'Friday', '17:00', '23:00'),\n",
    "                            genre_weekday(spb_general, 'Friday', '17:00', '23:00')],\n",
    "                           axis=1)\n",
    "second_hip_res.columns = ['MSC Monday Morning', 'SPB Monday Morning', 'MSC Friday Evening', 'SPB Friday Evening']\n",
    "second_hip_res"
   ]
  },
  {
   "cell_type": "code",
   "execution_count": 42,
   "metadata": {},
   "outputs": [
    {
     "data": {
      "text/plain": [
       "genre\n",
       "pop            781\n",
       "dance          549\n",
       "electronic     480\n",
       "rock           474\n",
       "hiphop         286\n",
       "ruspop         186\n",
       "world          181\n",
       "rusrap         175\n",
       "alternative    164\n",
       "unknown        161\n",
       "Name: user_id, dtype: int64"
      ]
     },
     "metadata": {},
     "output_type": "display_data"
    },
    {
     "data": {
      "text/plain": [
       "genre\n",
       "pop            218\n",
       "dance          182\n",
       "rock           162\n",
       "electronic     147\n",
       "hiphop          80\n",
       "ruspop          64\n",
       "alternative     58\n",
       "rusrap          55\n",
       "jazz            44\n",
       "classical       40\n",
       "Name: user_id, dtype: int64"
      ]
     },
     "metadata": {},
     "output_type": "display_data"
    },
    {
     "data": {
      "text/plain": [
       "genre\n",
       "pop            713\n",
       "rock           517\n",
       "dance          495\n",
       "electronic     482\n",
       "hiphop         273\n",
       "world          208\n",
       "ruspop         170\n",
       "alternative    163\n",
       "classical      163\n",
       "rusrap         142\n",
       "Name: user_id, dtype: int64"
      ]
     },
     "metadata": {},
     "output_type": "display_data"
    },
    {
     "data": {
      "text/plain": [
       "genre\n",
       "pop            256\n",
       "electronic     216\n",
       "rock           216\n",
       "dance          210\n",
       "hiphop          97\n",
       "alternative     63\n",
       "jazz            61\n",
       "classical       60\n",
       "rusrap          59\n",
       "world           54\n",
       "Name: user_id, dtype: int64"
      ]
     },
     "metadata": {},
     "output_type": "display_data"
    }
   ],
   "source": [
    "display(genre_weekday(moscow_general, 'Monday', '07:00', '11:00'))\n",
    "display(genre_weekday(spb_general, 'Monday', '07:00', '11:00'))\n",
    "display(genre_weekday(moscow_general, 'Friday', '17:00', '23:00'))\n",
    "display(genre_weekday(spb_general, 'Friday', '17:00', '23:00'))"
   ]
  },
  {
   "cell_type": "markdown",
   "metadata": {},
   "source": [
    "<div class=\"alert alert-warning\"; style=\"border-left: 7px solid gold\">\n",
    "<b>⚠️ Комментарий ревьювера</b> \n",
    "    \n",
    "ОК, поняла твою идею. Да, неоптимальный вариант. Про 4 ячейки согласна, но все же нам здесь важна очередность )\n",
    "    \n",
    "Не стала оставлять красный комментарий, так как уверена, ты понимаешь, как можно было сделать выводы в разных ячейках. Ну и за то, что ты реализовал гораздо более сложный вариант, чем первоначально требовалось.\n",
    "  \n",
    "</div>"
   ]
  },
  {
   "cell_type": "markdown",
   "metadata": {},
   "source": [
    "<div class=\"alert alert-block alert-info\"; style=\"border-left: 7px solid blue\">\n",
    "<b>Комментарий студента</b><br>\n",
    "    Хочу везде зелененькое для успокоения души :) <br>\n",
    "    Какой красивый способ вывода такого результата посоветуешь? Я ничего лучше 4 display() не придумал.\n",
    "    \n",
    "<div class=\"alert alert-success\"; style=\"border-left: 7px solid green\">\n",
    "<b>✅ Комментарий ревьювера, ревью 2</b> \n",
    "    \n",
    "Честно говоря, не задумывалась об идеальном решении для данного пункта. Все-таки задача данного проекта - отработка определенных базовых навыков работы в python и pandas. Поэтому предполагается, что студент просто четыре раза вызывает функцию с разными аргументами.\n",
    "    \n",
    "В реальной жизни реализация зависела бы от того, что дальше будет происходить с данными. Если мне просто нужно с ними ознакомиться по-быстрому, то так и вывела бы, четырьмя отдельными датафреймами. Если презентовать для заказчика, то, возможно, сделала бы график. Проблема этих данных в том, что нам их нужно отсортировать и по количеству, и по рангу, а ранги не совпадают для разных дней / времени. Возможно лучшим решением было бы сделать таблицу только с рангами, вписывая в ячейки названия жанров, а данные по количеству прослушиваний иметь просто справочно в отдельных таблицах. \n",
    "</div>\n",
    "</div>"
   ]
  },
  {
   "cell_type": "markdown",
   "metadata": {
    "id": "wrCe4MNX_Zcu"
   },
   "source": [
    "**Выводы**\n",
    "\n",
    "Если сравнить топ-10 жанров в понедельник утром, можно сделать такие выводы:\n",
    "\n",
    "1. В Москве и Петербурге слушают похожую музыку. Единственное отличие — в московский рейтинг вошёл жанр “world”, а в петербургский — джаз и классика.\n",
    "\n",
    "2. В Москве пропущенных значений оказалось так много, что значение `'unknown'` заняло десятое место среди самых популярных жанров. Значит, пропущенные значения занимают существенную долю в данных и угрожают достоверности исследования.\n",
    "\n",
    "Вечер пятницы не меняет эту картину. Некоторые жанры поднимаются немного выше, другие спускаются, но в целом топ-10 остаётся тем же самым.\n",
    "\n",
    "Таким образом, вторая гипотеза подтвердилась лишь частично:\n",
    "* Пользователи слушают похожую музыку в начале недели и в конце.\n",
    "* Разница между Москвой и Петербургом не слишком выражена. В Москве чаще слушают русскую популярную музыку, в Петербурге — джаз.\n",
    "\n",
    "Однако пропуски в данных ставят под сомнение этот результат. В Москве их так много, что рейтинг топ-10 мог бы выглядеть иначе, если бы не утерянные  данные о жанрах."
   ]
  },
  {
   "cell_type": "markdown",
   "metadata": {
    "id": "JolODAqr_Zcu"
   },
   "source": [
    "### Жанровые предпочтения в Москве и Петербурге\n",
    "\n",
    "Гипотеза: Петербург — столица рэпа, музыку этого жанра там слушают чаще, чем в Москве.  А Москва — город контрастов, в котором, тем не менее, преобладает поп-музыка."
   ]
  },
  {
   "cell_type": "markdown",
   "metadata": {
    "id": "DlegSvaT_Zcu"
   },
   "source": [
    "Сгруппируйте таблицу `moscow_general` по жанру и посчитайте прослушивания треков каждого жанра методом `count()`. Затем отсортируйте результат в порядке убывания и сохраните его в таблице `moscow_genres`."
   ]
  },
  {
   "cell_type": "code",
   "execution_count": 43,
   "metadata": {
    "id": "r19lIPke_Zcu"
   },
   "outputs": [],
   "source": [
    "# одной строкой: группировка таблицы moscow_general по столбцу 'genre', \n",
    "# подсчёт числа значений 'genre' в этой группировке методом count(), \n",
    "# сортировка получившегося Series в порядке убывания и сохранение в moscow_genres\n",
    "moscow_genres = moscow_general.groupby('genre')['genre'].count().sort_values(ascending=False)"
   ]
  },
  {
   "cell_type": "markdown",
   "metadata": {
    "id": "6kMuomxTiIr8"
   },
   "source": [
    "Выведите на экран первые десять строк `moscow_genres`:"
   ]
  },
  {
   "cell_type": "code",
   "execution_count": 44,
   "metadata": {
    "id": "WhCSooF8_Zcv"
   },
   "outputs": [
    {
     "data": {
      "text/plain": [
       "genre\n",
       "pop            5892\n",
       "dance          4435\n",
       "rock           3965\n",
       "electronic     3786\n",
       "hiphop         2096\n",
       "classical      1616\n",
       "world          1432\n",
       "alternative    1379\n",
       "ruspop         1372\n",
       "rusrap         1161\n",
       "Name: genre, dtype: int64"
      ]
     },
     "execution_count": 44,
     "metadata": {},
     "output_type": "execute_result"
    }
   ],
   "source": [
    "# просмотр первых 10 строк moscow_genres\n",
    "moscow_genres.head(10)"
   ]
  },
  {
   "cell_type": "markdown",
   "metadata": {
    "id": "cnPG2vnN_Zcv"
   },
   "source": [
    "Теперь повторите то же и для Петербурга.\n",
    "\n",
    "Сгруппируйте таблицу `spb_general` по жанру. Посчитайте прослушивания треков каждого жанра. Результат отсортируйте в порядке убывания и сохраните в таблице `spb_genres`:\n"
   ]
  },
  {
   "cell_type": "code",
   "execution_count": 45,
   "metadata": {
    "id": "gluLIpE7_Zcv"
   },
   "outputs": [],
   "source": [
    "# одной строкой: группировка таблицы spb_general по столбцу 'genre', \n",
    "# подсчёт числа значений 'genre' в этой группировке методом count(), \n",
    "# сортировка получившегося Series в порядке убывания и сохранение в spb_genres\n",
    "spb_genres = spb_general.groupby('genre')['genre'].count().sort_values(ascending=False)"
   ]
  },
  {
   "cell_type": "markdown",
   "metadata": {
    "id": "5Doha_ODgyQ8"
   },
   "source": [
    "Выведите на экран первые десять строк `spb_genres`:"
   ]
  },
  {
   "cell_type": "code",
   "execution_count": 46,
   "metadata": {
    "id": "uaGJHjVU_Zcv"
   },
   "outputs": [
    {
     "data": {
      "text/plain": [
       "genre\n",
       "pop            2431\n",
       "dance          1932\n",
       "rock           1879\n",
       "electronic     1737\n",
       "hiphop          960\n",
       "alternative     649\n",
       "classical       646\n",
       "rusrap          564\n",
       "ruspop          538\n",
       "world           515\n",
       "Name: genre, dtype: int64"
      ]
     },
     "execution_count": 46,
     "metadata": {},
     "output_type": "execute_result"
    }
   ],
   "source": [
    "# просмотр первых 10 строк spb_genres\n",
    "spb_genres.head(10)"
   ]
  },
  {
   "cell_type": "markdown",
   "metadata": {},
   "source": [
    "    \n",
    "<div class=\"alert alert-success\"; style=\"border-left: 7px solid green\">\n",
    "<b>✅ Комментарий ревьюера</b>\n",
    "\n",
    "Данные для сравнения предпочтений жителей двух столиц получены. </div>"
   ]
  },
  {
   "cell_type": "code",
   "execution_count": 47,
   "metadata": {},
   "outputs": [
    {
     "data": {
      "text/html": [
       "<div>\n",
       "<style scoped>\n",
       "    .dataframe tbody tr th:only-of-type {\n",
       "        vertical-align: middle;\n",
       "    }\n",
       "\n",
       "    .dataframe tbody tr th {\n",
       "        vertical-align: top;\n",
       "    }\n",
       "\n",
       "    .dataframe thead th {\n",
       "        text-align: right;\n",
       "    }\n",
       "</style>\n",
       "<table border=\"1\" class=\"dataframe\">\n",
       "  <thead>\n",
       "    <tr style=\"text-align: right;\">\n",
       "      <th></th>\n",
       "      <th>MSC Genres</th>\n",
       "      <th>SPB Genres</th>\n",
       "    </tr>\n",
       "    <tr>\n",
       "      <th>genre</th>\n",
       "      <th></th>\n",
       "      <th></th>\n",
       "    </tr>\n",
       "  </thead>\n",
       "  <tbody>\n",
       "    <tr>\n",
       "      <th>pop</th>\n",
       "      <td>5892</td>\n",
       "      <td>2431</td>\n",
       "    </tr>\n",
       "    <tr>\n",
       "      <th>dance</th>\n",
       "      <td>4435</td>\n",
       "      <td>1932</td>\n",
       "    </tr>\n",
       "    <tr>\n",
       "      <th>rock</th>\n",
       "      <td>3965</td>\n",
       "      <td>1879</td>\n",
       "    </tr>\n",
       "    <tr>\n",
       "      <th>electronic</th>\n",
       "      <td>3786</td>\n",
       "      <td>1737</td>\n",
       "    </tr>\n",
       "    <tr>\n",
       "      <th>hiphop</th>\n",
       "      <td>2096</td>\n",
       "      <td>960</td>\n",
       "    </tr>\n",
       "    <tr>\n",
       "      <th>classical</th>\n",
       "      <td>1616</td>\n",
       "      <td>646</td>\n",
       "    </tr>\n",
       "    <tr>\n",
       "      <th>world</th>\n",
       "      <td>1432</td>\n",
       "      <td>515</td>\n",
       "    </tr>\n",
       "    <tr>\n",
       "      <th>alternative</th>\n",
       "      <td>1379</td>\n",
       "      <td>649</td>\n",
       "    </tr>\n",
       "    <tr>\n",
       "      <th>ruspop</th>\n",
       "      <td>1372</td>\n",
       "      <td>538</td>\n",
       "    </tr>\n",
       "    <tr>\n",
       "      <th>rusrap</th>\n",
       "      <td>1161</td>\n",
       "      <td>564</td>\n",
       "    </tr>\n",
       "  </tbody>\n",
       "</table>\n",
       "</div>"
      ],
      "text/plain": [
       "             MSC Genres  SPB Genres\n",
       "genre                              \n",
       "pop                5892        2431\n",
       "dance              4435        1932\n",
       "rock               3965        1879\n",
       "electronic         3786        1737\n",
       "hiphop             2096         960\n",
       "classical          1616         646\n",
       "world              1432         515\n",
       "alternative        1379         649\n",
       "ruspop             1372         538\n",
       "rusrap             1161         564"
      ]
     },
     "execution_count": 47,
     "metadata": {},
     "output_type": "execute_result"
    }
   ],
   "source": [
    "third_hip_res = pd.concat([moscow_genres.head(10), spb_genres.head(10)], axis=1)\n",
    "third_hip_res.columns = ['MSC Genres', 'SPB Genres']\n",
    "third_hip_res"
   ]
  },
  {
   "cell_type": "code",
   "execution_count": 48,
   "metadata": {},
   "outputs": [
    {
     "data": {
      "text/plain": [
       "genre\n",
       "pop            5892\n",
       "dance          4435\n",
       "rock           3965\n",
       "electronic     3786\n",
       "hiphop         2096\n",
       "classical      1616\n",
       "world          1432\n",
       "alternative    1379\n",
       "ruspop         1372\n",
       "rusrap         1161\n",
       "Name: genre, dtype: int64"
      ]
     },
     "metadata": {},
     "output_type": "display_data"
    },
    {
     "data": {
      "text/plain": [
       "genre\n",
       "pop            2431\n",
       "dance          1932\n",
       "rock           1879\n",
       "electronic     1737\n",
       "hiphop          960\n",
       "alternative     649\n",
       "classical       646\n",
       "rusrap          564\n",
       "ruspop          538\n",
       "world           515\n",
       "Name: genre, dtype: int64"
      ]
     },
     "metadata": {},
     "output_type": "display_data"
    }
   ],
   "source": [
    "display(moscow_genres.head(10))\n",
    "display(spb_genres.head(10))"
   ]
  },
  {
   "cell_type": "markdown",
   "metadata": {},
   "source": [
    "<div class=\"alert alert-warning\"; style=\"border-left: 7px solid gold\">\n",
    "<b>⚠️ Комментарий ревьювера</b> \n",
    "    \n",
    "Здесь аналогичный комментарий - нам важна очередность популярных жанров. Да и ячеек здесь было бы всего 2.\n",
    "\n",
    "Но плюсик за сложность )\n",
    "    \n",
    "</div>"
   ]
  },
  {
   "cell_type": "markdown",
   "metadata": {},
   "source": [
    "<div class=\"alert alert-block alert-info\"; style=\"border-left: 7px solid blue\">\n",
    "<b>Комментарий студента</b><br>\n",
    "    Основная проблема с выводом в разных ячейках - оба результата сразу не вмещаются на экран (у меня).<br>\n",
    "    \n",
    "   \n",
    "<div class=\"alert alert-success\"; style=\"border-left: 7px solid green\">\n",
    "<b>✅ Комментарий ревьюера, ревью 2</b>\n",
    "\n",
    "Согласна, желательно бы видеть их одновременно для сравнения. Отлично, что ты нашел выход. </div>\n",
    "</div>"
   ]
  },
  {
   "cell_type": "markdown",
   "metadata": {
    "id": "RY51YJYu_Zcv"
   },
   "source": [
    "**Выводы**"
   ]
  },
  {
   "cell_type": "markdown",
   "metadata": {
    "id": "nVhnJEm__Zcv"
   },
   "source": [
    "Гипотеза частично подтвердилась:\n",
    "* Поп-музыка — самый популярный жанр в Москве, как и предполагала гипотеза. Более того, в топ-10 жанров встречается близкий жанр — русская популярная музыка.\n",
    "* Вопреки ожиданиям, рэп одинаково популярен в Москве и Петербурге. \n"
   ]
  },
  {
   "cell_type": "markdown",
   "metadata": {
    "id": "ykKQ0N65_Zcv"
   },
   "source": [
    "## Итоги исследования"
   ]
  },
  {
   "cell_type": "markdown",
   "metadata": {
    "id": "tjUwbHb3_Zcv"
   },
   "source": [
    "Вы проверили три гипотезы и установили:\n",
    "\n",
    "1. День недели по-разному влияет на активность пользователей в Москве и Петербурге. \n",
    "\n",
    "Первая гипотеза полностью подтвердилась.\n",
    "\n",
    "2. Музыкальные предпочтения не сильно меняются в течение недели — будь то Москва или Петербург. Небольшие различия заметны в начале недели, по понедельникам:\n",
    "* в Москве слушают музыку жанра “world”,\n",
    "* в Петербурге — джаз и классику.\n",
    "\n",
    "Таким образом, вторая гипотеза подтвердилась лишь отчасти. Этот результат мог оказаться иным, если бы не пропуски в данных.\n",
    "\n",
    "3. Во вкусах пользователей Москвы и Петербурга больше общего чем различий. Вопреки ожиданиям, предпочтения жанров в Петербурге напоминают московские.\n",
    "\n",
    "Третья гипотеза не подтвердилась. Если различия в предпочтениях и существуют, на основной массе пользователей они незаметны.\n",
    "\n",
    "**На практике исследования содержат проверки статистических гипотез.**\n",
    "Из данных одного сервиса не всегда можно сделать вывод о всех жителях города.\n",
    "Проверки статистических гипотез покажут, насколько они достоверны, исходя из имеющихся данных. \n",
    "С методами проверок гипотез вы ещё познакомитесь в следующих темах."
   ]
  },
  {
   "cell_type": "markdown",
   "metadata": {},
   "source": [
    "    \n",
    "<div class=\"alert alert-success\"; style=\"border-left: 7px solid green\">\n",
    "<b>✅ Комментарий ревьюера</b>\n",
    "\n",
    "Итоговый вывод - обязательная часть исследования, которая позволяет заказчику в одном месте ознакомиться с результатами проведенного анализа. </div>"
   ]
  },
  {
   "cell_type": "markdown",
   "metadata": {},
   "source": [
    "<div style=\"border:solid green 2px; padding: 20px\">\n",
    "  \n",
    "**Заключительный комментарий**\n",
    "\n",
    "Ты проделал отличную работу над проектом. Видно, что ты изучаешь python дополнительно, и у тебя круто получается. \n",
    "    \n",
    "Твой проект принят. Но я отправляю тебе его открытым на случай, если ты хочешь задать какие-то вопросы. Если нет, присылай обратно и я его приму.\n",
    "    \n",
    "Удачи!"
   ]
  },
  {
   "cell_type": "markdown",
   "metadata": {},
   "source": [
    "<div class=\"alert alert-block alert-info\"; style=\"border-left: 7px solid blue\">\n",
    "<b>Комментарий студента</b><br>\n",
    "        Я, действительно, не новичок в python и в machine learning. Хотелось бы как-то выделиться на фоне других студентов.\n",
    "        Я думаю, это так или иначе поможет мне при трудоустройстве (даже если выкладывать проекты Практикума на гитхаб нельзя).\n",
    "        Возможно ли получать какие-то дополнительные, усложненные задания после успешного выполнения обычных?\n",
    "     \n",
    "<div class=\"alert alert-success\"; style=\"border-left: 7px solid green\">\n",
    "<b>✅ Комментарий ревьюера, ревью 2</b>\n",
    "   \n",
    "Если тебе важно глубже изучить ML, ты можешь написать наставнику в канале teamwork и попросить совет, в каком источнике лучше почитать тот или иной материал. \n",
    "    \n",
    "Первые два проекта очень базовые и с довольно жесткой структурой. В дальнейших проектах, на мой взгляд, больше пространства для творчества и применения неординарного подхода. Надеюсь, тебе не придется скучать!\n",
    "    <br>\n",
    "</div>"
   ]
  },
  {
   "cell_type": "code",
   "execution_count": null,
   "metadata": {},
   "outputs": [],
   "source": []
  }
 ],
 "metadata": {
  "ExecuteTimeLog": [
   {
    "duration": 413,
    "start_time": "2022-04-16T14:12:22.133Z"
   },
   {
    "duration": 123,
    "start_time": "2022-04-16T14:12:46.504Z"
   },
   {
    "duration": 160,
    "start_time": "2022-04-16T14:13:16.328Z"
   },
   {
    "duration": 19,
    "start_time": "2022-04-16T14:13:29.923Z"
   },
   {
    "duration": 10,
    "start_time": "2022-04-16T14:13:47.097Z"
   },
   {
    "duration": 31,
    "start_time": "2022-04-16T14:13:51.001Z"
   },
   {
    "duration": 5,
    "start_time": "2022-04-16T14:20:21.266Z"
   },
   {
    "duration": 13,
    "start_time": "2022-04-16T14:22:48.361Z"
   },
   {
    "duration": 4,
    "start_time": "2022-04-16T14:22:57.836Z"
   },
   {
    "duration": 27,
    "start_time": "2022-04-16T14:29:58.947Z"
   },
   {
    "duration": 26,
    "start_time": "2022-04-16T14:30:37.340Z"
   },
   {
    "duration": 25,
    "start_time": "2022-04-16T14:30:55.570Z"
   },
   {
    "duration": 25,
    "start_time": "2022-04-16T14:30:59.030Z"
   },
   {
    "duration": 21,
    "start_time": "2022-04-16T14:34:16.751Z"
   },
   {
    "duration": 26,
    "start_time": "2022-04-16T14:34:25.750Z"
   },
   {
    "duration": 66,
    "start_time": "2022-04-16T14:35:40.463Z"
   },
   {
    "duration": 64,
    "start_time": "2022-04-16T14:35:44.186Z"
   },
   {
    "duration": 61,
    "start_time": "2022-04-16T14:35:51.024Z"
   },
   {
    "duration": 78,
    "start_time": "2022-04-16T14:39:49.919Z"
   },
   {
    "duration": 60,
    "start_time": "2022-04-16T14:41:42.477Z"
   },
   {
    "duration": 9,
    "start_time": "2022-04-16T15:01:10.097Z"
   },
   {
    "duration": 40,
    "start_time": "2022-04-16T15:01:14.834Z"
   },
   {
    "duration": 73,
    "start_time": "2022-04-16T15:05:44.972Z"
   },
   {
    "duration": 68,
    "start_time": "2022-04-16T15:05:58.284Z"
   },
   {
    "duration": 3,
    "start_time": "2022-04-16T15:21:39.350Z"
   },
   {
    "duration": 11,
    "start_time": "2022-04-16T15:22:44.816Z"
   },
   {
    "duration": 3,
    "start_time": "2022-04-16T15:24:35.169Z"
   },
   {
    "duration": 9,
    "start_time": "2022-04-16T15:24:36.935Z"
   },
   {
    "duration": 10,
    "start_time": "2022-04-16T15:25:12.964Z"
   },
   {
    "duration": 62,
    "start_time": "2022-04-16T15:25:59.716Z"
   },
   {
    "duration": 4,
    "start_time": "2022-04-16T15:26:17.666Z"
   },
   {
    "duration": 11,
    "start_time": "2022-04-16T15:26:18.414Z"
   },
   {
    "duration": 58,
    "start_time": "2022-04-16T15:26:19.277Z"
   },
   {
    "duration": 59,
    "start_time": "2022-04-16T15:26:34.106Z"
   },
   {
    "duration": 8,
    "start_time": "2022-04-16T15:28:44.082Z"
   },
   {
    "duration": 10,
    "start_time": "2022-04-16T15:30:37.177Z"
   },
   {
    "duration": 4126,
    "start_time": "2022-04-16T15:30:45.520Z"
   },
   {
    "duration": 34,
    "start_time": "2022-04-16T15:31:11.582Z"
   },
   {
    "duration": 12,
    "start_time": "2022-04-16T15:31:26.859Z"
   },
   {
    "duration": 13,
    "start_time": "2022-04-16T15:31:42.436Z"
   },
   {
    "duration": 12,
    "start_time": "2022-04-16T15:31:45.935Z"
   },
   {
    "duration": 7,
    "start_time": "2022-04-16T15:32:33.459Z"
   },
   {
    "duration": 17,
    "start_time": "2022-04-16T15:32:55.021Z"
   },
   {
    "duration": 116,
    "start_time": "2022-04-16T15:40:09.810Z"
   },
   {
    "duration": 4,
    "start_time": "2022-04-16T15:40:15.296Z"
   },
   {
    "duration": 121,
    "start_time": "2022-04-16T15:44:31.901Z"
   },
   {
    "duration": 111,
    "start_time": "2022-04-16T15:44:40.508Z"
   },
   {
    "duration": 3,
    "start_time": "2022-04-16T15:44:54.896Z"
   },
   {
    "duration": 74,
    "start_time": "2022-04-16T15:44:56.124Z"
   },
   {
    "duration": 9,
    "start_time": "2022-04-16T15:49:37.791Z"
   },
   {
    "duration": 9,
    "start_time": "2022-04-16T15:50:43.663Z"
   },
   {
    "duration": 49,
    "start_time": "2022-04-16T16:00:46.873Z"
   },
   {
    "duration": 37,
    "start_time": "2022-04-16T16:02:52.054Z"
   },
   {
    "duration": 26,
    "start_time": "2022-04-16T16:03:17.183Z"
   },
   {
    "duration": 77,
    "start_time": "2022-04-16T16:03:29.766Z"
   },
   {
    "duration": 71,
    "start_time": "2022-04-16T16:03:54.172Z"
   },
   {
    "duration": 72,
    "start_time": "2022-04-16T16:05:23.668Z"
   },
   {
    "duration": 133,
    "start_time": "2022-04-16T16:05:35.576Z"
   },
   {
    "duration": 127,
    "start_time": "2022-04-16T16:05:41.937Z"
   },
   {
    "duration": 124,
    "start_time": "2022-04-16T16:06:09.163Z"
   },
   {
    "duration": 8,
    "start_time": "2022-04-16T16:06:23.038Z"
   },
   {
    "duration": 22,
    "start_time": "2022-04-16T16:06:35.890Z"
   },
   {
    "duration": 10,
    "start_time": "2022-04-16T16:06:46.944Z"
   },
   {
    "duration": 7,
    "start_time": "2022-04-16T16:06:51.762Z"
   },
   {
    "duration": 8,
    "start_time": "2022-04-16T16:07:03.094Z"
   },
   {
    "duration": 8,
    "start_time": "2022-04-16T16:07:13.848Z"
   },
   {
    "duration": 8,
    "start_time": "2022-04-16T16:07:34.624Z"
   },
   {
    "duration": 15,
    "start_time": "2022-04-16T16:09:58.186Z"
   },
   {
    "duration": 9,
    "start_time": "2022-04-16T16:10:05.452Z"
   },
   {
    "duration": 12,
    "start_time": "2022-04-16T16:11:26.037Z"
   },
   {
    "duration": 9,
    "start_time": "2022-04-16T16:14:40.966Z"
   },
   {
    "duration": 7,
    "start_time": "2022-04-16T16:16:53.045Z"
   },
   {
    "duration": 124,
    "start_time": "2022-04-16T16:18:10.726Z"
   },
   {
    "duration": 8,
    "start_time": "2022-04-16T16:18:19.789Z"
   },
   {
    "duration": 135,
    "start_time": "2022-04-16T16:19:15.840Z"
   },
   {
    "duration": 140,
    "start_time": "2022-04-16T16:19:25.650Z"
   },
   {
    "duration": 8,
    "start_time": "2022-04-16T16:19:48.408Z"
   },
   {
    "duration": 8,
    "start_time": "2022-04-16T16:20:09.535Z"
   },
   {
    "duration": 8,
    "start_time": "2022-04-16T16:21:15.929Z"
   },
   {
    "duration": 6,
    "start_time": "2022-04-16T16:21:41.456Z"
   },
   {
    "duration": 7,
    "start_time": "2022-04-16T16:21:55.473Z"
   },
   {
    "duration": 6,
    "start_time": "2022-04-16T16:22:59.028Z"
   },
   {
    "duration": 6,
    "start_time": "2022-04-16T16:23:05.833Z"
   },
   {
    "duration": 7,
    "start_time": "2022-04-16T16:23:22.138Z"
   },
   {
    "duration": 5,
    "start_time": "2022-04-16T16:24:57.091Z"
   },
   {
    "duration": 7,
    "start_time": "2022-04-16T16:25:41.835Z"
   },
   {
    "duration": 407,
    "start_time": "2022-04-16T16:26:02.276Z"
   },
   {
    "duration": 159,
    "start_time": "2022-04-16T16:26:03.116Z"
   },
   {
    "duration": 17,
    "start_time": "2022-04-16T16:26:04.914Z"
   },
   {
    "duration": 31,
    "start_time": "2022-04-16T16:26:06.541Z"
   },
   {
    "duration": 4,
    "start_time": "2022-04-16T16:26:10.220Z"
   },
   {
    "duration": 11,
    "start_time": "2022-04-16T16:26:25.260Z"
   },
   {
    "duration": 4,
    "start_time": "2022-04-16T16:26:26.604Z"
   },
   {
    "duration": 26,
    "start_time": "2022-04-16T16:26:27.828Z"
   },
   {
    "duration": 20,
    "start_time": "2022-04-16T16:26:29.582Z"
   },
   {
    "duration": 26,
    "start_time": "2022-04-16T16:26:30.718Z"
   },
   {
    "duration": 72,
    "start_time": "2022-04-16T16:26:34.979Z"
   },
   {
    "duration": 4,
    "start_time": "2022-04-16T16:27:13.972Z"
   },
   {
    "duration": 24,
    "start_time": "2022-04-16T16:27:41.311Z"
   },
   {
    "duration": 26,
    "start_time": "2022-04-16T16:27:45.807Z"
   },
   {
    "duration": 67,
    "start_time": "2022-04-16T16:28:46.616Z"
   },
   {
    "duration": 62,
    "start_time": "2022-04-16T16:29:18.191Z"
   },
   {
    "duration": 78,
    "start_time": "2022-04-16T16:29:22.253Z"
   },
   {
    "duration": 62,
    "start_time": "2022-04-16T16:29:23.177Z"
   },
   {
    "duration": 61,
    "start_time": "2022-04-16T16:29:34.917Z"
   },
   {
    "duration": 63,
    "start_time": "2022-04-16T16:29:37.455Z"
   },
   {
    "duration": 4,
    "start_time": "2022-04-16T16:31:29.147Z"
   },
   {
    "duration": 3,
    "start_time": "2022-04-16T16:31:37.296Z"
   },
   {
    "duration": 61,
    "start_time": "2022-04-16T16:31:47.281Z"
   },
   {
    "duration": 63,
    "start_time": "2022-04-16T16:32:24.766Z"
   },
   {
    "duration": 36,
    "start_time": "2022-04-16T16:32:51.017Z"
   },
   {
    "duration": 33,
    "start_time": "2022-04-16T16:33:15.545Z"
   },
   {
    "duration": 13,
    "start_time": "2022-04-16T16:33:19.946Z"
   },
   {
    "duration": 432,
    "start_time": "2022-04-16T16:33:35.352Z"
   },
   {
    "duration": 154,
    "start_time": "2022-04-16T16:33:36.134Z"
   },
   {
    "duration": 17,
    "start_time": "2022-04-16T16:33:37.533Z"
   },
   {
    "duration": 31,
    "start_time": "2022-04-16T16:33:39.155Z"
   },
   {
    "duration": 4,
    "start_time": "2022-04-16T16:33:43.934Z"
   },
   {
    "duration": 12,
    "start_time": "2022-04-16T16:33:55.728Z"
   },
   {
    "duration": 5,
    "start_time": "2022-04-16T16:34:00.353Z"
   },
   {
    "duration": 25,
    "start_time": "2022-04-16T16:34:19.130Z"
   },
   {
    "duration": 23,
    "start_time": "2022-04-16T16:34:20.016Z"
   },
   {
    "duration": 25,
    "start_time": "2022-04-16T16:34:26.447Z"
   },
   {
    "duration": 66,
    "start_time": "2022-04-16T16:34:29.196Z"
   },
   {
    "duration": 80,
    "start_time": "2022-04-16T16:34:32.863Z"
   },
   {
    "duration": 62,
    "start_time": "2022-04-16T16:34:35.078Z"
   },
   {
    "duration": 3,
    "start_time": "2022-04-16T16:34:37.872Z"
   },
   {
    "duration": 73,
    "start_time": "2022-04-16T16:34:39.678Z"
   },
   {
    "duration": 3,
    "start_time": "2022-04-16T16:35:17.174Z"
   },
   {
    "duration": 10,
    "start_time": "2022-04-16T16:35:23.570Z"
   },
   {
    "duration": 59,
    "start_time": "2022-04-16T16:35:27.113Z"
   },
   {
    "duration": 34,
    "start_time": "2022-04-16T16:35:41.016Z"
   },
   {
    "duration": 13,
    "start_time": "2022-04-16T16:35:43.240Z"
   },
   {
    "duration": 34,
    "start_time": "2022-04-16T16:35:45.576Z"
   },
   {
    "duration": 13,
    "start_time": "2022-04-16T16:35:45.824Z"
   },
   {
    "duration": 4,
    "start_time": "2022-04-16T16:36:18.102Z"
   },
   {
    "duration": 126,
    "start_time": "2022-04-16T16:36:24.448Z"
   },
   {
    "duration": 2,
    "start_time": "2022-04-16T16:36:26.842Z"
   },
   {
    "duration": 3,
    "start_time": "2022-04-16T16:36:27.032Z"
   },
   {
    "duration": 3,
    "start_time": "2022-04-16T16:36:27.248Z"
   },
   {
    "duration": 2,
    "start_time": "2022-04-16T16:36:27.456Z"
   },
   {
    "duration": 3,
    "start_time": "2022-04-16T16:36:27.648Z"
   },
   {
    "duration": 2,
    "start_time": "2022-04-16T16:36:28.105Z"
   },
   {
    "duration": 8,
    "start_time": "2022-04-16T16:36:30.577Z"
   },
   {
    "duration": 12,
    "start_time": "2022-04-16T16:36:42.440Z"
   },
   {
    "duration": 10,
    "start_time": "2022-04-16T16:36:43.409Z"
   },
   {
    "duration": 3,
    "start_time": "2022-04-16T16:36:56.506Z"
   },
   {
    "duration": 1791,
    "start_time": "2022-04-16T16:52:31.025Z"
   },
   {
    "duration": 10,
    "start_time": "2022-04-16T16:52:41.691Z"
   },
   {
    "duration": 10,
    "start_time": "2022-04-16T16:52:53.743Z"
   },
   {
    "duration": 5,
    "start_time": "2022-04-16T16:53:13.647Z"
   },
   {
    "duration": 4,
    "start_time": "2022-04-16T16:53:20.395Z"
   },
   {
    "duration": 4,
    "start_time": "2022-04-16T16:53:25.534Z"
   },
   {
    "duration": 455,
    "start_time": "2022-04-17T08:07:44.556Z"
   },
   {
    "duration": 217,
    "start_time": "2022-04-17T08:07:46.630Z"
   },
   {
    "duration": 25,
    "start_time": "2022-04-17T08:07:47.547Z"
   },
   {
    "duration": 47,
    "start_time": "2022-04-17T08:07:48.841Z"
   },
   {
    "duration": 4,
    "start_time": "2022-04-17T08:07:54.410Z"
   },
   {
    "duration": 11,
    "start_time": "2022-04-17T08:08:04.093Z"
   },
   {
    "duration": 5,
    "start_time": "2022-04-17T08:08:04.866Z"
   },
   {
    "duration": 27,
    "start_time": "2022-04-17T08:08:05.865Z"
   },
   {
    "duration": 18,
    "start_time": "2022-04-17T08:08:07.089Z"
   },
   {
    "duration": 24,
    "start_time": "2022-04-17T08:08:09.848Z"
   },
   {
    "duration": 66,
    "start_time": "2022-04-17T08:08:11.112Z"
   },
   {
    "duration": 76,
    "start_time": "2022-04-17T08:08:17.451Z"
   },
   {
    "duration": 58,
    "start_time": "2022-04-17T08:08:17.936Z"
   },
   {
    "duration": 3,
    "start_time": "2022-04-17T08:08:18.961Z"
   },
   {
    "duration": 69,
    "start_time": "2022-04-17T08:08:19.838Z"
   },
   {
    "duration": 2,
    "start_time": "2022-04-17T08:08:28.849Z"
   },
   {
    "duration": 14,
    "start_time": "2022-04-17T08:08:29.992Z"
   },
   {
    "duration": 68,
    "start_time": "2022-04-17T08:08:30.913Z"
   },
   {
    "duration": 32,
    "start_time": "2022-04-17T08:08:34.026Z"
   },
   {
    "duration": 13,
    "start_time": "2022-04-17T08:08:34.515Z"
   },
   {
    "duration": 34,
    "start_time": "2022-04-17T08:08:35.921Z"
   },
   {
    "duration": 12,
    "start_time": "2022-04-17T08:08:36.413Z"
   },
   {
    "duration": 3,
    "start_time": "2022-04-17T08:08:47.844Z"
   },
   {
    "duration": 207,
    "start_time": "2022-04-17T08:08:59.850Z"
   },
   {
    "duration": 3,
    "start_time": "2022-04-17T08:09:04.051Z"
   },
   {
    "duration": 2,
    "start_time": "2022-04-17T08:09:04.284Z"
   },
   {
    "duration": 2,
    "start_time": "2022-04-17T08:09:04.492Z"
   },
   {
    "duration": 2,
    "start_time": "2022-04-17T08:09:04.666Z"
   },
   {
    "duration": 2,
    "start_time": "2022-04-17T08:09:04.843Z"
   },
   {
    "duration": 2,
    "start_time": "2022-04-17T08:09:05.308Z"
   },
   {
    "duration": 7,
    "start_time": "2022-04-17T08:09:08.721Z"
   },
   {
    "duration": 22,
    "start_time": "2022-04-17T08:09:12.764Z"
   },
   {
    "duration": 13,
    "start_time": "2022-04-17T08:09:14.650Z"
   },
   {
    "duration": 6,
    "start_time": "2022-04-17T08:12:00.420Z"
   },
   {
    "duration": 4,
    "start_time": "2022-04-17T08:12:09.681Z"
   },
   {
    "duration": 4,
    "start_time": "2022-04-17T08:12:15.387Z"
   },
   {
    "duration": 1839,
    "start_time": "2022-04-17T08:21:50.834Z"
   },
   {
    "duration": 10,
    "start_time": "2022-04-17T08:22:03.210Z"
   },
   {
    "duration": 167,
    "start_time": "2022-04-17T08:23:18.641Z"
   },
   {
    "duration": 10,
    "start_time": "2022-04-17T08:23:19.100Z"
   },
   {
    "duration": 1623,
    "start_time": "2022-04-17T08:23:21.788Z"
   },
   {
    "duration": 0,
    "start_time": "2022-04-17T08:23:23.413Z"
   },
   {
    "duration": 107,
    "start_time": "2022-04-17T08:23:39.490Z"
   },
   {
    "duration": 11,
    "start_time": "2022-04-17T08:23:41.074Z"
   },
   {
    "duration": 12,
    "start_time": "2022-04-17T08:25:48.287Z"
   },
   {
    "duration": 8,
    "start_time": "2022-04-17T08:25:59.590Z"
   },
   {
    "duration": 4,
    "start_time": "2022-04-17T08:26:10.820Z"
   },
   {
    "duration": 17,
    "start_time": "2022-04-17T08:28:48.266Z"
   },
   {
    "duration": 8,
    "start_time": "2022-04-17T08:29:24.046Z"
   },
   {
    "duration": 8,
    "start_time": "2022-04-17T08:29:30.378Z"
   },
   {
    "duration": 4,
    "start_time": "2022-04-17T08:29:49.118Z"
   },
   {
    "duration": 7,
    "start_time": "2022-04-17T08:29:55.021Z"
   },
   {
    "duration": 562,
    "start_time": "2022-04-17T08:30:48.980Z"
   },
   {
    "duration": 165,
    "start_time": "2022-04-17T08:30:49.545Z"
   },
   {
    "duration": 17,
    "start_time": "2022-04-17T08:30:49.712Z"
   },
   {
    "duration": 60,
    "start_time": "2022-04-17T08:30:49.867Z"
   },
   {
    "duration": 6,
    "start_time": "2022-04-17T08:30:50.057Z"
   },
   {
    "duration": 30,
    "start_time": "2022-04-17T08:30:50.441Z"
   },
   {
    "duration": 4,
    "start_time": "2022-04-17T08:30:51.337Z"
   },
   {
    "duration": 9,
    "start_time": "2022-04-17T08:30:51.899Z"
   },
   {
    "duration": 3,
    "start_time": "2022-04-17T08:30:52.273Z"
   },
   {
    "duration": 25,
    "start_time": "2022-04-17T08:30:52.632Z"
   },
   {
    "duration": 20,
    "start_time": "2022-04-17T08:30:53.194Z"
   },
   {
    "duration": 24,
    "start_time": "2022-04-17T08:30:53.553Z"
   },
   {
    "duration": 60,
    "start_time": "2022-04-17T08:30:53.953Z"
   },
   {
    "duration": 67,
    "start_time": "2022-04-17T08:30:54.347Z"
   },
   {
    "duration": 53,
    "start_time": "2022-04-17T08:30:54.726Z"
   },
   {
    "duration": 4,
    "start_time": "2022-04-17T08:30:55.297Z"
   },
   {
    "duration": 62,
    "start_time": "2022-04-17T08:30:55.505Z"
   },
   {
    "duration": 3,
    "start_time": "2022-04-17T08:30:56.082Z"
   },
   {
    "duration": 12,
    "start_time": "2022-04-17T08:30:56.448Z"
   },
   {
    "duration": 60,
    "start_time": "2022-04-17T08:30:56.836Z"
   },
   {
    "duration": 33,
    "start_time": "2022-04-17T08:30:58.007Z"
   },
   {
    "duration": 13,
    "start_time": "2022-04-17T08:30:58.228Z"
   },
   {
    "duration": 34,
    "start_time": "2022-04-17T08:30:58.594Z"
   },
   {
    "duration": 12,
    "start_time": "2022-04-17T08:30:58.781Z"
   },
   {
    "duration": 4,
    "start_time": "2022-04-17T08:30:59.340Z"
   },
   {
    "duration": 124,
    "start_time": "2022-04-17T08:30:59.656Z"
   },
   {
    "duration": 3,
    "start_time": "2022-04-17T08:31:00.434Z"
   },
   {
    "duration": 3,
    "start_time": "2022-04-17T08:31:01.082Z"
   },
   {
    "duration": 3,
    "start_time": "2022-04-17T08:31:01.250Z"
   },
   {
    "duration": 2,
    "start_time": "2022-04-17T08:31:01.435Z"
   },
   {
    "duration": 3,
    "start_time": "2022-04-17T08:31:01.646Z"
   },
   {
    "duration": 3,
    "start_time": "2022-04-17T08:31:01.826Z"
   },
   {
    "duration": 8,
    "start_time": "2022-04-17T08:31:02.819Z"
   },
   {
    "duration": 11,
    "start_time": "2022-04-17T08:31:14.429Z"
   },
   {
    "duration": 10,
    "start_time": "2022-04-17T08:31:14.594Z"
   },
   {
    "duration": 3,
    "start_time": "2022-04-17T08:38:06.382Z"
   },
   {
    "duration": 4,
    "start_time": "2022-04-17T08:38:27.621Z"
   },
   {
    "duration": 212,
    "start_time": "2022-04-17T08:50:18.470Z"
   },
   {
    "duration": 8,
    "start_time": "2022-04-17T08:50:40.511Z"
   },
   {
    "duration": 98,
    "start_time": "2022-04-17T08:50:53.367Z"
   },
   {
    "duration": 195,
    "start_time": "2022-04-17T08:51:16.199Z"
   },
   {
    "duration": 184,
    "start_time": "2022-04-17T08:51:21.117Z"
   },
   {
    "duration": 7,
    "start_time": "2022-04-17T08:51:26.484Z"
   },
   {
    "duration": 12,
    "start_time": "2022-04-17T08:51:37.404Z"
   },
   {
    "duration": 4,
    "start_time": "2022-04-17T08:51:58.886Z"
   },
   {
    "duration": 4,
    "start_time": "2022-04-17T08:58:36.847Z"
   },
   {
    "duration": 3,
    "start_time": "2022-04-17T09:00:28.277Z"
   },
   {
    "duration": 4,
    "start_time": "2022-04-17T09:00:31.861Z"
   },
   {
    "duration": 5,
    "start_time": "2022-04-17T09:00:39.742Z"
   },
   {
    "duration": 59,
    "start_time": "2022-04-17T09:00:50.826Z"
   },
   {
    "duration": 32,
    "start_time": "2022-04-17T09:01:43.356Z"
   },
   {
    "duration": 33,
    "start_time": "2022-04-17T09:02:18.088Z"
   },
   {
    "duration": 39,
    "start_time": "2022-04-17T09:03:14.979Z"
   },
   {
    "duration": 192,
    "start_time": "2022-04-17T09:05:13.781Z"
   },
   {
    "duration": 195,
    "start_time": "2022-04-17T09:05:21.686Z"
   },
   {
    "duration": 190,
    "start_time": "2022-04-17T09:07:04.107Z"
   },
   {
    "duration": 230,
    "start_time": "2022-04-17T09:10:21.202Z"
   },
   {
    "duration": 189,
    "start_time": "2022-04-17T09:11:45.091Z"
   },
   {
    "duration": 11,
    "start_time": "2022-04-17T09:15:46.383Z"
   },
   {
    "duration": 4,
    "start_time": "2022-04-17T09:15:51.364Z"
   },
   {
    "duration": 187,
    "start_time": "2022-04-17T09:16:28.520Z"
   },
   {
    "duration": 191,
    "start_time": "2022-04-17T09:16:49.872Z"
   },
   {
    "duration": 201,
    "start_time": "2022-04-17T09:18:28.213Z"
   },
   {
    "duration": 202,
    "start_time": "2022-04-17T09:18:43.543Z"
   },
   {
    "duration": 212,
    "start_time": "2022-04-17T09:23:38.186Z"
   },
   {
    "duration": 326,
    "start_time": "2022-04-17T09:23:50.829Z"
   },
   {
    "duration": 318,
    "start_time": "2022-04-17T09:24:05.666Z"
   },
   {
    "duration": 291,
    "start_time": "2022-04-17T09:24:09.487Z"
   },
   {
    "duration": 211,
    "start_time": "2022-04-17T09:24:33.049Z"
   },
   {
    "duration": 2,
    "start_time": "2022-04-17T09:26:56.890Z"
   },
   {
    "duration": 3,
    "start_time": "2022-04-17T09:26:57.200Z"
   },
   {
    "duration": 2,
    "start_time": "2022-04-17T09:26:57.457Z"
   },
   {
    "duration": 3,
    "start_time": "2022-04-17T09:26:57.698Z"
   },
   {
    "duration": 229,
    "start_time": "2022-04-17T09:27:22.641Z"
   },
   {
    "duration": 12,
    "start_time": "2022-04-17T09:31:18.357Z"
   },
   {
    "duration": 9,
    "start_time": "2022-04-17T09:31:30.227Z"
   },
   {
    "duration": 6,
    "start_time": "2022-04-17T09:32:11.407Z"
   },
   {
    "duration": 9,
    "start_time": "2022-04-17T09:32:14.291Z"
   },
   {
    "duration": 7,
    "start_time": "2022-04-17T09:32:15.818Z"
   },
   {
    "duration": 9,
    "start_time": "2022-04-17T09:33:12.205Z"
   },
   {
    "duration": 16,
    "start_time": "2022-04-17T09:37:45.825Z"
   },
   {
    "duration": 430,
    "start_time": "2022-04-17T09:51:50.393Z"
   },
   {
    "duration": 165,
    "start_time": "2022-04-17T09:51:50.825Z"
   },
   {
    "duration": 17,
    "start_time": "2022-04-17T09:51:50.992Z"
   },
   {
    "duration": 34,
    "start_time": "2022-04-17T09:51:51.033Z"
   },
   {
    "duration": 6,
    "start_time": "2022-04-17T09:51:51.069Z"
   },
   {
    "duration": 32,
    "start_time": "2022-04-17T09:51:51.077Z"
   },
   {
    "duration": 38,
    "start_time": "2022-04-17T09:51:51.112Z"
   },
   {
    "duration": 43,
    "start_time": "2022-04-17T09:51:51.151Z"
   },
   {
    "duration": 35,
    "start_time": "2022-04-17T09:51:51.196Z"
   },
   {
    "duration": 30,
    "start_time": "2022-04-17T09:51:51.235Z"
   },
   {
    "duration": 94,
    "start_time": "2022-04-17T09:51:51.267Z"
   },
   {
    "duration": 87,
    "start_time": "2022-04-17T09:51:51.363Z"
   },
   {
    "duration": 70,
    "start_time": "2022-04-17T09:51:51.452Z"
   },
   {
    "duration": 4,
    "start_time": "2022-04-17T09:51:51.524Z"
   },
   {
    "duration": 99,
    "start_time": "2022-04-17T09:51:51.530Z"
   },
   {
    "duration": 6,
    "start_time": "2022-04-17T09:51:51.645Z"
   },
   {
    "duration": 13,
    "start_time": "2022-04-17T09:51:51.653Z"
   },
   {
    "duration": 76,
    "start_time": "2022-04-17T09:51:51.668Z"
   },
   {
    "duration": 70,
    "start_time": "2022-04-17T09:51:51.754Z"
   },
   {
    "duration": 19,
    "start_time": "2022-04-17T09:51:51.825Z"
   },
   {
    "duration": 35,
    "start_time": "2022-04-17T09:51:51.845Z"
   },
   {
    "duration": 48,
    "start_time": "2022-04-17T09:51:51.882Z"
   },
   {
    "duration": 5,
    "start_time": "2022-04-17T09:51:51.932Z"
   },
   {
    "duration": 203,
    "start_time": "2022-04-17T09:51:51.939Z"
   },
   {
    "duration": 3,
    "start_time": "2022-04-17T09:51:52.144Z"
   },
   {
    "duration": 3,
    "start_time": "2022-04-17T09:51:52.149Z"
   },
   {
    "duration": 3,
    "start_time": "2022-04-17T09:51:52.154Z"
   },
   {
    "duration": 4,
    "start_time": "2022-04-17T09:51:52.161Z"
   },
   {
    "duration": 4,
    "start_time": "2022-04-17T09:51:52.167Z"
   },
   {
    "duration": 4,
    "start_time": "2022-04-17T09:51:52.173Z"
   },
   {
    "duration": 12,
    "start_time": "2022-04-17T09:51:52.179Z"
   },
   {
    "duration": 47,
    "start_time": "2022-04-17T09:51:52.192Z"
   },
   {
    "duration": 9,
    "start_time": "2022-04-17T09:51:52.241Z"
   },
   {
    "duration": 4,
    "start_time": "2022-04-17T09:51:52.251Z"
   },
   {
    "duration": 12,
    "start_time": "2022-04-17T09:51:52.256Z"
   },
   {
    "duration": 8,
    "start_time": "2022-04-17T09:51:52.270Z"
   },
   {
    "duration": 12,
    "start_time": "2022-04-17T09:51:52.280Z"
   },
   {
    "duration": 7,
    "start_time": "2022-04-17T09:51:52.294Z"
   },
   {
    "duration": 7,
    "start_time": "2022-04-17T09:51:52.303Z"
   },
   {
    "duration": 8,
    "start_time": "2022-04-17T09:51:52.312Z"
   },
   {
    "duration": 191,
    "start_time": "2022-04-17T09:51:52.322Z"
   },
   {
    "duration": 14,
    "start_time": "2022-04-17T09:51:52.516Z"
   },
   {
    "duration": 5,
    "start_time": "2022-04-17T09:51:52.531Z"
   },
   {
    "duration": 7,
    "start_time": "2022-04-17T09:51:52.538Z"
   },
   {
    "duration": 5,
    "start_time": "2022-04-17T09:51:52.546Z"
   },
   {
    "duration": 9,
    "start_time": "2022-04-17T09:51:52.552Z"
   },
   {
    "duration": 165,
    "start_time": "2022-04-26T04:01:27.277Z"
   },
   {
    "duration": 450,
    "start_time": "2022-04-26T04:16:03.106Z"
   },
   {
    "duration": 162,
    "start_time": "2022-04-26T04:16:03.558Z"
   },
   {
    "duration": 163,
    "start_time": "2022-04-26T04:16:03.722Z"
   },
   {
    "duration": 0,
    "start_time": "2022-04-26T04:16:03.888Z"
   },
   {
    "duration": 0,
    "start_time": "2022-04-26T04:16:03.889Z"
   },
   {
    "duration": 0,
    "start_time": "2022-04-26T04:16:03.890Z"
   },
   {
    "duration": 0,
    "start_time": "2022-04-26T04:16:03.891Z"
   },
   {
    "duration": 0,
    "start_time": "2022-04-26T04:16:03.892Z"
   },
   {
    "duration": 0,
    "start_time": "2022-04-26T04:16:03.893Z"
   },
   {
    "duration": 0,
    "start_time": "2022-04-26T04:16:03.894Z"
   },
   {
    "duration": 0,
    "start_time": "2022-04-26T04:16:03.895Z"
   },
   {
    "duration": 0,
    "start_time": "2022-04-26T04:16:03.896Z"
   },
   {
    "duration": 0,
    "start_time": "2022-04-26T04:16:03.897Z"
   },
   {
    "duration": 0,
    "start_time": "2022-04-26T04:16:03.898Z"
   },
   {
    "duration": 0,
    "start_time": "2022-04-26T04:16:03.899Z"
   },
   {
    "duration": 0,
    "start_time": "2022-04-26T04:16:03.900Z"
   },
   {
    "duration": 0,
    "start_time": "2022-04-26T04:16:03.901Z"
   },
   {
    "duration": 0,
    "start_time": "2022-04-26T04:16:03.902Z"
   },
   {
    "duration": 0,
    "start_time": "2022-04-26T04:16:03.903Z"
   },
   {
    "duration": 0,
    "start_time": "2022-04-26T04:16:03.904Z"
   },
   {
    "duration": 0,
    "start_time": "2022-04-26T04:16:03.905Z"
   },
   {
    "duration": 0,
    "start_time": "2022-04-26T04:16:03.906Z"
   },
   {
    "duration": 0,
    "start_time": "2022-04-26T04:16:03.907Z"
   },
   {
    "duration": 0,
    "start_time": "2022-04-26T04:16:03.908Z"
   },
   {
    "duration": 0,
    "start_time": "2022-04-26T04:16:03.909Z"
   },
   {
    "duration": 0,
    "start_time": "2022-04-26T04:16:03.910Z"
   },
   {
    "duration": 0,
    "start_time": "2022-04-26T04:16:03.911Z"
   },
   {
    "duration": 0,
    "start_time": "2022-04-26T04:16:03.912Z"
   },
   {
    "duration": 0,
    "start_time": "2022-04-26T04:16:03.913Z"
   },
   {
    "duration": 0,
    "start_time": "2022-04-26T04:16:03.914Z"
   },
   {
    "duration": 0,
    "start_time": "2022-04-26T04:16:03.915Z"
   },
   {
    "duration": 0,
    "start_time": "2022-04-26T04:16:03.916Z"
   },
   {
    "duration": 0,
    "start_time": "2022-04-26T04:16:03.917Z"
   },
   {
    "duration": 0,
    "start_time": "2022-04-26T04:16:03.918Z"
   },
   {
    "duration": 0,
    "start_time": "2022-04-26T04:16:03.919Z"
   },
   {
    "duration": 0,
    "start_time": "2022-04-26T04:16:03.920Z"
   },
   {
    "duration": 0,
    "start_time": "2022-04-26T04:16:03.921Z"
   },
   {
    "duration": 0,
    "start_time": "2022-04-26T04:16:03.922Z"
   },
   {
    "duration": 0,
    "start_time": "2022-04-26T04:16:03.923Z"
   },
   {
    "duration": 0,
    "start_time": "2022-04-26T04:16:03.924Z"
   },
   {
    "duration": 0,
    "start_time": "2022-04-26T04:16:03.925Z"
   },
   {
    "duration": 0,
    "start_time": "2022-04-26T04:16:03.926Z"
   },
   {
    "duration": 0,
    "start_time": "2022-04-26T04:16:03.927Z"
   },
   {
    "duration": 0,
    "start_time": "2022-04-26T04:16:03.933Z"
   },
   {
    "duration": 0,
    "start_time": "2022-04-26T04:16:03.934Z"
   },
   {
    "duration": 0,
    "start_time": "2022-04-26T04:16:03.935Z"
   },
   {
    "duration": 0,
    "start_time": "2022-04-26T04:16:03.936Z"
   },
   {
    "duration": 18,
    "start_time": "2022-04-26T04:16:27.515Z"
   },
   {
    "duration": 451,
    "start_time": "2022-04-26T04:16:38.600Z"
   },
   {
    "duration": 161,
    "start_time": "2022-04-26T04:16:39.053Z"
   },
   {
    "duration": 19,
    "start_time": "2022-04-26T04:16:39.216Z"
   },
   {
    "duration": 31,
    "start_time": "2022-04-26T04:16:39.237Z"
   },
   {
    "duration": 5,
    "start_time": "2022-04-26T04:16:39.269Z"
   },
   {
    "duration": 14,
    "start_time": "2022-04-26T04:16:39.275Z"
   },
   {
    "duration": 7,
    "start_time": "2022-04-26T04:16:39.291Z"
   },
   {
    "duration": 53,
    "start_time": "2022-04-26T04:16:39.300Z"
   },
   {
    "duration": 37,
    "start_time": "2022-04-26T04:16:39.355Z"
   },
   {
    "duration": 26,
    "start_time": "2022-04-26T04:16:39.394Z"
   },
   {
    "duration": 79,
    "start_time": "2022-04-26T04:16:39.422Z"
   },
   {
    "duration": 91,
    "start_time": "2022-04-26T04:16:39.503Z"
   },
   {
    "duration": 65,
    "start_time": "2022-04-26T04:16:39.596Z"
   },
   {
    "duration": 3,
    "start_time": "2022-04-26T04:16:39.663Z"
   },
   {
    "duration": 73,
    "start_time": "2022-04-26T04:16:39.668Z"
   },
   {
    "duration": 3,
    "start_time": "2022-04-26T04:16:39.749Z"
   },
   {
    "duration": 14,
    "start_time": "2022-04-26T04:16:39.754Z"
   },
   {
    "duration": 86,
    "start_time": "2022-04-26T04:16:39.770Z"
   },
   {
    "duration": 35,
    "start_time": "2022-04-26T04:16:39.858Z"
   },
   {
    "duration": 39,
    "start_time": "2022-04-26T04:16:39.895Z"
   },
   {
    "duration": 37,
    "start_time": "2022-04-26T04:16:39.936Z"
   },
   {
    "duration": 12,
    "start_time": "2022-04-26T04:16:39.975Z"
   },
   {
    "duration": 4,
    "start_time": "2022-04-26T04:16:39.989Z"
   },
   {
    "duration": 174,
    "start_time": "2022-04-26T04:16:39.995Z"
   },
   {
    "duration": 2,
    "start_time": "2022-04-26T04:16:40.171Z"
   },
   {
    "duration": 8,
    "start_time": "2022-04-26T04:16:40.175Z"
   },
   {
    "duration": 5,
    "start_time": "2022-04-26T04:16:40.184Z"
   },
   {
    "duration": 4,
    "start_time": "2022-04-26T04:16:40.192Z"
   },
   {
    "duration": 5,
    "start_time": "2022-04-26T04:16:40.198Z"
   },
   {
    "duration": 5,
    "start_time": "2022-04-26T04:16:40.204Z"
   },
   {
    "duration": 28,
    "start_time": "2022-04-26T04:16:40.211Z"
   },
   {
    "duration": 13,
    "start_time": "2022-04-26T04:16:40.241Z"
   },
   {
    "duration": 11,
    "start_time": "2022-04-26T04:16:40.255Z"
   },
   {
    "duration": 3,
    "start_time": "2022-04-26T04:16:40.267Z"
   },
   {
    "duration": 10,
    "start_time": "2022-04-26T04:16:40.272Z"
   },
   {
    "duration": 5,
    "start_time": "2022-04-26T04:16:40.284Z"
   },
   {
    "duration": 6,
    "start_time": "2022-04-26T04:16:40.291Z"
   },
   {
    "duration": 4,
    "start_time": "2022-04-26T04:16:40.299Z"
   },
   {
    "duration": 29,
    "start_time": "2022-04-26T04:16:40.305Z"
   },
   {
    "duration": 5,
    "start_time": "2022-04-26T04:16:40.336Z"
   },
   {
    "duration": 199,
    "start_time": "2022-04-26T04:16:40.343Z"
   },
   {
    "duration": 10,
    "start_time": "2022-04-26T04:16:40.543Z"
   },
   {
    "duration": 4,
    "start_time": "2022-04-26T04:16:40.555Z"
   },
   {
    "duration": 9,
    "start_time": "2022-04-26T04:16:40.561Z"
   },
   {
    "duration": 5,
    "start_time": "2022-04-26T04:16:40.571Z"
   },
   {
    "duration": 10,
    "start_time": "2022-04-26T04:16:40.578Z"
   },
   {
    "duration": 454,
    "start_time": "2022-04-26T04:30:02.706Z"
   },
   {
    "duration": 176,
    "start_time": "2022-04-26T04:30:03.162Z"
   },
   {
    "duration": 18,
    "start_time": "2022-04-26T04:30:03.339Z"
   },
   {
    "duration": 30,
    "start_time": "2022-04-26T04:30:03.359Z"
   },
   {
    "duration": 16,
    "start_time": "2022-04-26T04:30:03.391Z"
   },
   {
    "duration": 25,
    "start_time": "2022-04-26T04:30:03.409Z"
   },
   {
    "duration": 6,
    "start_time": "2022-04-26T04:30:03.436Z"
   },
   {
    "duration": 30,
    "start_time": "2022-04-26T04:30:03.443Z"
   },
   {
    "duration": 22,
    "start_time": "2022-04-26T04:30:03.475Z"
   },
   {
    "duration": 45,
    "start_time": "2022-04-26T04:30:03.499Z"
   },
   {
    "duration": 69,
    "start_time": "2022-04-26T04:30:03.546Z"
   },
   {
    "duration": 93,
    "start_time": "2022-04-26T04:30:03.617Z"
   },
   {
    "duration": 75,
    "start_time": "2022-04-26T04:30:03.712Z"
   },
   {
    "duration": 3,
    "start_time": "2022-04-26T04:30:03.792Z"
   },
   {
    "duration": 85,
    "start_time": "2022-04-26T04:30:03.797Z"
   },
   {
    "duration": 3,
    "start_time": "2022-04-26T04:30:03.885Z"
   },
   {
    "duration": 15,
    "start_time": "2022-04-26T04:30:03.889Z"
   },
   {
    "duration": 67,
    "start_time": "2022-04-26T04:30:03.933Z"
   },
   {
    "duration": 64,
    "start_time": "2022-04-26T04:30:04.002Z"
   },
   {
    "duration": 14,
    "start_time": "2022-04-26T04:30:04.067Z"
   },
   {
    "duration": 63,
    "start_time": "2022-04-26T04:30:04.082Z"
   },
   {
    "duration": 13,
    "start_time": "2022-04-26T04:30:04.146Z"
   },
   {
    "duration": 3,
    "start_time": "2022-04-26T04:30:04.161Z"
   },
   {
    "duration": 167,
    "start_time": "2022-04-26T04:30:04.166Z"
   },
   {
    "duration": 3,
    "start_time": "2022-04-26T04:30:04.335Z"
   },
   {
    "duration": 14,
    "start_time": "2022-04-26T04:30:04.340Z"
   },
   {
    "duration": 8,
    "start_time": "2022-04-26T04:30:04.356Z"
   },
   {
    "duration": 11,
    "start_time": "2022-04-26T04:30:04.366Z"
   },
   {
    "duration": 8,
    "start_time": "2022-04-26T04:30:04.379Z"
   },
   {
    "duration": 14,
    "start_time": "2022-04-26T04:30:04.389Z"
   },
   {
    "duration": 12,
    "start_time": "2022-04-26T04:30:04.405Z"
   },
   {
    "duration": 16,
    "start_time": "2022-04-26T04:30:04.419Z"
   },
   {
    "duration": 10,
    "start_time": "2022-04-26T04:30:04.437Z"
   },
   {
    "duration": 4,
    "start_time": "2022-04-26T04:30:04.449Z"
   },
   {
    "duration": 12,
    "start_time": "2022-04-26T04:30:04.454Z"
   },
   {
    "duration": 9,
    "start_time": "2022-04-26T04:30:04.468Z"
   },
   {
    "duration": 11,
    "start_time": "2022-04-26T04:30:04.479Z"
   },
   {
    "duration": 13,
    "start_time": "2022-04-26T04:30:04.492Z"
   },
   {
    "duration": 6,
    "start_time": "2022-04-26T04:30:04.507Z"
   },
   {
    "duration": 5,
    "start_time": "2022-04-26T04:30:04.515Z"
   },
   {
    "duration": 201,
    "start_time": "2022-04-26T04:30:04.525Z"
   },
   {
    "duration": 8,
    "start_time": "2022-04-26T04:30:04.733Z"
   },
   {
    "duration": 5,
    "start_time": "2022-04-26T04:30:04.743Z"
   },
   {
    "duration": 9,
    "start_time": "2022-04-26T04:30:04.750Z"
   },
   {
    "duration": 5,
    "start_time": "2022-04-26T04:30:04.761Z"
   },
   {
    "duration": 11,
    "start_time": "2022-04-26T04:30:04.768Z"
   },
   {
    "duration": 441,
    "start_time": "2022-04-26T18:22:50.486Z"
   },
   {
    "duration": 150,
    "start_time": "2022-04-26T18:22:50.929Z"
   },
   {
    "duration": 15,
    "start_time": "2022-04-26T18:22:51.081Z"
   },
   {
    "duration": 25,
    "start_time": "2022-04-26T18:22:51.098Z"
   },
   {
    "duration": 11,
    "start_time": "2022-04-26T18:22:51.125Z"
   },
   {
    "duration": 12,
    "start_time": "2022-04-26T18:22:51.137Z"
   },
   {
    "duration": 8,
    "start_time": "2022-04-26T18:22:51.150Z"
   },
   {
    "duration": 35,
    "start_time": "2022-04-26T18:22:51.159Z"
   },
   {
    "duration": 18,
    "start_time": "2022-04-26T18:22:51.196Z"
   },
   {
    "duration": 22,
    "start_time": "2022-04-26T18:22:51.217Z"
   },
   {
    "duration": 67,
    "start_time": "2022-04-26T18:22:51.241Z"
   },
   {
    "duration": 67,
    "start_time": "2022-04-26T18:22:51.310Z"
   },
   {
    "duration": 63,
    "start_time": "2022-04-26T18:22:51.379Z"
   },
   {
    "duration": 3,
    "start_time": "2022-04-26T18:22:51.443Z"
   },
   {
    "duration": 72,
    "start_time": "2022-04-26T18:22:51.448Z"
   },
   {
    "duration": 3,
    "start_time": "2022-04-26T18:22:51.522Z"
   },
   {
    "duration": 12,
    "start_time": "2022-04-26T18:22:51.527Z"
   },
   {
    "duration": 80,
    "start_time": "2022-04-26T18:22:51.540Z"
   },
   {
    "duration": 32,
    "start_time": "2022-04-26T18:22:51.621Z"
   },
   {
    "duration": 11,
    "start_time": "2022-04-26T18:22:51.654Z"
   },
   {
    "duration": 61,
    "start_time": "2022-04-26T18:22:51.666Z"
   },
   {
    "duration": 10,
    "start_time": "2022-04-26T18:22:51.728Z"
   },
   {
    "duration": 3,
    "start_time": "2022-04-26T18:22:51.740Z"
   },
   {
    "duration": 131,
    "start_time": "2022-04-26T18:22:51.744Z"
   },
   {
    "duration": 2,
    "start_time": "2022-04-26T18:22:51.876Z"
   },
   {
    "duration": 7,
    "start_time": "2022-04-26T18:22:51.879Z"
   },
   {
    "duration": 2,
    "start_time": "2022-04-26T18:22:51.900Z"
   },
   {
    "duration": 3,
    "start_time": "2022-04-26T18:22:51.905Z"
   },
   {
    "duration": 7,
    "start_time": "2022-04-26T18:22:51.909Z"
   },
   {
    "duration": 6,
    "start_time": "2022-04-26T18:22:51.918Z"
   },
   {
    "duration": 15,
    "start_time": "2022-04-26T18:22:51.925Z"
   },
   {
    "duration": 13,
    "start_time": "2022-04-26T18:22:51.941Z"
   },
   {
    "duration": 7,
    "start_time": "2022-04-26T18:22:51.956Z"
   },
   {
    "duration": 3,
    "start_time": "2022-04-26T18:22:51.965Z"
   },
   {
    "duration": 6,
    "start_time": "2022-04-26T18:22:51.970Z"
   },
   {
    "duration": 4,
    "start_time": "2022-04-26T18:25:33.519Z"
   },
   {
    "duration": 2,
    "start_time": "2022-04-26T18:25:38.502Z"
   },
   {
    "duration": 2,
    "start_time": "2022-04-26T18:25:41.208Z"
   },
   {
    "duration": 2,
    "start_time": "2022-04-26T18:25:41.429Z"
   },
   {
    "duration": 2,
    "start_time": "2022-04-26T18:25:41.941Z"
   },
   {
    "duration": 7096,
    "start_time": "2022-04-26T18:25:55.974Z"
   },
   {
    "duration": 197,
    "start_time": "2022-04-26T18:31:11.395Z"
   },
   {
    "duration": 4,
    "start_time": "2022-04-26T18:35:35.947Z"
   },
   {
    "duration": 2,
    "start_time": "2022-04-26T18:35:41.108Z"
   },
   {
    "duration": 2,
    "start_time": "2022-04-26T18:35:41.355Z"
   },
   {
    "duration": 2,
    "start_time": "2022-04-26T18:35:41.593Z"
   },
   {
    "duration": 2,
    "start_time": "2022-04-26T18:35:41.889Z"
   },
   {
    "duration": 42,
    "start_time": "2022-04-26T18:35:42.942Z"
   },
   {
    "duration": 2,
    "start_time": "2022-04-26T18:55:59.700Z"
   },
   {
    "duration": 3,
    "start_time": "2022-04-26T18:55:59.893Z"
   },
   {
    "duration": 2,
    "start_time": "2022-04-26T18:56:00.094Z"
   },
   {
    "duration": 2,
    "start_time": "2022-04-26T18:56:00.320Z"
   },
   {
    "duration": 44,
    "start_time": "2022-04-26T18:56:00.542Z"
   },
   {
    "duration": 15,
    "start_time": "2022-04-26T18:56:37.287Z"
   },
   {
    "duration": 11,
    "start_time": "2022-04-26T18:56:46.495Z"
   },
   {
    "duration": 2,
    "start_time": "2022-04-26T18:56:54.447Z"
   },
   {
    "duration": 15,
    "start_time": "2022-04-26T18:56:57.576Z"
   },
   {
    "duration": 12,
    "start_time": "2022-04-26T18:57:09.741Z"
   },
   {
    "duration": 59,
    "start_time": "2022-04-26T19:01:07.029Z"
   },
   {
    "duration": 2,
    "start_time": "2022-04-26T19:01:21.631Z"
   },
   {
    "duration": 136,
    "start_time": "2022-04-26T19:01:21.636Z"
   },
   {
    "duration": 10,
    "start_time": "2022-04-26T19:01:21.774Z"
   },
   {
    "duration": 41,
    "start_time": "2022-04-26T19:01:21.785Z"
   },
   {
    "duration": 4,
    "start_time": "2022-04-26T19:01:21.828Z"
   },
   {
    "duration": 9,
    "start_time": "2022-04-26T19:01:21.834Z"
   },
   {
    "duration": 4,
    "start_time": "2022-04-26T19:01:21.845Z"
   },
   {
    "duration": 49,
    "start_time": "2022-04-26T19:01:21.851Z"
   },
   {
    "duration": 16,
    "start_time": "2022-04-26T19:01:21.902Z"
   },
   {
    "duration": 26,
    "start_time": "2022-04-26T19:01:21.920Z"
   },
   {
    "duration": 68,
    "start_time": "2022-04-26T19:01:21.948Z"
   },
   {
    "duration": 64,
    "start_time": "2022-04-26T19:01:22.017Z"
   },
   {
    "duration": 61,
    "start_time": "2022-04-26T19:01:22.083Z"
   },
   {
    "duration": 3,
    "start_time": "2022-04-26T19:01:22.145Z"
   },
   {
    "duration": 70,
    "start_time": "2022-04-26T19:01:22.150Z"
   },
   {
    "duration": 2,
    "start_time": "2022-04-26T19:01:22.222Z"
   },
   {
    "duration": 15,
    "start_time": "2022-04-26T19:01:22.226Z"
   },
   {
    "duration": 64,
    "start_time": "2022-04-26T19:01:22.243Z"
   },
   {
    "duration": 31,
    "start_time": "2022-04-26T19:01:22.315Z"
   },
   {
    "duration": 11,
    "start_time": "2022-04-26T19:01:22.348Z"
   },
   {
    "duration": 61,
    "start_time": "2022-04-26T19:01:22.360Z"
   },
   {
    "duration": 11,
    "start_time": "2022-04-26T19:01:22.422Z"
   },
   {
    "duration": 3,
    "start_time": "2022-04-26T19:01:22.435Z"
   },
   {
    "duration": 137,
    "start_time": "2022-04-26T19:01:22.439Z"
   },
   {
    "duration": 2,
    "start_time": "2022-04-26T19:01:22.578Z"
   },
   {
    "duration": 5,
    "start_time": "2022-04-26T19:01:22.581Z"
   },
   {
    "duration": 2,
    "start_time": "2022-04-26T19:01:22.600Z"
   },
   {
    "duration": 5,
    "start_time": "2022-04-26T19:01:22.604Z"
   },
   {
    "duration": 4,
    "start_time": "2022-04-26T19:01:22.611Z"
   },
   {
    "duration": 5,
    "start_time": "2022-04-26T19:01:22.617Z"
   },
   {
    "duration": 9,
    "start_time": "2022-04-26T19:01:22.623Z"
   },
   {
    "duration": 16,
    "start_time": "2022-04-26T19:01:22.634Z"
   },
   {
    "duration": 9,
    "start_time": "2022-04-26T19:01:22.651Z"
   },
   {
    "duration": 5,
    "start_time": "2022-04-26T19:01:22.661Z"
   },
   {
    "duration": 9,
    "start_time": "2022-04-26T19:01:22.668Z"
   },
   {
    "duration": 24,
    "start_time": "2022-04-26T19:01:22.678Z"
   },
   {
    "duration": 20,
    "start_time": "2022-04-26T19:01:22.703Z"
   },
   {
    "duration": 10,
    "start_time": "2022-04-26T19:01:22.725Z"
   },
   {
    "duration": 14,
    "start_time": "2022-04-26T19:01:22.737Z"
   },
   {
    "duration": 9,
    "start_time": "2022-04-26T19:01:22.753Z"
   },
   {
    "duration": 62,
    "start_time": "2022-04-26T19:01:22.764Z"
   },
   {
    "duration": 7,
    "start_time": "2022-04-26T19:01:22.828Z"
   },
   {
    "duration": 9,
    "start_time": "2022-04-26T19:01:22.837Z"
   },
   {
    "duration": 8,
    "start_time": "2022-04-26T19:01:22.847Z"
   },
   {
    "duration": 5,
    "start_time": "2022-04-26T19:01:26.097Z"
   },
   {
    "duration": 5,
    "start_time": "2022-04-26T19:01:58.265Z"
   },
   {
    "duration": 8,
    "start_time": "2022-04-26T19:02:08.153Z"
   },
   {
    "duration": 42,
    "start_time": "2022-04-26T19:03:56.524Z"
   },
   {
    "duration": 3,
    "start_time": "2022-04-26T19:04:07.211Z"
   },
   {
    "duration": 2,
    "start_time": "2022-04-26T19:04:15.926Z"
   },
   {
    "duration": 2,
    "start_time": "2022-04-26T19:04:18.667Z"
   },
   {
    "duration": 2,
    "start_time": "2022-04-26T19:04:21.837Z"
   },
   {
    "duration": 46,
    "start_time": "2022-04-26T19:07:42.894Z"
   },
   {
    "duration": 47,
    "start_time": "2022-04-26T19:09:25.057Z"
   },
   {
    "duration": 51,
    "start_time": "2022-04-26T19:09:42.542Z"
   },
   {
    "duration": 59,
    "start_time": "2022-04-26T19:10:01.554Z"
   },
   {
    "duration": 45,
    "start_time": "2022-04-26T19:10:30.744Z"
   },
   {
    "duration": 5,
    "start_time": "2022-04-26T19:12:09.839Z"
   },
   {
    "duration": 6,
    "start_time": "2022-04-26T19:12:19.937Z"
   },
   {
    "duration": 246,
    "start_time": "2022-04-26T19:18:41.987Z"
   },
   {
    "duration": 45,
    "start_time": "2022-04-26T19:20:00.859Z"
   },
   {
    "duration": 490,
    "start_time": "2022-04-27T01:45:33.047Z"
   },
   {
    "duration": 147,
    "start_time": "2022-04-27T01:45:33.539Z"
   },
   {
    "duration": 16,
    "start_time": "2022-04-27T01:45:33.688Z"
   },
   {
    "duration": 29,
    "start_time": "2022-04-27T01:45:33.706Z"
   },
   {
    "duration": 21,
    "start_time": "2022-04-27T01:45:33.737Z"
   },
   {
    "duration": 12,
    "start_time": "2022-04-27T01:45:33.759Z"
   },
   {
    "duration": 6,
    "start_time": "2022-04-27T01:45:33.772Z"
   },
   {
    "duration": 28,
    "start_time": "2022-04-27T01:45:33.779Z"
   },
   {
    "duration": 19,
    "start_time": "2022-04-27T01:45:33.809Z"
   },
   {
    "duration": 45,
    "start_time": "2022-04-27T01:45:33.830Z"
   },
   {
    "duration": 62,
    "start_time": "2022-04-27T01:45:33.877Z"
   },
   {
    "duration": 79,
    "start_time": "2022-04-27T01:45:33.955Z"
   },
   {
    "duration": 67,
    "start_time": "2022-04-27T01:45:34.036Z"
   },
   {
    "duration": 3,
    "start_time": "2022-04-27T01:45:34.105Z"
   },
   {
    "duration": 80,
    "start_time": "2022-04-27T01:45:34.110Z"
   },
   {
    "duration": 4,
    "start_time": "2022-04-27T01:45:34.191Z"
   },
   {
    "duration": 19,
    "start_time": "2022-04-27T01:45:34.196Z"
   },
   {
    "duration": 82,
    "start_time": "2022-04-27T01:45:34.216Z"
   },
   {
    "duration": 32,
    "start_time": "2022-04-27T01:45:34.300Z"
   },
   {
    "duration": 11,
    "start_time": "2022-04-27T01:45:34.354Z"
   },
   {
    "duration": 32,
    "start_time": "2022-04-27T01:45:34.367Z"
   },
   {
    "duration": 11,
    "start_time": "2022-04-27T01:45:34.401Z"
   },
   {
    "duration": 4,
    "start_time": "2022-04-27T01:45:34.413Z"
   },
   {
    "duration": 153,
    "start_time": "2022-04-27T01:45:34.419Z"
   },
   {
    "duration": 2,
    "start_time": "2022-04-27T01:45:34.574Z"
   },
   {
    "duration": 6,
    "start_time": "2022-04-27T01:45:34.578Z"
   },
   {
    "duration": 6,
    "start_time": "2022-04-27T01:45:34.586Z"
   },
   {
    "duration": 3,
    "start_time": "2022-04-27T01:45:34.595Z"
   },
   {
    "duration": 6,
    "start_time": "2022-04-27T01:45:34.599Z"
   },
   {
    "duration": 7,
    "start_time": "2022-04-27T01:45:34.606Z"
   },
   {
    "duration": 10,
    "start_time": "2022-04-27T01:45:34.614Z"
   },
   {
    "duration": 29,
    "start_time": "2022-04-27T01:45:34.626Z"
   },
   {
    "duration": 11,
    "start_time": "2022-04-27T01:45:34.657Z"
   },
   {
    "duration": 4,
    "start_time": "2022-04-27T01:45:34.669Z"
   },
   {
    "duration": 8,
    "start_time": "2022-04-27T01:45:34.675Z"
   },
   {
    "duration": 6,
    "start_time": "2022-04-27T01:45:34.684Z"
   },
   {
    "duration": 16,
    "start_time": "2022-04-27T01:45:34.691Z"
   },
   {
    "duration": 7,
    "start_time": "2022-04-27T01:45:34.708Z"
   },
   {
    "duration": 5,
    "start_time": "2022-04-27T01:45:34.716Z"
   },
   {
    "duration": 4,
    "start_time": "2022-04-27T01:45:34.723Z"
   },
   {
    "duration": 52,
    "start_time": "2022-04-27T01:45:34.729Z"
   },
   {
    "duration": 44,
    "start_time": "2022-04-27T01:45:34.783Z"
   },
   {
    "duration": 30,
    "start_time": "2022-04-27T01:45:34.828Z"
   },
   {
    "duration": 4,
    "start_time": "2022-04-27T01:45:34.860Z"
   },
   {
    "duration": 13,
    "start_time": "2022-04-27T01:45:34.865Z"
   },
   {
    "duration": 12,
    "start_time": "2022-04-27T01:45:34.880Z"
   },
   {
    "duration": 11,
    "start_time": "2022-04-27T01:45:34.894Z"
   },
   {
    "duration": 11,
    "start_time": "2022-04-27T01:45:34.906Z"
   },
   {
    "duration": 4,
    "start_time": "2022-04-27T01:46:47.253Z"
   },
   {
    "duration": 3,
    "start_time": "2022-04-27T01:47:01.345Z"
   },
   {
    "duration": 4,
    "start_time": "2022-04-27T01:47:13.378Z"
   },
   {
    "duration": 4,
    "start_time": "2022-04-27T01:47:19.784Z"
   },
   {
    "duration": 3,
    "start_time": "2022-04-27T01:47:28.573Z"
   },
   {
    "duration": 58,
    "start_time": "2022-04-27T01:47:56.255Z"
   },
   {
    "duration": 4,
    "start_time": "2022-04-27T01:48:05.979Z"
   },
   {
    "duration": 28,
    "start_time": "2022-04-27T14:37:31.555Z"
   },
   {
    "duration": 384,
    "start_time": "2022-04-27T16:16:50.688Z"
   },
   {
    "duration": 150,
    "start_time": "2022-04-27T16:16:51.075Z"
   },
   {
    "duration": 18,
    "start_time": "2022-04-27T16:16:51.227Z"
   },
   {
    "duration": 36,
    "start_time": "2022-04-27T16:16:51.247Z"
   },
   {
    "duration": 4,
    "start_time": "2022-04-27T16:16:51.285Z"
   },
   {
    "duration": 17,
    "start_time": "2022-04-27T16:16:51.290Z"
   },
   {
    "duration": 14,
    "start_time": "2022-04-27T16:16:51.308Z"
   },
   {
    "duration": 34,
    "start_time": "2022-04-27T16:16:51.324Z"
   },
   {
    "duration": 19,
    "start_time": "2022-04-27T16:16:51.360Z"
   },
   {
    "duration": 25,
    "start_time": "2022-04-27T16:16:51.381Z"
   },
   {
    "duration": 82,
    "start_time": "2022-04-27T16:16:51.408Z"
   },
   {
    "duration": 91,
    "start_time": "2022-04-27T16:16:51.492Z"
   },
   {
    "duration": 60,
    "start_time": "2022-04-27T16:16:51.585Z"
   },
   {
    "duration": 3,
    "start_time": "2022-04-27T16:16:51.657Z"
   },
   {
    "duration": 69,
    "start_time": "2022-04-27T16:16:51.662Z"
   },
   {
    "duration": 24,
    "start_time": "2022-04-27T16:16:51.733Z"
   },
   {
    "duration": 18,
    "start_time": "2022-04-27T16:16:51.759Z"
   },
   {
    "duration": 84,
    "start_time": "2022-04-27T16:16:51.779Z"
   },
   {
    "duration": 33,
    "start_time": "2022-04-27T16:16:51.865Z"
   },
   {
    "duration": 13,
    "start_time": "2022-04-27T16:16:51.899Z"
   },
   {
    "duration": 58,
    "start_time": "2022-04-27T16:16:51.914Z"
   },
   {
    "duration": 12,
    "start_time": "2022-04-27T16:16:51.974Z"
   },
   {
    "duration": 3,
    "start_time": "2022-04-27T16:16:51.987Z"
   },
   {
    "duration": 146,
    "start_time": "2022-04-27T16:16:51.992Z"
   },
   {
    "duration": 15,
    "start_time": "2022-04-27T16:16:52.140Z"
   },
   {
    "duration": 5,
    "start_time": "2022-04-27T16:16:52.157Z"
   },
   {
    "duration": 6,
    "start_time": "2022-04-27T16:16:52.164Z"
   },
   {
    "duration": 9,
    "start_time": "2022-04-27T16:16:52.171Z"
   },
   {
    "duration": 5,
    "start_time": "2022-04-27T16:16:52.182Z"
   },
   {
    "duration": 4,
    "start_time": "2022-04-27T16:16:52.189Z"
   },
   {
    "duration": 10,
    "start_time": "2022-04-27T16:16:52.194Z"
   },
   {
    "duration": 12,
    "start_time": "2022-04-27T16:16:52.206Z"
   },
   {
    "duration": 10,
    "start_time": "2022-04-27T16:16:52.220Z"
   },
   {
    "duration": 24,
    "start_time": "2022-04-27T16:16:52.231Z"
   },
   {
    "duration": 9,
    "start_time": "2022-04-27T16:16:52.256Z"
   },
   {
    "duration": 5,
    "start_time": "2022-04-27T16:16:52.267Z"
   },
   {
    "duration": 7,
    "start_time": "2022-04-27T16:16:52.273Z"
   },
   {
    "duration": 23,
    "start_time": "2022-04-27T16:16:52.281Z"
   },
   {
    "duration": 5,
    "start_time": "2022-04-27T16:16:52.305Z"
   },
   {
    "duration": 7,
    "start_time": "2022-04-27T16:16:52.311Z"
   },
   {
    "duration": 54,
    "start_time": "2022-04-27T16:16:52.321Z"
   },
   {
    "duration": 48,
    "start_time": "2022-04-27T16:16:52.378Z"
   },
   {
    "duration": 8,
    "start_time": "2022-04-27T16:16:52.428Z"
   },
   {
    "duration": 18,
    "start_time": "2022-04-27T16:16:52.438Z"
   },
   {
    "duration": 9,
    "start_time": "2022-04-27T16:16:52.457Z"
   },
   {
    "duration": 6,
    "start_time": "2022-04-27T16:16:52.467Z"
   },
   {
    "duration": 9,
    "start_time": "2022-04-27T16:16:52.475Z"
   },
   {
    "duration": 9,
    "start_time": "2022-04-27T16:16:52.486Z"
   }
  ],
  "celltoolbar": "Необработанный формат ячейки",
  "colab": {
   "collapsed_sections": [
    "E0vqbgi9ay0H",
    "VUC88oWjTJw2"
   ],
   "name": "yandex_music_project.ipynb",
   "provenance": []
  },
  "kernelspec": {
   "display_name": "Python 3 (ipykernel)",
   "language": "python",
   "name": "python3"
  },
  "language_info": {
   "codemirror_mode": {
    "name": "ipython",
    "version": 3
   },
   "file_extension": ".py",
   "mimetype": "text/x-python",
   "name": "python",
   "nbconvert_exporter": "python",
   "pygments_lexer": "ipython3",
   "version": "3.9.7"
  },
  "toc": {
   "base_numbering": 1,
   "nav_menu": {},
   "number_sections": true,
   "sideBar": true,
   "skip_h1_title": true,
   "title_cell": "Table of Contents",
   "title_sidebar": "Contents",
   "toc_cell": false,
   "toc_position": {},
   "toc_section_display": true,
   "toc_window_display": true
  }
 },
 "nbformat": 4,
 "nbformat_minor": 1
}
