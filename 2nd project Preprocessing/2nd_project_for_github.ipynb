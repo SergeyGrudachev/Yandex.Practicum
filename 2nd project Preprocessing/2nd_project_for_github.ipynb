{
 "cells": [
  {
   "cell_type": "markdown",
   "id": "8935502b",
   "metadata": {},
   "source": [
    "## Обзор данных"
   ]
  },
  {
   "cell_type": "code",
   "execution_count": 1,
   "id": "451f7009",
   "metadata": {},
   "outputs": [],
   "source": [
    "import pandas as pd\n",
    "import numpy as np\n",
    "import seaborn as sns\n",
    "import matplotlib.pyplot as plt\n",
    "plt.rcParams['figure.figsize']=(9, 9)\n",
    "\n",
    "from sklearn.impute import KNNImputer"
   ]
  },
  {
   "cell_type": "code",
   "execution_count": 2,
   "id": "67336096",
   "metadata": {},
   "outputs": [
    {
     "name": "stdout",
     "output_type": "stream",
     "text": [
      "<class 'pandas.core.frame.DataFrame'>\n",
      "RangeIndex: 21525 entries, 0 to 21524\n",
      "Data columns (total 12 columns):\n",
      " #   Column            Non-Null Count  Dtype  \n",
      "---  ------            --------------  -----  \n",
      " 0   children          21525 non-null  int64  \n",
      " 1   days_employed     19351 non-null  float64\n",
      " 2   dob_years         21525 non-null  int64  \n",
      " 3   education         21525 non-null  object \n",
      " 4   education_id      21525 non-null  int64  \n",
      " 5   family_status     21525 non-null  object \n",
      " 6   family_status_id  21525 non-null  int64  \n",
      " 7   gender            21525 non-null  object \n",
      " 8   income_type       21525 non-null  object \n",
      " 9   debt              21525 non-null  int64  \n",
      " 10  total_income      19351 non-null  float64\n",
      " 11  purpose           21525 non-null  object \n",
      "dtypes: float64(2), int64(5), object(5)\n",
      "memory usage: 2.0+ MB\n"
     ]
    }
   ],
   "source": [
    "try:\n",
    "    data = pd.read_csv('data.csv')\n",
    "except:\n",
    "    data = pd.read_csv('/datasets/data.csv')\n",
    "data.info()"
   ]
  },
  {
   "cell_type": "markdown",
   "id": "d980d424",
   "metadata": {},
   "source": [
    "**ВЫВОД:**  \n",
    "Признаки с пропусками:\n",
    "`days_employed`, `total_income`. Оба количественные.\n"
   ]
  },
  {
   "cell_type": "markdown",
   "id": "eb8da8fb",
   "metadata": {},
   "source": [
    "Познакомимся с датасетом, посмотрим его первые десять строк."
   ]
  },
  {
   "cell_type": "code",
   "execution_count": 3,
   "id": "53603ea3",
   "metadata": {},
   "outputs": [
    {
     "data": {
      "text/html": [
       "<div>\n",
       "<style scoped>\n",
       "    .dataframe tbody tr th:only-of-type {\n",
       "        vertical-align: middle;\n",
       "    }\n",
       "\n",
       "    .dataframe tbody tr th {\n",
       "        vertical-align: top;\n",
       "    }\n",
       "\n",
       "    .dataframe thead th {\n",
       "        text-align: right;\n",
       "    }\n",
       "</style>\n",
       "<table border=\"1\" class=\"dataframe\">\n",
       "  <thead>\n",
       "    <tr style=\"text-align: right;\">\n",
       "      <th></th>\n",
       "      <th>children</th>\n",
       "      <th>days_employed</th>\n",
       "      <th>dob_years</th>\n",
       "      <th>education</th>\n",
       "      <th>education_id</th>\n",
       "      <th>family_status</th>\n",
       "      <th>family_status_id</th>\n",
       "      <th>gender</th>\n",
       "      <th>income_type</th>\n",
       "      <th>debt</th>\n",
       "      <th>total_income</th>\n",
       "      <th>purpose</th>\n",
       "    </tr>\n",
       "  </thead>\n",
       "  <tbody>\n",
       "    <tr>\n",
       "      <th>0</th>\n",
       "      <td>1</td>\n",
       "      <td>-8437.673028</td>\n",
       "      <td>42</td>\n",
       "      <td>высшее</td>\n",
       "      <td>0</td>\n",
       "      <td>женат / замужем</td>\n",
       "      <td>0</td>\n",
       "      <td>F</td>\n",
       "      <td>сотрудник</td>\n",
       "      <td>0</td>\n",
       "      <td>253875.639453</td>\n",
       "      <td>покупка жилья</td>\n",
       "    </tr>\n",
       "    <tr>\n",
       "      <th>1</th>\n",
       "      <td>1</td>\n",
       "      <td>-4024.803754</td>\n",
       "      <td>36</td>\n",
       "      <td>среднее</td>\n",
       "      <td>1</td>\n",
       "      <td>женат / замужем</td>\n",
       "      <td>0</td>\n",
       "      <td>F</td>\n",
       "      <td>сотрудник</td>\n",
       "      <td>0</td>\n",
       "      <td>112080.014102</td>\n",
       "      <td>приобретение автомобиля</td>\n",
       "    </tr>\n",
       "    <tr>\n",
       "      <th>2</th>\n",
       "      <td>0</td>\n",
       "      <td>-5623.422610</td>\n",
       "      <td>33</td>\n",
       "      <td>Среднее</td>\n",
       "      <td>1</td>\n",
       "      <td>женат / замужем</td>\n",
       "      <td>0</td>\n",
       "      <td>M</td>\n",
       "      <td>сотрудник</td>\n",
       "      <td>0</td>\n",
       "      <td>145885.952297</td>\n",
       "      <td>покупка жилья</td>\n",
       "    </tr>\n",
       "    <tr>\n",
       "      <th>3</th>\n",
       "      <td>3</td>\n",
       "      <td>-4124.747207</td>\n",
       "      <td>32</td>\n",
       "      <td>среднее</td>\n",
       "      <td>1</td>\n",
       "      <td>женат / замужем</td>\n",
       "      <td>0</td>\n",
       "      <td>M</td>\n",
       "      <td>сотрудник</td>\n",
       "      <td>0</td>\n",
       "      <td>267628.550329</td>\n",
       "      <td>дополнительное образование</td>\n",
       "    </tr>\n",
       "    <tr>\n",
       "      <th>4</th>\n",
       "      <td>0</td>\n",
       "      <td>340266.072047</td>\n",
       "      <td>53</td>\n",
       "      <td>среднее</td>\n",
       "      <td>1</td>\n",
       "      <td>гражданский брак</td>\n",
       "      <td>1</td>\n",
       "      <td>F</td>\n",
       "      <td>пенсионер</td>\n",
       "      <td>0</td>\n",
       "      <td>158616.077870</td>\n",
       "      <td>сыграть свадьбу</td>\n",
       "    </tr>\n",
       "    <tr>\n",
       "      <th>5</th>\n",
       "      <td>0</td>\n",
       "      <td>-926.185831</td>\n",
       "      <td>27</td>\n",
       "      <td>высшее</td>\n",
       "      <td>0</td>\n",
       "      <td>гражданский брак</td>\n",
       "      <td>1</td>\n",
       "      <td>M</td>\n",
       "      <td>компаньон</td>\n",
       "      <td>0</td>\n",
       "      <td>255763.565419</td>\n",
       "      <td>покупка жилья</td>\n",
       "    </tr>\n",
       "    <tr>\n",
       "      <th>6</th>\n",
       "      <td>0</td>\n",
       "      <td>-2879.202052</td>\n",
       "      <td>43</td>\n",
       "      <td>высшее</td>\n",
       "      <td>0</td>\n",
       "      <td>женат / замужем</td>\n",
       "      <td>0</td>\n",
       "      <td>F</td>\n",
       "      <td>компаньон</td>\n",
       "      <td>0</td>\n",
       "      <td>240525.971920</td>\n",
       "      <td>операции с жильем</td>\n",
       "    </tr>\n",
       "    <tr>\n",
       "      <th>7</th>\n",
       "      <td>0</td>\n",
       "      <td>-152.779569</td>\n",
       "      <td>50</td>\n",
       "      <td>СРЕДНЕЕ</td>\n",
       "      <td>1</td>\n",
       "      <td>женат / замужем</td>\n",
       "      <td>0</td>\n",
       "      <td>M</td>\n",
       "      <td>сотрудник</td>\n",
       "      <td>0</td>\n",
       "      <td>135823.934197</td>\n",
       "      <td>образование</td>\n",
       "    </tr>\n",
       "    <tr>\n",
       "      <th>8</th>\n",
       "      <td>2</td>\n",
       "      <td>-6929.865299</td>\n",
       "      <td>35</td>\n",
       "      <td>ВЫСШЕЕ</td>\n",
       "      <td>0</td>\n",
       "      <td>гражданский брак</td>\n",
       "      <td>1</td>\n",
       "      <td>F</td>\n",
       "      <td>сотрудник</td>\n",
       "      <td>0</td>\n",
       "      <td>95856.832424</td>\n",
       "      <td>на проведение свадьбы</td>\n",
       "    </tr>\n",
       "    <tr>\n",
       "      <th>9</th>\n",
       "      <td>0</td>\n",
       "      <td>-2188.756445</td>\n",
       "      <td>41</td>\n",
       "      <td>среднее</td>\n",
       "      <td>1</td>\n",
       "      <td>женат / замужем</td>\n",
       "      <td>0</td>\n",
       "      <td>M</td>\n",
       "      <td>сотрудник</td>\n",
       "      <td>0</td>\n",
       "      <td>144425.938277</td>\n",
       "      <td>покупка жилья для семьи</td>\n",
       "    </tr>\n",
       "  </tbody>\n",
       "</table>\n",
       "</div>"
      ],
      "text/plain": [
       "   children  days_employed  dob_years education  education_id  \\\n",
       "0         1   -8437.673028         42    высшее             0   \n",
       "1         1   -4024.803754         36   среднее             1   \n",
       "2         0   -5623.422610         33   Среднее             1   \n",
       "3         3   -4124.747207         32   среднее             1   \n",
       "4         0  340266.072047         53   среднее             1   \n",
       "5         0    -926.185831         27    высшее             0   \n",
       "6         0   -2879.202052         43    высшее             0   \n",
       "7         0    -152.779569         50   СРЕДНЕЕ             1   \n",
       "8         2   -6929.865299         35    ВЫСШЕЕ             0   \n",
       "9         0   -2188.756445         41   среднее             1   \n",
       "\n",
       "      family_status  family_status_id gender income_type  debt   total_income  \\\n",
       "0   женат / замужем                 0      F   сотрудник     0  253875.639453   \n",
       "1   женат / замужем                 0      F   сотрудник     0  112080.014102   \n",
       "2   женат / замужем                 0      M   сотрудник     0  145885.952297   \n",
       "3   женат / замужем                 0      M   сотрудник     0  267628.550329   \n",
       "4  гражданский брак                 1      F   пенсионер     0  158616.077870   \n",
       "5  гражданский брак                 1      M   компаньон     0  255763.565419   \n",
       "6   женат / замужем                 0      F   компаньон     0  240525.971920   \n",
       "7   женат / замужем                 0      M   сотрудник     0  135823.934197   \n",
       "8  гражданский брак                 1      F   сотрудник     0   95856.832424   \n",
       "9   женат / замужем                 0      M   сотрудник     0  144425.938277   \n",
       "\n",
       "                      purpose  \n",
       "0               покупка жилья  \n",
       "1     приобретение автомобиля  \n",
       "2               покупка жилья  \n",
       "3  дополнительное образование  \n",
       "4             сыграть свадьбу  \n",
       "5               покупка жилья  \n",
       "6           операции с жильем  \n",
       "7                 образование  \n",
       "8       на проведение свадьбы  \n",
       "9     покупка жилья для семьи  "
      ]
     },
     "execution_count": 3,
     "metadata": {},
     "output_type": "execute_result"
    }
   ],
   "source": [
    "data.head(10)"
   ]
  },
  {
   "cell_type": "markdown",
   "id": "c428b485",
   "metadata": {},
   "source": [
    "Посмотрим на уникальные значения категориальных признаков"
   ]
  },
  {
   "cell_type": "code",
   "execution_count": 4,
   "id": "9758e379",
   "metadata": {},
   "outputs": [
    {
     "name": "stdout",
     "output_type": "stream",
     "text": [
      "Значения в столбце education: ['высшее' 'среднее' 'Среднее' 'СРЕДНЕЕ' 'ВЫСШЕЕ' 'неоконченное высшее'\n",
      " 'начальное' 'Высшее' 'НЕОКОНЧЕННОЕ ВЫСШЕЕ' 'Неоконченное высшее'\n",
      " 'НАЧАЛЬНОЕ' 'Начальное' 'Ученая степень' 'УЧЕНАЯ СТЕПЕНЬ'\n",
      " 'ученая степень']\n",
      "\n",
      "Значения в столбце family_status: ['женат / замужем' 'гражданский брак' 'вдовец / вдова' 'в разводе'\n",
      " 'Не женат / не замужем']\n",
      "\n",
      "Значения в столбце gender: ['F' 'M' 'XNA']\n",
      "\n",
      "Значения в столбце income_type: ['сотрудник' 'пенсионер' 'компаньон' 'госслужащий' 'безработный'\n",
      " 'предприниматель' 'студент' 'в декрете']\n",
      "\n",
      "Значения в столбце purpose: ['покупка жилья' 'приобретение автомобиля' 'дополнительное образование'\n",
      " 'сыграть свадьбу' 'операции с жильем' 'образование'\n",
      " 'на проведение свадьбы' 'покупка жилья для семьи' 'покупка недвижимости'\n",
      " 'покупка коммерческой недвижимости' 'покупка жилой недвижимости'\n",
      " 'строительство собственной недвижимости' 'недвижимость'\n",
      " 'строительство недвижимости' 'на покупку подержанного автомобиля'\n",
      " 'на покупку своего автомобиля' 'операции с коммерческой недвижимостью'\n",
      " 'строительство жилой недвижимости' 'жилье'\n",
      " 'операции со своей недвижимостью' 'автомобили' 'заняться образованием'\n",
      " 'сделка с подержанным автомобилем' 'получение образования' 'автомобиль'\n",
      " 'свадьба' 'получение дополнительного образования' 'покупка своего жилья'\n",
      " 'операции с недвижимостью' 'получение высшего образования'\n",
      " 'свой автомобиль' 'сделка с автомобилем' 'профильное образование'\n",
      " 'высшее образование' 'покупка жилья для сдачи' 'на покупку автомобиля'\n",
      " 'ремонт жилью' 'заняться высшим образованием']\n",
      "\n"
     ]
    }
   ],
   "source": [
    "for feat in data.select_dtypes(include='object').columns:\n",
    "    print(f\"Значения в столбце {feat}: {data[feat].unique()}\\n\")"
   ]
  },
  {
   "cell_type": "markdown",
   "id": "b853b47d",
   "metadata": {},
   "source": [
    "**ВЫВОДЫ:**  \n",
    "1) В столбце education есть неявные дубликаты. Необходимо привести все значения к нижнему регистру.  \n",
    "2) В столбце gender есть артефакт - XNA. Возможно, так кодируются пропуски в этом признаке.  "
   ]
  },
  {
   "cell_type": "markdown",
   "id": "657f2d33",
   "metadata": {},
   "source": [
    "Проверим, какую долю составляют пропущенные значения в каждом из столбцов с пропусками"
   ]
  },
  {
   "cell_type": "code",
   "execution_count": 5,
   "id": "af752d6b",
   "metadata": {},
   "outputs": [
    {
     "name": "stdout",
     "output_type": "stream",
     "text": [
      "Доля пропусков в столбце days_employed: 0.10099883855981417\n",
      "Доля пропусков в столбце total_income:  0.10099883855981417\n"
     ]
    }
   ],
   "source": [
    "print(f\"Доля пропусков в столбце days_employed: {data[data['days_employed'].isna()].shape[0] / data.shape[0]}\")\n",
    "print(f\"Доля пропусков в столбце total_income:  {data[data['total_income'].isna()].shape[0] / data.shape[0]}\")"
   ]
  },
  {
   "cell_type": "markdown",
   "id": "6df92bd4",
   "metadata": {},
   "source": [
    "Одинаковое значение.  \n",
    "Проверим есть ли взаимосвязь между пропусками в этих столбцах."
   ]
  },
  {
   "cell_type": "code",
   "execution_count": 6,
   "id": "98062dee",
   "metadata": {},
   "outputs": [
    {
     "data": {
      "text/html": [
       "<div>\n",
       "<style scoped>\n",
       "    .dataframe tbody tr th:only-of-type {\n",
       "        vertical-align: middle;\n",
       "    }\n",
       "\n",
       "    .dataframe tbody tr th {\n",
       "        vertical-align: top;\n",
       "    }\n",
       "\n",
       "    .dataframe thead th {\n",
       "        text-align: right;\n",
       "    }\n",
       "</style>\n",
       "<table border=\"1\" class=\"dataframe\">\n",
       "  <thead>\n",
       "    <tr style=\"text-align: right;\">\n",
       "      <th></th>\n",
       "      <th>children</th>\n",
       "      <th>days_employed</th>\n",
       "      <th>dob_years</th>\n",
       "      <th>education</th>\n",
       "      <th>education_id</th>\n",
       "      <th>family_status</th>\n",
       "      <th>family_status_id</th>\n",
       "      <th>gender</th>\n",
       "      <th>income_type</th>\n",
       "      <th>debt</th>\n",
       "      <th>total_income</th>\n",
       "      <th>purpose</th>\n",
       "    </tr>\n",
       "  </thead>\n",
       "  <tbody>\n",
       "  </tbody>\n",
       "</table>\n",
       "</div>"
      ],
      "text/plain": [
       "Empty DataFrame\n",
       "Columns: [children, days_employed, dob_years, education, education_id, family_status, family_status_id, gender, income_type, debt, total_income, purpose]\n",
       "Index: []"
      ]
     },
     "execution_count": 6,
     "metadata": {},
     "output_type": "execute_result"
    }
   ],
   "source": [
    "data[(data['total_income'].isna()) ^ (data['days_employed'].isna())]"
   ]
  },
  {
   "cell_type": "markdown",
   "id": "591d39be",
   "metadata": {},
   "source": [
    "Пустой датафрейм означает, что не существует объектов, для которых был бы пропущен только один признак, но не оба сразу. Таким образом, для всех клиентов, о которых мы не знаем стаж, мы не знаем и ежемесячный доход. И наоборот.  \n",
    "  \n",
    "Убедимся на 10 случайных примерах"
   ]
  },
  {
   "cell_type": "code",
   "execution_count": 7,
   "id": "db539974",
   "metadata": {},
   "outputs": [
    {
     "data": {
      "text/html": [
       "<div>\n",
       "<style scoped>\n",
       "    .dataframe tbody tr th:only-of-type {\n",
       "        vertical-align: middle;\n",
       "    }\n",
       "\n",
       "    .dataframe tbody tr th {\n",
       "        vertical-align: top;\n",
       "    }\n",
       "\n",
       "    .dataframe thead th {\n",
       "        text-align: right;\n",
       "    }\n",
       "</style>\n",
       "<table border=\"1\" class=\"dataframe\">\n",
       "  <thead>\n",
       "    <tr style=\"text-align: right;\">\n",
       "      <th></th>\n",
       "      <th>days_employed</th>\n",
       "      <th>total_income</th>\n",
       "    </tr>\n",
       "  </thead>\n",
       "  <tbody>\n",
       "    <tr>\n",
       "      <th>16779</th>\n",
       "      <td>NaN</td>\n",
       "      <td>NaN</td>\n",
       "    </tr>\n",
       "    <tr>\n",
       "      <th>6697</th>\n",
       "      <td>NaN</td>\n",
       "      <td>NaN</td>\n",
       "    </tr>\n",
       "    <tr>\n",
       "      <th>18670</th>\n",
       "      <td>NaN</td>\n",
       "      <td>NaN</td>\n",
       "    </tr>\n",
       "    <tr>\n",
       "      <th>11375</th>\n",
       "      <td>NaN</td>\n",
       "      <td>NaN</td>\n",
       "    </tr>\n",
       "    <tr>\n",
       "      <th>9080</th>\n",
       "      <td>NaN</td>\n",
       "      <td>NaN</td>\n",
       "    </tr>\n",
       "    <tr>\n",
       "      <th>7025</th>\n",
       "      <td>NaN</td>\n",
       "      <td>NaN</td>\n",
       "    </tr>\n",
       "    <tr>\n",
       "      <th>16602</th>\n",
       "      <td>NaN</td>\n",
       "      <td>NaN</td>\n",
       "    </tr>\n",
       "    <tr>\n",
       "      <th>14800</th>\n",
       "      <td>NaN</td>\n",
       "      <td>NaN</td>\n",
       "    </tr>\n",
       "    <tr>\n",
       "      <th>18140</th>\n",
       "      <td>NaN</td>\n",
       "      <td>NaN</td>\n",
       "    </tr>\n",
       "    <tr>\n",
       "      <th>19382</th>\n",
       "      <td>NaN</td>\n",
       "      <td>NaN</td>\n",
       "    </tr>\n",
       "  </tbody>\n",
       "</table>\n",
       "</div>"
      ],
      "text/plain": [
       "       days_employed  total_income\n",
       "16779            NaN           NaN\n",
       "6697             NaN           NaN\n",
       "18670            NaN           NaN\n",
       "11375            NaN           NaN\n",
       "9080             NaN           NaN\n",
       "7025             NaN           NaN\n",
       "16602            NaN           NaN\n",
       "14800            NaN           NaN\n",
       "18140            NaN           NaN\n",
       "19382            NaN           NaN"
      ]
     },
     "execution_count": 7,
     "metadata": {},
     "output_type": "execute_result"
    }
   ],
   "source": [
    "data[(data['total_income'].isna())].sample(10).loc[:, ['days_employed', 'total_income']]"
   ]
  },
  {
   "cell_type": "markdown",
   "id": "961a6710",
   "metadata": {},
   "source": [
    "**ВЫВОД:**  \n",
    "Значит отсутствие одного признака является следствием отсутствия другого.  \n",
    "Возможно, в данных учитывается только **официальное** трудоустройство. Тогда люди, которые никогда не работали официально, не имеют ежемесячного дохода."
   ]
  },
  {
   "cell_type": "markdown",
   "id": "59d19c1e",
   "metadata": {},
   "source": [
    "## Заполнение пропусков"
   ]
  },
  {
   "cell_type": "markdown",
   "id": "498caf5e",
   "metadata": {},
   "source": [
    "Рассмотрим распределения значений количественных пизнаков с пропусками"
   ]
  },
  {
   "cell_type": "code",
   "execution_count": 8,
   "id": "ebfbf9b4",
   "metadata": {},
   "outputs": [],
   "source": [
    "# бэкап для проведения экспериментов\n",
    "backup = data.copy()"
   ]
  },
  {
   "cell_type": "markdown",
   "id": "fb793693",
   "metadata": {},
   "source": [
    "### НОЛЬ\n",
    "Для начала заполним пропуски простейшим способом - специальным значением, например, нулем."
   ]
  },
  {
   "cell_type": "code",
   "execution_count": 9,
   "id": "807870a0",
   "metadata": {},
   "outputs": [
    {
     "data": {
      "image/png": "[encoded data removed]",
      "text/plain": [
       "<Figure size 648x648 with 1 Axes>"
      ]
     },
     "metadata": {
      "needs_background": "light"
     },
     "output_type": "display_data"
    }
   ],
   "source": [
    "data = backup.copy()\n",
    "\n",
    "plt.title('Распределение до/после заполнения нулем', pad=25, fontsize=15);\n",
    "sns.kdeplot(data['total_income'], color='red', fill=True);\n",
    "data['total_income'] = data['total_income'].fillna(0)\n",
    "sns.kdeplot(data['total_income'], color='blue', fill=True);"
   ]
  },
  {
   "cell_type": "markdown",
   "id": "b032d110",
   "metadata": {},
   "source": [
    "### СРЕДНЕЕ\n",
    "Попробуем заоплнение средним значением признака."
   ]
  },
  {
   "cell_type": "code",
   "execution_count": 10,
   "id": "4feacefa",
   "metadata": {},
   "outputs": [
    {
     "data": {
      "image/png": "[encoded data removed]",
      "text/plain": [
       "<Figure size 648x648 with 1 Axes>"
      ]
     },
     "metadata": {
      "needs_background": "light"
     },
     "output_type": "display_data"
    }
   ],
   "source": [
    "data = backup.copy()\n",
    "\n",
    "plt.title('Распределение до/после заполнения средним', pad=25, fontsize=15);\n",
    "sns.kdeplot(data['total_income'], color='red', fill=True);\n",
    "data['total_income'] = data['total_income'].fillna(data['total_income'].mean())\n",
    "sns.kdeplot(data['total_income'], color='blue', fill=True);"
   ]
  },
  {
   "cell_type": "markdown",
   "id": "52fcc5ff",
   "metadata": {},
   "source": [
    "### МЕДИАНА\n",
    "Попробуем заполнить медианой."
   ]
  },
  {
   "cell_type": "code",
   "execution_count": 11,
   "id": "28eac78e",
   "metadata": {},
   "outputs": [
    {
     "data": {
      "image/png": "[encoded data removed]",
      "text/plain": [
       "<Figure size 648x648 with 1 Axes>"
      ]
     },
     "metadata": {
      "needs_background": "light"
     },
     "output_type": "display_data"
    }
   ],
   "source": [
    "data = backup.copy()\n",
    "\n",
    "plt.title('Распределение до/после заполнения медианой', pad=25, fontsize=15);\n",
    "sns.kdeplot(data['total_income'], color='red', fill=True);\n",
    "data['total_income'] = data['total_income'].fillna(data['total_income'].median())\n",
    "sns.kdeplot(data['total_income'], color='blue', fill=True);"
   ]
  },
  {
   "cell_type": "markdown",
   "id": "c8a24a34",
   "metadata": {},
   "source": [
    "**ВЫВОДЫ:**\n",
    "\n",
    "1. Заполнение пропусков специальным значением (нулем) не имеет под собой логических основнований, приводит к смещению распределения, созданию бимодальности распределения и в какой-то мере противоречит смыслу признака.  \n",
    "2. Заполнение средним не подходит для этой задачи, потому что распределение имеет тяжелый правый хвост, что говорит о наличии больших значений признака - выбросов. В таком случае среднее также смещено в сторону выборосов. Заполнение этим способом искажает, смещает данные, содает второй пик (бимодальность).  \n",
    "3. Заполнение пропусков медианой - хорошее решение, потому что эта статистика устойчива к выбросам; такое заполнение оправдано смыслом признака и задачи.  \n",
    "  \n",
    "Но это решение не лучшее, потому что оно, как видно на диаграмме выше, тоже приводит к смещению распределния данных (небольшому по сравнению с другими способами), что в свою очередь сказывается на результатах исследования.   \n",
    "  \n",
    "Предлагаю использовать другой способ - заполнение пропусков методом k-ближайщих соседей.  \n",
    "Для его корректной работы необходимо, чтобы все данные были числового типа. Оставим только числовые признаки кроме debt (чтобы не было утечки данных) и days_employed (потому что по заданию заполнить пропуски в нем нам предстоит позднее)."
   ]
  },
  {
   "cell_type": "markdown",
   "id": "9013dc4b",
   "metadata": {},
   "source": [
    "### KNNImputer"
   ]
  },
  {
   "cell_type": "code",
   "execution_count": 12,
   "id": "2738d8de",
   "metadata": {},
   "outputs": [
    {
     "data": {
      "image/png": "[encoded data removed]",
      "text/plain": [
       "<Figure size 648x648 with 1 Axes>"
      ]
     },
     "metadata": {
      "needs_background": "light"
     },
     "output_type": "display_data"
    }
   ],
   "source": [
    "data = backup.copy()\n",
    "\n",
    "knn_imp = KNNImputer(weights='distance')\n",
    "\n",
    "tmp_data = data.select_dtypes(exclude='object').drop(['debt', 'days_employed'], axis=1)\n",
    "\n",
    "plt.title('Распределение до/после заполнения методом k=5 ближайщих соседей', pad=25, fontsize=15);\n",
    "sns.kdeplot(data['total_income'], color='red', fill=True);\n",
    "data[tmp_data.columns] = pd.DataFrame(knn_imp.fit_transform(tmp_data), columns=tmp_data.columns)\n",
    "sns.kdeplot(data['total_income'], color='blue', fill=True);"
   ]
  },
  {
   "cell_type": "markdown",
   "id": "a7bcc361",
   "metadata": {},
   "source": [
    "Смещение сведено к минимуму.  \n",
    "**ВЫВОД:**  \n",
    "Таким образом, заполнение пропусков методом KNN я считаю наиболее удачным в данной задаче."
   ]
  },
  {
   "cell_type": "markdown",
   "id": "5754d0ae",
   "metadata": {},
   "source": [
    "## Проверка данных на аномалии и исправления."
   ]
  },
  {
   "cell_type": "markdown",
   "id": "a7f01558",
   "metadata": {},
   "source": [
    "Рассмотрим признак `days_employed`"
   ]
  },
  {
   "cell_type": "code",
   "execution_count": 13,
   "id": "d8a40843",
   "metadata": {},
   "outputs": [
    {
     "data": {
      "image/png": "[encoded data removed]",
      "text/plain": [
       "<Figure size 648x648 with 1 Axes>"
      ]
     },
     "metadata": {
      "needs_background": "light"
     },
     "output_type": "display_data"
    }
   ],
   "source": [
    "sns.kdeplot(data['days_employed'], fill=True);"
   ]
  },
  {
   "cell_type": "markdown",
   "id": "e3f5aca4",
   "metadata": {},
   "source": [
    "Рассмотритм поближе каждое \"скопление\""
   ]
  },
  {
   "cell_type": "markdown",
   "id": "30640c2e",
   "metadata": {},
   "source": [
    "### ОТРИЦАТЕЛЬНЫЙ СТАЖ"
   ]
  },
  {
   "cell_type": "code",
   "execution_count": 14,
   "id": "0c36bd23",
   "metadata": {},
   "outputs": [
    {
     "data": {
      "image/png": "[encoded data removed]",
      "text/plain": [
       "<Figure size 648x648 with 1 Axes>"
      ]
     },
     "metadata": {
      "needs_background": "light"
     },
     "output_type": "display_data"
    }
   ],
   "source": [
    "sns.kdeplot(data[data['days_employed'] < 200000]['days_employed'], fill=True);"
   ]
  },
  {
   "cell_type": "markdown",
   "id": "2722e2b3",
   "metadata": {},
   "source": [
    "Признак принимает значение от нуля до приблизительно -20 000. Очевидно, что проработать отрицательное количество дней в нашем мире невозможно.  \n",
    "Оценим на адекватность абсолютные значения трудового стажа."
   ]
  },
  {
   "cell_type": "code",
   "execution_count": 15,
   "id": "41499a2e",
   "metadata": {},
   "outputs": [
    {
     "name": "stdout",
     "output_type": "stream",
     "text": [
      "Наибольший стаж для рассматриваемого \"скопления\": 50.31 лет\n"
     ]
    }
   ],
   "source": [
    "print(f\"\"\"Наибольший стаж для рассматриваемого \"скопления\": {abs(data['days_employed'].min()) / 365.5:.2f} лет\"\"\")"
   ]
  },
  {
   "cell_type": "markdown",
   "id": "5be4a0f6",
   "metadata": {},
   "source": [
    "50 лет. Внушительно, но вполне возможно.  \n",
    "  \n",
    "**ВЫВОД:**  \n",
    "Причиной возникновения такой ошибки может быть тот факт, что систему подсчета рабочих дней ввели, когда человек уже работал в компании. А стаж рассчитывается по формуле \"**дата начала работы - текущая дата = трудовой стаж**\". В таком случае \"**дата начала работы**\" будет меньше и, следовательно, стаж будет отрицательный.  \n",
    "\n",
    "**РЕШЕНИЕ:**  \n",
    "Таким образом, предположу, что стаж в этом \"скоплении\" нужно просто взять по модулю.  \n",
    "  \n",
    "Для новых сотрудников такой проблемы нет, но, кажется, есть другая.  \n",
    "Рассмотрим поближе."
   ]
  },
  {
   "cell_type": "markdown",
   "id": "37c419de",
   "metadata": {},
   "source": [
    "### СТАЖ 1000 ЛЕТ"
   ]
  },
  {
   "cell_type": "code",
   "execution_count": 16,
   "id": "dde81d8b",
   "metadata": {},
   "outputs": [
    {
     "data": {
      "image/png": "[encoded data removed]",
      "text/plain": [
       "<Figure size 648x648 with 1 Axes>"
      ]
     },
     "metadata": {
      "needs_background": "light"
     },
     "output_type": "display_data"
    }
   ],
   "source": [
    "sns.kdeplot(data[data['days_employed'] > 200000]['days_employed'], fill=True);"
   ]
  },
  {
   "cell_type": "markdown",
   "id": "2a79c473",
   "metadata": {},
   "source": [
    "Интересное распределение. Равномерное.  \n",
    "Минимальное значение в районе 330 000 дней, максимальное - 400 000 дней.  \n",
    "Оценка на адекватность:"
   ]
  },
  {
   "cell_type": "code",
   "execution_count": 17,
   "id": "6b2da037",
   "metadata": {},
   "outputs": [
    {
     "name": "stdout",
     "output_type": "stream",
     "text": [
      "Наибольший стаж для рассматриваемого \"скопления\": 1099.19 лет\n"
     ]
    }
   ],
   "source": [
    "print(f\"\"\"Наибольший стаж для рассматриваемого \"скопления\": {abs(data['days_employed'].max()) / 365.5:.2f} лет\"\"\")"
   ]
  },
  {
   "cell_type": "markdown",
   "id": "b5511a98",
   "metadata": {},
   "source": [
    "Почти 1 100 лет! Вот это работяга!  \n",
    "К сожалению, люди столько не живут, значит есть ошибка в данных.  \n",
    "Предположим, что для этих людей записывался не в днях, а в часах.  \n",
    "Проверим:"
   ]
  },
  {
   "cell_type": "code",
   "execution_count": 18,
   "id": "c05160fd",
   "metadata": {},
   "outputs": [
    {
     "name": "stdout",
     "output_type": "stream",
     "text": [
      "Наибольший стаж для рассматриваемого \"скопления\": 45.80 лет\n"
     ]
    }
   ],
   "source": [
    "print(f\"\"\"Наибольший стаж для рассматриваемого \"скопления\": {abs(data['days_employed'].max()) / 365.5 / 24:.2f} лет\"\"\")"
   ]
  },
  {
   "cell_type": "markdown",
   "id": "0bef84e4",
   "metadata": {},
   "source": [
    "Вполне реальный результат. Максимальный стаж для предыдущего \"скопления\" примерно такой же.  \n",
    "  \n",
    "**ВЫВОД:**  \n",
    "Делаем вывод, что здесь ошибка состоит в том, что данные записаны в часах, а не днях.  \n",
    "  \n",
    "**РЕШЕНИЕ:**\n",
    "Для решения нужно просто разделить эти значения на 24.\n",
    "  \n",
    "**Примечание:**  \n",
    "Если считать, что записаны именно рабочие часы, которых, как известно, в сутках всего 8, ничего не получится. Самый большой стаж тогда будет в районе 137 лет, что, очевидно, невозможно. Если предпололжить, что стаж записан в рабочих минутах, то максимальный стаж будет около 2 лет. Тоже маловероятно. Поэтому считаю, что стаж записан в обычных часах."
   ]
  },
  {
   "cell_type": "markdown",
   "id": "2b6f5d08",
   "metadata": {},
   "source": [
    "Ошибки найдены. Нужно их исправить."
   ]
  },
  {
   "cell_type": "markdown",
   "id": "a9631299",
   "metadata": {},
   "source": [
    "### ИСПРАВЛЕНИЕ"
   ]
  },
  {
   "cell_type": "code",
   "execution_count": 19,
   "id": "e8c215e1",
   "metadata": {},
   "outputs": [],
   "source": [
    "data['days_employed'] = data['days_employed'].apply(lambda x: abs(x) if x <= 0 else x / 24)"
   ]
  },
  {
   "cell_type": "code",
   "execution_count": 20,
   "id": "fd92957f",
   "metadata": {},
   "outputs": [],
   "source": [
    "backup = data.copy()"
   ]
  },
  {
   "cell_type": "markdown",
   "id": "84e6c0fc",
   "metadata": {},
   "source": [
    "Посмотрим, что получилось"
   ]
  },
  {
   "cell_type": "code",
   "execution_count": 21,
   "id": "5177c44b",
   "metadata": {},
   "outputs": [
    {
     "data": {
      "image/png": "[encoded data removed]",
      "text/plain": [
       "<Figure size 648x648 with 1 Axes>"
      ]
     },
     "metadata": {
      "needs_background": "light"
     },
     "output_type": "display_data"
    }
   ],
   "source": [
    "sns.kdeplot(data['days_employed'], fill=True);"
   ]
  },
  {
   "cell_type": "markdown",
   "id": "8676b99f",
   "metadata": {},
   "source": [
    "Теперь заполним пропуски."
   ]
  },
  {
   "cell_type": "markdown",
   "id": "ce6ea159",
   "metadata": {},
   "source": [
    "### ЗАПОЛНЕНИЕ ПРОПУСКОВ МЕДИАНОЙ"
   ]
  },
  {
   "cell_type": "code",
   "execution_count": 22,
   "id": "7ccc91c9",
   "metadata": {},
   "outputs": [
    {
     "data": {
      "image/png": "[encoded data removed]",
      "text/plain": [
       "<Figure size 648x648 with 1 Axes>"
      ]
     },
     "metadata": {
      "needs_background": "light"
     },
     "output_type": "display_data"
    }
   ],
   "source": [
    "plt.title('Распределение до/после заполнения медианой', pad=25, fontsize=15);\n",
    "sns.kdeplot(data['days_employed'], color='red', fill=True);\n",
    "data['days_employed'] = data['days_employed'].fillna(data['days_employed'].median())\n",
    "sns.kdeplot(data['days_employed'], color='blue', fill=True);"
   ]
  },
  {
   "cell_type": "markdown",
   "id": "e5f108c9",
   "metadata": {},
   "source": [
    "### ЗАПОЛНЕНИЕ ПРОПУСКОВ KNN"
   ]
  },
  {
   "cell_type": "code",
   "execution_count": 23,
   "id": "3940611e",
   "metadata": {},
   "outputs": [
    {
     "data": {
      "image/png": "[encoded data removed]",
      "text/plain": [
       "<Figure size 648x648 with 1 Axes>"
      ]
     },
     "metadata": {
      "needs_background": "light"
     },
     "output_type": "display_data"
    }
   ],
   "source": [
    "data = backup.copy()\n",
    "\n",
    "tmp_data = data.select_dtypes(exclude='object').drop('debt', axis=1)\n",
    "\n",
    "plt.title('Распределение до/после заполнения методом k=5 ближайщих соседей', pad=25, fontsize=15);\n",
    "sns.kdeplot(data['days_employed'], color='red', fill=True);\n",
    "data[tmp_data.columns] = pd.DataFrame(knn_imp.fit_transform(tmp_data), columns=tmp_data.columns)\n",
    "sns.kdeplot(data['days_employed'], color='blue', fill=True);"
   ]
  },
  {
   "cell_type": "code",
   "execution_count": 24,
   "id": "1cfb1e93",
   "metadata": {},
   "outputs": [
    {
     "name": "stdout",
     "output_type": "stream",
     "text": [
      "<class 'pandas.core.frame.DataFrame'>\n",
      "RangeIndex: 21525 entries, 0 to 21524\n",
      "Data columns (total 12 columns):\n",
      " #   Column            Non-Null Count  Dtype  \n",
      "---  ------            --------------  -----  \n",
      " 0   children          21525 non-null  float64\n",
      " 1   days_employed     21525 non-null  float64\n",
      " 2   dob_years         21525 non-null  float64\n",
      " 3   education         21525 non-null  object \n",
      " 4   education_id      21525 non-null  float64\n",
      " 5   family_status     21525 non-null  object \n",
      " 6   family_status_id  21525 non-null  float64\n",
      " 7   gender            21525 non-null  object \n",
      " 8   income_type       21525 non-null  object \n",
      " 9   debt              21525 non-null  int64  \n",
      " 10  total_income      21525 non-null  float64\n",
      " 11  purpose           21525 non-null  object \n",
      "dtypes: float64(6), int64(1), object(5)\n",
      "memory usage: 2.0+ MB\n"
     ]
    }
   ],
   "source": [
    "data.info()"
   ]
  },
  {
   "cell_type": "markdown",
   "id": "359e9e85",
   "metadata": {},
   "source": [
    "Отлично, пропусков нет!"
   ]
  },
  {
   "cell_type": "markdown",
   "id": "8e1e9e4f",
   "metadata": {},
   "source": [
    "### ДРУГИЕ СТОЛБЦЫ С ПРОПУСКАМИ И АНОМАЛИЯМИ"
   ]
  },
  {
   "cell_type": "markdown",
   "id": "936de96e",
   "metadata": {},
   "source": [
    "Теперь разберемся с `'XNA'` в столбце `gender`."
   ]
  },
  {
   "cell_type": "code",
   "execution_count": 25,
   "id": "1e468791",
   "metadata": {},
   "outputs": [
    {
     "data": {
      "text/html": [
       "<div>\n",
       "<style scoped>\n",
       "    .dataframe tbody tr th:only-of-type {\n",
       "        vertical-align: middle;\n",
       "    }\n",
       "\n",
       "    .dataframe tbody tr th {\n",
       "        vertical-align: top;\n",
       "    }\n",
       "\n",
       "    .dataframe thead th {\n",
       "        text-align: right;\n",
       "    }\n",
       "</style>\n",
       "<table border=\"1\" class=\"dataframe\">\n",
       "  <thead>\n",
       "    <tr style=\"text-align: right;\">\n",
       "      <th></th>\n",
       "      <th>children</th>\n",
       "      <th>days_employed</th>\n",
       "      <th>dob_years</th>\n",
       "      <th>education</th>\n",
       "      <th>education_id</th>\n",
       "      <th>family_status</th>\n",
       "      <th>family_status_id</th>\n",
       "      <th>gender</th>\n",
       "      <th>income_type</th>\n",
       "      <th>debt</th>\n",
       "      <th>total_income</th>\n",
       "      <th>purpose</th>\n",
       "    </tr>\n",
       "  </thead>\n",
       "  <tbody>\n",
       "    <tr>\n",
       "      <th>10701</th>\n",
       "      <td>0.0</td>\n",
       "      <td>2358.600502</td>\n",
       "      <td>24.0</td>\n",
       "      <td>неоконченное высшее</td>\n",
       "      <td>2.0</td>\n",
       "      <td>гражданский брак</td>\n",
       "      <td>1.0</td>\n",
       "      <td>XNA</td>\n",
       "      <td>компаньон</td>\n",
       "      <td>0</td>\n",
       "      <td>203905.157261</td>\n",
       "      <td>покупка недвижимости</td>\n",
       "    </tr>\n",
       "  </tbody>\n",
       "</table>\n",
       "</div>"
      ],
      "text/plain": [
       "       children  days_employed  dob_years            education  education_id  \\\n",
       "10701       0.0    2358.600502       24.0  неоконченное высшее           2.0   \n",
       "\n",
       "          family_status  family_status_id gender income_type  debt  \\\n",
       "10701  гражданский брак               1.0    XNA   компаньон     0   \n",
       "\n",
       "        total_income               purpose  \n",
       "10701  203905.157261  покупка недвижимости  "
      ]
     },
     "execution_count": 25,
     "metadata": {},
     "output_type": "execute_result"
    }
   ],
   "source": [
    "data[data['gender'] == 'XNA']"
   ]
  },
  {
   "cell_type": "markdown",
   "id": "330aafac",
   "metadata": {},
   "source": [
    "Ничего не обычного. Возможно, просто техническая ошибка, либо человек придерживается прогрессивных взгялядов и не захотел указывать свой гендер, либо это и есть обозначение его гендера. В любом случае такой объект всего один, поэтому на исследование сильного влиянения не окажет. Заменим `'XNA'` на моду."
   ]
  },
  {
   "cell_type": "code",
   "execution_count": 26,
   "id": "3b90d5f5",
   "metadata": {},
   "outputs": [],
   "source": [
    "data['gender'].replace(to_replace=['XNA'], value=data['gender'].mode(), inplace=True)"
   ]
  },
  {
   "cell_type": "markdown",
   "id": "e905f2e4",
   "metadata": {},
   "source": [
    "Проверим на аномалии другие столбцы."
   ]
  },
  {
   "cell_type": "code",
   "execution_count": 27,
   "id": "d758f7f0",
   "metadata": {},
   "outputs": [
    {
     "data": {
      "text/plain": [
       "array([ 1.,  0.,  3.,  2., -1.,  4., 20.,  5.])"
      ]
     },
     "execution_count": 27,
     "metadata": {},
     "output_type": "execute_result"
    }
   ],
   "source": [
    "data['children'].unique()"
   ]
  },
  {
   "cell_type": "markdown",
   "id": "5436db92",
   "metadata": {},
   "source": [
    "Концепция отрицательного количества детей, конечно, интересная, но абсолютно нереалистичная. Это ошибка.  \n",
    "20 детей тоже смотрится аномально.  \n",
    "Оценим масштаб проблемы."
   ]
  },
  {
   "cell_type": "code",
   "execution_count": 28,
   "id": "d6ac5f84",
   "metadata": {
    "scrolled": true
   },
   "outputs": [
    {
     "name": "stdout",
     "output_type": "stream",
     "text": [
      "Количество людей с -1 ребенком: 47\n"
     ]
    }
   ],
   "source": [
    "print(f\"Количество людей с -1 ребенком: {data[data['children'] == -1].shape[0]}\")"
   ]
  },
  {
   "cell_type": "code",
   "execution_count": 29,
   "id": "b02a29e5",
   "metadata": {
    "scrolled": true
   },
   "outputs": [
    {
     "name": "stdout",
     "output_type": "stream",
     "text": [
      "Количество людей с 20 деьми: 76\n"
     ]
    }
   ],
   "source": [
    "print(f\"Количество людей с 20 деьми: {data[data['children'] == 20].shape[0]}\")"
   ]
  },
  {
   "cell_type": "markdown",
   "id": "32ac7e36",
   "metadata": {},
   "source": [
    "**ВЫВОД:**  \n",
    "Слишком много, чтобы быть правдой. Значение 20 также является ошибочным и должно быть заменено.  \n",
    "\n",
    "**РЕШЕНИЕ:**  \n",
    "Предположим простейший случай - опечатка. В таком случае значение 20 соответствует более вероятному значению 2, а значение -1 соответствует 1. Так и заменим."
   ]
  },
  {
   "cell_type": "code",
   "execution_count": 30,
   "id": "398bf794",
   "metadata": {},
   "outputs": [],
   "source": [
    "data['children'].replace(to_replace={20: 2, -1: 1}, inplace=True)"
   ]
  },
  {
   "cell_type": "code",
   "execution_count": 31,
   "id": "4066c794",
   "metadata": {},
   "outputs": [
    {
     "data": {
      "text/plain": [
       "count    21525.000000\n",
       "mean        43.293380\n",
       "std         12.574584\n",
       "min          0.000000\n",
       "25%         33.000000\n",
       "50%         42.000000\n",
       "75%         53.000000\n",
       "max         75.000000\n",
       "Name: dob_years, dtype: float64"
      ]
     },
     "metadata": {},
     "output_type": "display_data"
    },
    {
     "data": {
      "image/png": "[encoded data removed]",
      "text/plain": [
       "<Figure size 648x648 with 1 Axes>"
      ]
     },
     "metadata": {
      "needs_background": "light"
     },
     "output_type": "display_data"
    }
   ],
   "source": [
    "display(data['dob_years'].describe())\n",
    "sns.kdeplot(data['dob_years'], fill=True);"
   ]
  },
  {
   "cell_type": "markdown",
   "id": "56da6e56",
   "metadata": {},
   "source": [
    "Могут ли младенцы брать кредит?  \n",
    "Посмотрим на объекты с возрастом 0."
   ]
  },
  {
   "cell_type": "code",
   "execution_count": 32,
   "id": "d1195bfb",
   "metadata": {},
   "outputs": [
    {
     "name": "stdout",
     "output_type": "stream",
     "text": [
      "Количество людей, которым 0 лет: 101\n"
     ]
    }
   ],
   "source": [
    "print(f\"Количество людей, которым 0 лет: {data[data['dob_years'] == 0].shape[0]}\")"
   ]
  },
  {
   "cell_type": "code",
   "execution_count": 33,
   "id": "bf12d15c",
   "metadata": {},
   "outputs": [
    {
     "data": {
      "text/html": [
       "<div>\n",
       "<style scoped>\n",
       "    .dataframe tbody tr th:only-of-type {\n",
       "        vertical-align: middle;\n",
       "    }\n",
       "\n",
       "    .dataframe tbody tr th {\n",
       "        vertical-align: top;\n",
       "    }\n",
       "\n",
       "    .dataframe thead th {\n",
       "        text-align: right;\n",
       "    }\n",
       "</style>\n",
       "<table border=\"1\" class=\"dataframe\">\n",
       "  <thead>\n",
       "    <tr style=\"text-align: right;\">\n",
       "      <th></th>\n",
       "      <th>children</th>\n",
       "      <th>days_employed</th>\n",
       "      <th>dob_years</th>\n",
       "      <th>education</th>\n",
       "      <th>education_id</th>\n",
       "      <th>family_status</th>\n",
       "      <th>family_status_id</th>\n",
       "      <th>gender</th>\n",
       "      <th>income_type</th>\n",
       "      <th>debt</th>\n",
       "      <th>total_income</th>\n",
       "      <th>purpose</th>\n",
       "    </tr>\n",
       "  </thead>\n",
       "  <tbody>\n",
       "    <tr>\n",
       "      <th>270</th>\n",
       "      <td>3.0</td>\n",
       "      <td>1872.663186</td>\n",
       "      <td>0.0</td>\n",
       "      <td>среднее</td>\n",
       "      <td>1.0</td>\n",
       "      <td>женат / замужем</td>\n",
       "      <td>0.0</td>\n",
       "      <td>F</td>\n",
       "      <td>сотрудник</td>\n",
       "      <td>0</td>\n",
       "      <td>102166.458894</td>\n",
       "      <td>ремонт жилью</td>\n",
       "    </tr>\n",
       "    <tr>\n",
       "      <th>9151</th>\n",
       "      <td>0.0</td>\n",
       "      <td>1551.380402</td>\n",
       "      <td>0.0</td>\n",
       "      <td>высшее</td>\n",
       "      <td>0.0</td>\n",
       "      <td>Не женат / не замужем</td>\n",
       "      <td>4.0</td>\n",
       "      <td>F</td>\n",
       "      <td>сотрудник</td>\n",
       "      <td>0</td>\n",
       "      <td>209621.838920</td>\n",
       "      <td>получение высшего образования</td>\n",
       "    </tr>\n",
       "    <tr>\n",
       "      <th>2487</th>\n",
       "      <td>0.0</td>\n",
       "      <td>2497.754414</td>\n",
       "      <td>0.0</td>\n",
       "      <td>среднее</td>\n",
       "      <td>1.0</td>\n",
       "      <td>женат / замужем</td>\n",
       "      <td>0.0</td>\n",
       "      <td>F</td>\n",
       "      <td>сотрудник</td>\n",
       "      <td>1</td>\n",
       "      <td>91367.005172</td>\n",
       "      <td>недвижимость</td>\n",
       "    </tr>\n",
       "    <tr>\n",
       "      <th>13439</th>\n",
       "      <td>0.0</td>\n",
       "      <td>1036.644001</td>\n",
       "      <td>0.0</td>\n",
       "      <td>среднее</td>\n",
       "      <td>1.0</td>\n",
       "      <td>женат / замужем</td>\n",
       "      <td>0.0</td>\n",
       "      <td>M</td>\n",
       "      <td>сотрудник</td>\n",
       "      <td>1</td>\n",
       "      <td>271371.522623</td>\n",
       "      <td>операции с жильем</td>\n",
       "    </tr>\n",
       "    <tr>\n",
       "      <th>18851</th>\n",
       "      <td>0.0</td>\n",
       "      <td>10637.001569</td>\n",
       "      <td>0.0</td>\n",
       "      <td>среднее</td>\n",
       "      <td>1.0</td>\n",
       "      <td>женат / замужем</td>\n",
       "      <td>0.0</td>\n",
       "      <td>F</td>\n",
       "      <td>госслужащий</td>\n",
       "      <td>0</td>\n",
       "      <td>136537.132625</td>\n",
       "      <td>дополнительное образование</td>\n",
       "    </tr>\n",
       "    <tr>\n",
       "      <th>11481</th>\n",
       "      <td>2.0</td>\n",
       "      <td>1611.360609</td>\n",
       "      <td>0.0</td>\n",
       "      <td>среднее</td>\n",
       "      <td>1.0</td>\n",
       "      <td>женат / замужем</td>\n",
       "      <td>0.0</td>\n",
       "      <td>M</td>\n",
       "      <td>сотрудник</td>\n",
       "      <td>0</td>\n",
       "      <td>236698.919494</td>\n",
       "      <td>строительство жилой недвижимости</td>\n",
       "    </tr>\n",
       "    <tr>\n",
       "      <th>10364</th>\n",
       "      <td>2.0</td>\n",
       "      <td>1935.402251</td>\n",
       "      <td>0.0</td>\n",
       "      <td>высшее</td>\n",
       "      <td>0.0</td>\n",
       "      <td>в разводе</td>\n",
       "      <td>3.0</td>\n",
       "      <td>F</td>\n",
       "      <td>госслужащий</td>\n",
       "      <td>0</td>\n",
       "      <td>114599.070321</td>\n",
       "      <td>высшее образование</td>\n",
       "    </tr>\n",
       "    <tr>\n",
       "      <th>13968</th>\n",
       "      <td>1.0</td>\n",
       "      <td>1018.525283</td>\n",
       "      <td>0.0</td>\n",
       "      <td>среднее</td>\n",
       "      <td>1.0</td>\n",
       "      <td>женат / замужем</td>\n",
       "      <td>0.0</td>\n",
       "      <td>F</td>\n",
       "      <td>сотрудник</td>\n",
       "      <td>1</td>\n",
       "      <td>155341.706429</td>\n",
       "      <td>свой автомобиль</td>\n",
       "    </tr>\n",
       "    <tr>\n",
       "      <th>7034</th>\n",
       "      <td>0.0</td>\n",
       "      <td>15252.824210</td>\n",
       "      <td>0.0</td>\n",
       "      <td>высшее</td>\n",
       "      <td>0.0</td>\n",
       "      <td>Не женат / не замужем</td>\n",
       "      <td>4.0</td>\n",
       "      <td>F</td>\n",
       "      <td>пенсионер</td>\n",
       "      <td>0</td>\n",
       "      <td>263121.074528</td>\n",
       "      <td>образование</td>\n",
       "    </tr>\n",
       "    <tr>\n",
       "      <th>7252</th>\n",
       "      <td>0.0</td>\n",
       "      <td>368.838194</td>\n",
       "      <td>0.0</td>\n",
       "      <td>высшее</td>\n",
       "      <td>0.0</td>\n",
       "      <td>Не женат / не замужем</td>\n",
       "      <td>4.0</td>\n",
       "      <td>M</td>\n",
       "      <td>сотрудник</td>\n",
       "      <td>0</td>\n",
       "      <td>169507.733337</td>\n",
       "      <td>операции с коммерческой недвижимостью</td>\n",
       "    </tr>\n",
       "  </tbody>\n",
       "</table>\n",
       "</div>"
      ],
      "text/plain": [
       "       children  days_employed  dob_years education  education_id  \\\n",
       "270         3.0    1872.663186        0.0   среднее           1.0   \n",
       "9151        0.0    1551.380402        0.0    высшее           0.0   \n",
       "2487        0.0    2497.754414        0.0   среднее           1.0   \n",
       "13439       0.0    1036.644001        0.0   среднее           1.0   \n",
       "18851       0.0   10637.001569        0.0   среднее           1.0   \n",
       "11481       2.0    1611.360609        0.0   среднее           1.0   \n",
       "10364       2.0    1935.402251        0.0    высшее           0.0   \n",
       "13968       1.0    1018.525283        0.0   среднее           1.0   \n",
       "7034        0.0   15252.824210        0.0    высшее           0.0   \n",
       "7252        0.0     368.838194        0.0    высшее           0.0   \n",
       "\n",
       "               family_status  family_status_id gender  income_type  debt  \\\n",
       "270          женат / замужем               0.0      F    сотрудник     0   \n",
       "9151   Не женат / не замужем               4.0      F    сотрудник     0   \n",
       "2487         женат / замужем               0.0      F    сотрудник     1   \n",
       "13439        женат / замужем               0.0      M    сотрудник     1   \n",
       "18851        женат / замужем               0.0      F  госслужащий     0   \n",
       "11481        женат / замужем               0.0      M    сотрудник     0   \n",
       "10364              в разводе               3.0      F  госслужащий     0   \n",
       "13968        женат / замужем               0.0      F    сотрудник     1   \n",
       "7034   Не женат / не замужем               4.0      F    пенсионер     0   \n",
       "7252   Не женат / не замужем               4.0      M    сотрудник     0   \n",
       "\n",
       "        total_income                                purpose  \n",
       "270    102166.458894                           ремонт жилью  \n",
       "9151   209621.838920          получение высшего образования  \n",
       "2487    91367.005172                           недвижимость  \n",
       "13439  271371.522623                      операции с жильем  \n",
       "18851  136537.132625             дополнительное образование  \n",
       "11481  236698.919494       строительство жилой недвижимости  \n",
       "10364  114599.070321                     высшее образование  \n",
       "13968  155341.706429                        свой автомобиль  \n",
       "7034   263121.074528                            образование  \n",
       "7252   169507.733337  операции с коммерческой недвижимостью  "
      ]
     },
     "execution_count": 33,
     "metadata": {},
     "output_type": "execute_result"
    }
   ],
   "source": [
    "data[data['dob_years'] == 0].sample(10)"
   ]
  },
  {
   "cell_type": "markdown",
   "id": "84dfb66a",
   "metadata": {},
   "source": [
    "Люди с возрастом 0 имеют разный трудовой стаж, разное количество детей, разное образование и так далее, поэтому делаю вывод, что 0 это не специальное обозначение для какого-то типа клиентов, например, несовершеннолетних. Предполагаю, что таким образом заполнялись пропуски в этом столбце.  \n",
    "Вернем пропуски на место и заполним их с помощью KNNImputer."
   ]
  },
  {
   "cell_type": "code",
   "execution_count": 34,
   "id": "177756c5",
   "metadata": {},
   "outputs": [],
   "source": [
    "data['dob_years'].replace(to_replace={0: np.nan}, inplace=True)"
   ]
  },
  {
   "cell_type": "code",
   "execution_count": 35,
   "id": "30ba0c2d",
   "metadata": {},
   "outputs": [],
   "source": [
    "backup = data.copy()"
   ]
  },
  {
   "cell_type": "code",
   "execution_count": 36,
   "id": "1354a767",
   "metadata": {},
   "outputs": [
    {
     "data": {
      "image/png": "[encoded data removed]",
      "text/plain": [
       "<Figure size 648x648 with 1 Axes>"
      ]
     },
     "metadata": {
      "needs_background": "light"
     },
     "output_type": "display_data"
    }
   ],
   "source": [
    "tmp_data = data.select_dtypes(exclude='object').drop('debt', axis=1)\n",
    "\n",
    "plt.title('Распределение до/после заполнения методом k=5 ближайщих соседей', pad=25, fontsize=15);\n",
    "sns.kdeplot(data['dob_years'], color='red', fill=True);\n",
    "data[tmp_data.columns] = pd.DataFrame(knn_imp.fit_transform(tmp_data), columns=tmp_data.columns)\n",
    "sns.kdeplot(data['dob_years'], color='blue', fill=True);"
   ]
  },
  {
   "cell_type": "code",
   "execution_count": 37,
   "id": "ee14f596",
   "metadata": {},
   "outputs": [
    {
     "data": {
      "text/plain": [
       "array([0, 1], dtype=int64)"
      ]
     },
     "execution_count": 37,
     "metadata": {},
     "output_type": "execute_result"
    }
   ],
   "source": [
    "data['debt'].unique()"
   ]
  },
  {
   "cell_type": "markdown",
   "id": "0178ca3e",
   "metadata": {},
   "source": [
    "Целевой признак в задаче кредитного скоринга. С ним проблем нет."
   ]
  },
  {
   "cell_type": "markdown",
   "id": "e91bae97",
   "metadata": {},
   "source": [
    "**ВЫВОД:**  \n",
    "Таким образом, были найдены и устранены пропуски и аномалии в данных."
   ]
  },
  {
   "cell_type": "markdown",
   "id": "c31ff35d",
   "metadata": {},
   "source": [
    "### Изменение типов данных."
   ]
  },
  {
   "cell_type": "code",
   "execution_count": 38,
   "id": "fe73fbb4",
   "metadata": {},
   "outputs": [
    {
     "name": "stdout",
     "output_type": "stream",
     "text": [
      "<class 'pandas.core.frame.DataFrame'>\n",
      "RangeIndex: 21525 entries, 0 to 21524\n",
      "Data columns (total 12 columns):\n",
      " #   Column            Non-Null Count  Dtype \n",
      "---  ------            --------------  ----- \n",
      " 0   children          21525 non-null  uint8 \n",
      " 1   days_employed     21525 non-null  uint16\n",
      " 2   dob_years         21525 non-null  uint8 \n",
      " 3   education         21525 non-null  object\n",
      " 4   education_id      21525 non-null  uint8 \n",
      " 5   family_status     21525 non-null  object\n",
      " 6   family_status_id  21525 non-null  uint8 \n",
      " 7   gender            21525 non-null  object\n",
      " 8   income_type       21525 non-null  object\n",
      " 9   debt              21525 non-null  uint8 \n",
      " 10  total_income      21525 non-null  uint32\n",
      " 11  purpose           21525 non-null  object\n",
      "dtypes: object(5), uint16(1), uint32(1), uint8(5)\n",
      "memory usage: 1.0+ MB\n"
     ]
    },
    {
     "data": {
      "text/plain": [
       "None"
      ]
     },
     "metadata": {},
     "output_type": "display_data"
    },
    {
     "data": {
      "text/html": [
       "<div>\n",
       "<style scoped>\n",
       "    .dataframe tbody tr th:only-of-type {\n",
       "        vertical-align: middle;\n",
       "    }\n",
       "\n",
       "    .dataframe tbody tr th {\n",
       "        vertical-align: top;\n",
       "    }\n",
       "\n",
       "    .dataframe thead th {\n",
       "        text-align: right;\n",
       "    }\n",
       "</style>\n",
       "<table border=\"1\" class=\"dataframe\">\n",
       "  <thead>\n",
       "    <tr style=\"text-align: right;\">\n",
       "      <th></th>\n",
       "      <th>children</th>\n",
       "      <th>days_employed</th>\n",
       "      <th>dob_years</th>\n",
       "      <th>education</th>\n",
       "      <th>education_id</th>\n",
       "      <th>family_status</th>\n",
       "      <th>family_status_id</th>\n",
       "      <th>gender</th>\n",
       "      <th>income_type</th>\n",
       "      <th>debt</th>\n",
       "      <th>total_income</th>\n",
       "      <th>purpose</th>\n",
       "    </tr>\n",
       "  </thead>\n",
       "  <tbody>\n",
       "    <tr>\n",
       "      <th>0</th>\n",
       "      <td>1</td>\n",
       "      <td>8437</td>\n",
       "      <td>42</td>\n",
       "      <td>высшее</td>\n",
       "      <td>0</td>\n",
       "      <td>женат / замужем</td>\n",
       "      <td>0</td>\n",
       "      <td>F</td>\n",
       "      <td>сотрудник</td>\n",
       "      <td>0</td>\n",
       "      <td>253875</td>\n",
       "      <td>покупка жилья</td>\n",
       "    </tr>\n",
       "    <tr>\n",
       "      <th>1</th>\n",
       "      <td>1</td>\n",
       "      <td>4024</td>\n",
       "      <td>36</td>\n",
       "      <td>среднее</td>\n",
       "      <td>1</td>\n",
       "      <td>женат / замужем</td>\n",
       "      <td>0</td>\n",
       "      <td>F</td>\n",
       "      <td>сотрудник</td>\n",
       "      <td>0</td>\n",
       "      <td>112080</td>\n",
       "      <td>приобретение автомобиля</td>\n",
       "    </tr>\n",
       "    <tr>\n",
       "      <th>2</th>\n",
       "      <td>0</td>\n",
       "      <td>5623</td>\n",
       "      <td>33</td>\n",
       "      <td>Среднее</td>\n",
       "      <td>1</td>\n",
       "      <td>женат / замужем</td>\n",
       "      <td>0</td>\n",
       "      <td>M</td>\n",
       "      <td>сотрудник</td>\n",
       "      <td>0</td>\n",
       "      <td>145885</td>\n",
       "      <td>покупка жилья</td>\n",
       "    </tr>\n",
       "    <tr>\n",
       "      <th>3</th>\n",
       "      <td>3</td>\n",
       "      <td>4124</td>\n",
       "      <td>32</td>\n",
       "      <td>среднее</td>\n",
       "      <td>1</td>\n",
       "      <td>женат / замужем</td>\n",
       "      <td>0</td>\n",
       "      <td>M</td>\n",
       "      <td>сотрудник</td>\n",
       "      <td>0</td>\n",
       "      <td>267628</td>\n",
       "      <td>дополнительное образование</td>\n",
       "    </tr>\n",
       "    <tr>\n",
       "      <th>4</th>\n",
       "      <td>0</td>\n",
       "      <td>14177</td>\n",
       "      <td>53</td>\n",
       "      <td>среднее</td>\n",
       "      <td>1</td>\n",
       "      <td>гражданский брак</td>\n",
       "      <td>1</td>\n",
       "      <td>F</td>\n",
       "      <td>пенсионер</td>\n",
       "      <td>0</td>\n",
       "      <td>158616</td>\n",
       "      <td>сыграть свадьбу</td>\n",
       "    </tr>\n",
       "  </tbody>\n",
       "</table>\n",
       "</div>"
      ],
      "text/plain": [
       "   children  days_employed  dob_years education  education_id  \\\n",
       "0         1           8437         42    высшее             0   \n",
       "1         1           4024         36   среднее             1   \n",
       "2         0           5623         33   Среднее             1   \n",
       "3         3           4124         32   среднее             1   \n",
       "4         0          14177         53   среднее             1   \n",
       "\n",
       "      family_status  family_status_id gender income_type  debt  total_income  \\\n",
       "0   женат / замужем                 0      F   сотрудник     0        253875   \n",
       "1   женат / замужем                 0      F   сотрудник     0        112080   \n",
       "2   женат / замужем                 0      M   сотрудник     0        145885   \n",
       "3   женат / замужем                 0      M   сотрудник     0        267628   \n",
       "4  гражданский брак                 1      F   пенсионер     0        158616   \n",
       "\n",
       "                      purpose  \n",
       "0               покупка жилья  \n",
       "1     приобретение автомобиля  \n",
       "2               покупка жилья  \n",
       "3  дополнительное образование  \n",
       "4             сыграть свадьбу  "
      ]
     },
     "execution_count": 38,
     "metadata": {},
     "output_type": "execute_result"
    }
   ],
   "source": [
    "col_names = data.select_dtypes(exclude=['object']).columns\n",
    "data.loc[:, col_names] = data.select_dtypes(exclude=['object']).astype('int').apply(pd.to_numeric, downcast='unsigned')\n",
    "display(data.info())\n",
    "data.head()"
   ]
  },
  {
   "cell_type": "markdown",
   "id": "a7718684",
   "metadata": {},
   "source": [
    "Использование памяти сократилось в два раза."
   ]
  },
  {
   "cell_type": "markdown",
   "id": "001b17ab",
   "metadata": {},
   "source": [
    "### Удаление дубликатов."
   ]
  },
  {
   "cell_type": "code",
   "execution_count": 39,
   "id": "b8c03495",
   "metadata": {},
   "outputs": [
    {
     "name": "stdout",
     "output_type": "stream",
     "text": [
      "Количство строк в датафрейме: 21525\n",
      "Количство строк в датафрейме: 21471\n",
      "Явных дубликатов удалено: 54\n"
     ]
    }
   ],
   "source": [
    "print(f'Количство строк в датафрейме: {data.shape[0]}')\n",
    "x1 = data.shape[0]\n",
    "data.drop_duplicates(inplace=True, ignore_index=True)\n",
    "print(f'Количство строк в датафрейме: {data.shape[0]}')\n",
    "x2 = data.shape[0]\n",
    "print(f'Явных дубликатов удалено: {x1-x2}')"
   ]
  },
  {
   "cell_type": "markdown",
   "id": "010333b3",
   "metadata": {},
   "source": [
    "Сначала удалим явные дубликаты с помощью предназначенного для этого метода `drop_duplicates()`.  "
   ]
  },
  {
   "cell_type": "code",
   "execution_count": 40,
   "id": "dea3b00f",
   "metadata": {},
   "outputs": [],
   "source": [
    "data['education'] = data['education'].str.lower()"
   ]
  },
  {
   "cell_type": "markdown",
   "id": "913601be",
   "metadata": {},
   "source": [
    "Приведем все значения столбца `education` к нижнему регистру"
   ]
  },
  {
   "cell_type": "code",
   "execution_count": 41,
   "id": "ec9eefa6",
   "metadata": {},
   "outputs": [
    {
     "name": "stdout",
     "output_type": "stream",
     "text": [
      "Количство строк в датафрейме: 21471\n",
      "Количство строк в датафрейме: 21454\n",
      "Невных дубликатов удалено: 17\n"
     ]
    }
   ],
   "source": [
    "print(f'Количство строк в датафрейме: {data.shape[0]}')\n",
    "x1 = data.shape[0]\n",
    "data.drop_duplicates(inplace=True, ignore_index=True)\n",
    "print(f'Количство строк в датафрейме: {data.shape[0]}')\n",
    "x2 = data.shape[0]\n",
    "print(f'Невных дубликатов удалено: {x1-x2}')"
   ]
  },
  {
   "cell_type": "markdown",
   "id": "62981ad8",
   "metadata": {},
   "source": [
    "Теперь неявные дубликаты стали явными, и мы их снова удалили"
   ]
  },
  {
   "cell_type": "markdown",
   "id": "2ec33253",
   "metadata": {},
   "source": [
    "**ВЫВОД:**  \n",
    "Предполагаю, что причины появления неявных дубликатов в том, что данные были получены путем слияния нескольких таблиц, в каждой из которых были разные принципы заполнения столбца `education`.  \n",
    "Явные дубликаты могли появится как при слиянии таблиц из разных источников, так и из-за ошибки программы сбора исходных данных. "
   ]
  },
  {
   "cell_type": "markdown",
   "id": "23b7870c",
   "metadata": {},
   "source": [
    "### Формирование дополнительных датафреймов словарей, декомпозиция исходного датафрейма."
   ]
  },
  {
   "cell_type": "code",
   "execution_count": 42,
   "id": "e3e5bcf2",
   "metadata": {},
   "outputs": [],
   "source": [
    "education_dict = data.loc[:, ['education', 'education_id']]\n",
    "data.drop('education', axis=1, inplace=True)\n",
    "\n",
    "family_dict = data.loc[:, ['family_status', 'family_status_id']]\n",
    "data.drop('family_status', axis=1, inplace=True)"
   ]
  },
  {
   "cell_type": "code",
   "execution_count": 43,
   "id": "4d186813",
   "metadata": {},
   "outputs": [
    {
     "data": {
      "text/html": [
       "<div>\n",
       "<style scoped>\n",
       "    .dataframe tbody tr th:only-of-type {\n",
       "        vertical-align: middle;\n",
       "    }\n",
       "\n",
       "    .dataframe tbody tr th {\n",
       "        vertical-align: top;\n",
       "    }\n",
       "\n",
       "    .dataframe thead th {\n",
       "        text-align: right;\n",
       "    }\n",
       "</style>\n",
       "<table border=\"1\" class=\"dataframe\">\n",
       "  <thead>\n",
       "    <tr style=\"text-align: right;\">\n",
       "      <th></th>\n",
       "      <th>family_status</th>\n",
       "      <th>family_status_id</th>\n",
       "    </tr>\n",
       "  </thead>\n",
       "  <tbody>\n",
       "    <tr>\n",
       "      <th>0</th>\n",
       "      <td>женат / замужем</td>\n",
       "      <td>0</td>\n",
       "    </tr>\n",
       "    <tr>\n",
       "      <th>1</th>\n",
       "      <td>гражданский брак</td>\n",
       "      <td>1</td>\n",
       "    </tr>\n",
       "    <tr>\n",
       "      <th>2</th>\n",
       "      <td>вдовец / вдова</td>\n",
       "      <td>2</td>\n",
       "    </tr>\n",
       "    <tr>\n",
       "      <th>3</th>\n",
       "      <td>в разводе</td>\n",
       "      <td>3</td>\n",
       "    </tr>\n",
       "    <tr>\n",
       "      <th>4</th>\n",
       "      <td>Не женат / не замужем</td>\n",
       "      <td>4</td>\n",
       "    </tr>\n",
       "  </tbody>\n",
       "</table>\n",
       "</div>"
      ],
      "text/plain": [
       "           family_status  family_status_id\n",
       "0        женат / замужем                 0\n",
       "1       гражданский брак                 1\n",
       "2         вдовец / вдова                 2\n",
       "3              в разводе                 3\n",
       "4  Не женат / не замужем                 4"
      ]
     },
     "metadata": {},
     "output_type": "display_data"
    },
    {
     "data": {
      "text/html": [
       "<div>\n",
       "<style scoped>\n",
       "    .dataframe tbody tr th:only-of-type {\n",
       "        vertical-align: middle;\n",
       "    }\n",
       "\n",
       "    .dataframe tbody tr th {\n",
       "        vertical-align: top;\n",
       "    }\n",
       "\n",
       "    .dataframe thead th {\n",
       "        text-align: right;\n",
       "    }\n",
       "</style>\n",
       "<table border=\"1\" class=\"dataframe\">\n",
       "  <thead>\n",
       "    <tr style=\"text-align: right;\">\n",
       "      <th></th>\n",
       "      <th>education</th>\n",
       "      <th>education_id</th>\n",
       "    </tr>\n",
       "  </thead>\n",
       "  <tbody>\n",
       "    <tr>\n",
       "      <th>0</th>\n",
       "      <td>высшее</td>\n",
       "      <td>0</td>\n",
       "    </tr>\n",
       "    <tr>\n",
       "      <th>1</th>\n",
       "      <td>среднее</td>\n",
       "      <td>1</td>\n",
       "    </tr>\n",
       "    <tr>\n",
       "      <th>2</th>\n",
       "      <td>неоконченное высшее</td>\n",
       "      <td>2</td>\n",
       "    </tr>\n",
       "    <tr>\n",
       "      <th>3</th>\n",
       "      <td>начальное</td>\n",
       "      <td>3</td>\n",
       "    </tr>\n",
       "    <tr>\n",
       "      <th>4</th>\n",
       "      <td>ученая степень</td>\n",
       "      <td>4</td>\n",
       "    </tr>\n",
       "  </tbody>\n",
       "</table>\n",
       "</div>"
      ],
      "text/plain": [
       "             education  education_id\n",
       "0               высшее             0\n",
       "1              среднее             1\n",
       "2  неоконченное высшее             2\n",
       "3            начальное             3\n",
       "4       ученая степень             4"
      ]
     },
     "metadata": {},
     "output_type": "display_data"
    }
   ],
   "source": [
    "education_dict.drop_duplicates(inplace=True, ignore_index=True)\n",
    "family_dict.drop_duplicates(inplace=True, ignore_index=True)\n",
    "display(family_dict)\n",
    "display(education_dict)"
   ]
  },
  {
   "cell_type": "code",
   "execution_count": 44,
   "id": "3f24944c",
   "metadata": {},
   "outputs": [
    {
     "data": {
      "text/html": [
       "<div>\n",
       "<style scoped>\n",
       "    .dataframe tbody tr th:only-of-type {\n",
       "        vertical-align: middle;\n",
       "    }\n",
       "\n",
       "    .dataframe tbody tr th {\n",
       "        vertical-align: top;\n",
       "    }\n",
       "\n",
       "    .dataframe thead th {\n",
       "        text-align: right;\n",
       "    }\n",
       "</style>\n",
       "<table border=\"1\" class=\"dataframe\">\n",
       "  <thead>\n",
       "    <tr style=\"text-align: right;\">\n",
       "      <th></th>\n",
       "      <th>children</th>\n",
       "      <th>days_employed</th>\n",
       "      <th>dob_years</th>\n",
       "      <th>education_id</th>\n",
       "      <th>family_status_id</th>\n",
       "      <th>gender</th>\n",
       "      <th>income_type</th>\n",
       "      <th>debt</th>\n",
       "      <th>total_income</th>\n",
       "      <th>purpose</th>\n",
       "    </tr>\n",
       "  </thead>\n",
       "  <tbody>\n",
       "    <tr>\n",
       "      <th>0</th>\n",
       "      <td>1</td>\n",
       "      <td>8437</td>\n",
       "      <td>42</td>\n",
       "      <td>0</td>\n",
       "      <td>0</td>\n",
       "      <td>F</td>\n",
       "      <td>сотрудник</td>\n",
       "      <td>0</td>\n",
       "      <td>253875</td>\n",
       "      <td>покупка жилья</td>\n",
       "    </tr>\n",
       "    <tr>\n",
       "      <th>1</th>\n",
       "      <td>1</td>\n",
       "      <td>4024</td>\n",
       "      <td>36</td>\n",
       "      <td>1</td>\n",
       "      <td>0</td>\n",
       "      <td>F</td>\n",
       "      <td>сотрудник</td>\n",
       "      <td>0</td>\n",
       "      <td>112080</td>\n",
       "      <td>приобретение автомобиля</td>\n",
       "    </tr>\n",
       "    <tr>\n",
       "      <th>2</th>\n",
       "      <td>0</td>\n",
       "      <td>5623</td>\n",
       "      <td>33</td>\n",
       "      <td>1</td>\n",
       "      <td>0</td>\n",
       "      <td>M</td>\n",
       "      <td>сотрудник</td>\n",
       "      <td>0</td>\n",
       "      <td>145885</td>\n",
       "      <td>покупка жилья</td>\n",
       "    </tr>\n",
       "    <tr>\n",
       "      <th>3</th>\n",
       "      <td>3</td>\n",
       "      <td>4124</td>\n",
       "      <td>32</td>\n",
       "      <td>1</td>\n",
       "      <td>0</td>\n",
       "      <td>M</td>\n",
       "      <td>сотрудник</td>\n",
       "      <td>0</td>\n",
       "      <td>267628</td>\n",
       "      <td>дополнительное образование</td>\n",
       "    </tr>\n",
       "    <tr>\n",
       "      <th>4</th>\n",
       "      <td>0</td>\n",
       "      <td>14177</td>\n",
       "      <td>53</td>\n",
       "      <td>1</td>\n",
       "      <td>1</td>\n",
       "      <td>F</td>\n",
       "      <td>пенсионер</td>\n",
       "      <td>0</td>\n",
       "      <td>158616</td>\n",
       "      <td>сыграть свадьбу</td>\n",
       "    </tr>\n",
       "  </tbody>\n",
       "</table>\n",
       "</div>"
      ],
      "text/plain": [
       "   children  days_employed  dob_years  education_id  family_status_id gender  \\\n",
       "0         1           8437         42             0                 0      F   \n",
       "1         1           4024         36             1                 0      F   \n",
       "2         0           5623         33             1                 0      M   \n",
       "3         3           4124         32             1                 0      M   \n",
       "4         0          14177         53             1                 1      F   \n",
       "\n",
       "  income_type  debt  total_income                     purpose  \n",
       "0   сотрудник     0        253875               покупка жилья  \n",
       "1   сотрудник     0        112080     приобретение автомобиля  \n",
       "2   сотрудник     0        145885               покупка жилья  \n",
       "3   сотрудник     0        267628  дополнительное образование  \n",
       "4   пенсионер     0        158616             сыграть свадьбу  "
      ]
     },
     "execution_count": 44,
     "metadata": {},
     "output_type": "execute_result"
    }
   ],
   "source": [
    "data.head()"
   ]
  },
  {
   "cell_type": "markdown",
   "id": "dd3e5f85",
   "metadata": {},
   "source": [
    "### Категоризация дохода."
   ]
  },
  {
   "cell_type": "code",
   "execution_count": 45,
   "id": "8670348b",
   "metadata": {},
   "outputs": [],
   "source": [
    "def get_income_category(income):\n",
    "    try:\n",
    "        if income <= 30000:\n",
    "            return 'E'\n",
    "        if 30000 < income <= 50000:\n",
    "            return 'D'\n",
    "        if 50000 < income <= 200000:\n",
    "            return 'C'\n",
    "        if 200000 < income <= 1000000:\n",
    "            return 'B'\n",
    "        if 1000000 < income:\n",
    "            return 'A'\n",
    "    except:\n",
    "        return 'неверный формат ввода'\n",
    "    "
   ]
  },
  {
   "cell_type": "code",
   "execution_count": 46,
   "id": "6fc2e0ae",
   "metadata": {},
   "outputs": [],
   "source": [
    "data['total_income_category'] = data['total_income'].apply(get_income_category)"
   ]
  },
  {
   "cell_type": "code",
   "execution_count": 47,
   "id": "5a5a73aa",
   "metadata": {},
   "outputs": [
    {
     "data": {
      "text/html": [
       "<div>\n",
       "<style scoped>\n",
       "    .dataframe tbody tr th:only-of-type {\n",
       "        vertical-align: middle;\n",
       "    }\n",
       "\n",
       "    .dataframe tbody tr th {\n",
       "        vertical-align: top;\n",
       "    }\n",
       "\n",
       "    .dataframe thead th {\n",
       "        text-align: right;\n",
       "    }\n",
       "</style>\n",
       "<table border=\"1\" class=\"dataframe\">\n",
       "  <thead>\n",
       "    <tr style=\"text-align: right;\">\n",
       "      <th></th>\n",
       "      <th>children</th>\n",
       "      <th>days_employed</th>\n",
       "      <th>dob_years</th>\n",
       "      <th>education_id</th>\n",
       "      <th>family_status_id</th>\n",
       "      <th>gender</th>\n",
       "      <th>income_type</th>\n",
       "      <th>debt</th>\n",
       "      <th>total_income</th>\n",
       "      <th>purpose</th>\n",
       "      <th>total_income_category</th>\n",
       "    </tr>\n",
       "  </thead>\n",
       "  <tbody>\n",
       "    <tr>\n",
       "      <th>0</th>\n",
       "      <td>1</td>\n",
       "      <td>8437</td>\n",
       "      <td>42</td>\n",
       "      <td>0</td>\n",
       "      <td>0</td>\n",
       "      <td>F</td>\n",
       "      <td>сотрудник</td>\n",
       "      <td>0</td>\n",
       "      <td>253875</td>\n",
       "      <td>покупка жилья</td>\n",
       "      <td>B</td>\n",
       "    </tr>\n",
       "    <tr>\n",
       "      <th>1</th>\n",
       "      <td>1</td>\n",
       "      <td>4024</td>\n",
       "      <td>36</td>\n",
       "      <td>1</td>\n",
       "      <td>0</td>\n",
       "      <td>F</td>\n",
       "      <td>сотрудник</td>\n",
       "      <td>0</td>\n",
       "      <td>112080</td>\n",
       "      <td>приобретение автомобиля</td>\n",
       "      <td>C</td>\n",
       "    </tr>\n",
       "    <tr>\n",
       "      <th>2</th>\n",
       "      <td>0</td>\n",
       "      <td>5623</td>\n",
       "      <td>33</td>\n",
       "      <td>1</td>\n",
       "      <td>0</td>\n",
       "      <td>M</td>\n",
       "      <td>сотрудник</td>\n",
       "      <td>0</td>\n",
       "      <td>145885</td>\n",
       "      <td>покупка жилья</td>\n",
       "      <td>C</td>\n",
       "    </tr>\n",
       "    <tr>\n",
       "      <th>3</th>\n",
       "      <td>3</td>\n",
       "      <td>4124</td>\n",
       "      <td>32</td>\n",
       "      <td>1</td>\n",
       "      <td>0</td>\n",
       "      <td>M</td>\n",
       "      <td>сотрудник</td>\n",
       "      <td>0</td>\n",
       "      <td>267628</td>\n",
       "      <td>дополнительное образование</td>\n",
       "      <td>B</td>\n",
       "    </tr>\n",
       "    <tr>\n",
       "      <th>4</th>\n",
       "      <td>0</td>\n",
       "      <td>14177</td>\n",
       "      <td>53</td>\n",
       "      <td>1</td>\n",
       "      <td>1</td>\n",
       "      <td>F</td>\n",
       "      <td>пенсионер</td>\n",
       "      <td>0</td>\n",
       "      <td>158616</td>\n",
       "      <td>сыграть свадьбу</td>\n",
       "      <td>C</td>\n",
       "    </tr>\n",
       "  </tbody>\n",
       "</table>\n",
       "</div>"
      ],
      "text/plain": [
       "   children  days_employed  dob_years  education_id  family_status_id gender  \\\n",
       "0         1           8437         42             0                 0      F   \n",
       "1         1           4024         36             1                 0      F   \n",
       "2         0           5623         33             1                 0      M   \n",
       "3         3           4124         32             1                 0      M   \n",
       "4         0          14177         53             1                 1      F   \n",
       "\n",
       "  income_type  debt  total_income                     purpose  \\\n",
       "0   сотрудник     0        253875               покупка жилья   \n",
       "1   сотрудник     0        112080     приобретение автомобиля   \n",
       "2   сотрудник     0        145885               покупка жилья   \n",
       "3   сотрудник     0        267628  дополнительное образование   \n",
       "4   пенсионер     0        158616             сыграть свадьбу   \n",
       "\n",
       "  total_income_category  \n",
       "0                     B  \n",
       "1                     C  \n",
       "2                     C  \n",
       "3                     B  \n",
       "4                     C  "
      ]
     },
     "execution_count": 47,
     "metadata": {},
     "output_type": "execute_result"
    }
   ],
   "source": [
    "data.head()"
   ]
  },
  {
   "cell_type": "markdown",
   "id": "2a38b5bd",
   "metadata": {},
   "source": [
    "### Категоризация целей кредита."
   ]
  },
  {
   "cell_type": "code",
   "execution_count": 48,
   "id": "ed3f4926",
   "metadata": {},
   "outputs": [],
   "source": [
    "def get_purpose_category(purpose):\n",
    "    substrings = {'жиль': 'операции с недвижимостью',\n",
    "                  'автомобил': 'операции с автомобилем',\n",
    "                  'образов': 'получение образования',\n",
    "                  'свадьб': 'проведение свадьбы',\n",
    "                  'недвижимост': 'операции с недвижимостью'}\n",
    "    try:\n",
    "        string = purpose.lower()\n",
    "        for substring in substrings:\n",
    "            if substring in string:\n",
    "                return substrings[substring]\n",
    "    except:\n",
    "        return 'неверный формат ввода'"
   ]
  },
  {
   "cell_type": "code",
   "execution_count": 49,
   "id": "2777e7a9",
   "metadata": {},
   "outputs": [],
   "source": [
    "data['purpose_category'] = data['purpose'].apply(get_purpose_category)"
   ]
  },
  {
   "cell_type": "code",
   "execution_count": 50,
   "id": "53499e58",
   "metadata": {},
   "outputs": [
    {
     "data": {
      "text/html": [
       "<div>\n",
       "<style scoped>\n",
       "    .dataframe tbody tr th:only-of-type {\n",
       "        vertical-align: middle;\n",
       "    }\n",
       "\n",
       "    .dataframe tbody tr th {\n",
       "        vertical-align: top;\n",
       "    }\n",
       "\n",
       "    .dataframe thead th {\n",
       "        text-align: right;\n",
       "    }\n",
       "</style>\n",
       "<table border=\"1\" class=\"dataframe\">\n",
       "  <thead>\n",
       "    <tr style=\"text-align: right;\">\n",
       "      <th></th>\n",
       "      <th>children</th>\n",
       "      <th>days_employed</th>\n",
       "      <th>dob_years</th>\n",
       "      <th>education_id</th>\n",
       "      <th>family_status_id</th>\n",
       "      <th>gender</th>\n",
       "      <th>income_type</th>\n",
       "      <th>debt</th>\n",
       "      <th>total_income</th>\n",
       "      <th>purpose</th>\n",
       "      <th>total_income_category</th>\n",
       "      <th>purpose_category</th>\n",
       "    </tr>\n",
       "  </thead>\n",
       "  <tbody>\n",
       "    <tr>\n",
       "      <th>0</th>\n",
       "      <td>1</td>\n",
       "      <td>8437</td>\n",
       "      <td>42</td>\n",
       "      <td>0</td>\n",
       "      <td>0</td>\n",
       "      <td>F</td>\n",
       "      <td>сотрудник</td>\n",
       "      <td>0</td>\n",
       "      <td>253875</td>\n",
       "      <td>покупка жилья</td>\n",
       "      <td>B</td>\n",
       "      <td>операции с недвижимостью</td>\n",
       "    </tr>\n",
       "    <tr>\n",
       "      <th>1</th>\n",
       "      <td>1</td>\n",
       "      <td>4024</td>\n",
       "      <td>36</td>\n",
       "      <td>1</td>\n",
       "      <td>0</td>\n",
       "      <td>F</td>\n",
       "      <td>сотрудник</td>\n",
       "      <td>0</td>\n",
       "      <td>112080</td>\n",
       "      <td>приобретение автомобиля</td>\n",
       "      <td>C</td>\n",
       "      <td>операции с автомобилем</td>\n",
       "    </tr>\n",
       "    <tr>\n",
       "      <th>2</th>\n",
       "      <td>0</td>\n",
       "      <td>5623</td>\n",
       "      <td>33</td>\n",
       "      <td>1</td>\n",
       "      <td>0</td>\n",
       "      <td>M</td>\n",
       "      <td>сотрудник</td>\n",
       "      <td>0</td>\n",
       "      <td>145885</td>\n",
       "      <td>покупка жилья</td>\n",
       "      <td>C</td>\n",
       "      <td>операции с недвижимостью</td>\n",
       "    </tr>\n",
       "    <tr>\n",
       "      <th>3</th>\n",
       "      <td>3</td>\n",
       "      <td>4124</td>\n",
       "      <td>32</td>\n",
       "      <td>1</td>\n",
       "      <td>0</td>\n",
       "      <td>M</td>\n",
       "      <td>сотрудник</td>\n",
       "      <td>0</td>\n",
       "      <td>267628</td>\n",
       "      <td>дополнительное образование</td>\n",
       "      <td>B</td>\n",
       "      <td>получение образования</td>\n",
       "    </tr>\n",
       "    <tr>\n",
       "      <th>4</th>\n",
       "      <td>0</td>\n",
       "      <td>14177</td>\n",
       "      <td>53</td>\n",
       "      <td>1</td>\n",
       "      <td>1</td>\n",
       "      <td>F</td>\n",
       "      <td>пенсионер</td>\n",
       "      <td>0</td>\n",
       "      <td>158616</td>\n",
       "      <td>сыграть свадьбу</td>\n",
       "      <td>C</td>\n",
       "      <td>проведение свадьбы</td>\n",
       "    </tr>\n",
       "  </tbody>\n",
       "</table>\n",
       "</div>"
      ],
      "text/plain": [
       "   children  days_employed  dob_years  education_id  family_status_id gender  \\\n",
       "0         1           8437         42             0                 0      F   \n",
       "1         1           4024         36             1                 0      F   \n",
       "2         0           5623         33             1                 0      M   \n",
       "3         3           4124         32             1                 0      M   \n",
       "4         0          14177         53             1                 1      F   \n",
       "\n",
       "  income_type  debt  total_income                     purpose  \\\n",
       "0   сотрудник     0        253875               покупка жилья   \n",
       "1   сотрудник     0        112080     приобретение автомобиля   \n",
       "2   сотрудник     0        145885               покупка жилья   \n",
       "3   сотрудник     0        267628  дополнительное образование   \n",
       "4   пенсионер     0        158616             сыграть свадьбу   \n",
       "\n",
       "  total_income_category          purpose_category  \n",
       "0                     B  операции с недвижимостью  \n",
       "1                     C    операции с автомобилем  \n",
       "2                     C  операции с недвижимостью  \n",
       "3                     B     получение образования  \n",
       "4                     C        проведение свадьбы  "
      ]
     },
     "metadata": {},
     "output_type": "display_data"
    },
    {
     "data": {
      "text/plain": [
       "array(['операции с недвижимостью', 'операции с автомобилем',\n",
       "       'получение образования', 'проведение свадьбы'], dtype=object)"
      ]
     },
     "execution_count": 50,
     "metadata": {},
     "output_type": "execute_result"
    }
   ],
   "source": [
    "display(data.head())\n",
    "data['purpose_category'].unique()"
   ]
  },
  {
   "cell_type": "code",
   "execution_count": 51,
   "id": "8c12288d",
   "metadata": {},
   "outputs": [
    {
     "name": "stdout",
     "output_type": "stream",
     "text": [
      "<class 'pandas.core.frame.DataFrame'>\n",
      "RangeIndex: 21454 entries, 0 to 21453\n",
      "Data columns (total 12 columns):\n",
      " #   Column                 Non-Null Count  Dtype   \n",
      "---  ------                 --------------  -----   \n",
      " 0   children               21454 non-null  uint8   \n",
      " 1   days_employed          21454 non-null  uint16  \n",
      " 2   dob_years              21454 non-null  uint8   \n",
      " 3   education_id           21454 non-null  uint8   \n",
      " 4   family_status_id       21454 non-null  uint8   \n",
      " 5   gender                 21454 non-null  category\n",
      " 6   income_type            21454 non-null  category\n",
      " 7   debt                   21454 non-null  uint8   \n",
      " 8   total_income           21454 non-null  uint32  \n",
      " 9   purpose                21454 non-null  object  \n",
      " 10  total_income_category  21454 non-null  category\n",
      " 11  purpose_category       21454 non-null  category\n",
      "dtypes: category(4), object(1), uint16(1), uint32(1), uint8(5)\n",
      "memory usage: 482.9+ KB\n"
     ]
    }
   ],
   "source": [
    "col_names = data.select_dtypes('object').drop('purpose', axis=1).columns\n",
    "data.loc[:, col_names] = data[col_names].astype('category')\n",
    "data.info()"
   ]
  },
  {
   "cell_type": "markdown",
   "id": "27a9fcfb",
   "metadata": {},
   "source": [
    "Использование памяти сократилось еще в два раза."
   ]
  },
  {
   "cell_type": "markdown",
   "id": "81dc3a59",
   "metadata": {},
   "source": [
    "### Ответы на вопросы."
   ]
  },
  {
   "cell_type": "markdown",
   "id": "7a626b7d",
   "metadata": {},
   "source": [
    "#### Вопрос 1:\n",
    "Есть ли зависимость между количеством детей и возвратом кредита в срок?"
   ]
  },
  {
   "cell_type": "code",
   "execution_count": 52,
   "id": "fa872910",
   "metadata": {
    "code_folding": []
   },
   "outputs": [
    {
     "name": "stdout",
     "output_type": "stream",
     "text": [
      "Вероятность, что случайно выбранный клиент не вернет кредит: 0.0811504\n"
     ]
    },
    {
     "data": {
      "text/html": [
       "<div>\n",
       "<style scoped>\n",
       "    .dataframe tbody tr th:only-of-type {\n",
       "        vertical-align: middle;\n",
       "    }\n",
       "\n",
       "    .dataframe tbody tr th {\n",
       "        vertical-align: top;\n",
       "    }\n",
       "\n",
       "    .dataframe thead th {\n",
       "        text-align: right;\n",
       "    }\n",
       "</style>\n",
       "<table border=\"1\" class=\"dataframe\">\n",
       "  <thead>\n",
       "    <tr style=\"text-align: right;\">\n",
       "      <th></th>\n",
       "      <th>children</th>\n",
       "      <th>risk_level</th>\n",
       "      <th>number_of_clients</th>\n",
       "    </tr>\n",
       "  </thead>\n",
       "  <tbody>\n",
       "    <tr>\n",
       "      <th>4</th>\n",
       "      <td>4</td>\n",
       "      <td>0.097561</td>\n",
       "      <td>41</td>\n",
       "    </tr>\n",
       "    <tr>\n",
       "      <th>2</th>\n",
       "      <td>2</td>\n",
       "      <td>0.094925</td>\n",
       "      <td>2128</td>\n",
       "    </tr>\n",
       "    <tr>\n",
       "      <th>1</th>\n",
       "      <td>1</td>\n",
       "      <td>0.091658</td>\n",
       "      <td>4855</td>\n",
       "    </tr>\n",
       "    <tr>\n",
       "      <th>3</th>\n",
       "      <td>3</td>\n",
       "      <td>0.081818</td>\n",
       "      <td>330</td>\n",
       "    </tr>\n",
       "    <tr>\n",
       "      <th>0</th>\n",
       "      <td>0</td>\n",
       "      <td>0.075438</td>\n",
       "      <td>14091</td>\n",
       "    </tr>\n",
       "    <tr>\n",
       "      <th>5</th>\n",
       "      <td>5</td>\n",
       "      <td>0.000000</td>\n",
       "      <td>9</td>\n",
       "    </tr>\n",
       "  </tbody>\n",
       "</table>\n",
       "</div>"
      ],
      "text/plain": [
       "   children  risk_level  number_of_clients\n",
       "4         4    0.097561                 41\n",
       "2         2    0.094925               2128\n",
       "1         1    0.091658               4855\n",
       "3         3    0.081818                330\n",
       "0         0    0.075438              14091\n",
       "5         5    0.000000                  9"
      ]
     },
     "metadata": {},
     "output_type": "display_data"
    },
    {
     "data": {
      "text/html": [
       "<div>\n",
       "<style scoped>\n",
       "    .dataframe tbody tr th:only-of-type {\n",
       "        vertical-align: middle;\n",
       "    }\n",
       "\n",
       "    .dataframe tbody tr th {\n",
       "        vertical-align: top;\n",
       "    }\n",
       "\n",
       "    .dataframe thead th {\n",
       "        text-align: right;\n",
       "    }\n",
       "</style>\n",
       "<table border=\"1\" class=\"dataframe\">\n",
       "  <thead>\n",
       "    <tr style=\"text-align: right;\">\n",
       "      <th></th>\n",
       "      <th>risk_level</th>\n",
       "      <th>number_of_clients</th>\n",
       "    </tr>\n",
       "    <tr>\n",
       "      <th>children</th>\n",
       "      <th></th>\n",
       "      <th></th>\n",
       "    </tr>\n",
       "  </thead>\n",
       "  <tbody>\n",
       "    <tr>\n",
       "      <th>4</th>\n",
       "      <td>0.097561</td>\n",
       "      <td>41</td>\n",
       "    </tr>\n",
       "    <tr>\n",
       "      <th>2</th>\n",
       "      <td>0.094925</td>\n",
       "      <td>2128</td>\n",
       "    </tr>\n",
       "    <tr>\n",
       "      <th>1</th>\n",
       "      <td>0.091658</td>\n",
       "      <td>4855</td>\n",
       "    </tr>\n",
       "    <tr>\n",
       "      <th>3</th>\n",
       "      <td>0.081818</td>\n",
       "      <td>330</td>\n",
       "    </tr>\n",
       "    <tr>\n",
       "      <th>0</th>\n",
       "      <td>0.075438</td>\n",
       "      <td>14091</td>\n",
       "    </tr>\n",
       "    <tr>\n",
       "      <th>5</th>\n",
       "      <td>0.000000</td>\n",
       "      <td>9</td>\n",
       "    </tr>\n",
       "  </tbody>\n",
       "</table>\n",
       "</div>"
      ],
      "text/plain": [
       "          risk_level  number_of_clients\n",
       "children                               \n",
       "4           0.097561                 41\n",
       "2           0.094925               2128\n",
       "1           0.091658               4855\n",
       "3           0.081818                330\n",
       "0           0.075438              14091\n",
       "5           0.000000                  9"
      ]
     },
     "metadata": {},
     "output_type": "display_data"
    }
   ],
   "source": [
    "default_prob = data[data['debt'] == 1].shape[0] / data.shape[0]\n",
    "print(f\"Вероятность, что случайно выбранный клиент не вернет кредит: {default_prob:.6}\")\n",
    "\n",
    "data_grouped = data.groupby('children', as_index=False).agg({'debt': [np.mean, 'size']}).droplevel(level=0, axis=1)\n",
    "data_grouped = data_grouped.rename({'': 'children',\n",
    "                                    'mean': 'risk_level',\n",
    "                                    'size': 'number_of_clients'}, axis=1).sort_values(by='risk_level', ascending=False)\n",
    "            \n",
    "\n",
    "display(data_grouped)\n",
    "\n",
    "data_pivo = data.pivot_table(values='debt', index='children', aggfunc=['mean', 'count']).droplevel(level=1, axis=1)\n",
    "data_pivo = data_pivo.rename({'mean': 'risk_level',\n",
    "                              'count': 'number_of_clients'}, axis=1).sort_values(by='risk_level', ascending=False)\n",
    "display(data_pivo)"
   ]
  },
  {
   "cell_type": "code",
   "execution_count": 53,
   "id": "f62ac55f",
   "metadata": {},
   "outputs": [
    {
     "data": {
      "image/png": "[encoded data removed]",
      "text/plain": [
       "<Figure size 648x648 with 1 Axes>"
      ]
     },
     "metadata": {
      "needs_background": "light"
     },
     "output_type": "display_data"
    }
   ],
   "source": [
    "sns.barplot(y='risk_level', x='children', data=data_grouped);"
   ]
  },
  {
   "cell_type": "markdown",
   "id": "ba5aba65",
   "metadata": {},
   "source": [
    "**Вывод:**  \n",
    "Наблюдается слабая прямая зависимость вероятности невозврата кредита в срок от количества детей.  \n",
    "Вероятности невозврата кредита для клиентов с разным количеством детей отличаются друг от друга примерно на 2%. Значение для клиентов с пятью детьми в расчет не берем в виду малого количества таких клиентов."
   ]
  },
  {
   "cell_type": "markdown",
   "id": "97791dfa",
   "metadata": {},
   "source": [
    "#### Вопрос 2:\n",
    "Есть ли зависимость между семейным положением и возвратом кредита в срок?"
   ]
  },
  {
   "cell_type": "code",
   "execution_count": 54,
   "id": "ee572f19",
   "metadata": {},
   "outputs": [
    {
     "data": {
      "text/html": [
       "<div>\n",
       "<style scoped>\n",
       "    .dataframe tbody tr th:only-of-type {\n",
       "        vertical-align: middle;\n",
       "    }\n",
       "\n",
       "    .dataframe tbody tr th {\n",
       "        vertical-align: top;\n",
       "    }\n",
       "\n",
       "    .dataframe thead th {\n",
       "        text-align: right;\n",
       "    }\n",
       "</style>\n",
       "<table border=\"1\" class=\"dataframe\">\n",
       "  <thead>\n",
       "    <tr style=\"text-align: right;\">\n",
       "      <th></th>\n",
       "      <th>family_status</th>\n",
       "      <th>risk_level</th>\n",
       "      <th>number_of_clients</th>\n",
       "    </tr>\n",
       "  </thead>\n",
       "  <tbody>\n",
       "    <tr>\n",
       "      <th>4</th>\n",
       "      <td>Не женат / не замужем</td>\n",
       "      <td>0.097509</td>\n",
       "      <td>2810</td>\n",
       "    </tr>\n",
       "    <tr>\n",
       "      <th>1</th>\n",
       "      <td>гражданский брак</td>\n",
       "      <td>0.093471</td>\n",
       "      <td>4151</td>\n",
       "    </tr>\n",
       "    <tr>\n",
       "      <th>0</th>\n",
       "      <td>женат / замужем</td>\n",
       "      <td>0.075452</td>\n",
       "      <td>12339</td>\n",
       "    </tr>\n",
       "    <tr>\n",
       "      <th>3</th>\n",
       "      <td>в разводе</td>\n",
       "      <td>0.071130</td>\n",
       "      <td>1195</td>\n",
       "    </tr>\n",
       "    <tr>\n",
       "      <th>2</th>\n",
       "      <td>вдовец / вдова</td>\n",
       "      <td>0.065693</td>\n",
       "      <td>959</td>\n",
       "    </tr>\n",
       "  </tbody>\n",
       "</table>\n",
       "</div>"
      ],
      "text/plain": [
       "           family_status  risk_level  number_of_clients\n",
       "4  Не женат / не замужем    0.097509               2810\n",
       "1       гражданский брак    0.093471               4151\n",
       "0        женат / замужем    0.075452              12339\n",
       "3              в разводе    0.071130               1195\n",
       "2         вдовец / вдова    0.065693                959"
      ]
     },
     "execution_count": 54,
     "metadata": {},
     "output_type": "execute_result"
    }
   ],
   "source": [
    "data_grouped = data.groupby('family_status_id', as_index=False).agg({'debt': [np.mean, 'size']}).droplevel(level=0, axis=1)\n",
    "data_grouped = data_grouped.rename({'': 'family_status',\n",
    "                                    'mean': 'risk_level',\n",
    "                                    'size': 'number_of_clients'}, axis=1).sort_values(by='risk_level', ascending=False)\n",
    "\n",
    "data_grouped['family_status'].replace(to_replace=family_dict['family_status_id'].values,\n",
    "                                      value=family_dict['family_status'].values,\n",
    "                                      inplace=True)\n",
    "\n",
    "data_grouped"
   ]
  },
  {
   "cell_type": "code",
   "execution_count": 55,
   "id": "c8463e1b",
   "metadata": {},
   "outputs": [
    {
     "data": {
      "image/png": "[encoded data removed]",
      "text/plain": [
       "<Figure size 648x648 with 1 Axes>"
      ]
     },
     "metadata": {
      "needs_background": "light"
     },
     "output_type": "display_data"
    }
   ],
   "source": [
    "sns.barplot(y='risk_level', x='family_status', data=data_grouped);"
   ]
  },
  {
   "cell_type": "markdown",
   "id": "b28c1be8",
   "metadata": {},
   "source": [
    "**Вывод:**  \n",
    "Холостые не отдают кредит чаще всего, в то время как люди, в жизни которых был или есть брак, являются более надежными клиентами."
   ]
  },
  {
   "cell_type": "markdown",
   "id": "ebce45b2",
   "metadata": {},
   "source": [
    "#### Вопрос 3:\n",
    "Есть ли зависимость между уровнем дохода и возвратом кредита в срок?"
   ]
  },
  {
   "cell_type": "code",
   "execution_count": 56,
   "id": "b3b2e922",
   "metadata": {},
   "outputs": [
    {
     "data": {
      "text/html": [
       "<div>\n",
       "<style scoped>\n",
       "    .dataframe tbody tr th:only-of-type {\n",
       "        vertical-align: middle;\n",
       "    }\n",
       "\n",
       "    .dataframe tbody tr th {\n",
       "        vertical-align: top;\n",
       "    }\n",
       "\n",
       "    .dataframe thead th {\n",
       "        text-align: right;\n",
       "    }\n",
       "</style>\n",
       "<table border=\"1\" class=\"dataframe\">\n",
       "  <thead>\n",
       "    <tr style=\"text-align: right;\">\n",
       "      <th></th>\n",
       "      <th>total_income</th>\n",
       "      <th>risk_level</th>\n",
       "      <th>number_of_clients</th>\n",
       "    </tr>\n",
       "  </thead>\n",
       "  <tbody>\n",
       "    <tr>\n",
       "      <th>4</th>\n",
       "      <td>0 – 30 000</td>\n",
       "      <td>0.090909</td>\n",
       "      <td>22</td>\n",
       "    </tr>\n",
       "    <tr>\n",
       "      <th>2</th>\n",
       "      <td>50 001 – 200 000</td>\n",
       "      <td>0.085116</td>\n",
       "      <td>15567</td>\n",
       "    </tr>\n",
       "    <tr>\n",
       "      <th>0</th>\n",
       "      <td>1 000 001 и выше</td>\n",
       "      <td>0.080000</td>\n",
       "      <td>25</td>\n",
       "    </tr>\n",
       "    <tr>\n",
       "      <th>1</th>\n",
       "      <td>200 001 – 1 000 000</td>\n",
       "      <td>0.071233</td>\n",
       "      <td>5489</td>\n",
       "    </tr>\n",
       "    <tr>\n",
       "      <th>3</th>\n",
       "      <td>30 001 – 50 000</td>\n",
       "      <td>0.059829</td>\n",
       "      <td>351</td>\n",
       "    </tr>\n",
       "  </tbody>\n",
       "</table>\n",
       "</div>"
      ],
      "text/plain": [
       "          total_income  risk_level  number_of_clients\n",
       "4           0 – 30 000    0.090909                 22\n",
       "2     50 001 – 200 000    0.085116              15567\n",
       "0     1 000 001 и выше    0.080000                 25\n",
       "1  200 001 – 1 000 000    0.071233               5489\n",
       "3      30 001 – 50 000    0.059829                351"
      ]
     },
     "execution_count": 56,
     "metadata": {},
     "output_type": "execute_result"
    }
   ],
   "source": [
    "data_grouped = data.groupby('total_income_category', as_index=False).agg({'debt': [np.mean, 'size']}).droplevel(level=0, axis=1)\n",
    "data_grouped = data_grouped.rename({'': 'total_income',\n",
    "                                    'mean': 'risk_level',\n",
    "                                    'size': 'number_of_clients'}, axis=1).sort_values(by='risk_level', ascending=False)\n",
    "\n",
    "data_grouped['total_income'].replace({'E': '0 – 30 000',\n",
    "                                      'D': '30 001 – 50 000',\n",
    "                                      'C': '50 001 – 200 000',\n",
    "                                      'B': '200 001 – 1 000 000',\n",
    "                                      'A': '1 000 001 и выше'},\n",
    "                                      inplace=True)\n",
    "data_grouped"
   ]
  },
  {
   "cell_type": "code",
   "execution_count": 57,
   "id": "1a4f415d",
   "metadata": {},
   "outputs": [
    {
     "data": {
      "image/png": "[encoded data removed]",
      "text/plain": [
       "<Figure size 648x648 with 1 Axes>"
      ]
     },
     "metadata": {
      "needs_background": "light"
     },
     "output_type": "display_data"
    }
   ],
   "source": [
    "sns.barplot(y='risk_level', x='total_income', data=data_grouped);"
   ]
  },
  {
   "cell_type": "markdown",
   "id": "503a839d",
   "metadata": {},
   "source": [
    "**Вывод 3:**  \n",
    "С увеличением заработка падает вероятность невозврата кредита.  \n",
    "Интересно, что люди с достатком выше 1 000 000 не отдают кредит чаще, чем люди с зарплатой от 200 000 до 1 000 000. Предполагаю, что такой результат связан с тем, что в выборке мало примеров людей с достатком категории A.  \n",
    "Аналогичная ситуация с людьми с зарплатой менее 30 000. Ожидается, что они будут не отдавать кредит в срок чаще всех, но по результатам моего исследования они являются самыми надежными клиентам. Также связываю это с нерепрезенетативностью выборки и малым количеством примеров людей с заработком менее 30 000."
   ]
  },
  {
   "cell_type": "markdown",
   "id": "e2894f70",
   "metadata": {},
   "source": [
    "#### Вопрос 4:\n",
    "Как разные цели кредита влияют на его возврат в срок?"
   ]
  },
  {
   "cell_type": "code",
   "execution_count": 58,
   "id": "861ddea3",
   "metadata": {},
   "outputs": [
    {
     "data": {
      "text/html": [
       "<div>\n",
       "<style scoped>\n",
       "    .dataframe tbody tr th:only-of-type {\n",
       "        vertical-align: middle;\n",
       "    }\n",
       "\n",
       "    .dataframe tbody tr th {\n",
       "        vertical-align: top;\n",
       "    }\n",
       "\n",
       "    .dataframe thead th {\n",
       "        text-align: right;\n",
       "    }\n",
       "</style>\n",
       "<table border=\"1\" class=\"dataframe\">\n",
       "  <thead>\n",
       "    <tr style=\"text-align: right;\">\n",
       "      <th></th>\n",
       "      <th>purpose_category</th>\n",
       "      <th>risk_level</th>\n",
       "      <th>number_of_clients</th>\n",
       "    </tr>\n",
       "  </thead>\n",
       "  <tbody>\n",
       "    <tr>\n",
       "      <th>0</th>\n",
       "      <td>операции с автомобилем</td>\n",
       "      <td>0.093590</td>\n",
       "      <td>4306</td>\n",
       "    </tr>\n",
       "    <tr>\n",
       "      <th>2</th>\n",
       "      <td>получение образования</td>\n",
       "      <td>0.092200</td>\n",
       "      <td>4013</td>\n",
       "    </tr>\n",
       "    <tr>\n",
       "      <th>3</th>\n",
       "      <td>проведение свадьбы</td>\n",
       "      <td>0.080034</td>\n",
       "      <td>2324</td>\n",
       "    </tr>\n",
       "    <tr>\n",
       "      <th>1</th>\n",
       "      <td>операции с недвижимостью</td>\n",
       "      <td>0.072334</td>\n",
       "      <td>10811</td>\n",
       "    </tr>\n",
       "  </tbody>\n",
       "</table>\n",
       "</div>"
      ],
      "text/plain": [
       "           purpose_category  risk_level  number_of_clients\n",
       "0    операции с автомобилем    0.093590               4306\n",
       "2     получение образования    0.092200               4013\n",
       "3        проведение свадьбы    0.080034               2324\n",
       "1  операции с недвижимостью    0.072334              10811"
      ]
     },
     "execution_count": 58,
     "metadata": {},
     "output_type": "execute_result"
    }
   ],
   "source": [
    "data_grouped = data.groupby('purpose_category', as_index=False).agg({'debt': [np.mean, 'size']}).droplevel(level=0, axis=1)\n",
    "data_grouped = data_grouped.rename({'': 'purpose_category',\n",
    "                                    'mean': 'risk_level',\n",
    "                                    'size': 'number_of_clients'}, axis=1).sort_values(by='risk_level', ascending=False)\n",
    "data_grouped"
   ]
  },
  {
   "cell_type": "code",
   "execution_count": 59,
   "id": "10ab6373",
   "metadata": {},
   "outputs": [
    {
     "data": {
      "image/png": "[encoded data removed]",
      "text/plain": [
       "<Figure size 648x648 with 1 Axes>"
      ]
     },
     "metadata": {
      "needs_background": "light"
     },
     "output_type": "display_data"
    }
   ],
   "source": [
    "sns.barplot(y='risk_level', x='purpose_category', data=data_grouped);"
   ]
  },
  {
   "cell_type": "markdown",
   "id": "a449765b",
   "metadata": {},
   "source": [
    "**Вывод 4:**  \n",
    "Наиболее ненадежными являются заемщики, целью которых являются операции с автомобилями и получение образование, в то время как люди, берущие кредит на свадьбу и недвижимость, отдают его чаще среднего."
   ]
  },
  {
   "cell_type": "markdown",
   "id": "fde12f7f",
   "metadata": {},
   "source": [
    "## Общий вывод:"
   ]
  },
  {
   "cell_type": "markdown",
   "id": "f03d414b",
   "metadata": {},
   "source": [
    "В предоставленном датасете имеются следующие проблемы:\n",
    "1) Пропуски в столбце с трудовым стажем всегда соответствуют пропускам в столбце с ежемесячным заработком;  \n",
    "2) Отсутствует единообразие сбора информации об уровне образования, что приводит к появлению неявных дубликатов;  \n",
    "3) Трудовой стаж расчитывается с ошибкой. Для некоторых клиентов он отрицательный, а для некоторых расчитан не в тех единицах измерения (часы вместо дней);  \n",
    "4) Присутствуют маловероятные, предположительно, ошибочные значения в столбцах с количеством детей (20 и -1) и возрастом (0);  \n",
    "5) В данных имеется проблема с явными дубликатами.  \n",
    "  \n",
    "После устранения указанных выше проблем удалось получить следующие результаты:\n",
    "1) При помощи использования более удачных типов данных удалось сократить использование памяти более чем в 4 раза;  \n",
    "2) Найдены и показаны зависимости невозврата кредита от некоторых характеристик клиента: с увеличенм количества детей в семье растет риск невозврата кредита, а люди никогда не бывшие в браке отдают кредит в срок реже женатых (замужних), разведенных и вдов (вдовцов);  \n",
    "3) Данные готовы для использования при построении модели кредитного скоринга."
   ]
  }
 ],
 "metadata": {
  "ExecuteTimeLog": [
   {
    "duration": 2067,
    "start_time": "2022-05-16T08:50:49.520Z"
   },
   {
    "duration": 203,
    "start_time": "2022-05-16T08:50:51.590Z"
   },
   {
    "duration": 0,
    "start_time": "2022-05-16T08:50:51.797Z"
   },
   {
    "duration": 0,
    "start_time": "2022-05-16T08:50:51.799Z"
   },
   {
    "duration": 0,
    "start_time": "2022-05-16T08:50:51.800Z"
   },
   {
    "duration": 0,
    "start_time": "2022-05-16T08:50:51.801Z"
   },
   {
    "duration": 0,
    "start_time": "2022-05-16T08:50:51.802Z"
   },
   {
    "duration": 0,
    "start_time": "2022-05-16T08:50:51.803Z"
   },
   {
    "duration": 0,
    "start_time": "2022-05-16T08:50:51.804Z"
   },
   {
    "duration": 0,
    "start_time": "2022-05-16T08:50:51.805Z"
   },
   {
    "duration": 0,
    "start_time": "2022-05-16T08:50:51.806Z"
   },
   {
    "duration": 0,
    "start_time": "2022-05-16T08:50:51.808Z"
   },
   {
    "duration": 0,
    "start_time": "2022-05-16T08:50:51.809Z"
   },
   {
    "duration": 0,
    "start_time": "2022-05-16T08:50:51.810Z"
   },
   {
    "duration": 0,
    "start_time": "2022-05-16T08:50:51.811Z"
   },
   {
    "duration": 0,
    "start_time": "2022-05-16T08:50:51.812Z"
   },
   {
    "duration": 0,
    "start_time": "2022-05-16T08:50:51.813Z"
   },
   {
    "duration": 0,
    "start_time": "2022-05-16T08:50:51.814Z"
   },
   {
    "duration": 0,
    "start_time": "2022-05-16T08:50:51.815Z"
   },
   {
    "duration": 0,
    "start_time": "2022-05-16T08:50:51.816Z"
   },
   {
    "duration": 0,
    "start_time": "2022-05-16T08:50:51.817Z"
   },
   {
    "duration": 0,
    "start_time": "2022-05-16T08:50:51.818Z"
   },
   {
    "duration": 0,
    "start_time": "2022-05-16T08:50:51.849Z"
   },
   {
    "duration": 0,
    "start_time": "2022-05-16T08:50:51.850Z"
   },
   {
    "duration": 0,
    "start_time": "2022-05-16T08:50:51.852Z"
   },
   {
    "duration": 0,
    "start_time": "2022-05-16T08:50:51.853Z"
   },
   {
    "duration": 0,
    "start_time": "2022-05-16T08:50:51.860Z"
   },
   {
    "duration": 0,
    "start_time": "2022-05-16T08:50:51.861Z"
   },
   {
    "duration": 0,
    "start_time": "2022-05-16T08:50:51.862Z"
   },
   {
    "duration": 0,
    "start_time": "2022-05-16T08:50:51.864Z"
   },
   {
    "duration": 0,
    "start_time": "2022-05-16T08:50:51.868Z"
   },
   {
    "duration": 0,
    "start_time": "2022-05-16T08:50:51.870Z"
   },
   {
    "duration": 0,
    "start_time": "2022-05-16T08:50:51.871Z"
   },
   {
    "duration": 0,
    "start_time": "2022-05-16T08:50:51.873Z"
   },
   {
    "duration": 0,
    "start_time": "2022-05-16T08:50:51.876Z"
   },
   {
    "duration": 0,
    "start_time": "2022-05-16T08:50:51.879Z"
   },
   {
    "duration": 0,
    "start_time": "2022-05-16T08:50:51.881Z"
   },
   {
    "duration": 0,
    "start_time": "2022-05-16T08:50:51.882Z"
   },
   {
    "duration": 0,
    "start_time": "2022-05-16T08:50:51.883Z"
   },
   {
    "duration": 0,
    "start_time": "2022-05-16T08:50:51.884Z"
   },
   {
    "duration": 0,
    "start_time": "2022-05-16T08:50:51.885Z"
   },
   {
    "duration": 0,
    "start_time": "2022-05-16T08:50:51.886Z"
   },
   {
    "duration": 0,
    "start_time": "2022-05-16T08:50:51.887Z"
   },
   {
    "duration": 0,
    "start_time": "2022-05-16T08:50:51.889Z"
   },
   {
    "duration": 0,
    "start_time": "2022-05-16T08:50:51.890Z"
   },
   {
    "duration": 0,
    "start_time": "2022-05-16T08:50:51.891Z"
   },
   {
    "duration": 0,
    "start_time": "2022-05-16T08:50:51.892Z"
   },
   {
    "duration": 0,
    "start_time": "2022-05-16T08:50:51.893Z"
   },
   {
    "duration": 0,
    "start_time": "2022-05-16T08:50:51.895Z"
   },
   {
    "duration": 0,
    "start_time": "2022-05-16T08:50:51.896Z"
   },
   {
    "duration": 0,
    "start_time": "2022-05-16T08:50:51.897Z"
   },
   {
    "duration": 0,
    "start_time": "2022-05-16T08:50:51.898Z"
   },
   {
    "duration": 0,
    "start_time": "2022-05-16T08:50:51.899Z"
   },
   {
    "duration": 0,
    "start_time": "2022-05-16T08:50:51.899Z"
   },
   {
    "duration": 0,
    "start_time": "2022-05-16T08:50:51.900Z"
   },
   {
    "duration": 0,
    "start_time": "2022-05-16T08:50:51.901Z"
   },
   {
    "duration": 0,
    "start_time": "2022-05-16T08:50:51.944Z"
   },
   {
    "duration": 0,
    "start_time": "2022-05-16T08:50:51.945Z"
   },
   {
    "duration": 0,
    "start_time": "2022-05-16T08:50:51.946Z"
   }
  ],
  "kernelspec": {
   "display_name": "Python 3 (ipykernel)",
   "language": "python",
   "name": "python3"
  },
  "language_info": {
   "codemirror_mode": {
    "name": "ipython",
    "version": 3
   },
   "file_extension": ".py",
   "mimetype": "text/x-python",
   "name": "python",
   "nbconvert_exporter": "python",
   "pygments_lexer": "ipython3",
   "version": "3.9.7"
  },
  "toc": {
   "base_numbering": 1,
   "nav_menu": {
    "height": "255px",
    "width": "400px"
   },
   "number_sections": true,
   "sideBar": true,
   "skip_h1_title": true,
   "title_cell": "Table of Contents",
   "title_sidebar": "Contents",
   "toc_cell": false,
   "toc_position": {},
   "toc_section_display": true,
   "toc_window_display": true
  },
  "varInspector": {
   "cols": {
    "lenName": 16,
    "lenType": 16,
    "lenVar": 40
   },
   "kernels_config": {
    "python": {
     "delete_cmd_postfix": "",
     "delete_cmd_prefix": "del ",
     "library": "var_list.py",
     "varRefreshCmd": "print(var_dic_list())"
    },
    "r": {
     "delete_cmd_postfix": ") ",
     "delete_cmd_prefix": "rm(",
     "library": "var_list.r",
     "varRefreshCmd": "cat(var_dic_list()) "
    }
   },
   "types_to_exclude": [
    "module",
    "function",
    "builtin_function_or_method",
    "instance",
    "_Feature"
   ],
   "window_display": false
  }
 },
 "nbformat": 4,
 "nbformat_minor": 5
}
