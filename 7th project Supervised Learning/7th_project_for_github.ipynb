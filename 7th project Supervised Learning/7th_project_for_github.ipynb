{
 "cells": [
  {
   "cell_type": "code",
   "execution_count": 162,
   "metadata": {
    "pycharm": {
     "name": "#%%\n"
    },
    "scrolled": true
   },
   "outputs": [],
   "source": [
    "import pandas as pd\n",
    "import numpy as np\n",
    "import seaborn as sns\n",
    "import matplotlib.pyplot as plt\n",
    "\n",
    "from sklearn.model_selection import train_test_split, StratifiedKFold\n",
    "from sklearn.preprocessing import StandardScaler\n",
    "from imblearn.over_sampling import SMOTE\n",
    "\n",
    "from sklearn.linear_model import LogisticRegression\n",
    "from sklearn.ensemble import RandomForestClassifier\n",
    "from sklearn.svm import SVC\n",
    "\n",
    "from sklearn.metrics import roc_auc_score, roc_curve, precision_recall_fscore_support, f1_score\n",
    "from sklearn.model_selection import RandomizedSearchCV, GridSearchCV"
   ]
  },
  {
   "cell_type": "markdown",
   "metadata": {
    "pycharm": {
     "name": "#%% md\n"
    }
   },
   "source": [
    "## Подготовка данных"
   ]
  },
  {
   "cell_type": "code",
   "execution_count": 163,
   "metadata": {
    "pycharm": {
     "name": "#%%\n"
    }
   },
   "outputs": [],
   "source": [
    "try:\n",
    "    data = pd.read_csv('Churn.csv')\n",
    "except:\n",
    "    data = pd.read_csv('/datasets/Churn.csv')"
   ]
  },
  {
   "cell_type": "code",
   "execution_count": 164,
   "metadata": {
    "pycharm": {
     "name": "#%%\n"
    }
   },
   "outputs": [
    {
     "data": {
      "text/html": [
       "<div>\n",
       "<style scoped>\n",
       "    .dataframe tbody tr th:only-of-type {\n",
       "        vertical-align: middle;\n",
       "    }\n",
       "\n",
       "    .dataframe tbody tr th {\n",
       "        vertical-align: top;\n",
       "    }\n",
       "\n",
       "    .dataframe thead th {\n",
       "        text-align: right;\n",
       "    }\n",
       "</style>\n",
       "<table border=\"1\" class=\"dataframe\">\n",
       "  <thead>\n",
       "    <tr style=\"text-align: right;\">\n",
       "      <th></th>\n",
       "      <th>RowNumber</th>\n",
       "      <th>CustomerId</th>\n",
       "      <th>Surname</th>\n",
       "      <th>CreditScore</th>\n",
       "      <th>Geography</th>\n",
       "      <th>Gender</th>\n",
       "      <th>Age</th>\n",
       "      <th>Tenure</th>\n",
       "      <th>Balance</th>\n",
       "      <th>NumOfProducts</th>\n",
       "      <th>HasCrCard</th>\n",
       "      <th>IsActiveMember</th>\n",
       "      <th>EstimatedSalary</th>\n",
       "      <th>Exited</th>\n",
       "    </tr>\n",
       "  </thead>\n",
       "  <tbody>\n",
       "    <tr>\n",
       "      <th>0</th>\n",
       "      <td>1</td>\n",
       "      <td>15634602</td>\n",
       "      <td>Hargrave</td>\n",
       "      <td>619</td>\n",
       "      <td>France</td>\n",
       "      <td>Female</td>\n",
       "      <td>42</td>\n",
       "      <td>2.0</td>\n",
       "      <td>0.00</td>\n",
       "      <td>1</td>\n",
       "      <td>1</td>\n",
       "      <td>1</td>\n",
       "      <td>101348.88</td>\n",
       "      <td>1</td>\n",
       "    </tr>\n",
       "    <tr>\n",
       "      <th>1</th>\n",
       "      <td>2</td>\n",
       "      <td>15647311</td>\n",
       "      <td>Hill</td>\n",
       "      <td>608</td>\n",
       "      <td>Spain</td>\n",
       "      <td>Female</td>\n",
       "      <td>41</td>\n",
       "      <td>1.0</td>\n",
       "      <td>83807.86</td>\n",
       "      <td>1</td>\n",
       "      <td>0</td>\n",
       "      <td>1</td>\n",
       "      <td>112542.58</td>\n",
       "      <td>0</td>\n",
       "    </tr>\n",
       "    <tr>\n",
       "      <th>2</th>\n",
       "      <td>3</td>\n",
       "      <td>15619304</td>\n",
       "      <td>Onio</td>\n",
       "      <td>502</td>\n",
       "      <td>France</td>\n",
       "      <td>Female</td>\n",
       "      <td>42</td>\n",
       "      <td>8.0</td>\n",
       "      <td>159660.80</td>\n",
       "      <td>3</td>\n",
       "      <td>1</td>\n",
       "      <td>0</td>\n",
       "      <td>113931.57</td>\n",
       "      <td>1</td>\n",
       "    </tr>\n",
       "    <tr>\n",
       "      <th>3</th>\n",
       "      <td>4</td>\n",
       "      <td>15701354</td>\n",
       "      <td>Boni</td>\n",
       "      <td>699</td>\n",
       "      <td>France</td>\n",
       "      <td>Female</td>\n",
       "      <td>39</td>\n",
       "      <td>1.0</td>\n",
       "      <td>0.00</td>\n",
       "      <td>2</td>\n",
       "      <td>0</td>\n",
       "      <td>0</td>\n",
       "      <td>93826.63</td>\n",
       "      <td>0</td>\n",
       "    </tr>\n",
       "    <tr>\n",
       "      <th>4</th>\n",
       "      <td>5</td>\n",
       "      <td>15737888</td>\n",
       "      <td>Mitchell</td>\n",
       "      <td>850</td>\n",
       "      <td>Spain</td>\n",
       "      <td>Female</td>\n",
       "      <td>43</td>\n",
       "      <td>2.0</td>\n",
       "      <td>125510.82</td>\n",
       "      <td>1</td>\n",
       "      <td>1</td>\n",
       "      <td>1</td>\n",
       "      <td>79084.10</td>\n",
       "      <td>0</td>\n",
       "    </tr>\n",
       "  </tbody>\n",
       "</table>\n",
       "</div>"
      ],
      "text/plain": [
       "   RowNumber  CustomerId   Surname  CreditScore Geography  Gender  Age  \\\n",
       "0          1    15634602  Hargrave          619    France  Female   42   \n",
       "1          2    15647311      Hill          608     Spain  Female   41   \n",
       "2          3    15619304      Onio          502    France  Female   42   \n",
       "3          4    15701354      Boni          699    France  Female   39   \n",
       "4          5    15737888  Mitchell          850     Spain  Female   43   \n",
       "\n",
       "   Tenure    Balance  NumOfProducts  HasCrCard  IsActiveMember  \\\n",
       "0     2.0       0.00              1          1               1   \n",
       "1     1.0   83807.86              1          0               1   \n",
       "2     8.0  159660.80              3          1               0   \n",
       "3     1.0       0.00              2          0               0   \n",
       "4     2.0  125510.82              1          1               1   \n",
       "\n",
       "   EstimatedSalary  Exited  \n",
       "0        101348.88       1  \n",
       "1        112542.58       0  \n",
       "2        113931.57       1  \n",
       "3         93826.63       0  \n",
       "4         79084.10       0  "
      ]
     },
     "execution_count": 164,
     "metadata": {},
     "output_type": "execute_result"
    }
   ],
   "source": [
    "data.head()"
   ]
  },
  {
   "cell_type": "code",
   "execution_count": 165,
   "metadata": {
    "pycharm": {
     "name": "#%%\n"
    }
   },
   "outputs": [
    {
     "name": "stdout",
     "output_type": "stream",
     "text": [
      "<class 'pandas.core.frame.DataFrame'>\n",
      "RangeIndex: 10000 entries, 0 to 9999\n",
      "Data columns (total 14 columns):\n",
      " #   Column           Non-Null Count  Dtype  \n",
      "---  ------           --------------  -----  \n",
      " 0   RowNumber        10000 non-null  int64  \n",
      " 1   CustomerId       10000 non-null  int64  \n",
      " 2   Surname          10000 non-null  object \n",
      " 3   CreditScore      10000 non-null  int64  \n",
      " 4   Geography        10000 non-null  object \n",
      " 5   Gender           10000 non-null  object \n",
      " 6   Age              10000 non-null  int64  \n",
      " 7   Tenure           9091 non-null   float64\n",
      " 8   Balance          10000 non-null  float64\n",
      " 9   NumOfProducts    10000 non-null  int64  \n",
      " 10  HasCrCard        10000 non-null  int64  \n",
      " 11  IsActiveMember   10000 non-null  int64  \n",
      " 12  EstimatedSalary  10000 non-null  float64\n",
      " 13  Exited           10000 non-null  int64  \n",
      "dtypes: float64(3), int64(8), object(3)\n",
      "memory usage: 1.1+ MB\n"
     ]
    }
   ],
   "source": [
    "data.info()"
   ]
  },
  {
   "cell_type": "code",
   "execution_count": 166,
   "metadata": {
    "pycharm": {
     "name": "#%%\n"
    }
   },
   "outputs": [
    {
     "data": {
      "text/html": [
       "<div>\n",
       "<style scoped>\n",
       "    .dataframe tbody tr th:only-of-type {\n",
       "        vertical-align: middle;\n",
       "    }\n",
       "\n",
       "    .dataframe tbody tr th {\n",
       "        vertical-align: top;\n",
       "    }\n",
       "\n",
       "    .dataframe thead th {\n",
       "        text-align: right;\n",
       "    }\n",
       "</style>\n",
       "<table border=\"1\" class=\"dataframe\">\n",
       "  <thead>\n",
       "    <tr style=\"text-align: right;\">\n",
       "      <th></th>\n",
       "      <th>RowNumber</th>\n",
       "      <th>CustomerId</th>\n",
       "      <th>CreditScore</th>\n",
       "      <th>Age</th>\n",
       "      <th>Tenure</th>\n",
       "      <th>Balance</th>\n",
       "      <th>NumOfProducts</th>\n",
       "      <th>HasCrCard</th>\n",
       "      <th>IsActiveMember</th>\n",
       "      <th>EstimatedSalary</th>\n",
       "      <th>Exited</th>\n",
       "    </tr>\n",
       "  </thead>\n",
       "  <tbody>\n",
       "    <tr>\n",
       "      <th>count</th>\n",
       "      <td>10000.00000</td>\n",
       "      <td>1.000000e+04</td>\n",
       "      <td>10000.000000</td>\n",
       "      <td>10000.000000</td>\n",
       "      <td>9091.000000</td>\n",
       "      <td>10000.000000</td>\n",
       "      <td>10000.000000</td>\n",
       "      <td>10000.00000</td>\n",
       "      <td>10000.000000</td>\n",
       "      <td>10000.000000</td>\n",
       "      <td>10000.000000</td>\n",
       "    </tr>\n",
       "    <tr>\n",
       "      <th>mean</th>\n",
       "      <td>5000.50000</td>\n",
       "      <td>1.569094e+07</td>\n",
       "      <td>650.528800</td>\n",
       "      <td>38.921800</td>\n",
       "      <td>4.997690</td>\n",
       "      <td>76485.889288</td>\n",
       "      <td>1.530200</td>\n",
       "      <td>0.70550</td>\n",
       "      <td>0.515100</td>\n",
       "      <td>100090.239881</td>\n",
       "      <td>0.203700</td>\n",
       "    </tr>\n",
       "    <tr>\n",
       "      <th>std</th>\n",
       "      <td>2886.89568</td>\n",
       "      <td>7.193619e+04</td>\n",
       "      <td>96.653299</td>\n",
       "      <td>10.487806</td>\n",
       "      <td>2.894723</td>\n",
       "      <td>62397.405202</td>\n",
       "      <td>0.581654</td>\n",
       "      <td>0.45584</td>\n",
       "      <td>0.499797</td>\n",
       "      <td>57510.492818</td>\n",
       "      <td>0.402769</td>\n",
       "    </tr>\n",
       "    <tr>\n",
       "      <th>min</th>\n",
       "      <td>1.00000</td>\n",
       "      <td>1.556570e+07</td>\n",
       "      <td>350.000000</td>\n",
       "      <td>18.000000</td>\n",
       "      <td>0.000000</td>\n",
       "      <td>0.000000</td>\n",
       "      <td>1.000000</td>\n",
       "      <td>0.00000</td>\n",
       "      <td>0.000000</td>\n",
       "      <td>11.580000</td>\n",
       "      <td>0.000000</td>\n",
       "    </tr>\n",
       "    <tr>\n",
       "      <th>25%</th>\n",
       "      <td>2500.75000</td>\n",
       "      <td>1.562853e+07</td>\n",
       "      <td>584.000000</td>\n",
       "      <td>32.000000</td>\n",
       "      <td>2.000000</td>\n",
       "      <td>0.000000</td>\n",
       "      <td>1.000000</td>\n",
       "      <td>0.00000</td>\n",
       "      <td>0.000000</td>\n",
       "      <td>51002.110000</td>\n",
       "      <td>0.000000</td>\n",
       "    </tr>\n",
       "    <tr>\n",
       "      <th>50%</th>\n",
       "      <td>5000.50000</td>\n",
       "      <td>1.569074e+07</td>\n",
       "      <td>652.000000</td>\n",
       "      <td>37.000000</td>\n",
       "      <td>5.000000</td>\n",
       "      <td>97198.540000</td>\n",
       "      <td>1.000000</td>\n",
       "      <td>1.00000</td>\n",
       "      <td>1.000000</td>\n",
       "      <td>100193.915000</td>\n",
       "      <td>0.000000</td>\n",
       "    </tr>\n",
       "    <tr>\n",
       "      <th>75%</th>\n",
       "      <td>7500.25000</td>\n",
       "      <td>1.575323e+07</td>\n",
       "      <td>718.000000</td>\n",
       "      <td>44.000000</td>\n",
       "      <td>7.000000</td>\n",
       "      <td>127644.240000</td>\n",
       "      <td>2.000000</td>\n",
       "      <td>1.00000</td>\n",
       "      <td>1.000000</td>\n",
       "      <td>149388.247500</td>\n",
       "      <td>0.000000</td>\n",
       "    </tr>\n",
       "    <tr>\n",
       "      <th>max</th>\n",
       "      <td>10000.00000</td>\n",
       "      <td>1.581569e+07</td>\n",
       "      <td>850.000000</td>\n",
       "      <td>92.000000</td>\n",
       "      <td>10.000000</td>\n",
       "      <td>250898.090000</td>\n",
       "      <td>4.000000</td>\n",
       "      <td>1.00000</td>\n",
       "      <td>1.000000</td>\n",
       "      <td>199992.480000</td>\n",
       "      <td>1.000000</td>\n",
       "    </tr>\n",
       "  </tbody>\n",
       "</table>\n",
       "</div>"
      ],
      "text/plain": [
       "         RowNumber    CustomerId   CreditScore           Age       Tenure  \\\n",
       "count  10000.00000  1.000000e+04  10000.000000  10000.000000  9091.000000   \n",
       "mean    5000.50000  1.569094e+07    650.528800     38.921800     4.997690   \n",
       "std     2886.89568  7.193619e+04     96.653299     10.487806     2.894723   \n",
       "min        1.00000  1.556570e+07    350.000000     18.000000     0.000000   \n",
       "25%     2500.75000  1.562853e+07    584.000000     32.000000     2.000000   \n",
       "50%     5000.50000  1.569074e+07    652.000000     37.000000     5.000000   \n",
       "75%     7500.25000  1.575323e+07    718.000000     44.000000     7.000000   \n",
       "max    10000.00000  1.581569e+07    850.000000     92.000000    10.000000   \n",
       "\n",
       "             Balance  NumOfProducts    HasCrCard  IsActiveMember  \\\n",
       "count   10000.000000   10000.000000  10000.00000    10000.000000   \n",
       "mean    76485.889288       1.530200      0.70550        0.515100   \n",
       "std     62397.405202       0.581654      0.45584        0.499797   \n",
       "min         0.000000       1.000000      0.00000        0.000000   \n",
       "25%         0.000000       1.000000      0.00000        0.000000   \n",
       "50%     97198.540000       1.000000      1.00000        1.000000   \n",
       "75%    127644.240000       2.000000      1.00000        1.000000   \n",
       "max    250898.090000       4.000000      1.00000        1.000000   \n",
       "\n",
       "       EstimatedSalary        Exited  \n",
       "count     10000.000000  10000.000000  \n",
       "mean     100090.239881      0.203700  \n",
       "std       57510.492818      0.402769  \n",
       "min          11.580000      0.000000  \n",
       "25%       51002.110000      0.000000  \n",
       "50%      100193.915000      0.000000  \n",
       "75%      149388.247500      0.000000  \n",
       "max      199992.480000      1.000000  "
      ]
     },
     "execution_count": 166,
     "metadata": {},
     "output_type": "execute_result"
    }
   ],
   "source": [
    "data.describe()"
   ]
  },
  {
   "cell_type": "code",
   "execution_count": 167,
   "metadata": {
    "pycharm": {
     "name": "#%%\n"
    }
   },
   "outputs": [
    {
     "data": {
      "text/plain": [
       "True"
      ]
     },
     "execution_count": 167,
     "metadata": {},
     "output_type": "execute_result"
    }
   ],
   "source": [
    "data['CustomerId'].nunique() == len(data)"
   ]
  },
  {
   "cell_type": "markdown",
   "metadata": {
    "pycharm": {
     "name": "#%% md\n"
    }
   },
   "source": [
    "**ВЫВОД:**  \n",
    "1) В признаке `Tenure` есть пропуски;  \n",
    "2) Признак `RowNumber` по сути копирует столбец с индексами, для решения задачи он не нужен;  \n",
    "3) Признак `Surname` не нужен, так как, во-первых, есть `CustomerId`, который однозначно идентифицирует клиента, а во-вторых, от него никак не может зависеть целевая переменная;  \n",
    "4) Количество уникальных значений `CustomerId` совпадает с размером выборки, значит этот признак так же для решения задачи не нужен;  \n",
    "5) В данных четыре категориальных признака: `Gender`, `Geography`, `HasCrCard`, и `IsActiveMember` (первые два не закодированы); остальные количественные;  \n",
    "6) Все признаки выглядят адекватно - нет отрицательных, слишком больших или слишком маленьких значений там, где их быть не должно;  \n",
    "7) Наблюдается сильный дисбаланс классов."
   ]
  },
  {
   "cell_type": "code",
   "execution_count": 168,
   "metadata": {
    "pycharm": {
     "name": "#%%\n"
    }
   },
   "outputs": [],
   "source": [
    "data['Tenure'].fillna(data['Tenure'].median(), inplace=True)"
   ]
  },
  {
   "cell_type": "code",
   "execution_count": 169,
   "metadata": {
    "pycharm": {
     "name": "#%%\n"
    }
   },
   "outputs": [],
   "source": [
    "try:\n",
    "    data.drop(['RowNumber', 'CustomerId', 'Surname'], inplace=True, axis=1)\n",
    "except:\n",
    "    pass"
   ]
  },
  {
   "cell_type": "code",
   "execution_count": 170,
   "metadata": {
    "pycharm": {
     "name": "#%%\n"
    }
   },
   "outputs": [],
   "source": [
    "data = pd.get_dummies(data, drop_first=True, columns=['Gender', 'Geography'])"
   ]
  },
  {
   "cell_type": "code",
   "execution_count": 171,
   "metadata": {
    "pycharm": {
     "name": "#%%\n"
    }
   },
   "outputs": [
    {
     "data": {
      "text/html": [
       "<div>\n",
       "<style scoped>\n",
       "    .dataframe tbody tr th:only-of-type {\n",
       "        vertical-align: middle;\n",
       "    }\n",
       "\n",
       "    .dataframe tbody tr th {\n",
       "        vertical-align: top;\n",
       "    }\n",
       "\n",
       "    .dataframe thead th {\n",
       "        text-align: right;\n",
       "    }\n",
       "</style>\n",
       "<table border=\"1\" class=\"dataframe\">\n",
       "  <thead>\n",
       "    <tr style=\"text-align: right;\">\n",
       "      <th></th>\n",
       "      <th>CreditScore</th>\n",
       "      <th>Age</th>\n",
       "      <th>Tenure</th>\n",
       "      <th>Balance</th>\n",
       "      <th>NumOfProducts</th>\n",
       "      <th>HasCrCard</th>\n",
       "      <th>IsActiveMember</th>\n",
       "      <th>EstimatedSalary</th>\n",
       "      <th>Exited</th>\n",
       "      <th>Gender_Male</th>\n",
       "      <th>Geography_Germany</th>\n",
       "      <th>Geography_Spain</th>\n",
       "    </tr>\n",
       "  </thead>\n",
       "  <tbody>\n",
       "    <tr>\n",
       "      <th>7068</th>\n",
       "      <td>699</td>\n",
       "      <td>54</td>\n",
       "      <td>3.0</td>\n",
       "      <td>111009.32</td>\n",
       "      <td>1</td>\n",
       "      <td>1</td>\n",
       "      <td>1</td>\n",
       "      <td>155905.79</td>\n",
       "      <td>1</td>\n",
       "      <td>0</td>\n",
       "      <td>1</td>\n",
       "      <td>0</td>\n",
       "    </tr>\n",
       "    <tr>\n",
       "      <th>7106</th>\n",
       "      <td>646</td>\n",
       "      <td>40</td>\n",
       "      <td>5.0</td>\n",
       "      <td>93680.43</td>\n",
       "      <td>2</td>\n",
       "      <td>1</td>\n",
       "      <td>1</td>\n",
       "      <td>179473.26</td>\n",
       "      <td>0</td>\n",
       "      <td>1</td>\n",
       "      <td>0</td>\n",
       "      <td>0</td>\n",
       "    </tr>\n",
       "    <tr>\n",
       "      <th>2369</th>\n",
       "      <td>648</td>\n",
       "      <td>54</td>\n",
       "      <td>7.0</td>\n",
       "      <td>118241.02</td>\n",
       "      <td>1</td>\n",
       "      <td>1</td>\n",
       "      <td>0</td>\n",
       "      <td>172586.89</td>\n",
       "      <td>1</td>\n",
       "      <td>0</td>\n",
       "      <td>0</td>\n",
       "      <td>1</td>\n",
       "    </tr>\n",
       "  </tbody>\n",
       "</table>\n",
       "</div>"
      ],
      "text/plain": [
       "      CreditScore  Age  Tenure    Balance  NumOfProducts  HasCrCard  \\\n",
       "7068          699   54     3.0  111009.32              1          1   \n",
       "7106          646   40     5.0   93680.43              2          1   \n",
       "2369          648   54     7.0  118241.02              1          1   \n",
       "\n",
       "      IsActiveMember  EstimatedSalary  Exited  Gender_Male  Geography_Germany  \\\n",
       "7068               1        155905.79       1            0                  1   \n",
       "7106               1        179473.26       0            1                  0   \n",
       "2369               0        172586.89       1            0                  0   \n",
       "\n",
       "      Geography_Spain  \n",
       "7068                0  \n",
       "7106                0  \n",
       "2369                1  "
      ]
     },
     "execution_count": 171,
     "metadata": {},
     "output_type": "execute_result"
    }
   ],
   "source": [
    "data.sample(3)"
   ]
  },
  {
   "cell_type": "code",
   "execution_count": 172,
   "metadata": {
    "pycharm": {
     "name": "#%%\n"
    }
   },
   "outputs": [
    {
     "name": "stdout",
     "output_type": "stream",
     "text": [
      "<class 'pandas.core.frame.DataFrame'>\n",
      "RangeIndex: 10000 entries, 0 to 9999\n",
      "Data columns (total 12 columns):\n",
      " #   Column             Non-Null Count  Dtype  \n",
      "---  ------             --------------  -----  \n",
      " 0   CreditScore        10000 non-null  int64  \n",
      " 1   Age                10000 non-null  int64  \n",
      " 2   Tenure             10000 non-null  float64\n",
      " 3   Balance            10000 non-null  float64\n",
      " 4   NumOfProducts      10000 non-null  int64  \n",
      " 5   HasCrCard          10000 non-null  int64  \n",
      " 6   IsActiveMember     10000 non-null  int64  \n",
      " 7   EstimatedSalary    10000 non-null  float64\n",
      " 8   Exited             10000 non-null  int64  \n",
      " 9   Gender_Male        10000 non-null  uint8  \n",
      " 10  Geography_Germany  10000 non-null  uint8  \n",
      " 11  Geography_Spain    10000 non-null  uint8  \n",
      "dtypes: float64(3), int64(6), uint8(3)\n",
      "memory usage: 732.5 KB\n"
     ]
    }
   ],
   "source": [
    "data.info()"
   ]
  },
  {
   "cell_type": "markdown",
   "metadata": {
    "pycharm": {
     "name": "#%% md\n"
    }
   },
   "source": [
    "Данные готовы к исследованию."
   ]
  },
  {
   "cell_type": "markdown",
   "metadata": {
    "pycharm": {
     "name": "#%% md\n"
    }
   },
   "source": [
    "## Исследование задачи"
   ]
  },
  {
   "cell_type": "markdown",
   "metadata": {
    "pycharm": {
     "name": "#%% md\n"
    }
   },
   "source": [
    "### Дисбаланс классов"
   ]
  },
  {
   "cell_type": "code",
   "execution_count": 173,
   "metadata": {
    "pycharm": {
     "name": "#%%\n"
    }
   },
   "outputs": [
    {
     "name": "stdout",
     "output_type": "stream",
     "text": [
      "Соотношение классов:\n",
      "0    0.7963\n",
      "1    0.2037\n",
      "Name: Exited, dtype: float64\n"
     ]
    },
    {
     "data": {
      "image/png": "[encoded data removed]",
      "text/plain": [
       "<Figure size 432x288 with 1 Axes>"
      ]
     },
     "metadata": {
      "needs_background": "light"
     },
     "output_type": "display_data"
    }
   ],
   "source": [
    "sns.countplot(x=data['Exited'])\n",
    "print('Соотношение классов:\\n',\n",
    "      data['Exited'].value_counts(normalize=True),\n",
    "      sep='')"
   ]
  },
  {
   "cell_type": "code",
   "execution_count": 174,
   "metadata": {
    "pycharm": {
     "name": "#%%\n"
    }
   },
   "outputs": [
    {
     "name": "stdout",
     "output_type": "stream",
     "text": [
      "Признаки:\n",
      "Train size: 6000, valid size: 2000, test size: 2000\n",
      "Ответы:\n",
      "Train size: 6000, valid size: 2000, test size: 2000\n"
     ]
    }
   ],
   "source": [
    "X = data.drop('Exited', axis=1)\n",
    "y = data['Exited']\n",
    "\n",
    "X_train, X_valid_test, y_train, y_valid_test = train_test_split(\n",
    "    X, y, test_size=0.4, random_state=45, stratify=y)\n",
    "\n",
    "X_valid, X_test, y_valid, y_test = train_test_split(X_valid_test,\n",
    "                                                    y_valid_test,\n",
    "                                                    test_size=0.5,\n",
    "                                                    random_state=45,\n",
    "                                                    stratify=y_valid_test)\n",
    "print('Признаки:')\n",
    "print(f'Train size: {X_train.shape[0]}, valid size: {X_valid.shape[0]}, test size: {X_test.shape[0]}')\n",
    "print('Ответы:')\n",
    "print(f'Train size: {y_train.shape[0]}, valid size: {y_valid.shape[0]}, test size: {y_test.shape[0]}')"
   ]
  },
  {
   "cell_type": "markdown",
   "metadata": {
    "pycharm": {
     "name": "#%% md\n"
    }
   },
   "source": [
    "### Прогноз без предварительной подготовки данных"
   ]
  },
  {
   "cell_type": "code",
   "execution_count": 175,
   "metadata": {
    "pycharm": {
     "name": "#%%\n"
    }
   },
   "outputs": [],
   "source": [
    "def calculate_metrics(y, predictions):\n",
    "    metrics = pd.DataFrame(precision_recall_fscore_support(y,\n",
    "                                                           predictions,\n",
    "                                                           zero_division=0),\n",
    "                           index=['precision', 'recall', 'f_score', 'support'])\n",
    "    return metrics"
   ]
  },
  {
   "cell_type": "code",
   "execution_count": 176,
   "metadata": {},
   "outputs": [],
   "source": [
    "def plot_roc_auc(y, pred):\n",
    "    fpr, tpr, _ = roc_curve(y, pred)\n",
    "    plt.figure()\n",
    "    lw = 2\n",
    "    plt.plot(\n",
    "        fpr,\n",
    "        tpr,\n",
    "        color=\"darkorange\",\n",
    "        lw=lw,\n",
    "        label='ROC-AUC = %0.4f' % roc_auc_score(y, pred),\n",
    "    )\n",
    "    plt.plot([0, 1], [0, 1], color=\"navy\", lw=lw, linestyle=\"--\")\n",
    "    plt.xlim([0.0, 1.0])\n",
    "    plt.ylim([0.0, 1.05])\n",
    "    plt.xlabel(\"False Positive Rate\")\n",
    "    plt.ylabel(\"True Positive Rate\")\n",
    "    plt.title(\"ROC кривая\")\n",
    "    plt.legend(loc=\"lower right\")\n",
    "    plt.show()"
   ]
  },
  {
   "cell_type": "code",
   "execution_count": 177,
   "metadata": {
    "pycharm": {
     "name": "#%%\n"
    }
   },
   "outputs": [],
   "source": [
    "lr = LogisticRegression(random_state=45, n_jobs=-1)\n",
    "rf = RandomForestClassifier(random_state=45, n_jobs=-1)\n",
    "svm = SVC(probability=True, random_state=45)"
   ]
  },
  {
   "cell_type": "markdown",
   "metadata": {
    "pycharm": {
     "name": "#%% md\n"
    }
   },
   "source": [
    "Проверим на немасштабированных признаках, не обращая внимания на дисбаланс классов."
   ]
  },
  {
   "cell_type": "markdown",
   "metadata": {
    "pycharm": {
     "name": "#%% md\n"
    }
   },
   "source": [
    "#### Логистическая регрессия"
   ]
  },
  {
   "cell_type": "code",
   "execution_count": 178,
   "metadata": {
    "pycharm": {
     "name": "#%%\n"
    },
    "scrolled": false
   },
   "outputs": [
    {
     "name": "stdout",
     "output_type": "stream",
     "text": [
      "                     0           1\n",
      "precision     0.801649    0.372881\n",
      "recall        0.976773    0.054054\n",
      "f_score       0.880589    0.094421\n",
      "support    1593.000000  407.000000\n"
     ]
    },
    {
     "data": {
      "image/png": "[encoded data removed]",
      "text/plain": [
       "<Figure size 432x288 with 1 Axes>"
      ]
     },
     "metadata": {
      "needs_background": "light"
     },
     "output_type": "display_data"
    }
   ],
   "source": [
    "lr.fit(X_train, y_train)\n",
    "lr_predictions = lr.predict(X_valid)\n",
    "\n",
    "print(calculate_metrics(y_valid, lr_predictions))\n",
    "plot_roc_auc(y_valid, lr.predict_proba(X_valid)[:, 1])"
   ]
  },
  {
   "cell_type": "markdown",
   "metadata": {
    "pycharm": {
     "name": "#%% md\n"
    }
   },
   "source": [
    "#### Случайный лес"
   ]
  },
  {
   "cell_type": "code",
   "execution_count": 181,
   "metadata": {
    "pycharm": {
     "name": "#%%\n"
    }
   },
   "outputs": [
    {
     "name": "stdout",
     "output_type": "stream",
     "text": [
      "                     0           1\n",
      "precision     0.882867    0.725352\n",
      "recall        0.951036    0.506143\n",
      "f_score       0.915684    0.596237\n",
      "support    1593.000000  407.000000\n"
     ]
    },
    {
     "data": {
      "image/png": "[encoded data removed]",
      "text/plain": [
       "<Figure size 432x288 with 1 Axes>"
      ]
     },
     "metadata": {
      "needs_background": "light"
     },
     "output_type": "display_data"
    }
   ],
   "source": [
    "rf.fit(X_train, y_train)\n",
    "rf_predictions = rf.predict(X_valid)\n",
    "\n",
    "print(calculate_metrics(y_valid, rf_predictions))\n",
    "plot_roc_auc(y_valid, rf.predict_proba(X_valid)[:, 1])"
   ]
  },
  {
   "cell_type": "markdown",
   "metadata": {
    "pycharm": {
     "name": "#%% md\n"
    }
   },
   "source": [
    "#### Метод опорных векторов"
   ]
  },
  {
   "cell_type": "code",
   "execution_count": 182,
   "metadata": {
    "pycharm": {
     "name": "#%%\n"
    }
   },
   "outputs": [
    {
     "name": "stdout",
     "output_type": "stream",
     "text": [
      "                     0      1\n",
      "precision     0.796500    0.0\n",
      "recall        1.000000    0.0\n",
      "f_score       0.886724    0.0\n",
      "support    1593.000000  407.0\n"
     ]
    },
    {
     "data": {
      "image/png": "[encoded data removed]",
      "text/plain": [
       "<Figure size 432x288 with 1 Axes>"
      ]
     },
     "metadata": {
      "needs_background": "light"
     },
     "output_type": "display_data"
    }
   ],
   "source": [
    "svm.fit(X_train, y_train)\n",
    "svm_predictions = svm.predict(X_valid)\n",
    "\n",
    "print(calculate_metrics(y_valid, svm_predictions))\n",
    "plot_roc_auc(y_valid, svm.predict_proba(X_valid)[:, 1])"
   ]
  },
  {
   "cell_type": "markdown",
   "metadata": {
    "pycharm": {
     "name": "#%% md\n"
    }
   },
   "source": [
    "**ВЫВОД:**\n",
    "Случайный лес показал наилучшие метрики на не подготовленных данных.\n",
    "Линейная модель показала результат не на много лучше случайного прогноза.\n",
    "Метод опорных векторов вообще не отличил классы друг от друга."
   ]
  },
  {
   "cell_type": "markdown",
   "metadata": {
    "pycharm": {
     "name": "#%% md\n"
    }
   },
   "source": [
    "### Предварительная обработка"
   ]
  },
  {
   "cell_type": "code",
   "execution_count": 183,
   "metadata": {
    "pycharm": {
     "name": "#%%\n"
    }
   },
   "outputs": [],
   "source": [
    "scaler = StandardScaler()"
   ]
  },
  {
   "cell_type": "code",
   "execution_count": 184,
   "metadata": {
    "pycharm": {
     "name": "#%%\n"
    }
   },
   "outputs": [],
   "source": [
    "X_train_scaled = scaler.fit_transform(X_train)\n",
    "X_valid_scaled = scaler.transform(X_valid)\n",
    "X_test_scaled = scaler.transform(X_test)"
   ]
  },
  {
   "cell_type": "markdown",
   "metadata": {
    "pycharm": {
     "name": "#%% md\n"
    }
   },
   "source": [
    "### Прогноз на обработанных данных"
   ]
  },
  {
   "cell_type": "markdown",
   "metadata": {
    "pycharm": {
     "name": "#%% md\n"
    }
   },
   "source": [
    "#### Логистическая регрессия"
   ]
  },
  {
   "cell_type": "code",
   "execution_count": 185,
   "metadata": {
    "pycharm": {
     "name": "#%%\n"
    },
    "scrolled": true
   },
   "outputs": [
    {
     "name": "stdout",
     "output_type": "stream",
     "text": [
      "                     0           1\n",
      "precision     0.826486    0.573333\n",
      "recall        0.959824    0.211302\n",
      "f_score       0.888179    0.308797\n",
      "support    1593.000000  407.000000\n"
     ]
    },
    {
     "data": {
      "image/png": "[encoded data removed]",
      "text/plain": [
       "<Figure size 432x288 with 1 Axes>"
      ]
     },
     "metadata": {
      "needs_background": "light"
     },
     "output_type": "display_data"
    }
   ],
   "source": [
    "lr.fit(X_train_scaled, y_train)\n",
    "lr_predictions_scaled = lr.predict(X_valid_scaled)\n",
    "\n",
    "print(calculate_metrics(y_valid, lr_predictions_scaled))\n",
    "plot_roc_auc(y_valid, lr.predict_proba(X_valid_scaled)[:, 1])"
   ]
  },
  {
   "cell_type": "markdown",
   "metadata": {
    "pycharm": {
     "name": "#%% md\n"
    }
   },
   "source": [
    "#### Случайны лес"
   ]
  },
  {
   "cell_type": "code",
   "execution_count": 186,
   "metadata": {
    "pycharm": {
     "name": "#%%\n"
    }
   },
   "outputs": [
    {
     "name": "stdout",
     "output_type": "stream",
     "text": [
      "                     0           1\n",
      "precision     0.882867    0.725352\n",
      "recall        0.951036    0.506143\n",
      "f_score       0.915684    0.596237\n",
      "support    1593.000000  407.000000\n"
     ]
    },
    {
     "data": {
      "image/png": "[encoded data removed]",
      "text/plain": [
       "<Figure size 432x288 with 1 Axes>"
      ]
     },
     "metadata": {
      "needs_background": "light"
     },
     "output_type": "display_data"
    }
   ],
   "source": [
    "rf.fit(X_train_scaled, y_train)\n",
    "rf_predictions_scaled = rf.predict(X_valid_scaled)\n",
    "\n",
    "print(calculate_metrics(y_valid, rf_predictions_scaled))\n",
    "plot_roc_auc(y_valid, rf.predict_proba(X_valid_scaled)[:, 1])"
   ]
  },
  {
   "cell_type": "markdown",
   "metadata": {
    "pycharm": {
     "name": "#%% md\n"
    }
   },
   "source": [
    "#### Метод опорных векторов"
   ]
  },
  {
   "cell_type": "code",
   "execution_count": 187,
   "metadata": {
    "pycharm": {
     "name": "#%%\n"
    }
   },
   "outputs": [
    {
     "name": "stdout",
     "output_type": "stream",
     "text": [
      "                     0           1\n",
      "precision     0.868287    0.753247\n",
      "recall        0.964218    0.427518\n",
      "f_score       0.913742    0.545455\n",
      "support    1593.000000  407.000000\n"
     ]
    },
    {
     "data": {
      "image/png": "[encoded data removed]",
      "text/plain": [
       "<Figure size 432x288 with 1 Axes>"
      ]
     },
     "metadata": {
      "needs_background": "light"
     },
     "output_type": "display_data"
    }
   ],
   "source": [
    "svm.fit(X_train_scaled, y_train)\n",
    "svm_predictions_scaled = svm.predict(X_valid_scaled)\n",
    "\n",
    "print(calculate_metrics(y_valid, svm_predictions_scaled))\n",
    "plot_roc_auc(y_valid, svm.predict_proba(X_valid_scaled)[:, 1])"
   ]
  },
  {
   "cell_type": "markdown",
   "metadata": {
    "pycharm": {
     "name": "#%% md\n"
    }
   },
   "source": [
    "**ВЫВОД:**\n",
    "На подготовленных данных случайный лес по прежнему показывает наилучшие результаты.\n",
    "Масштабирование признаков увеличило метрики для линейной модели.\n",
    "Результат работы метода опорных векторов по значениям метрик сравним со случайным лесом."
   ]
  },
  {
   "cell_type": "markdown",
   "metadata": {
    "pycharm": {
     "name": "#%% md\n"
    }
   },
   "source": [
    "В данных классы не сбалансированы, что негативно влияет на результат. Далее постараемся побороться с дисбалансом классов и оценим моделию."
   ]
  },
  {
   "cell_type": "markdown",
   "metadata": {
    "pycharm": {
     "name": "#%% md\n"
    }
   },
   "source": [
    "## Борьба с дисбалансом"
   ]
  },
  {
   "cell_type": "markdown",
   "metadata": {
    "pycharm": {
     "name": "#%% md\n"
    }
   },
   "source": [
    "### Upsampling"
   ]
  },
  {
   "cell_type": "markdown",
   "metadata": {
    "pycharm": {
     "name": "#%% md\n"
    }
   },
   "source": [
    "На практике метод upsampling реализуется при помощи указания параметра `class_weight='balanced'`, потому что в этом случае модель при обучении умножает потери на объекте меньшего класса на коэффициент несбалансированности классов, что равносильно повторному обучению на этом же объекте, что по сути является результатом метода upsampling."
   ]
  },
  {
   "cell_type": "code",
   "execution_count": 188,
   "metadata": {
    "pycharm": {
     "name": "#%%\n"
    }
   },
   "outputs": [],
   "source": [
    "lr_balanced = LogisticRegression(class_weight='balanced',\n",
    "                                 random_state=45,\n",
    "                                 n_jobs=-1)\n",
    "\n",
    "rf_balanced = RandomForestClassifier(class_weight='balanced',\n",
    "                                     random_state=45,\n",
    "                                     n_jobs=-1)\n",
    "\n",
    "svm_balanced = SVC(probability=True, class_weight='balanced', random_state=45)"
   ]
  },
  {
   "cell_type": "markdown",
   "metadata": {
    "pycharm": {
     "name": "#%% md\n"
    }
   },
   "source": [
    "#### Логистическая регрессия"
   ]
  },
  {
   "cell_type": "code",
   "execution_count": 189,
   "metadata": {
    "pycharm": {
     "name": "#%%\n"
    }
   },
   "outputs": [
    {
     "name": "stdout",
     "output_type": "stream",
     "text": [
      "                     0           1\n",
      "precision     0.906977    0.386454\n",
      "recall        0.709981    0.714988\n",
      "f_score       0.796479    0.501724\n",
      "support    1593.000000  407.000000\n"
     ]
    },
    {
     "data": {
      "image/png": "[encoded data removed]",
      "text/plain": [
       "<Figure size 432x288 with 1 Axes>"
      ]
     },
     "metadata": {
      "needs_background": "light"
     },
     "output_type": "display_data"
    }
   ],
   "source": [
    "lr_balanced.fit(X_train_scaled, y_train)\n",
    "lr_balanced_predictions = lr_balanced.predict(X_valid_scaled)\n",
    "\n",
    "print(calculate_metrics(y_valid, lr_balanced_predictions))\n",
    "plot_roc_auc(y_valid, lr_balanced.predict_proba(X_valid_scaled)[:, 1])"
   ]
  },
  {
   "cell_type": "markdown",
   "metadata": {
    "pycharm": {
     "name": "#%% md\n"
    }
   },
   "source": [
    "#### Случайный лес"
   ]
  },
  {
   "cell_type": "code",
   "execution_count": 190,
   "metadata": {
    "pycharm": {
     "name": "#%%\n"
    }
   },
   "outputs": [
    {
     "name": "stdout",
     "output_type": "stream",
     "text": [
      "                     0           1\n",
      "precision     0.880787    0.738971\n",
      "recall        0.955430    0.493857\n",
      "f_score       0.916591    0.592047\n",
      "support    1593.000000  407.000000\n"
     ]
    },
    {
     "data": {
      "image/png": "[encoded data removed]",
      "text/plain": [
       "<Figure size 432x288 with 1 Axes>"
      ]
     },
     "metadata": {
      "needs_background": "light"
     },
     "output_type": "display_data"
    }
   ],
   "source": [
    "rf_balanced.fit(X_train, y_train)\n",
    "rf_balanced_predictions = rf_balanced.predict(X_valid)\n",
    "\n",
    "print(calculate_metrics(y_valid, rf_balanced_predictions))\n",
    "plot_roc_auc(y_valid, rf_balanced.predict_proba(X_valid)[:, 1])"
   ]
  },
  {
   "cell_type": "markdown",
   "metadata": {
    "pycharm": {
     "name": "#%% md\n"
    }
   },
   "source": [
    "#### Метод опорных векторов"
   ]
  },
  {
   "cell_type": "code",
   "execution_count": 191,
   "metadata": {
    "pycharm": {
     "name": "#%%\n"
    },
    "scrolled": false
   },
   "outputs": [
    {
     "name": "stdout",
     "output_type": "stream",
     "text": [
      "                     0           1\n",
      "precision     0.926513    0.498366\n",
      "recall        0.807282    0.749386\n",
      "f_score       0.862798    0.598626\n",
      "support    1593.000000  407.000000\n"
     ]
    },
    {
     "data": {
      "image/png": "[encoded data removed]",
      "text/plain": [
       "<Figure size 432x288 with 1 Axes>"
      ]
     },
     "metadata": {
      "needs_background": "light"
     },
     "output_type": "display_data"
    }
   ],
   "source": [
    "svm_balanced.fit(X_train_scaled, y_train)\n",
    "svm_balanced_predictions = svm_balanced.predict(X_valid_scaled)\n",
    "\n",
    "print(calculate_metrics(y_valid, svm_balanced_predictions))\n",
    "plot_roc_auc(y_valid, svm_balanced.predict_proba(X_valid_scaled)[:, 1])"
   ]
  },
  {
   "cell_type": "markdown",
   "metadata": {
    "pycharm": {
     "name": "#%% md\n"
    }
   },
   "source": [
    "**ВЫВОД:**\n",
    "Метрики линейной модели и метода опорных векторов значительно выросли."
   ]
  },
  {
   "cell_type": "markdown",
   "metadata": {
    "pycharm": {
     "name": "#%% md\n"
    }
   },
   "source": [
    "### Threshold"
   ]
  },
  {
   "cell_type": "markdown",
   "metadata": {
    "pycharm": {
     "name": "#%% md\n"
    }
   },
   "source": [
    "Будем предсказывать вероятность класса и регулировать конечный результат отсечкой."
   ]
  },
  {
   "cell_type": "code",
   "execution_count": 192,
   "metadata": {
    "pycharm": {
     "name": "#%%\n"
    }
   },
   "outputs": [],
   "source": [
    "def tune_threshold(predictions_proba):\n",
    "    threshold_best = 0\n",
    "    f1_best = 0\n",
    "    for threshold in np.arange(0.1, 0.91, 0.1):\n",
    "        threshold_predictions_i = (predictions_proba > threshold).astype(int)\n",
    "        res = f1_score(y_valid, threshold_predictions_i)\n",
    "        if res > f1_best:\n",
    "            f1_best = res\n",
    "            threshold_best = threshold\n",
    "            threshold_predictions = threshold_predictions_i\n",
    "    print(f'Лучший порог: {threshold_best}\\nЛучшая f1-мера: {f1_best}')\n",
    "    return threshold_predictions"
   ]
  },
  {
   "cell_type": "code",
   "execution_count": 193,
   "metadata": {
    "pycharm": {
     "name": "#%%\n"
    }
   },
   "outputs": [],
   "source": [
    "lr_threshold = LogisticRegression(random_state=45, n_jobs=-1)\n",
    "rf_threshold = RandomForestClassifier(random_state=45, n_jobs=-1)\n",
    "svm_threshold = SVC(random_state=45, probability=True)"
   ]
  },
  {
   "cell_type": "code",
   "execution_count": 194,
   "metadata": {
    "pycharm": {
     "name": "#%%\n"
    }
   },
   "outputs": [
    {
     "data": {
      "text/plain": [
       "SVC(probability=True, random_state=45)"
      ]
     },
     "execution_count": 194,
     "metadata": {},
     "output_type": "execute_result"
    }
   ],
   "source": [
    "lr_threshold.fit(X_train_scaled, y_train)\n",
    "rf_threshold.fit(X_train, y_train)\n",
    "svm_threshold.fit(X_train_scaled, y_train)"
   ]
  },
  {
   "cell_type": "code",
   "execution_count": 195,
   "metadata": {
    "pycharm": {
     "name": "#%%\n"
    }
   },
   "outputs": [],
   "source": [
    "lr_threshold_predictions_proba = lr_threshold.predict_proba(X_valid_scaled)[:, 1]\n",
    "rf_threshold_predictions_proba = rf_threshold.predict_proba(X_valid)[:, 1]\n",
    "svm_threshold_predictions_proba = svm_threshold.predict_proba(X_valid_scaled)[:, 1]"
   ]
  },
  {
   "cell_type": "markdown",
   "metadata": {
    "pycharm": {
     "name": "#%% md\n"
    }
   },
   "source": [
    "#### Логистическая регрессия"
   ]
  },
  {
   "cell_type": "code",
   "execution_count": 196,
   "metadata": {
    "pycharm": {
     "name": "#%%\n"
    }
   },
   "outputs": [
    {
     "name": "stdout",
     "output_type": "stream",
     "text": [
      "Лучший порог: 0.30000000000000004\n",
      "Лучшая f1-мера: 0.5115740740740742\n",
      "\n",
      "                     0           1\n",
      "precision     0.879456    0.483589\n",
      "recall        0.851852    0.542998\n",
      "f_score       0.865434    0.511574\n",
      "support    1593.000000  407.000000\n"
     ]
    },
    {
     "data": {
      "image/png": "[encoded data removed]",
      "text/plain": [
       "<Figure size 432x288 with 1 Axes>"
      ]
     },
     "metadata": {
      "needs_background": "light"
     },
     "output_type": "display_data"
    }
   ],
   "source": [
    "lr_threshold_predictions = tune_threshold(lr_threshold_predictions_proba)\n",
    "print()\n",
    "print(calculate_metrics(y_valid, lr_threshold_predictions))\n",
    "plot_roc_auc(y_valid, lr_threshold_predictions_proba)"
   ]
  },
  {
   "cell_type": "markdown",
   "metadata": {
    "pycharm": {
     "name": "#%% md\n"
    }
   },
   "source": [
    "#### Случайный лес"
   ]
  },
  {
   "cell_type": "code",
   "execution_count": 197,
   "metadata": {
    "pycharm": {
     "name": "#%%\n"
    }
   },
   "outputs": [
    {
     "name": "stdout",
     "output_type": "stream",
     "text": [
      "Лучший порог: 0.4\n",
      "Лучшая f1-мера: 0.6352941176470588\n",
      "\n",
      "                     0           1\n",
      "precision     0.900122    0.678771\n",
      "recall        0.927809    0.597052\n",
      "f_score       0.913756    0.635294\n",
      "support    1593.000000  407.000000\n"
     ]
    },
    {
     "data": {
      "image/png": "[encoded data removed]",
      "text/plain": [
       "<Figure size 432x288 with 1 Axes>"
      ]
     },
     "metadata": {
      "needs_background": "light"
     },
     "output_type": "display_data"
    }
   ],
   "source": [
    "rf_threshold_predictions = tune_threshold(rf_threshold_predictions_proba)\n",
    "print()\n",
    "print(calculate_metrics(y_valid, rf_threshold_predictions))\n",
    "plot_roc_auc(y_valid, rf_threshold_predictions_proba)"
   ]
  },
  {
   "cell_type": "markdown",
   "metadata": {
    "pycharm": {
     "name": "#%% md\n"
    }
   },
   "source": [
    "#### Метод опорных векторов"
   ]
  },
  {
   "cell_type": "code",
   "execution_count": 199,
   "metadata": {
    "pycharm": {
     "name": "#%%\n"
    }
   },
   "outputs": [
    {
     "name": "stdout",
     "output_type": "stream",
     "text": [
      "Лучший порог: 0.2\n",
      "Лучшая f1-мера: 0.6125714285714284\n",
      "\n",
      "                     0           1\n",
      "precision     0.909269    0.572650\n",
      "recall        0.874451    0.658477\n",
      "f_score       0.891520    0.612571\n",
      "support    1593.000000  407.000000\n"
     ]
    },
    {
     "data": {
      "image/png": "[encoded data removed]",
      "text/plain": [
       "<Figure size 432x288 with 1 Axes>"
      ]
     },
     "metadata": {
      "needs_background": "light"
     },
     "output_type": "display_data"
    }
   ],
   "source": [
    "svm_threshold_predictions = tune_threshold(svm_threshold_predictions_proba)\n",
    "print()\n",
    "print(calculate_metrics(y_valid, svm_threshold_predictions))\n",
    "plot_roc_auc(y_valid, svm_threshold_predictions_proba)"
   ]
  },
  {
   "cell_type": "markdown",
   "metadata": {
    "pycharm": {
     "name": "#%% md\n"
    }
   },
   "source": [
    "### SMOTE"
   ]
  },
  {
   "cell_type": "markdown",
   "metadata": {
    "pycharm": {
     "name": "#%% md\n"
    }
   },
   "source": [
    "Попробуем побороться с дисбалансом при помощи генерации синтетических данных алгоритмом SMOTE."
   ]
  },
  {
   "cell_type": "code",
   "execution_count": 200,
   "metadata": {
    "pycharm": {
     "name": "#%%\n"
    }
   },
   "outputs": [],
   "source": [
    "smote = SMOTE(random_state=45, n_jobs=-1)\n",
    "\n",
    "X_train_smote, y_train_smote = smote.fit_resample(X_train_scaled, y_train)\n",
    "\n",
    "lr_smote = LogisticRegression(random_state=45, n_jobs=-1)\n",
    "rf_smote = RandomForestClassifier(random_state=45, n_jobs=-1)\n",
    "svm_smote = SVC(random_state=45, probability=True)"
   ]
  },
  {
   "cell_type": "markdown",
   "metadata": {
    "pycharm": {
     "name": "#%% md\n"
    }
   },
   "source": [
    "#### Логистическая регрессия"
   ]
  },
  {
   "cell_type": "code",
   "execution_count": 201,
   "metadata": {
    "pycharm": {
     "name": "#%%\n"
    }
   },
   "outputs": [
    {
     "name": "stdout",
     "output_type": "stream",
     "text": [
      "                     0           1\n",
      "precision     0.907482    0.385733\n",
      "recall        0.708098    0.717445\n",
      "f_score       0.795487    0.501718\n",
      "support    1593.000000  407.000000\n"
     ]
    },
    {
     "data": {
      "image/png": "[encoded data removed]",
      "text/plain": [
       "<Figure size 432x288 with 1 Axes>"
      ]
     },
     "metadata": {
      "needs_background": "light"
     },
     "output_type": "display_data"
    }
   ],
   "source": [
    "lr_smote.fit(X_train_smote, y_train_smote)\n",
    "lr_smote_predictions = lr_smote.predict(X_valid_scaled)\n",
    "\n",
    "print(calculate_metrics(y_valid, lr_smote_predictions))\n",
    "plot_roc_auc(y_valid, lr_smote.predict_proba(X_valid_scaled)[:, 1])"
   ]
  },
  {
   "cell_type": "markdown",
   "metadata": {
    "pycharm": {
     "name": "#%% md\n"
    }
   },
   "source": [
    "#### Случайный лес"
   ]
  },
  {
   "cell_type": "code",
   "execution_count": 202,
   "metadata": {
    "pycharm": {
     "name": "#%%\n"
    }
   },
   "outputs": [
    {
     "name": "stdout",
     "output_type": "stream",
     "text": [
      "                     0           1\n",
      "precision     0.903919    0.610048\n",
      "recall        0.897677    0.626536\n",
      "f_score       0.900787    0.618182\n",
      "support    1593.000000  407.000000\n"
     ]
    },
    {
     "data": {
      "image/png": "[encoded data removed]",
      "text/plain": [
       "<Figure size 432x288 with 1 Axes>"
      ]
     },
     "metadata": {
      "needs_background": "light"
     },
     "output_type": "display_data"
    }
   ],
   "source": [
    "rf_smote.fit(X_train_smote, y_train_smote)\n",
    "rf_smote_predictions = rf_smote.predict(X_valid_scaled)\n",
    "\n",
    "print(calculate_metrics(y_valid, rf_smote_predictions))\n",
    "plot_roc_auc(y_valid, rf_smote.predict_proba(X_valid_scaled)[:, 1])"
   ]
  },
  {
   "cell_type": "markdown",
   "metadata": {
    "pycharm": {
     "name": "#%% md\n"
    }
   },
   "source": [
    "#### Метод опорных векторов"
   ]
  },
  {
   "cell_type": "code",
   "execution_count": 203,
   "metadata": {
    "pycharm": {
     "name": "#%%\n"
    }
   },
   "outputs": [
    {
     "name": "stdout",
     "output_type": "stream",
     "text": [
      "                     0           1\n",
      "precision     0.922967    0.500000\n",
      "recall        0.812304    0.734644\n",
      "f_score       0.864107    0.595025\n",
      "support    1593.000000  407.000000\n"
     ]
    },
    {
     "data": {
      "image/png": "[encoded data removed]",
      "text/plain": [
       "<Figure size 432x288 with 1 Axes>"
      ]
     },
     "metadata": {
      "needs_background": "light"
     },
     "output_type": "display_data"
    }
   ],
   "source": [
    "svm_smote.fit(X_train_smote, y_train_smote)\n",
    "svm_smote_predictions = svm_smote.predict(X_valid_scaled)\n",
    "\n",
    "print(calculate_metrics(y_valid, svm_smote_predictions))\n",
    "plot_roc_auc(y_valid, svm_smote.predict_proba(X_valid_scaled)[:, 1])"
   ]
  },
  {
   "cell_type": "markdown",
   "metadata": {
    "pycharm": {
     "name": "#%% md\n"
    }
   },
   "source": [
    "## Выбор модели"
   ]
  },
  {
   "cell_type": "markdown",
   "metadata": {
    "pycharm": {
     "name": "#%% md\n"
    }
   },
   "source": [
    "По условию задания необходимо построить модель с наибольшим значением F1-меры.  \n",
    "Проследим f1-меру для каждой модели и каждой стратегии, после чего выберем лучшую."
   ]
  },
  {
   "cell_type": "code",
   "execution_count": 205,
   "metadata": {
    "pycharm": {
     "name": "#%%\n"
    }
   },
   "outputs": [
    {
     "name": "stdout",
     "output_type": "stream",
     "text": [
      "ЛОГИСТИЧЕСКАЯ РЕГРЕССИЯ\n",
      "\n",
      "Без масштабирования, без учета дисбаланса классов\n",
      "f1_мера:\n",
      "0    0.880589\n",
      "1    0.094421\n",
      "Name: f_score, dtype: float64\n",
      "\n",
      "Масштабированные признаки, без учета дисбаланса классов\n",
      "f1_мера:\n",
      "0    0.888179\n",
      "1    0.308797\n",
      "Name: f_score, dtype: float64\n",
      "\n",
      "Масштабированные признаки, upsampling\n",
      "f1_мера:\n",
      "0    0.796479\n",
      "1    0.501724\n",
      "Name: f_score, dtype: float64\n",
      "\n",
      "Масштабированные признаки, threshold\n",
      "f1_мера:\n",
      "0    0.865434\n",
      "1    0.511574\n",
      "Name: f_score, dtype: float64\n",
      "\n",
      "Масштабированные признаки, SMOTE\n",
      "f1_мера:\n",
      "0    0.795487\n",
      "1    0.501718\n",
      "Name: f_score, dtype: float64\n"
     ]
    }
   ],
   "source": [
    "print('ЛОГИСТИЧЕСКАЯ РЕГРЕССИЯ')\n",
    "print()\n",
    "print('Без масштабирования, без учета дисбаланса классов')\n",
    "print('f1_мера:')\n",
    "print(calculate_metrics(y_valid, lr_predictions).loc['f_score',: ].T)\n",
    "print()\n",
    "print('Масштабированные признаки, без учета дисбаланса классов')\n",
    "print('f1_мера:')\n",
    "print(calculate_metrics(y_valid, lr_predictions_scaled).loc['f_score',: ].T)\n",
    "print()\n",
    "print('Масштабированные признаки, upsampling')\n",
    "print('f1_мера:')\n",
    "print(calculate_metrics(y_valid, lr_balanced_predictions).loc['f_score',: ].T)\n",
    "print()\n",
    "print('Масштабированные признаки, threshold')\n",
    "print('f1_мера:')\n",
    "print(calculate_metrics(y_valid, lr_threshold_predictions).loc['f_score',: ].T)\n",
    "print()\n",
    "print('Масштабированные признаки, SMOTE')\n",
    "print('f1_мера:')\n",
    "print(calculate_metrics(y_valid, lr_smote_predictions).loc['f_score',: ].T)"
   ]
  },
  {
   "cell_type": "markdown",
   "metadata": {},
   "source": [
    "**ВЫВОД:**  \n",
    "Ни одна стратегия для модели логистической регрессии не показала требуемый результат. Эта модель не подходит для данной задачи."
   ]
  },
  {
   "cell_type": "code",
   "execution_count": 206,
   "metadata": {
    "pycharm": {
     "name": "#%%\n"
    }
   },
   "outputs": [
    {
     "name": "stdout",
     "output_type": "stream",
     "text": [
      "СЛУЧАЙНЫЙ ЛЕС\n",
      "\n",
      "Без масштабирования, без учета дисбаланса классов\n",
      "f1_мера:\n",
      "0    0.915684\n",
      "1    0.596237\n",
      "Name: f_score, dtype: float64\n",
      "\n",
      "Масштабированные признаки, без учета дисбаланса классов\n",
      "f1_мера:\n",
      "0    0.915684\n",
      "1    0.596237\n",
      "Name: f_score, dtype: float64\n",
      "\n",
      "Масштабированные признаки, upsampling\n",
      "f1_мера:\n",
      "0    0.916591\n",
      "1    0.592047\n",
      "Name: f_score, dtype: float64\n",
      "\n",
      "Масштабированные признаки, threshold\n",
      "f1_мера:\n",
      "0    0.913756\n",
      "1    0.635294\n",
      "Name: f_score, dtype: float64\n",
      "\n",
      "Масштабированные признаки, SMOTE\n",
      "f1_мера:\n",
      "0    0.900787\n",
      "1    0.618182\n",
      "Name: f_score, dtype: float64\n"
     ]
    }
   ],
   "source": [
    "print('СЛУЧАЙНЫЙ ЛЕС')\n",
    "print()\n",
    "print('Без масштабирования, без учета дисбаланса классов')\n",
    "print('f1_мера:')\n",
    "print(calculate_metrics(y_valid, rf_predictions).loc['f_score',: ].T)\n",
    "print()\n",
    "print('Масштабированные признаки, без учета дисбаланса классов')\n",
    "print('f1_мера:')\n",
    "print(calculate_metrics(y_valid, rf_predictions_scaled).loc['f_score',: ].T)\n",
    "print()\n",
    "print('Масштабированные признаки, upsampling')\n",
    "print('f1_мера:')\n",
    "print(calculate_metrics(y_valid, rf_balanced_predictions).loc['f_score',: ].T)\n",
    "print()\n",
    "print('Масштабированные признаки, threshold')\n",
    "print('f1_мера:')\n",
    "print(calculate_metrics(y_valid, rf_threshold_predictions).loc['f_score',: ].T)\n",
    "print()\n",
    "print('Масштабированные признаки, SMOTE')\n",
    "print('f1_мера:')\n",
    "print(calculate_metrics(y_valid, rf_smote_predictions).loc['f_score',: ].T)"
   ]
  },
  {
   "cell_type": "markdown",
   "metadata": {},
   "source": [
    "**ВЫВОД:**  \n",
    "Все стратегии обучения случайного леса показали результат выше требуемого f1-score == 0.59. При настройке порога отсечки результаты наилучшие. Выбираем эту стратегию для финальной настройки."
   ]
  },
  {
   "cell_type": "code",
   "execution_count": 207,
   "metadata": {
    "pycharm": {
     "name": "#%%\n"
    }
   },
   "outputs": [
    {
     "name": "stdout",
     "output_type": "stream",
     "text": [
      "МЕТОД ОПОРНЫХ ВЕКТОРОВ\n",
      "\n",
      "Без масштабирования, без учета дисбаланса классов\n",
      "f1_мера:\n",
      "0    0.886724\n",
      "1    0.000000\n",
      "Name: f_score, dtype: float64\n",
      "\n",
      "Масштабированные признаки, без учета дисбаланса классов\n",
      "f1_мера:\n",
      "0    0.913742\n",
      "1    0.545455\n",
      "Name: f_score, dtype: float64\n",
      "\n",
      "Масштабированные признаки, upsampling\n",
      "f1_мера:\n",
      "0    0.862798\n",
      "1    0.598626\n",
      "Name: f_score, dtype: float64\n",
      "\n",
      "Масштабированные признаки, threshold\n",
      "f1_мера:\n",
      "0    0.891520\n",
      "1    0.612571\n",
      "Name: f_score, dtype: float64\n",
      "\n",
      "Масштабированные признаки, SMOTE\n",
      "f1_мера:\n",
      "0    0.864107\n",
      "1    0.595025\n",
      "Name: f_score, dtype: float64\n"
     ]
    }
   ],
   "source": [
    "print('МЕТОД ОПОРНЫХ ВЕКТОРОВ')\n",
    "print()\n",
    "print('Без масштабирования, без учета дисбаланса классов')\n",
    "print('f1_мера:')\n",
    "print(calculate_metrics(y_valid, svm_predictions).loc['f_score',: ].T)\n",
    "print()\n",
    "print('Масштабированные признаки, без учета дисбаланса классов')\n",
    "print('f1_мера:')\n",
    "print(calculate_metrics(y_valid, svm_predictions_scaled).loc['f_score',: ].T)\n",
    "print()\n",
    "print('Масштабированные признаки, upsampling')\n",
    "print('f1_мера:')\n",
    "print(calculate_metrics(y_valid, svm_balanced_predictions).loc['f_score',: ].T)\n",
    "print()\n",
    "print('Масштабированные признаки, threshold')\n",
    "print('f1_мера:')\n",
    "print(calculate_metrics(y_valid, svm_threshold_predictions).loc['f_score',: ].T)\n",
    "print()\n",
    "print('Масштабированные признаки, SMOTE')\n",
    "print('f1_мера:')\n",
    "print(calculate_metrics(y_valid, svm_smote_predictions).loc['f_score',: ].T)"
   ]
  },
  {
   "cell_type": "markdown",
   "metadata": {},
   "source": [
    "**ВЫВОД:**  \n",
    "Для получения проходного результата на модели SVM необходимо как отмастабировать признаки, так и учесть дисбаланс классов. Наивысшее значение f1-меры достигается при настройке порога отсечки. Эта стратегия будет использована при фаинальной настройке."
   ]
  },
  {
   "cell_type": "markdown",
   "metadata": {
    "pycharm": {
     "name": "#%% md\n"
    }
   },
   "source": [
    "## Настройка гиперпараметров"
   ]
  },
  {
   "cell_type": "code",
   "execution_count": 209,
   "metadata": {
    "pycharm": {
     "name": "#%%\n"
    }
   },
   "outputs": [],
   "source": [
    "cv = StratifiedKFold(shuffle=True, random_state=45)"
   ]
  },
  {
   "cell_type": "markdown",
   "metadata": {
    "pycharm": {
     "name": "#%% md\n"
    }
   },
   "source": [
    "### Случайный лес"
   ]
  },
  {
   "cell_type": "markdown",
   "metadata": {},
   "source": [
    "#### SMOTE"
   ]
  },
  {
   "cell_type": "markdown",
   "metadata": {
    "pycharm": {
     "name": "#%% md\n"
    }
   },
   "source": [
    "#### Threshold"
   ]
  },
  {
   "cell_type": "code",
   "execution_count": 232,
   "metadata": {},
   "outputs": [],
   "source": [
    "# rf_final = RandomForestClassifier(n_jobs=-1, random_state=45, warm_start=True)\n",
    "# params = {\n",
    "#     'n_estimators': [n for n in range(100, 501, 100)],\n",
    "#     'max_depth': [8, 10, 12, None],\n",
    "#     'max_features': [6, 9, 'sqrt', None]\n",
    "# }"
   ]
  },
  {
   "cell_type": "code",
   "execution_count": 233,
   "metadata": {
    "pycharm": {
     "name": "#%%\n"
    }
   },
   "outputs": [
    {
     "name": "stdout",
     "output_type": "stream",
     "text": [
      "Fitting 5 folds for each of 27 candidates, totalling 135 fits\n",
      "Wall time: 1min 16s\n"
     ]
    },
    {
     "data": {
      "text/plain": [
       "GridSearchCV(cv=StratifiedKFold(n_splits=5, random_state=45, shuffle=True),\n",
       "             estimator=RandomForestClassifier(n_jobs=-1, random_state=45,\n",
       "                                              warm_start=True),\n",
       "             n_jobs=-1,\n",
       "             param_grid={'max_depth': [11, 12, 13], 'max_features': [5, 6, 7],\n",
       "                         'n_estimators': [190, 200, 210]},\n",
       "             scoring='f1', verbose=True)"
      ]
     },
     "execution_count": 233,
     "metadata": {},
     "output_type": "execute_result"
    }
   ],
   "source": [
    "# %%time\n",
    "# rf_cv = GridSearchCV(rf_final,\n",
    "#                           param_grid=params,\n",
    "#                           scoring='f1',\n",
    "#                           n_jobs=-1,\n",
    "#                           cv=cv,\n",
    "#                           verbose=True)\n",
    "# rf_cv.fit(X_train, y_train)"
   ]
  },
  {
   "cell_type": "markdown",
   "metadata": {},
   "source": [
    "Лучшие параметры на `GridSearch`: `n_estimators` = 200, `max_depth` = 12, `max_features` = 6.  \n",
    "Лучшая F1-мера на кросс валидации: 0.599329817224954  "
   ]
  },
  {
   "cell_type": "code",
   "execution_count": 243,
   "metadata": {},
   "outputs": [
    {
     "data": {
      "text/plain": [
       "RandomForestClassifier(max_depth=12, max_features=6, n_estimators=200,\n",
       "                       n_jobs=-1, random_state=45)"
      ]
     },
     "execution_count": 243,
     "metadata": {},
     "output_type": "execute_result"
    }
   ],
   "source": [
    "rf_final_tuned_threshold = RandomForestClassifier(n_estimators=200,\n",
    "                                                  max_depth=12,\n",
    "                                                  max_features=6,\n",
    "                                                  n_jobs=-1,\n",
    "                                                  random_state=45)\n",
    "rf_final_tuned_threshold.fit(X_train, y_train)"
   ]
  },
  {
   "cell_type": "code",
   "execution_count": 244,
   "metadata": {},
   "outputs": [
    {
     "name": "stdout",
     "output_type": "stream",
     "text": [
      "Лучший порог: 0.4\n",
      "Лучшая f1-мера: 0.62532981530343\n",
      "                     0           1\n",
      "precision     0.896907    0.675214\n",
      "recall        0.928437    0.582310\n",
      "f_score       0.912400    0.625330\n",
      "support    1593.000000  407.000000\n"
     ]
    },
    {
     "data": {
      "image/png": "[encoded data removed]",
      "text/plain": [
       "<Figure size 432x288 with 1 Axes>"
      ]
     },
     "metadata": {
      "needs_background": "light"
     },
     "output_type": "display_data"
    }
   ],
   "source": [
    "rf_final_predictions_proba = rf_final_tuned_threshold.predict_proba(X_valid)[:, 1]\n",
    "rf_final_predictions_threshold = tune_threshold(rf_final_predictions_proba)\n",
    "print(calculate_metrics(y_valid, rf_final_predictions_threshold))\n",
    "plot_roc_auc(y_valid, rf_final_predictions_proba)"
   ]
  },
  {
   "cell_type": "code",
   "execution_count": 236,
   "metadata": {},
   "outputs": [
    {
     "name": "stdout",
     "output_type": "stream",
     "text": [
      "Без настройки гиперпараметров\n",
      "                     0           1\n",
      "precision     0.900122    0.678771\n",
      "recall        0.927809    0.597052\n",
      "f_score       0.913756    0.635294\n",
      "support    1593.000000  407.000000\n"
     ]
    },
    {
     "data": {
      "image/png": "[encoded data removed]",
      "text/plain": [
       "<Figure size 432x288 with 1 Axes>"
      ]
     },
     "metadata": {
      "needs_background": "light"
     },
     "output_type": "display_data"
    }
   ],
   "source": [
    "print('Без настройки гиперпараметров')\n",
    "print(calculate_metrics(y_valid, rf_threshold_predictions))\n",
    "plot_roc_auc(y_valid, rf_threshold_predictions_proba)"
   ]
  },
  {
   "cell_type": "markdown",
   "metadata": {
    "pycharm": {
     "name": "#%% md\n"
    }
   },
   "source": [
    "### Метод опорных векторов"
   ]
  },
  {
   "cell_type": "markdown",
   "metadata": {
    "pycharm": {
     "name": "#%% md\n"
    }
   },
   "source": [
    "#### Thershold"
   ]
  },
  {
   "cell_type": "code",
   "execution_count": 247,
   "metadata": {
    "pycharm": {
     "name": "#%%\n"
    }
   },
   "outputs": [],
   "source": [
    "# svm_final = SVC(probability=True, random_state=45)\n",
    "# params = {\n",
    "#     'C': np.logspace(-2, 3, 6, endpoint=True),\n",
    "#     'gamma': ['scale', 'auto']\n",
    "# }\n",
    "\n",
    "# svm_cv = GridSearchCV(svm_final,\n",
    "#                       param_grid=params,\n",
    "#                       scoring='f1',\n",
    "#                       n_jobs=-1,\n",
    "#                       cv=cv,\n",
    "#                       verbose=True)"
   ]
  },
  {
   "cell_type": "code",
   "execution_count": 248,
   "metadata": {
    "pycharm": {
     "name": "#%%\n"
    }
   },
   "outputs": [
    {
     "name": "stdout",
     "output_type": "stream",
     "text": [
      "Fitting 5 folds for each of 12 candidates, totalling 60 fits\n",
      "Wall time: 3min 43s\n"
     ]
    },
    {
     "data": {
      "text/plain": [
       "GridSearchCV(cv=StratifiedKFold(n_splits=5, random_state=45, shuffle=True),\n",
       "             estimator=SVC(probability=True, random_state=45), n_jobs=-1,\n",
       "             param_grid={'C': array([1.e-02, 1.e-01, 1.e+00, 1.e+01, 1.e+02, 1.e+03]),\n",
       "                         'gamma': ['scale', 'auto']},\n",
       "             scoring='f1', verbose=True)"
      ]
     },
     "execution_count": 248,
     "metadata": {},
     "output_type": "execute_result"
    }
   ],
   "source": [
    "# %%time\n",
    "# svm_cv.fit(X_train_scaled, y_train)"
   ]
  },
  {
   "cell_type": "markdown",
   "metadata": {},
   "source": [
    "Лучшие параметры на `GridSearch`: `C` = 10, `gamma` = 'scale'.  \n",
    "Лучшая F1-мера на кросс валидации: 0.5577516904514563 "
   ]
  },
  {
   "cell_type": "code",
   "execution_count": 254,
   "metadata": {
    "pycharm": {
     "name": "#%%\n"
    }
   },
   "outputs": [
    {
     "data": {
      "text/plain": [
       "SVC(C=10, probability=True, random_state=45)"
      ]
     },
     "execution_count": 254,
     "metadata": {},
     "output_type": "execute_result"
    }
   ],
   "source": [
    "svm_final_tuned_threshold = SVC(C=10, gamma='scale', probability=True, random_state=45)\n",
    "svm_final_tuned_threshold.fit(X_train_scaled, y_train)"
   ]
  },
  {
   "cell_type": "code",
   "execution_count": 255,
   "metadata": {},
   "outputs": [
    {
     "name": "stdout",
     "output_type": "stream",
     "text": [
      "Лучший порог: 0.30000000000000004\n",
      "Лучшая f1-мера: 0.5994962216624685\n",
      "                     0           1\n",
      "precision     0.895226    0.614987\n",
      "recall        0.906466    0.584767\n",
      "f_score       0.900811    0.599496\n",
      "support    1593.000000  407.000000\n"
     ]
    },
    {
     "data": {
      "image/png": "[encoded data removed]",
      "text/plain": [
       "<Figure size 432x288 with 1 Axes>"
      ]
     },
     "metadata": {
      "needs_background": "light"
     },
     "output_type": "display_data"
    }
   ],
   "source": [
    "svm_final_predictions_proba = svm_final_tuned_threshold.predict_proba(X_valid_scaled)[:, 1]\n",
    "svm_final_predictions_threshold = tune_threshold(svm_final_predictions_proba)\n",
    "print(calculate_metrics(y_valid, svm_final_predictions_threshold))\n",
    "plot_roc_auc(y_valid, svm_final_predictions_proba)"
   ]
  },
  {
   "cell_type": "code",
   "execution_count": 256,
   "metadata": {},
   "outputs": [
    {
     "name": "stdout",
     "output_type": "stream",
     "text": [
      "Без настройки гиперпараметров\n",
      "                     0           1\n",
      "precision     0.909269    0.572650\n",
      "recall        0.874451    0.658477\n",
      "f_score       0.891520    0.612571\n",
      "support    1593.000000  407.000000\n"
     ]
    },
    {
     "data": {
      "image/png": "[encoded data removed]",
      "text/plain": [
       "<Figure size 432x288 with 1 Axes>"
      ]
     },
     "metadata": {
      "needs_background": "light"
     },
     "output_type": "display_data"
    }
   ],
   "source": [
    "print('Без настройки гиперпараметров')\n",
    "print(calculate_metrics(y_valid, svm_threshold_predictions))\n",
    "plot_roc_auc(y_valid, svm_threshold_predictions_proba)"
   ]
  },
  {
   "cell_type": "markdown",
   "metadata": {},
   "source": [
    "## Тестирование модели"
   ]
  },
  {
   "cell_type": "code",
   "execution_count": 267,
   "metadata": {},
   "outputs": [],
   "source": [
    "X = pd.concat([X_train, X_valid])\n",
    "y = pd.concat([y_train, y_valid])"
   ]
  },
  {
   "cell_type": "code",
   "execution_count": 274,
   "metadata": {},
   "outputs": [
    {
     "name": "stdout",
     "output_type": "stream",
     "text": [
      "f1-score= 0.5855728429985856\n"
     ]
    },
    {
     "data": {
      "image/png": "[encoded data removed]",
      "text/plain": [
       "<Figure size 432x288 with 1 Axes>"
      ]
     },
     "metadata": {
      "needs_background": "light"
     },
     "output_type": "display_data"
    }
   ],
   "source": [
    "model = RandomForestClassifier(random_state=45, n_jobs=-1)\n",
    "model.fit(X, y)\n",
    "predictions_proba = model.predict_proba(X_test)[:, 1]\n",
    "predictions = (predictions_proba > 0.4).astype(int)\n",
    "print('f1-score =',f1_score(y_test, predictions))\n",
    "plot_roc_auc(y_test, predictions_proba)"
   ]
  },
  {
   "cell_type": "code",
   "execution_count": 275,
   "metadata": {},
   "outputs": [
    {
     "name": "stdout",
     "output_type": "stream",
     "text": [
      "f1-score= 0.5910364145658263\n"
     ]
    },
    {
     "data": {
      "image/png": "[encoded data removed]",
      "text/plain": [
       "<Figure size 432x288 with 1 Axes>"
      ]
     },
     "metadata": {
      "needs_background": "light"
     },
     "output_type": "display_data"
    }
   ],
   "source": [
    "model = RandomForestClassifier(n_estimators=200,\n",
    "                               max_depth=12,\n",
    "                               max_features=6,\n",
    "                               n_jobs=-1,\n",
    "                               random_state=45)\n",
    "model.fit(X, y)\n",
    "predictions_proba = model.predict_proba(X_test)[:, 1]\n",
    "predictions = (predictions_proba > 0.4).astype(int)\n",
    "print('f1-score =',f1_score(y_test, predictions))\n",
    "plot_roc_auc(y_test, predictions_proba)"
   ]
  },
  {
   "cell_type": "markdown",
   "metadata": {},
   "source": [
    "## Общий вывод"
   ]
  },
  {
   "cell_type": "markdown",
   "metadata": {},
   "source": [
    "А пока ты, мой любимый ревьюер, ждешь, когда дотюнится мой SVM, почитай общий вывод по проекту :)  \n",
    "  \n",
    "На основе проделанной работы я рекомендую в качестве финальной модели \"Бета-Банку\" выбрать случайный лес, а с дисбалансом классов бороться при помощи алгоритма SMOTE. Для дальнейшего улучшения качества классификации нужно попробовать другие модели, в частности нейронные сети. Также будет полезно применить немного feature engineering.  \n",
    "  \n",
    "Я, честно говоря, не понимаю почему настройка гиперпараметров SVM ведет к ухудшению качества модели. Было бы здорово, если бы ты мне объяснил. Заранее благодарен.  \n",
    "Самое загадочное, что параметры \"по умолчанию\" были в сетке, модель через них проходила и на кросс-валидации не выбрала их как лучшие, а при проверке на холд ауте выдала плохой результат.  \n",
    "Также я заметил, что на кросс-валидации ROC-AUC у меня намного выше, чем на тесте. Это значит, что модель переобучилась. Почему? Как это исправить?  \n",
    "  \n",
    "**UPD:**  \n",
    "На тесте настроенная модель все-таки показала себя лучше.  \n",
    "Результатами я не доволен, не смотря на то, что получил целевую метрику больше требуемого порога.  \n",
    "Подскажи пожалуйста, как улучшить решение? На kaggle на этом датасете получают f1-меру 0.8. Хочется получить примерно такой же результат.  \n",
    "Да, там используется NN. Методами классического ML такое значение метрики не получить?"
   ]
  },
  {
   "cell_type": "markdown",
   "metadata": {
    "pycharm": {
     "name": "#%% md\n"
    }
   },
   "source": [
    "## Чек-лист готовности проекта"
   ]
  },
  {
   "cell_type": "markdown",
   "metadata": {
    "pycharm": {
     "name": "#%% md\n"
    }
   },
   "source": [
    "Поставьте 'x' в выполненных пунктах. Далее нажмите Shift+Enter."
   ]
  },
  {
   "cell_type": "markdown",
   "metadata": {
    "pycharm": {
     "name": "#%% md\n"
    }
   },
   "source": [
    "- [x]  Jupyter Notebook открыт\n",
    "- [x]  Весь код выполняется без ошибок\n",
    "- [x]  Ячейки с кодом расположены в порядке исполнения\n",
    "- [x]  Выполнен шаг 1: данные подготовлены\n",
    "- [x]  Выполнен шаг 2: задача исследована\n",
    "    - [x]  Исследован баланс классов\n",
    "    - [x]  Изучены модели без учёта дисбаланса\n",
    "    - [x]  Написаны выводы по результатам исследования\n",
    "- [x]  Выполнен шаг 3: учтён дисбаланс\n",
    "    - [x]  Применено несколько способов борьбы с дисбалансом\n",
    "    - [x]  Написаны выводы по результатам исследования\n",
    "- [x]  Выполнен шаг 4: проведено тестирование\n",
    "- [x]  Удалось достичь *F1*-меры не менее 0.59\n",
    "- [x]  Исследована метрика *AUC-ROC*"
   ]
  }
 ],
 "metadata": {
  "ExecuteTimeLog": [
   {
    "duration": 2785,
    "start_time": "2022-08-30T19:04:01.315Z"
   },
   {
    "duration": 0,
    "start_time": "2022-08-30T19:04:04.104Z"
   },
   {
    "duration": 0,
    "start_time": "2022-08-30T19:04:04.106Z"
   },
   {
    "duration": 0,
    "start_time": "2022-08-30T19:04:04.107Z"
   },
   {
    "duration": 0,
    "start_time": "2022-08-30T19:04:04.109Z"
   },
   {
    "duration": 0,
    "start_time": "2022-08-30T19:04:04.110Z"
   },
   {
    "duration": 0,
    "start_time": "2022-08-30T19:04:04.111Z"
   },
   {
    "duration": 0,
    "start_time": "2022-08-30T19:04:04.112Z"
   },
   {
    "duration": 0,
    "start_time": "2022-08-30T19:04:04.114Z"
   },
   {
    "duration": 0,
    "start_time": "2022-08-30T19:04:04.115Z"
   },
   {
    "duration": 0,
    "start_time": "2022-08-30T19:04:04.116Z"
   },
   {
    "duration": 0,
    "start_time": "2022-08-30T19:04:04.117Z"
   },
   {
    "duration": 0,
    "start_time": "2022-08-30T19:04:04.118Z"
   },
   {
    "duration": 0,
    "start_time": "2022-08-30T19:04:04.185Z"
   },
   {
    "duration": 0,
    "start_time": "2022-08-30T19:04:04.187Z"
   },
   {
    "duration": 0,
    "start_time": "2022-08-30T19:04:04.188Z"
   },
   {
    "duration": 0,
    "start_time": "2022-08-30T19:04:04.189Z"
   },
   {
    "duration": 0,
    "start_time": "2022-08-30T19:04:04.189Z"
   },
   {
    "duration": 0,
    "start_time": "2022-08-30T19:04:04.190Z"
   },
   {
    "duration": 0,
    "start_time": "2022-08-30T19:04:04.191Z"
   },
   {
    "duration": 0,
    "start_time": "2022-08-30T19:04:04.192Z"
   },
   {
    "duration": 0,
    "start_time": "2022-08-30T19:04:04.193Z"
   },
   {
    "duration": 0,
    "start_time": "2022-08-30T19:04:04.194Z"
   },
   {
    "duration": 0,
    "start_time": "2022-08-30T19:04:04.195Z"
   },
   {
    "duration": 0,
    "start_time": "2022-08-30T19:04:04.196Z"
   },
   {
    "duration": 0,
    "start_time": "2022-08-30T19:04:04.197Z"
   },
   {
    "duration": 0,
    "start_time": "2022-08-30T19:04:04.198Z"
   },
   {
    "duration": 0,
    "start_time": "2022-08-30T19:04:04.199Z"
   },
   {
    "duration": 0,
    "start_time": "2022-08-30T19:04:04.200Z"
   },
   {
    "duration": 0,
    "start_time": "2022-08-30T19:04:04.200Z"
   },
   {
    "duration": 0,
    "start_time": "2022-08-30T19:04:04.201Z"
   },
   {
    "duration": 0,
    "start_time": "2022-08-30T19:04:04.202Z"
   },
   {
    "duration": 0,
    "start_time": "2022-08-30T19:04:04.203Z"
   },
   {
    "duration": 0,
    "start_time": "2022-08-30T19:04:04.204Z"
   },
   {
    "duration": 0,
    "start_time": "2022-08-30T19:04:04.205Z"
   },
   {
    "duration": 0,
    "start_time": "2022-08-30T19:04:04.206Z"
   },
   {
    "duration": 0,
    "start_time": "2022-08-30T19:04:04.207Z"
   },
   {
    "duration": 0,
    "start_time": "2022-08-30T19:04:04.208Z"
   },
   {
    "duration": 0,
    "start_time": "2022-08-30T19:04:04.210Z"
   },
   {
    "duration": 0,
    "start_time": "2022-08-30T19:04:04.285Z"
   },
   {
    "duration": 0,
    "start_time": "2022-08-30T19:04:04.286Z"
   },
   {
    "duration": 0,
    "start_time": "2022-08-30T19:04:04.287Z"
   },
   {
    "duration": 0,
    "start_time": "2022-08-30T19:04:04.288Z"
   },
   {
    "duration": 0,
    "start_time": "2022-08-30T19:04:04.289Z"
   },
   {
    "duration": 0,
    "start_time": "2022-08-30T19:04:04.291Z"
   },
   {
    "duration": 0,
    "start_time": "2022-08-30T19:04:04.292Z"
   },
   {
    "duration": 0,
    "start_time": "2022-08-30T19:04:04.294Z"
   },
   {
    "duration": 0,
    "start_time": "2022-08-30T19:04:04.295Z"
   },
   {
    "duration": 0,
    "start_time": "2022-08-30T19:04:04.297Z"
   },
   {
    "duration": 0,
    "start_time": "2022-08-30T19:04:04.298Z"
   },
   {
    "duration": 0,
    "start_time": "2022-08-30T19:04:04.299Z"
   },
   {
    "duration": 0,
    "start_time": "2022-08-30T19:04:04.300Z"
   },
   {
    "duration": 0,
    "start_time": "2022-08-30T19:04:04.301Z"
   },
   {
    "duration": 7621,
    "start_time": "2022-08-30T19:05:20.043Z"
   },
   {
    "duration": 38,
    "start_time": "2022-08-30T19:07:15.070Z"
   },
   {
    "duration": 2841,
    "start_time": "2022-08-30T19:08:35.855Z"
   },
   {
    "duration": 2999,
    "start_time": "2022-08-30T19:09:57.055Z"
   },
   {
    "duration": 5543,
    "start_time": "2022-08-30T19:10:59.716Z"
   },
   {
    "duration": 30,
    "start_time": "2022-08-30T19:11:06.785Z"
   },
   {
    "duration": 9724,
    "start_time": "2022-08-30T19:11:58.907Z"
   },
   {
    "duration": 21,
    "start_time": "2022-08-30T19:12:09.755Z"
   },
   {
    "duration": 4609,
    "start_time": "2022-08-30T19:14:41.100Z"
   },
   {
    "duration": 1316,
    "start_time": "2022-08-30T19:14:45.711Z"
   },
   {
    "duration": 5,
    "start_time": "2022-08-30T19:14:52.869Z"
   },
   {
    "duration": 77,
    "start_time": "2022-08-30T19:14:55.930Z"
   },
   {
    "duration": 20,
    "start_time": "2022-08-30T19:14:56.378Z"
   },
   {
    "duration": 13,
    "start_time": "2022-08-30T19:14:56.729Z"
   },
   {
    "duration": 45,
    "start_time": "2022-08-30T19:14:57.220Z"
   },
   {
    "duration": 6,
    "start_time": "2022-08-30T19:14:57.377Z"
   },
   {
    "duration": 6,
    "start_time": "2022-08-30T19:14:57.691Z"
   },
   {
    "duration": 4,
    "start_time": "2022-08-30T19:14:57.844Z"
   },
   {
    "duration": 13,
    "start_time": "2022-08-30T19:14:57.995Z"
   },
   {
    "duration": 26,
    "start_time": "2022-08-30T19:14:58.139Z"
   },
   {
    "duration": 17,
    "start_time": "2022-08-30T19:14:58.282Z"
   },
   {
    "duration": 116,
    "start_time": "2022-08-30T19:14:58.852Z"
   },
   {
    "duration": 17,
    "start_time": "2022-08-30T19:14:59.002Z"
   },
   {
    "duration": 5,
    "start_time": "2022-08-30T19:14:59.315Z"
   },
   {
    "duration": 4,
    "start_time": "2022-08-30T19:14:59.478Z"
   },
   {
    "duration": 549,
    "start_time": "2022-08-30T19:14:59.938Z"
   },
   {
    "duration": 3560,
    "start_time": "2022-08-30T19:15:00.494Z"
   },
   {
    "duration": 1343,
    "start_time": "2022-08-30T19:15:04.056Z"
   },
   {
    "duration": 3,
    "start_time": "2022-08-30T19:15:05.401Z"
   },
   {
    "duration": 14,
    "start_time": "2022-08-30T19:15:05.406Z"
   },
   {
    "duration": 164,
    "start_time": "2022-08-30T19:15:05.422Z"
   },
   {
    "duration": 3415,
    "start_time": "2022-08-30T19:15:05.588Z"
   },
   {
    "duration": 1528,
    "start_time": "2022-08-30T19:15:09.005Z"
   },
   {
    "duration": 4,
    "start_time": "2022-08-30T19:15:10.535Z"
   },
   {
    "duration": 254,
    "start_time": "2022-08-30T19:15:10.541Z"
   },
   {
    "duration": 3179,
    "start_time": "2022-08-30T19:15:10.884Z"
   },
   {
    "duration": 2524,
    "start_time": "2022-08-30T19:15:14.065Z"
   },
   {
    "duration": 4,
    "start_time": "2022-08-30T19:15:16.591Z"
   },
   {
    "duration": 8,
    "start_time": "2022-08-30T19:15:16.597Z"
   },
   {
    "duration": 9726,
    "start_time": "2022-08-30T19:15:16.607Z"
   },
   {
    "duration": 457,
    "start_time": "2022-08-30T19:15:26.334Z"
   },
   {
    "duration": 36,
    "start_time": "2022-08-30T19:15:26.793Z"
   },
   {
    "duration": 53,
    "start_time": "2022-08-30T19:15:26.831Z"
   },
   {
    "duration": 32,
    "start_time": "2022-08-30T19:15:26.886Z"
   },
   {
    "duration": 44,
    "start_time": "2022-08-30T19:15:26.920Z"
   },
   {
    "duration": 110,
    "start_time": "2022-08-30T19:15:26.984Z"
   },
   {
    "duration": 6537,
    "start_time": "2022-08-30T19:15:27.096Z"
   },
   {
    "duration": 4962,
    "start_time": "2022-08-30T19:15:33.635Z"
   },
   {
    "duration": 35,
    "start_time": "2022-08-30T19:15:38.599Z"
   },
   {
    "duration": 57,
    "start_time": "2022-08-30T19:15:38.636Z"
   },
   {
    "duration": 35,
    "start_time": "2022-08-30T19:15:38.695Z"
   },
   {
    "duration": 2,
    "start_time": "2022-08-30T19:15:38.733Z"
   },
   {
    "duration": 8,
    "start_time": "2022-08-30T19:15:38.737Z"
   },
   {
    "duration": 2522839,
    "start_time": "2022-08-30T19:15:38.747Z"
   },
   {
    "duration": 302,
    "start_time": "2022-08-30T19:57:41.589Z"
   },
   {
    "duration": 2210720,
    "start_time": "2022-08-30T19:57:41.893Z"
   },
   {
    "duration": 141,
    "start_time": "2022-08-30T20:34:32.615Z"
   },
   {
    "duration": 4,
    "start_time": "2022-08-30T20:34:32.758Z"
   },
   {
    "duration": 554123,
    "start_time": "2022-08-30T20:34:32.764Z"
   },
   {
    "duration": 441,
    "start_time": "2022-08-30T20:43:46.890Z"
   },
   {
    "duration": 4,
    "start_time": "2022-08-30T20:43:47.332Z"
   }
  ],
  "kernelspec": {
   "display_name": "Python 3 (ipykernel)",
   "language": "python",
   "name": "python3"
  },
  "language_info": {
   "codemirror_mode": {
    "name": "ipython",
    "version": 3
   },
   "file_extension": ".py",
   "mimetype": "text/x-python",
   "name": "python",
   "nbconvert_exporter": "python",
   "pygments_lexer": "ipython3",
   "version": "3.9.7"
  },
  "toc": {
   "base_numbering": 1,
   "nav_menu": {},
   "number_sections": true,
   "sideBar": true,
   "skip_h1_title": true,
   "title_cell": "Содержание",
   "title_sidebar": "Contents",
   "toc_cell": true,
   "toc_position": {
    "height": "calc(100% - 180px)",
    "left": "10px",
    "top": "150px",
    "width": "384px"
   },
   "toc_section_display": true,
   "toc_window_display": true
  },
  "varInspector": {
   "cols": {
    "lenName": 16,
    "lenType": 16,
    "lenVar": 40
   },
   "kernels_config": {
    "python": {
     "delete_cmd_postfix": "",
     "delete_cmd_prefix": "del ",
     "library": "var_list.py",
     "varRefreshCmd": "print(var_dic_list())"
    },
    "r": {
     "delete_cmd_postfix": ") ",
     "delete_cmd_prefix": "rm(",
     "library": "var_list.r",
     "varRefreshCmd": "cat(var_dic_list()) "
    }
   },
   "types_to_exclude": [
    "module",
    "function",
    "builtin_function_or_method",
    "instance",
    "_Feature"
   ],
   "window_display": false
  }
 },
 "nbformat": 4,
 "nbformat_minor": 2
}
