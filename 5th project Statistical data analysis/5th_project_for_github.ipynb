{
 "cells": [
  {
   "cell_type": "code",
   "execution_count": 1,
   "metadata": {
    "pycharm": {
     "name": "#%%\n"
    }
   },
   "outputs": [],
   "source": [
    "import pandas as pd\n",
    "from scipy.stats import norm, ttest_ind, levene, bartlett\n",
    "import numpy as np\n",
    "import seaborn as sns\n",
    "import matplotlib.pyplot as plt\n",
    "\n",
    "plt.rcParams['figure.figsize'] = (9, 9)"
   ]
  },
  {
   "cell_type": "markdown",
   "metadata": {
    "pycharm": {
     "name": "#%% md\n"
    }
   },
   "source": [
    "# Шаг 1. Откройте файл с данными и изучите общую информацию"
   ]
  },
  {
   "cell_type": "code",
   "execution_count": 2,
   "metadata": {
    "pycharm": {
     "name": "#%%\n"
    }
   },
   "outputs": [],
   "source": [
    "try:\n",
    "    calls = pd.read_csv('calls.csv')\n",
    "    internet = pd.read_csv('internet.csv', index_col=0)\n",
    "    messages = pd.read_csv('messages.csv')\n",
    "    tariffs = pd.read_csv('tariffs.csv')\n",
    "    users = pd.read_csv('users.csv')\n",
    "except:\n",
    "    calls = pd.read_csv('/datasets/calls.csv')\n",
    "    internet = pd.read_csv('/datasets/internet.csv', index_col=0)\n",
    "    messages = pd.read_csv('/datasets/messages.csv')\n",
    "    tariffs = pd.read_csv('/datasets/tariffs.csv')\n",
    "    users = pd.read_csv('/datasets/users.csv')"
   ]
  },
  {
   "cell_type": "code",
   "execution_count": 3,
   "metadata": {
    "pycharm": {
     "name": "#%%\n"
    }
   },
   "outputs": [
    {
     "data": {
      "text/html": [
       "<div>\n",
       "<style scoped>\n",
       "    .dataframe tbody tr th:only-of-type {\n",
       "        vertical-align: middle;\n",
       "    }\n",
       "\n",
       "    .dataframe tbody tr th {\n",
       "        vertical-align: top;\n",
       "    }\n",
       "\n",
       "    .dataframe thead th {\n",
       "        text-align: right;\n",
       "    }\n",
       "</style>\n",
       "<table border=\"1\" class=\"dataframe\">\n",
       "  <thead>\n",
       "    <tr style=\"text-align: right;\">\n",
       "      <th></th>\n",
       "      <th>messages_included</th>\n",
       "      <th>mb_per_month_included</th>\n",
       "      <th>minutes_included</th>\n",
       "      <th>rub_monthly_fee</th>\n",
       "      <th>rub_per_gb</th>\n",
       "      <th>rub_per_message</th>\n",
       "      <th>rub_per_minute</th>\n",
       "      <th>tariff_name</th>\n",
       "    </tr>\n",
       "  </thead>\n",
       "  <tbody>\n",
       "    <tr>\n",
       "      <th>0</th>\n",
       "      <td>50</td>\n",
       "      <td>15360</td>\n",
       "      <td>500</td>\n",
       "      <td>550</td>\n",
       "      <td>200</td>\n",
       "      <td>3</td>\n",
       "      <td>3</td>\n",
       "      <td>smart</td>\n",
       "    </tr>\n",
       "    <tr>\n",
       "      <th>1</th>\n",
       "      <td>1000</td>\n",
       "      <td>30720</td>\n",
       "      <td>3000</td>\n",
       "      <td>1950</td>\n",
       "      <td>150</td>\n",
       "      <td>1</td>\n",
       "      <td>1</td>\n",
       "      <td>ultra</td>\n",
       "    </tr>\n",
       "  </tbody>\n",
       "</table>\n",
       "</div>"
      ],
      "text/plain": [
       "   messages_included  mb_per_month_included  minutes_included  \\\n",
       "0                 50                  15360               500   \n",
       "1               1000                  30720              3000   \n",
       "\n",
       "   rub_monthly_fee  rub_per_gb  rub_per_message  rub_per_minute tariff_name  \n",
       "0              550         200                3               3       smart  \n",
       "1             1950         150                1               1       ultra  "
      ]
     },
     "metadata": {},
     "output_type": "display_data"
    },
    {
     "name": "stdout",
     "output_type": "stream",
     "text": [
      "<class 'pandas.core.frame.DataFrame'>\n",
      "RangeIndex: 2 entries, 0 to 1\n",
      "Data columns (total 8 columns):\n",
      " #   Column                 Non-Null Count  Dtype \n",
      "---  ------                 --------------  ----- \n",
      " 0   messages_included      2 non-null      int64 \n",
      " 1   mb_per_month_included  2 non-null      int64 \n",
      " 2   minutes_included       2 non-null      int64 \n",
      " 3   rub_monthly_fee        2 non-null      int64 \n",
      " 4   rub_per_gb             2 non-null      int64 \n",
      " 5   rub_per_message        2 non-null      int64 \n",
      " 6   rub_per_minute         2 non-null      int64 \n",
      " 7   tariff_name            2 non-null      object\n",
      "dtypes: int64(7), object(1)\n",
      "memory usage: 256.0+ bytes\n"
     ]
    }
   ],
   "source": [
    "display(tariffs.head())\n",
    "tariffs.info()"
   ]
  },
  {
   "cell_type": "markdown",
   "metadata": {
    "pycharm": {
     "name": "#%% md\n"
    }
   },
   "source": [
    "`tariff_name` — название тарифа  \n",
    "`rub_monthly_fee` — ежемесячная абонентская плата в рублях  \n",
    "`minutes_included` — количество минут разговора в месяц, включённых в абонентскую плату  \n",
    "`messages_included` — количество сообщений в месяц, включённых в абонентскую плату  \n",
    "`mb_per_month_included` — объём интернет-трафика, включённого в абонентскую плату (в мегабайтах)  \n",
    "`rub_per_minute` — стоимость минуты разговора сверх тарифного пакета (например, если в тарифе 100 минут разговора в месяц, то со 101 минуты будет взиматься плата)  \n",
    "`rub_per_message` — стоимость отправки сообщения сверх тарифного пакета  \n",
    "`rub_per_gb` — стоимость дополнительного гигабайта интернет-трафика сверх тарифного пакета (1 гигабайт = 1024 мегабайта)"
   ]
  },
  {
   "cell_type": "code",
   "execution_count": 4,
   "metadata": {
    "pycharm": {
     "name": "#%%\n"
    }
   },
   "outputs": [
    {
     "data": {
      "text/html": [
       "<div>\n",
       "<style scoped>\n",
       "    .dataframe tbody tr th:only-of-type {\n",
       "        vertical-align: middle;\n",
       "    }\n",
       "\n",
       "    .dataframe tbody tr th {\n",
       "        vertical-align: top;\n",
       "    }\n",
       "\n",
       "    .dataframe thead th {\n",
       "        text-align: right;\n",
       "    }\n",
       "</style>\n",
       "<table border=\"1\" class=\"dataframe\">\n",
       "  <thead>\n",
       "    <tr style=\"text-align: right;\">\n",
       "      <th></th>\n",
       "      <th>user_id</th>\n",
       "      <th>age</th>\n",
       "      <th>churn_date</th>\n",
       "      <th>city</th>\n",
       "      <th>first_name</th>\n",
       "      <th>last_name</th>\n",
       "      <th>reg_date</th>\n",
       "      <th>tariff</th>\n",
       "    </tr>\n",
       "  </thead>\n",
       "  <tbody>\n",
       "    <tr>\n",
       "      <th>0</th>\n",
       "      <td>1000</td>\n",
       "      <td>52</td>\n",
       "      <td>NaN</td>\n",
       "      <td>Краснодар</td>\n",
       "      <td>Рафаил</td>\n",
       "      <td>Верещагин</td>\n",
       "      <td>2018-05-25</td>\n",
       "      <td>ultra</td>\n",
       "    </tr>\n",
       "    <tr>\n",
       "      <th>1</th>\n",
       "      <td>1001</td>\n",
       "      <td>41</td>\n",
       "      <td>NaN</td>\n",
       "      <td>Москва</td>\n",
       "      <td>Иван</td>\n",
       "      <td>Ежов</td>\n",
       "      <td>2018-11-01</td>\n",
       "      <td>smart</td>\n",
       "    </tr>\n",
       "    <tr>\n",
       "      <th>2</th>\n",
       "      <td>1002</td>\n",
       "      <td>59</td>\n",
       "      <td>NaN</td>\n",
       "      <td>Стерлитамак</td>\n",
       "      <td>Евгений</td>\n",
       "      <td>Абрамович</td>\n",
       "      <td>2018-06-17</td>\n",
       "      <td>smart</td>\n",
       "    </tr>\n",
       "    <tr>\n",
       "      <th>3</th>\n",
       "      <td>1003</td>\n",
       "      <td>23</td>\n",
       "      <td>NaN</td>\n",
       "      <td>Москва</td>\n",
       "      <td>Белла</td>\n",
       "      <td>Белякова</td>\n",
       "      <td>2018-08-17</td>\n",
       "      <td>ultra</td>\n",
       "    </tr>\n",
       "    <tr>\n",
       "      <th>4</th>\n",
       "      <td>1004</td>\n",
       "      <td>68</td>\n",
       "      <td>NaN</td>\n",
       "      <td>Новокузнецк</td>\n",
       "      <td>Татьяна</td>\n",
       "      <td>Авдеенко</td>\n",
       "      <td>2018-05-14</td>\n",
       "      <td>ultra</td>\n",
       "    </tr>\n",
       "  </tbody>\n",
       "</table>\n",
       "</div>"
      ],
      "text/plain": [
       "   user_id  age churn_date         city first_name  last_name    reg_date  \\\n",
       "0     1000   52        NaN    Краснодар     Рафаил  Верещагин  2018-05-25   \n",
       "1     1001   41        NaN       Москва       Иван       Ежов  2018-11-01   \n",
       "2     1002   59        NaN  Стерлитамак    Евгений  Абрамович  2018-06-17   \n",
       "3     1003   23        NaN       Москва      Белла   Белякова  2018-08-17   \n",
       "4     1004   68        NaN  Новокузнецк    Татьяна   Авдеенко  2018-05-14   \n",
       "\n",
       "  tariff  \n",
       "0  ultra  \n",
       "1  smart  \n",
       "2  smart  \n",
       "3  ultra  \n",
       "4  ultra  "
      ]
     },
     "metadata": {},
     "output_type": "display_data"
    },
    {
     "name": "stdout",
     "output_type": "stream",
     "text": [
      "<class 'pandas.core.frame.DataFrame'>\n",
      "RangeIndex: 500 entries, 0 to 499\n",
      "Data columns (total 8 columns):\n",
      " #   Column      Non-Null Count  Dtype \n",
      "---  ------      --------------  ----- \n",
      " 0   user_id     500 non-null    int64 \n",
      " 1   age         500 non-null    int64 \n",
      " 2   churn_date  38 non-null     object\n",
      " 3   city        500 non-null    object\n",
      " 4   first_name  500 non-null    object\n",
      " 5   last_name   500 non-null    object\n",
      " 6   reg_date    500 non-null    object\n",
      " 7   tariff      500 non-null    object\n",
      "dtypes: int64(2), object(6)\n",
      "memory usage: 31.4+ KB\n"
     ]
    }
   ],
   "source": [
    "display(users.head())\n",
    "users.info()"
   ]
  },
  {
   "cell_type": "markdown",
   "metadata": {
    "pycharm": {
     "name": "#%% md\n"
    }
   },
   "source": [
    "`user_id` — уникальный идентификатор пользователя  \n",
    "`first_name` — имя пользователя  \n",
    "`last_name` — фамилия пользователя  \n",
    "`age` — возраст пользователя (годы)  \n",
    "`reg_date` — дата подключения тарифа (день, месяц, год)  \n",
    "`churn_date` — дата прекращения пользования тарифом (если значение пропущено, то тариф ещё действовал на момент выгрузки данных)  \n",
    "`city` — город проживания пользователя  \n",
    "`tariff` — название тарифного плана  "
   ]
  },
  {
   "cell_type": "code",
   "execution_count": 5,
   "metadata": {
    "pycharm": {
     "name": "#%%\n"
    }
   },
   "outputs": [
    {
     "data": {
      "text/html": [
       "<div>\n",
       "<style scoped>\n",
       "    .dataframe tbody tr th:only-of-type {\n",
       "        vertical-align: middle;\n",
       "    }\n",
       "\n",
       "    .dataframe tbody tr th {\n",
       "        vertical-align: top;\n",
       "    }\n",
       "\n",
       "    .dataframe thead th {\n",
       "        text-align: right;\n",
       "    }\n",
       "</style>\n",
       "<table border=\"1\" class=\"dataframe\">\n",
       "  <thead>\n",
       "    <tr style=\"text-align: right;\">\n",
       "      <th></th>\n",
       "      <th>id</th>\n",
       "      <th>call_date</th>\n",
       "      <th>duration</th>\n",
       "      <th>user_id</th>\n",
       "    </tr>\n",
       "  </thead>\n",
       "  <tbody>\n",
       "    <tr>\n",
       "      <th>0</th>\n",
       "      <td>1000_0</td>\n",
       "      <td>2018-07-25</td>\n",
       "      <td>0.00</td>\n",
       "      <td>1000</td>\n",
       "    </tr>\n",
       "    <tr>\n",
       "      <th>1</th>\n",
       "      <td>1000_1</td>\n",
       "      <td>2018-08-17</td>\n",
       "      <td>0.00</td>\n",
       "      <td>1000</td>\n",
       "    </tr>\n",
       "    <tr>\n",
       "      <th>2</th>\n",
       "      <td>1000_2</td>\n",
       "      <td>2018-06-11</td>\n",
       "      <td>2.85</td>\n",
       "      <td>1000</td>\n",
       "    </tr>\n",
       "    <tr>\n",
       "      <th>3</th>\n",
       "      <td>1000_3</td>\n",
       "      <td>2018-09-21</td>\n",
       "      <td>13.80</td>\n",
       "      <td>1000</td>\n",
       "    </tr>\n",
       "    <tr>\n",
       "      <th>4</th>\n",
       "      <td>1000_4</td>\n",
       "      <td>2018-12-15</td>\n",
       "      <td>5.18</td>\n",
       "      <td>1000</td>\n",
       "    </tr>\n",
       "  </tbody>\n",
       "</table>\n",
       "</div>"
      ],
      "text/plain": [
       "       id   call_date  duration  user_id\n",
       "0  1000_0  2018-07-25      0.00     1000\n",
       "1  1000_1  2018-08-17      0.00     1000\n",
       "2  1000_2  2018-06-11      2.85     1000\n",
       "3  1000_3  2018-09-21     13.80     1000\n",
       "4  1000_4  2018-12-15      5.18     1000"
      ]
     },
     "metadata": {},
     "output_type": "display_data"
    },
    {
     "name": "stdout",
     "output_type": "stream",
     "text": [
      "<class 'pandas.core.frame.DataFrame'>\n",
      "RangeIndex: 202607 entries, 0 to 202606\n",
      "Data columns (total 4 columns):\n",
      " #   Column     Non-Null Count   Dtype  \n",
      "---  ------     --------------   -----  \n",
      " 0   id         202607 non-null  object \n",
      " 1   call_date  202607 non-null  object \n",
      " 2   duration   202607 non-null  float64\n",
      " 3   user_id    202607 non-null  int64  \n",
      "dtypes: float64(1), int64(1), object(2)\n",
      "memory usage: 6.2+ MB\n"
     ]
    }
   ],
   "source": [
    "display(calls.head())\n",
    "calls.info()"
   ]
  },
  {
   "cell_type": "markdown",
   "metadata": {
    "pycharm": {
     "name": "#%% md\n"
    }
   },
   "source": [
    "`id` — уникальный номер звонка  \n",
    "`call_date` — дата звонка  \n",
    "`duration` — длительность звонка в минутах  \n",
    "`user_id` — идентификатор пользователя, сделавшего звонок  "
   ]
  },
  {
   "cell_type": "code",
   "execution_count": 6,
   "metadata": {
    "pycharm": {
     "name": "#%%\n"
    }
   },
   "outputs": [
    {
     "data": {
      "text/html": [
       "<div>\n",
       "<style scoped>\n",
       "    .dataframe tbody tr th:only-of-type {\n",
       "        vertical-align: middle;\n",
       "    }\n",
       "\n",
       "    .dataframe tbody tr th {\n",
       "        vertical-align: top;\n",
       "    }\n",
       "\n",
       "    .dataframe thead th {\n",
       "        text-align: right;\n",
       "    }\n",
       "</style>\n",
       "<table border=\"1\" class=\"dataframe\">\n",
       "  <thead>\n",
       "    <tr style=\"text-align: right;\">\n",
       "      <th></th>\n",
       "      <th>id</th>\n",
       "      <th>mb_used</th>\n",
       "      <th>session_date</th>\n",
       "      <th>user_id</th>\n",
       "    </tr>\n",
       "  </thead>\n",
       "  <tbody>\n",
       "    <tr>\n",
       "      <th>0</th>\n",
       "      <td>1000_0</td>\n",
       "      <td>112.95</td>\n",
       "      <td>2018-11-25</td>\n",
       "      <td>1000</td>\n",
       "    </tr>\n",
       "    <tr>\n",
       "      <th>1</th>\n",
       "      <td>1000_1</td>\n",
       "      <td>1052.81</td>\n",
       "      <td>2018-09-07</td>\n",
       "      <td>1000</td>\n",
       "    </tr>\n",
       "  </tbody>\n",
       "</table>\n",
       "</div>"
      ],
      "text/plain": [
       "       id  mb_used session_date  user_id\n",
       "0  1000_0   112.95   2018-11-25     1000\n",
       "1  1000_1  1052.81   2018-09-07     1000"
      ]
     },
     "metadata": {},
     "output_type": "display_data"
    },
    {
     "name": "stdout",
     "output_type": "stream",
     "text": [
      "<class 'pandas.core.frame.DataFrame'>\n",
      "Int64Index: 149396 entries, 0 to 149395\n",
      "Data columns (total 4 columns):\n",
      " #   Column        Non-Null Count   Dtype  \n",
      "---  ------        --------------   -----  \n",
      " 0   id            149396 non-null  object \n",
      " 1   mb_used       149396 non-null  float64\n",
      " 2   session_date  149396 non-null  object \n",
      " 3   user_id       149396 non-null  int64  \n",
      "dtypes: float64(1), int64(1), object(2)\n",
      "memory usage: 5.7+ MB\n"
     ]
    }
   ],
   "source": [
    "display(internet.head(2))\n",
    "internet.info()"
   ]
  },
  {
   "cell_type": "markdown",
   "metadata": {
    "pycharm": {
     "name": "#%% md\n"
    }
   },
   "source": [
    "`id` — уникальный номер сессии  \n",
    "`mb_used` — объём потраченного за сессию интернет-трафика (в мегабайтах)  \n",
    "`session_date` — дата интернет-сессии  \n",
    "`user_id` — идентификатор пользователя  "
   ]
  },
  {
   "cell_type": "code",
   "execution_count": 7,
   "metadata": {
    "pycharm": {
     "name": "#%%\n"
    }
   },
   "outputs": [
    {
     "data": {
      "text/html": [
       "<div>\n",
       "<style scoped>\n",
       "    .dataframe tbody tr th:only-of-type {\n",
       "        vertical-align: middle;\n",
       "    }\n",
       "\n",
       "    .dataframe tbody tr th {\n",
       "        vertical-align: top;\n",
       "    }\n",
       "\n",
       "    .dataframe thead th {\n",
       "        text-align: right;\n",
       "    }\n",
       "</style>\n",
       "<table border=\"1\" class=\"dataframe\">\n",
       "  <thead>\n",
       "    <tr style=\"text-align: right;\">\n",
       "      <th></th>\n",
       "      <th>id</th>\n",
       "      <th>message_date</th>\n",
       "      <th>user_id</th>\n",
       "    </tr>\n",
       "  </thead>\n",
       "  <tbody>\n",
       "    <tr>\n",
       "      <th>0</th>\n",
       "      <td>1000_0</td>\n",
       "      <td>2018-06-27</td>\n",
       "      <td>1000</td>\n",
       "    </tr>\n",
       "    <tr>\n",
       "      <th>1</th>\n",
       "      <td>1000_1</td>\n",
       "      <td>2018-10-08</td>\n",
       "      <td>1000</td>\n",
       "    </tr>\n",
       "    <tr>\n",
       "      <th>2</th>\n",
       "      <td>1000_2</td>\n",
       "      <td>2018-08-04</td>\n",
       "      <td>1000</td>\n",
       "    </tr>\n",
       "    <tr>\n",
       "      <th>3</th>\n",
       "      <td>1000_3</td>\n",
       "      <td>2018-06-16</td>\n",
       "      <td>1000</td>\n",
       "    </tr>\n",
       "    <tr>\n",
       "      <th>4</th>\n",
       "      <td>1000_4</td>\n",
       "      <td>2018-12-05</td>\n",
       "      <td>1000</td>\n",
       "    </tr>\n",
       "  </tbody>\n",
       "</table>\n",
       "</div>"
      ],
      "text/plain": [
       "       id message_date  user_id\n",
       "0  1000_0   2018-06-27     1000\n",
       "1  1000_1   2018-10-08     1000\n",
       "2  1000_2   2018-08-04     1000\n",
       "3  1000_3   2018-06-16     1000\n",
       "4  1000_4   2018-12-05     1000"
      ]
     },
     "metadata": {},
     "output_type": "display_data"
    },
    {
     "name": "stdout",
     "output_type": "stream",
     "text": [
      "<class 'pandas.core.frame.DataFrame'>\n",
      "RangeIndex: 123036 entries, 0 to 123035\n",
      "Data columns (total 3 columns):\n",
      " #   Column        Non-Null Count   Dtype \n",
      "---  ------        --------------   ----- \n",
      " 0   id            123036 non-null  object\n",
      " 1   message_date  123036 non-null  object\n",
      " 2   user_id       123036 non-null  int64 \n",
      "dtypes: int64(1), object(2)\n",
      "memory usage: 2.8+ MB\n"
     ]
    }
   ],
   "source": [
    "display(messages.head())\n",
    "messages.info()"
   ]
  },
  {
   "cell_type": "markdown",
   "metadata": {
    "pycharm": {
     "name": "#%% md\n"
    }
   },
   "source": [
    "`id` — уникальный номер сообщения  \n",
    "`message_date` — дата сообщения  \n",
    "`user_id` — идентификатор пользователя, отправившего сообщение"
   ]
  },
  {
   "cell_type": "markdown",
   "metadata": {
    "pycharm": {
     "name": "#%% md\n"
    }
   },
   "source": [
    "В данных нет пропусков за исключением `churn_date`. Пропуски здесь означают, что клиент не отказался от своего тарифа на момент сбора данных."
   ]
  },
  {
   "cell_type": "markdown",
   "metadata": {
    "pycharm": {
     "name": "#%% md\n"
    }
   },
   "source": [
    "# Шаг 2. Подготовьте данные\n",
    "\n",
    "- Приведите данные к нужным типам;\n",
    "- Найдите и исправьте ошибки в данных, если они есть\n",
    "\n",
    "Посчитайте для каждого пользователя:\n",
    "- количество сделанных звонков и израсходованных минут разговора по месяцам;\n",
    "- количество отправленных сообщений по месяцам;\n",
    "- объем израсходованного интернет-трафика по месяцам;\n",
    "- помесячную выручку с каждого пользователя (вычтите бесплатный лимит из суммарного количества звонков, сообщений и интернет-трафика; остаток умножьте на значение из тарифного плана; прибавьте абонентскую плату, соответствующую тарифному плану)."
   ]
  },
  {
   "cell_type": "markdown",
   "metadata": {
    "pycharm": {
     "name": "#%% md\n"
    }
   },
   "source": [
    "## Приведение типов данных"
   ]
  },
  {
   "cell_type": "markdown",
   "metadata": {
    "pycharm": {
     "name": "#%% md\n"
    }
   },
   "source": [
    "Даты во всех датасетах нужно привести к типу `datetime`."
   ]
  },
  {
   "cell_type": "code",
   "execution_count": 8,
   "metadata": {
    "pycharm": {
     "name": "#%%\n"
    }
   },
   "outputs": [],
   "source": [
    "calls['call_date'] = pd.to_datetime(calls['call_date'])\n",
    "internet['session_date'] = pd.to_datetime(internet['session_date'])\n",
    "messages['message_date'] = pd.to_datetime(messages['message_date'])\n",
    "users['churn_date'] = pd.to_datetime(users['churn_date'])\n",
    "users['reg_date'] = pd.to_datetime(users['reg_date'])"
   ]
  },
  {
   "cell_type": "markdown",
   "metadata": {
    "pycharm": {
     "name": "#%% md\n"
    }
   },
   "source": [
    "## Ошибки"
   ]
  },
  {
   "cell_type": "markdown",
   "metadata": {
    "pycharm": {
     "name": "#%% md\n"
    }
   },
   "source": [
    "### Users"
   ]
  },
  {
   "cell_type": "markdown",
   "metadata": {
    "pycharm": {
     "name": "#%% md\n"
    }
   },
   "source": [
    "Сперва проверим на соответствие здравому смыслу (нет отрицательного возраста и дат подключения раньше изобретения телефона)."
   ]
  },
  {
   "cell_type": "code",
   "execution_count": 9,
   "metadata": {
    "pycharm": {
     "name": "#%%\n"
    }
   },
   "outputs": [
    {
     "data": {
      "text/html": [
       "<div>\n",
       "<style scoped>\n",
       "    .dataframe tbody tr th:only-of-type {\n",
       "        vertical-align: middle;\n",
       "    }\n",
       "\n",
       "    .dataframe tbody tr th {\n",
       "        vertical-align: top;\n",
       "    }\n",
       "\n",
       "    .dataframe thead th {\n",
       "        text-align: right;\n",
       "    }\n",
       "</style>\n",
       "<table border=\"1\" class=\"dataframe\">\n",
       "  <thead>\n",
       "    <tr style=\"text-align: right;\">\n",
       "      <th></th>\n",
       "      <th>user_id</th>\n",
       "      <th>age</th>\n",
       "      <th>churn_date</th>\n",
       "      <th>reg_date</th>\n",
       "    </tr>\n",
       "  </thead>\n",
       "  <tbody>\n",
       "    <tr>\n",
       "      <th>count</th>\n",
       "      <td>500.000000</td>\n",
       "      <td>500.00000</td>\n",
       "      <td>38</td>\n",
       "      <td>500</td>\n",
       "    </tr>\n",
       "    <tr>\n",
       "      <th>mean</th>\n",
       "      <td>1249.500000</td>\n",
       "      <td>46.58800</td>\n",
       "      <td>2018-11-13 00:37:53.684210432</td>\n",
       "      <td>2018-06-30 18:57:35.999999744</td>\n",
       "    </tr>\n",
       "    <tr>\n",
       "      <th>min</th>\n",
       "      <td>1000.000000</td>\n",
       "      <td>18.00000</td>\n",
       "      <td>2018-08-17 00:00:00</td>\n",
       "      <td>2018-01-01 00:00:00</td>\n",
       "    </tr>\n",
       "    <tr>\n",
       "      <th>25%</th>\n",
       "      <td>1124.750000</td>\n",
       "      <td>32.00000</td>\n",
       "      <td>2018-10-14 00:00:00</td>\n",
       "      <td>2018-04-07 12:00:00</td>\n",
       "    </tr>\n",
       "    <tr>\n",
       "      <th>50%</th>\n",
       "      <td>1249.500000</td>\n",
       "      <td>46.00000</td>\n",
       "      <td>2018-11-24 00:00:00</td>\n",
       "      <td>2018-07-02 12:00:00</td>\n",
       "    </tr>\n",
       "    <tr>\n",
       "      <th>75%</th>\n",
       "      <td>1374.250000</td>\n",
       "      <td>62.00000</td>\n",
       "      <td>2018-12-15 12:00:00</td>\n",
       "      <td>2018-09-29 00:00:00</td>\n",
       "    </tr>\n",
       "    <tr>\n",
       "      <th>max</th>\n",
       "      <td>1499.000000</td>\n",
       "      <td>75.00000</td>\n",
       "      <td>2018-12-30 00:00:00</td>\n",
       "      <td>2018-12-31 00:00:00</td>\n",
       "    </tr>\n",
       "    <tr>\n",
       "      <th>std</th>\n",
       "      <td>144.481833</td>\n",
       "      <td>16.66763</td>\n",
       "      <td>NaN</td>\n",
       "      <td>NaN</td>\n",
       "    </tr>\n",
       "  </tbody>\n",
       "</table>\n",
       "</div>"
      ],
      "text/plain": [
       "           user_id        age                     churn_date  \\\n",
       "count   500.000000  500.00000                             38   \n",
       "mean   1249.500000   46.58800  2018-11-13 00:37:53.684210432   \n",
       "min    1000.000000   18.00000            2018-08-17 00:00:00   \n",
       "25%    1124.750000   32.00000            2018-10-14 00:00:00   \n",
       "50%    1249.500000   46.00000            2018-11-24 00:00:00   \n",
       "75%    1374.250000   62.00000            2018-12-15 12:00:00   \n",
       "max    1499.000000   75.00000            2018-12-30 00:00:00   \n",
       "std     144.481833   16.66763                            NaN   \n",
       "\n",
       "                            reg_date  \n",
       "count                            500  \n",
       "mean   2018-06-30 18:57:35.999999744  \n",
       "min              2018-01-01 00:00:00  \n",
       "25%              2018-04-07 12:00:00  \n",
       "50%              2018-07-02 12:00:00  \n",
       "75%              2018-09-29 00:00:00  \n",
       "max              2018-12-31 00:00:00  \n",
       "std                              NaN  "
      ]
     },
     "execution_count": 9,
     "metadata": {},
     "output_type": "execute_result"
    }
   ],
   "source": [
    "users.describe(datetime_is_numeric=True)"
   ]
  },
  {
   "cell_type": "code",
   "execution_count": 10,
   "metadata": {
    "pycharm": {
     "name": "#%%\n"
    }
   },
   "outputs": [
    {
     "data": {
      "text/html": [
       "<div>\n",
       "<style scoped>\n",
       "    .dataframe tbody tr th:only-of-type {\n",
       "        vertical-align: middle;\n",
       "    }\n",
       "\n",
       "    .dataframe tbody tr th {\n",
       "        vertical-align: top;\n",
       "    }\n",
       "\n",
       "    .dataframe thead th {\n",
       "        text-align: right;\n",
       "    }\n",
       "</style>\n",
       "<table border=\"1\" class=\"dataframe\">\n",
       "  <thead>\n",
       "    <tr style=\"text-align: right;\">\n",
       "      <th></th>\n",
       "      <th>city</th>\n",
       "      <th>first_name</th>\n",
       "      <th>last_name</th>\n",
       "      <th>tariff</th>\n",
       "    </tr>\n",
       "  </thead>\n",
       "  <tbody>\n",
       "    <tr>\n",
       "      <th>count</th>\n",
       "      <td>500</td>\n",
       "      <td>500</td>\n",
       "      <td>500</td>\n",
       "      <td>500</td>\n",
       "    </tr>\n",
       "    <tr>\n",
       "      <th>unique</th>\n",
       "      <td>76</td>\n",
       "      <td>246</td>\n",
       "      <td>419</td>\n",
       "      <td>2</td>\n",
       "    </tr>\n",
       "    <tr>\n",
       "      <th>top</th>\n",
       "      <td>Москва</td>\n",
       "      <td>Радим</td>\n",
       "      <td>Андреенко</td>\n",
       "      <td>smart</td>\n",
       "    </tr>\n",
       "    <tr>\n",
       "      <th>freq</th>\n",
       "      <td>99</td>\n",
       "      <td>6</td>\n",
       "      <td>5</td>\n",
       "      <td>351</td>\n",
       "    </tr>\n",
       "  </tbody>\n",
       "</table>\n",
       "</div>"
      ],
      "text/plain": [
       "          city first_name  last_name tariff\n",
       "count      500        500        500    500\n",
       "unique      76        246        419      2\n",
       "top     Москва      Радим  Андреенко  smart\n",
       "freq        99          6          5    351"
      ]
     },
     "execution_count": 10,
     "metadata": {},
     "output_type": "execute_result"
    }
   ],
   "source": [
    "(\n",
    "    users\n",
    "    .select_dtypes(include='O')\n",
    "    .describe()\n",
    ")"
   ]
  },
  {
   "cell_type": "markdown",
   "metadata": {
    "pycharm": {
     "name": "#%% md\n"
    }
   },
   "source": [
    "Проверим на наличие дубликатов."
   ]
  },
  {
   "cell_type": "code",
   "execution_count": 11,
   "metadata": {
    "pycharm": {
     "name": "#%%\n"
    }
   },
   "outputs": [
    {
     "data": {
      "text/plain": [
       "0"
      ]
     },
     "execution_count": 11,
     "metadata": {},
     "output_type": "execute_result"
    }
   ],
   "source": [
    "users.duplicated().sum()"
   ]
  },
  {
   "cell_type": "markdown",
   "metadata": {
    "pycharm": {
     "name": "#%% md\n"
    }
   },
   "source": [
    "Проверим на уникальность значения столбца `user_id`"
   ]
  },
  {
   "cell_type": "code",
   "execution_count": 12,
   "metadata": {
    "pycharm": {
     "name": "#%%\n"
    }
   },
   "outputs": [
    {
     "data": {
      "text/plain": [
       "True"
      ]
     },
     "execution_count": 12,
     "metadata": {},
     "output_type": "execute_result"
    }
   ],
   "source": [
    "users['user_id'].nunique() == len(users)"
   ]
  },
  {
   "cell_type": "markdown",
   "metadata": {
    "pycharm": {
     "name": "#%% md\n"
    }
   },
   "source": [
    "### Calls"
   ]
  },
  {
   "cell_type": "markdown",
   "metadata": {
    "pycharm": {
     "name": "#%% md\n"
    }
   },
   "source": [
    "Аналогичные проверки."
   ]
  },
  {
   "cell_type": "code",
   "execution_count": 13,
   "metadata": {
    "pycharm": {
     "name": "#%%\n"
    }
   },
   "outputs": [
    {
     "data": {
      "text/html": [
       "<div>\n",
       "<style scoped>\n",
       "    .dataframe tbody tr th:only-of-type {\n",
       "        vertical-align: middle;\n",
       "    }\n",
       "\n",
       "    .dataframe tbody tr th {\n",
       "        vertical-align: top;\n",
       "    }\n",
       "\n",
       "    .dataframe thead th {\n",
       "        text-align: right;\n",
       "    }\n",
       "</style>\n",
       "<table border=\"1\" class=\"dataframe\">\n",
       "  <thead>\n",
       "    <tr style=\"text-align: right;\">\n",
       "      <th></th>\n",
       "      <th>call_date</th>\n",
       "      <th>duration</th>\n",
       "      <th>user_id</th>\n",
       "    </tr>\n",
       "  </thead>\n",
       "  <tbody>\n",
       "    <tr>\n",
       "      <th>count</th>\n",
       "      <td>202607</td>\n",
       "      <td>202607.000000</td>\n",
       "      <td>202607.000000</td>\n",
       "    </tr>\n",
       "    <tr>\n",
       "      <th>mean</th>\n",
       "      <td>2018-09-02 20:01:37.583992832</td>\n",
       "      <td>6.755887</td>\n",
       "      <td>1253.940619</td>\n",
       "    </tr>\n",
       "    <tr>\n",
       "      <th>min</th>\n",
       "      <td>2018-01-01 00:00:00</td>\n",
       "      <td>0.000000</td>\n",
       "      <td>1000.000000</td>\n",
       "    </tr>\n",
       "    <tr>\n",
       "      <th>25%</th>\n",
       "      <td>2018-07-05 00:00:00</td>\n",
       "      <td>1.300000</td>\n",
       "      <td>1126.000000</td>\n",
       "    </tr>\n",
       "    <tr>\n",
       "      <th>50%</th>\n",
       "      <td>2018-09-17 00:00:00</td>\n",
       "      <td>6.000000</td>\n",
       "      <td>1260.000000</td>\n",
       "    </tr>\n",
       "    <tr>\n",
       "      <th>75%</th>\n",
       "      <td>2018-11-14 00:00:00</td>\n",
       "      <td>10.700000</td>\n",
       "      <td>1379.000000</td>\n",
       "    </tr>\n",
       "    <tr>\n",
       "      <th>max</th>\n",
       "      <td>2018-12-31 00:00:00</td>\n",
       "      <td>38.000000</td>\n",
       "      <td>1499.000000</td>\n",
       "    </tr>\n",
       "    <tr>\n",
       "      <th>std</th>\n",
       "      <td>NaN</td>\n",
       "      <td>5.843365</td>\n",
       "      <td>144.722751</td>\n",
       "    </tr>\n",
       "  </tbody>\n",
       "</table>\n",
       "</div>"
      ],
      "text/plain": [
       "                           call_date       duration        user_id\n",
       "count                         202607  202607.000000  202607.000000\n",
       "mean   2018-09-02 20:01:37.583992832       6.755887    1253.940619\n",
       "min              2018-01-01 00:00:00       0.000000    1000.000000\n",
       "25%              2018-07-05 00:00:00       1.300000    1126.000000\n",
       "50%              2018-09-17 00:00:00       6.000000    1260.000000\n",
       "75%              2018-11-14 00:00:00      10.700000    1379.000000\n",
       "max              2018-12-31 00:00:00      38.000000    1499.000000\n",
       "std                              NaN       5.843365     144.722751"
      ]
     },
     "execution_count": 13,
     "metadata": {},
     "output_type": "execute_result"
    }
   ],
   "source": [
    "calls.describe(datetime_is_numeric=True)"
   ]
  },
  {
   "cell_type": "code",
   "execution_count": 14,
   "metadata": {
    "pycharm": {
     "name": "#%%\n"
    }
   },
   "outputs": [
    {
     "data": {
      "text/html": [
       "<div>\n",
       "<style scoped>\n",
       "    .dataframe tbody tr th:only-of-type {\n",
       "        vertical-align: middle;\n",
       "    }\n",
       "\n",
       "    .dataframe tbody tr th {\n",
       "        vertical-align: top;\n",
       "    }\n",
       "\n",
       "    .dataframe thead th {\n",
       "        text-align: right;\n",
       "    }\n",
       "</style>\n",
       "<table border=\"1\" class=\"dataframe\">\n",
       "  <thead>\n",
       "    <tr style=\"text-align: right;\">\n",
       "      <th></th>\n",
       "      <th>id</th>\n",
       "    </tr>\n",
       "  </thead>\n",
       "  <tbody>\n",
       "    <tr>\n",
       "      <th>count</th>\n",
       "      <td>202607</td>\n",
       "    </tr>\n",
       "    <tr>\n",
       "      <th>unique</th>\n",
       "      <td>202607</td>\n",
       "    </tr>\n",
       "    <tr>\n",
       "      <th>top</th>\n",
       "      <td>1000_0</td>\n",
       "    </tr>\n",
       "    <tr>\n",
       "      <th>freq</th>\n",
       "      <td>1</td>\n",
       "    </tr>\n",
       "  </tbody>\n",
       "</table>\n",
       "</div>"
      ],
      "text/plain": [
       "            id\n",
       "count   202607\n",
       "unique  202607\n",
       "top     1000_0\n",
       "freq         1"
      ]
     },
     "execution_count": 14,
     "metadata": {},
     "output_type": "execute_result"
    }
   ],
   "source": [
    "(\n",
    "    calls\n",
    "    .select_dtypes(include='O')\n",
    "    .describe()\n",
    ")"
   ]
  },
  {
   "cell_type": "code",
   "execution_count": 15,
   "metadata": {
    "pycharm": {
     "name": "#%%\n"
    }
   },
   "outputs": [
    {
     "data": {
      "text/plain": [
       "0"
      ]
     },
     "execution_count": 15,
     "metadata": {},
     "output_type": "execute_result"
    }
   ],
   "source": [
    "calls.duplicated().sum()"
   ]
  },
  {
   "cell_type": "markdown",
   "metadata": {
    "pycharm": {
     "name": "#%% md\n"
    }
   },
   "source": [
    "Проверим, для всех ли аббонентов имеется информация о звонках. Рассмотрим аббонентов, которые не совершали звонки, если такие есть."
   ]
  },
  {
   "cell_type": "code",
   "execution_count": 16,
   "metadata": {
    "pycharm": {
     "name": "#%%\n"
    }
   },
   "outputs": [
    {
     "data": {
      "text/html": [
       "<div>\n",
       "<style scoped>\n",
       "    .dataframe tbody tr th:only-of-type {\n",
       "        vertical-align: middle;\n",
       "    }\n",
       "\n",
       "    .dataframe tbody tr th {\n",
       "        vertical-align: top;\n",
       "    }\n",
       "\n",
       "    .dataframe thead th {\n",
       "        text-align: right;\n",
       "    }\n",
       "</style>\n",
       "<table border=\"1\" class=\"dataframe\">\n",
       "  <thead>\n",
       "    <tr style=\"text-align: right;\">\n",
       "      <th></th>\n",
       "      <th>user_id</th>\n",
       "      <th>age</th>\n",
       "      <th>churn_date</th>\n",
       "      <th>city</th>\n",
       "      <th>first_name</th>\n",
       "      <th>last_name</th>\n",
       "      <th>reg_date</th>\n",
       "      <th>tariff</th>\n",
       "    </tr>\n",
       "  </thead>\n",
       "  <tbody>\n",
       "    <tr>\n",
       "      <th>91</th>\n",
       "      <td>1091</td>\n",
       "      <td>36</td>\n",
       "      <td>NaT</td>\n",
       "      <td>Набережные Челны</td>\n",
       "      <td>Вера</td>\n",
       "      <td>Суслова</td>\n",
       "      <td>2018-05-08</td>\n",
       "      <td>ultra</td>\n",
       "    </tr>\n",
       "    <tr>\n",
       "      <th>106</th>\n",
       "      <td>1106</td>\n",
       "      <td>67</td>\n",
       "      <td>NaT</td>\n",
       "      <td>Калуга</td>\n",
       "      <td>Исаак</td>\n",
       "      <td>Костин</td>\n",
       "      <td>2018-04-26</td>\n",
       "      <td>ultra</td>\n",
       "    </tr>\n",
       "    <tr>\n",
       "      <th>128</th>\n",
       "      <td>1128</td>\n",
       "      <td>51</td>\n",
       "      <td>2018-12-23</td>\n",
       "      <td>Волжский</td>\n",
       "      <td>Ксения</td>\n",
       "      <td>Агаева</td>\n",
       "      <td>2018-12-15</td>\n",
       "      <td>ultra</td>\n",
       "    </tr>\n",
       "    <tr>\n",
       "      <th>231</th>\n",
       "      <td>1231</td>\n",
       "      <td>63</td>\n",
       "      <td>NaT</td>\n",
       "      <td>Чебоксары</td>\n",
       "      <td>Касьян</td>\n",
       "      <td>Авдюков</td>\n",
       "      <td>2018-05-23</td>\n",
       "      <td>ultra</td>\n",
       "    </tr>\n",
       "    <tr>\n",
       "      <th>328</th>\n",
       "      <td>1328</td>\n",
       "      <td>44</td>\n",
       "      <td>NaT</td>\n",
       "      <td>Мурманск</td>\n",
       "      <td>Рауль</td>\n",
       "      <td>Аркадьев</td>\n",
       "      <td>2018-10-16</td>\n",
       "      <td>ultra</td>\n",
       "    </tr>\n",
       "    <tr>\n",
       "      <th>371</th>\n",
       "      <td>1371</td>\n",
       "      <td>50</td>\n",
       "      <td>2018-12-30</td>\n",
       "      <td>Омск</td>\n",
       "      <td>Ириней</td>\n",
       "      <td>Трофимов</td>\n",
       "      <td>2018-12-25</td>\n",
       "      <td>smart</td>\n",
       "    </tr>\n",
       "    <tr>\n",
       "      <th>473</th>\n",
       "      <td>1473</td>\n",
       "      <td>18</td>\n",
       "      <td>NaT</td>\n",
       "      <td>Красноярск</td>\n",
       "      <td>Николай</td>\n",
       "      <td>Лебедев</td>\n",
       "      <td>2018-08-05</td>\n",
       "      <td>ultra</td>\n",
       "    </tr>\n",
       "    <tr>\n",
       "      <th>489</th>\n",
       "      <td>1489</td>\n",
       "      <td>35</td>\n",
       "      <td>NaT</td>\n",
       "      <td>Санкт-Петербург</td>\n",
       "      <td>Павел</td>\n",
       "      <td>Гончаров</td>\n",
       "      <td>2018-08-15</td>\n",
       "      <td>smart</td>\n",
       "    </tr>\n",
       "  </tbody>\n",
       "</table>\n",
       "</div>"
      ],
      "text/plain": [
       "     user_id  age churn_date              city first_name last_name  \\\n",
       "91      1091   36        NaT  Набережные Челны       Вера   Суслова   \n",
       "106     1106   67        NaT            Калуга      Исаак    Костин   \n",
       "128     1128   51 2018-12-23          Волжский     Ксения    Агаева   \n",
       "231     1231   63        NaT         Чебоксары     Касьян   Авдюков   \n",
       "328     1328   44        NaT          Мурманск      Рауль  Аркадьев   \n",
       "371     1371   50 2018-12-30              Омск     Ириней  Трофимов   \n",
       "473     1473   18        NaT        Красноярск    Николай   Лебедев   \n",
       "489     1489   35        NaT   Санкт-Петербург      Павел  Гончаров   \n",
       "\n",
       "      reg_date tariff  \n",
       "91  2018-05-08  ultra  \n",
       "106 2018-04-26  ultra  \n",
       "128 2018-12-15  ultra  \n",
       "231 2018-05-23  ultra  \n",
       "328 2018-10-16  ultra  \n",
       "371 2018-12-25  smart  \n",
       "473 2018-08-05  ultra  \n",
       "489 2018-08-15  smart  "
      ]
     },
     "execution_count": 16,
     "metadata": {},
     "output_type": "execute_result"
    }
   ],
   "source": [
    "users[users['user_id'].isin(set(users['user_id']) - set(calls['user_id']))]"
   ]
  },
  {
   "cell_type": "markdown",
   "metadata": {
    "pycharm": {
     "name": "#%% md\n"
    }
   },
   "source": [
    "Двое из них отключили тариф почти сразу после подключения: возможно, они просто не успели никому позвонить. Остальные, видимо, просто не используют телефон для звонков."
   ]
  },
  {
   "cell_type": "markdown",
   "metadata": {
    "pycharm": {
     "name": "#%% md\n"
    }
   },
   "source": [
    "### Internet"
   ]
  },
  {
   "cell_type": "code",
   "execution_count": 17,
   "metadata": {
    "pycharm": {
     "name": "#%%\n"
    }
   },
   "outputs": [
    {
     "data": {
      "text/html": [
       "<div>\n",
       "<style scoped>\n",
       "    .dataframe tbody tr th:only-of-type {\n",
       "        vertical-align: middle;\n",
       "    }\n",
       "\n",
       "    .dataframe tbody tr th {\n",
       "        vertical-align: top;\n",
       "    }\n",
       "\n",
       "    .dataframe thead th {\n",
       "        text-align: right;\n",
       "    }\n",
       "</style>\n",
       "<table border=\"1\" class=\"dataframe\">\n",
       "  <thead>\n",
       "    <tr style=\"text-align: right;\">\n",
       "      <th></th>\n",
       "      <th>mb_used</th>\n",
       "      <th>session_date</th>\n",
       "      <th>user_id</th>\n",
       "    </tr>\n",
       "  </thead>\n",
       "  <tbody>\n",
       "    <tr>\n",
       "      <th>count</th>\n",
       "      <td>149396.000000</td>\n",
       "      <td>149396</td>\n",
       "      <td>149396.000000</td>\n",
       "    </tr>\n",
       "    <tr>\n",
       "      <th>mean</th>\n",
       "      <td>370.192426</td>\n",
       "      <td>2018-09-02 12:55:35.221826560</td>\n",
       "      <td>1252.099842</td>\n",
       "    </tr>\n",
       "    <tr>\n",
       "      <th>min</th>\n",
       "      <td>0.000000</td>\n",
       "      <td>2018-01-01 00:00:00</td>\n",
       "      <td>1000.000000</td>\n",
       "    </tr>\n",
       "    <tr>\n",
       "      <th>25%</th>\n",
       "      <td>138.187500</td>\n",
       "      <td>2018-07-05 00:00:00</td>\n",
       "      <td>1130.000000</td>\n",
       "    </tr>\n",
       "    <tr>\n",
       "      <th>50%</th>\n",
       "      <td>348.015000</td>\n",
       "      <td>2018-09-17 00:00:00</td>\n",
       "      <td>1251.000000</td>\n",
       "    </tr>\n",
       "    <tr>\n",
       "      <th>75%</th>\n",
       "      <td>559.552500</td>\n",
       "      <td>2018-11-14 00:00:00</td>\n",
       "      <td>1380.000000</td>\n",
       "    </tr>\n",
       "    <tr>\n",
       "      <th>max</th>\n",
       "      <td>1724.830000</td>\n",
       "      <td>2018-12-31 00:00:00</td>\n",
       "      <td>1499.000000</td>\n",
       "    </tr>\n",
       "    <tr>\n",
       "      <th>std</th>\n",
       "      <td>278.300951</td>\n",
       "      <td>NaN</td>\n",
       "      <td>144.050823</td>\n",
       "    </tr>\n",
       "  </tbody>\n",
       "</table>\n",
       "</div>"
      ],
      "text/plain": [
       "             mb_used                   session_date        user_id\n",
       "count  149396.000000                         149396  149396.000000\n",
       "mean      370.192426  2018-09-02 12:55:35.221826560    1252.099842\n",
       "min         0.000000            2018-01-01 00:00:00    1000.000000\n",
       "25%       138.187500            2018-07-05 00:00:00    1130.000000\n",
       "50%       348.015000            2018-09-17 00:00:00    1251.000000\n",
       "75%       559.552500            2018-11-14 00:00:00    1380.000000\n",
       "max      1724.830000            2018-12-31 00:00:00    1499.000000\n",
       "std       278.300951                            NaN     144.050823"
      ]
     },
     "execution_count": 17,
     "metadata": {},
     "output_type": "execute_result"
    }
   ],
   "source": [
    "internet.describe(datetime_is_numeric=True)"
   ]
  },
  {
   "cell_type": "code",
   "execution_count": 18,
   "metadata": {
    "pycharm": {
     "name": "#%%\n"
    }
   },
   "outputs": [
    {
     "data": {
      "text/html": [
       "<div>\n",
       "<style scoped>\n",
       "    .dataframe tbody tr th:only-of-type {\n",
       "        vertical-align: middle;\n",
       "    }\n",
       "\n",
       "    .dataframe tbody tr th {\n",
       "        vertical-align: top;\n",
       "    }\n",
       "\n",
       "    .dataframe thead th {\n",
       "        text-align: right;\n",
       "    }\n",
       "</style>\n",
       "<table border=\"1\" class=\"dataframe\">\n",
       "  <thead>\n",
       "    <tr style=\"text-align: right;\">\n",
       "      <th></th>\n",
       "      <th>id</th>\n",
       "    </tr>\n",
       "  </thead>\n",
       "  <tbody>\n",
       "    <tr>\n",
       "      <th>count</th>\n",
       "      <td>149396</td>\n",
       "    </tr>\n",
       "    <tr>\n",
       "      <th>unique</th>\n",
       "      <td>149396</td>\n",
       "    </tr>\n",
       "    <tr>\n",
       "      <th>top</th>\n",
       "      <td>1000_0</td>\n",
       "    </tr>\n",
       "    <tr>\n",
       "      <th>freq</th>\n",
       "      <td>1</td>\n",
       "    </tr>\n",
       "  </tbody>\n",
       "</table>\n",
       "</div>"
      ],
      "text/plain": [
       "            id\n",
       "count   149396\n",
       "unique  149396\n",
       "top     1000_0\n",
       "freq         1"
      ]
     },
     "execution_count": 18,
     "metadata": {},
     "output_type": "execute_result"
    }
   ],
   "source": [
    "(\n",
    "    internet\n",
    "    .select_dtypes(include='O')\n",
    "    .describe()\n",
    ")"
   ]
  },
  {
   "cell_type": "code",
   "execution_count": 19,
   "metadata": {
    "pycharm": {
     "name": "#%%\n"
    }
   },
   "outputs": [
    {
     "data": {
      "text/plain": [
       "0"
      ]
     },
     "execution_count": 19,
     "metadata": {},
     "output_type": "execute_result"
    }
   ],
   "source": [
    "internet.duplicated().sum()"
   ]
  },
  {
   "cell_type": "code",
   "execution_count": 20,
   "metadata": {
    "pycharm": {
     "name": "#%%\n"
    }
   },
   "outputs": [
    {
     "data": {
      "text/html": [
       "<div>\n",
       "<style scoped>\n",
       "    .dataframe tbody tr th:only-of-type {\n",
       "        vertical-align: middle;\n",
       "    }\n",
       "\n",
       "    .dataframe tbody tr th {\n",
       "        vertical-align: top;\n",
       "    }\n",
       "\n",
       "    .dataframe thead th {\n",
       "        text-align: right;\n",
       "    }\n",
       "</style>\n",
       "<table border=\"1\" class=\"dataframe\">\n",
       "  <thead>\n",
       "    <tr style=\"text-align: right;\">\n",
       "      <th></th>\n",
       "      <th>user_id</th>\n",
       "      <th>age</th>\n",
       "      <th>churn_date</th>\n",
       "      <th>city</th>\n",
       "      <th>first_name</th>\n",
       "      <th>last_name</th>\n",
       "      <th>reg_date</th>\n",
       "      <th>tariff</th>\n",
       "    </tr>\n",
       "  </thead>\n",
       "  <tbody>\n",
       "    <tr>\n",
       "      <th>128</th>\n",
       "      <td>1128</td>\n",
       "      <td>51</td>\n",
       "      <td>2018-12-23</td>\n",
       "      <td>Волжский</td>\n",
       "      <td>Ксения</td>\n",
       "      <td>Агаева</td>\n",
       "      <td>2018-12-15</td>\n",
       "      <td>ultra</td>\n",
       "    </tr>\n",
       "    <tr>\n",
       "      <th>273</th>\n",
       "      <td>1273</td>\n",
       "      <td>46</td>\n",
       "      <td>NaT</td>\n",
       "      <td>Курган</td>\n",
       "      <td>Рэм</td>\n",
       "      <td>Корнилов</td>\n",
       "      <td>2018-05-15</td>\n",
       "      <td>ultra</td>\n",
       "    </tr>\n",
       "    <tr>\n",
       "      <th>371</th>\n",
       "      <td>1371</td>\n",
       "      <td>50</td>\n",
       "      <td>2018-12-30</td>\n",
       "      <td>Омск</td>\n",
       "      <td>Ириней</td>\n",
       "      <td>Трофимов</td>\n",
       "      <td>2018-12-25</td>\n",
       "      <td>smart</td>\n",
       "    </tr>\n",
       "  </tbody>\n",
       "</table>\n",
       "</div>"
      ],
      "text/plain": [
       "     user_id  age churn_date      city first_name last_name   reg_date tariff\n",
       "128     1128   51 2018-12-23  Волжский     Ксения    Агаева 2018-12-15  ultra\n",
       "273     1273   46        NaT    Курган        Рэм  Корнилов 2018-05-15  ultra\n",
       "371     1371   50 2018-12-30      Омск     Ириней  Трофимов 2018-12-25  smart"
      ]
     },
     "execution_count": 20,
     "metadata": {},
     "output_type": "execute_result"
    }
   ],
   "source": [
    "users[users['user_id'].isin(set(users['user_id']) - set(internet['user_id']))]"
   ]
  },
  {
   "cell_type": "markdown",
   "metadata": {
    "pycharm": {
     "name": "#%% md\n"
    }
   },
   "source": [
    "Те же двое, кто почти сразу отключили тариф и Рэм Корнилов из Кругана."
   ]
  },
  {
   "cell_type": "markdown",
   "metadata": {
    "pycharm": {
     "name": "#%% md\n"
    }
   },
   "source": [
    "### Messages"
   ]
  },
  {
   "cell_type": "code",
   "execution_count": 21,
   "metadata": {
    "pycharm": {
     "name": "#%%\n"
    }
   },
   "outputs": [
    {
     "data": {
      "text/html": [
       "<div>\n",
       "<style scoped>\n",
       "    .dataframe tbody tr th:only-of-type {\n",
       "        vertical-align: middle;\n",
       "    }\n",
       "\n",
       "    .dataframe tbody tr th {\n",
       "        vertical-align: top;\n",
       "    }\n",
       "\n",
       "    .dataframe thead th {\n",
       "        text-align: right;\n",
       "    }\n",
       "</style>\n",
       "<table border=\"1\" class=\"dataframe\">\n",
       "  <thead>\n",
       "    <tr style=\"text-align: right;\">\n",
       "      <th></th>\n",
       "      <th>message_date</th>\n",
       "      <th>user_id</th>\n",
       "    </tr>\n",
       "  </thead>\n",
       "  <tbody>\n",
       "    <tr>\n",
       "      <th>count</th>\n",
       "      <td>123036</td>\n",
       "      <td>123036.000000</td>\n",
       "    </tr>\n",
       "    <tr>\n",
       "      <th>mean</th>\n",
       "      <td>2018-09-04 15:28:42.227640576</td>\n",
       "      <td>1256.989410</td>\n",
       "    </tr>\n",
       "    <tr>\n",
       "      <th>min</th>\n",
       "      <td>2018-01-02 00:00:00</td>\n",
       "      <td>1000.000000</td>\n",
       "    </tr>\n",
       "    <tr>\n",
       "      <th>25%</th>\n",
       "      <td>2018-07-09 00:00:00</td>\n",
       "      <td>1134.000000</td>\n",
       "    </tr>\n",
       "    <tr>\n",
       "      <th>50%</th>\n",
       "      <td>2018-09-20 00:00:00</td>\n",
       "      <td>1271.000000</td>\n",
       "    </tr>\n",
       "    <tr>\n",
       "      <th>75%</th>\n",
       "      <td>2018-11-14 00:00:00</td>\n",
       "      <td>1381.000000</td>\n",
       "    </tr>\n",
       "    <tr>\n",
       "      <th>max</th>\n",
       "      <td>2018-12-31 00:00:00</td>\n",
       "      <td>1499.000000</td>\n",
       "    </tr>\n",
       "    <tr>\n",
       "      <th>std</th>\n",
       "      <td>NaN</td>\n",
       "      <td>143.523967</td>\n",
       "    </tr>\n",
       "  </tbody>\n",
       "</table>\n",
       "</div>"
      ],
      "text/plain": [
       "                        message_date        user_id\n",
       "count                         123036  123036.000000\n",
       "mean   2018-09-04 15:28:42.227640576    1256.989410\n",
       "min              2018-01-02 00:00:00    1000.000000\n",
       "25%              2018-07-09 00:00:00    1134.000000\n",
       "50%              2018-09-20 00:00:00    1271.000000\n",
       "75%              2018-11-14 00:00:00    1381.000000\n",
       "max              2018-12-31 00:00:00    1499.000000\n",
       "std                              NaN     143.523967"
      ]
     },
     "execution_count": 21,
     "metadata": {},
     "output_type": "execute_result"
    }
   ],
   "source": [
    "messages.describe(datetime_is_numeric=True)"
   ]
  },
  {
   "cell_type": "code",
   "execution_count": 22,
   "metadata": {
    "pycharm": {
     "name": "#%%\n"
    }
   },
   "outputs": [
    {
     "data": {
      "text/plain": [
       "0"
      ]
     },
     "execution_count": 22,
     "metadata": {},
     "output_type": "execute_result"
    }
   ],
   "source": [
    "messages.duplicated().sum()"
   ]
  },
  {
   "cell_type": "code",
   "execution_count": 23,
   "metadata": {
    "pycharm": {
     "name": "#%%\n"
    }
   },
   "outputs": [
    {
     "data": {
      "text/html": [
       "<div>\n",
       "<style scoped>\n",
       "    .dataframe tbody tr th:only-of-type {\n",
       "        vertical-align: middle;\n",
       "    }\n",
       "\n",
       "    .dataframe tbody tr th {\n",
       "        vertical-align: top;\n",
       "    }\n",
       "\n",
       "    .dataframe thead th {\n",
       "        text-align: right;\n",
       "    }\n",
       "</style>\n",
       "<table border=\"1\" class=\"dataframe\">\n",
       "  <thead>\n",
       "    <tr style=\"text-align: right;\">\n",
       "      <th></th>\n",
       "      <th>user_id</th>\n",
       "      <th>age</th>\n",
       "      <th>churn_date</th>\n",
       "      <th>city</th>\n",
       "      <th>first_name</th>\n",
       "      <th>last_name</th>\n",
       "      <th>reg_date</th>\n",
       "      <th>tariff</th>\n",
       "    </tr>\n",
       "  </thead>\n",
       "  <tbody>\n",
       "    <tr>\n",
       "      <th>1</th>\n",
       "      <td>1001</td>\n",
       "      <td>41</td>\n",
       "      <td>NaT</td>\n",
       "      <td>Москва</td>\n",
       "      <td>Иван</td>\n",
       "      <td>Ежов</td>\n",
       "      <td>2018-11-01</td>\n",
       "      <td>smart</td>\n",
       "    </tr>\n",
       "    <tr>\n",
       "      <th>6</th>\n",
       "      <td>1006</td>\n",
       "      <td>21</td>\n",
       "      <td>NaT</td>\n",
       "      <td>Ульяновск</td>\n",
       "      <td>Леонид</td>\n",
       "      <td>Ермолаев</td>\n",
       "      <td>2018-02-26</td>\n",
       "      <td>smart</td>\n",
       "    </tr>\n",
       "    <tr>\n",
       "      <th>10</th>\n",
       "      <td>1010</td>\n",
       "      <td>26</td>\n",
       "      <td>NaT</td>\n",
       "      <td>Тюмень</td>\n",
       "      <td>Эдуард</td>\n",
       "      <td>Кононов</td>\n",
       "      <td>2018-08-05</td>\n",
       "      <td>smart</td>\n",
       "    </tr>\n",
       "    <tr>\n",
       "      <th>17</th>\n",
       "      <td>1017</td>\n",
       "      <td>73</td>\n",
       "      <td>NaT</td>\n",
       "      <td>Краснодар</td>\n",
       "      <td>Мария</td>\n",
       "      <td>Аленникова</td>\n",
       "      <td>2018-05-22</td>\n",
       "      <td>smart</td>\n",
       "    </tr>\n",
       "    <tr>\n",
       "      <th>24</th>\n",
       "      <td>1024</td>\n",
       "      <td>73</td>\n",
       "      <td>NaT</td>\n",
       "      <td>Санкт-Петербург</td>\n",
       "      <td>Иулиан</td>\n",
       "      <td>Антипов</td>\n",
       "      <td>2018-10-31</td>\n",
       "      <td>ultra</td>\n",
       "    </tr>\n",
       "    <tr>\n",
       "      <th>...</th>\n",
       "      <td>...</td>\n",
       "      <td>...</td>\n",
       "      <td>...</td>\n",
       "      <td>...</td>\n",
       "      <td>...</td>\n",
       "      <td>...</td>\n",
       "      <td>...</td>\n",
       "      <td>...</td>\n",
       "    </tr>\n",
       "    <tr>\n",
       "      <th>462</th>\n",
       "      <td>1462</td>\n",
       "      <td>72</td>\n",
       "      <td>NaT</td>\n",
       "      <td>Тольятти</td>\n",
       "      <td>Алёна</td>\n",
       "      <td>Абрамычева</td>\n",
       "      <td>2018-10-29</td>\n",
       "      <td>smart</td>\n",
       "    </tr>\n",
       "    <tr>\n",
       "      <th>466</th>\n",
       "      <td>1466</td>\n",
       "      <td>37</td>\n",
       "      <td>NaT</td>\n",
       "      <td>Новосибирск</td>\n",
       "      <td>Рубен</td>\n",
       "      <td>Шевцов</td>\n",
       "      <td>2018-02-28</td>\n",
       "      <td>ultra</td>\n",
       "    </tr>\n",
       "    <tr>\n",
       "      <th>469</th>\n",
       "      <td>1469</td>\n",
       "      <td>41</td>\n",
       "      <td>NaT</td>\n",
       "      <td>Сочи</td>\n",
       "      <td>Аксён</td>\n",
       "      <td>Абалкин</td>\n",
       "      <td>2018-07-06</td>\n",
       "      <td>ultra</td>\n",
       "    </tr>\n",
       "    <tr>\n",
       "      <th>479</th>\n",
       "      <td>1479</td>\n",
       "      <td>40</td>\n",
       "      <td>NaT</td>\n",
       "      <td>Хабаровск</td>\n",
       "      <td>Игорь</td>\n",
       "      <td>Богданов</td>\n",
       "      <td>2018-07-03</td>\n",
       "      <td>smart</td>\n",
       "    </tr>\n",
       "    <tr>\n",
       "      <th>494</th>\n",
       "      <td>1494</td>\n",
       "      <td>62</td>\n",
       "      <td>NaT</td>\n",
       "      <td>Омск</td>\n",
       "      <td>Ренат</td>\n",
       "      <td>Андропов</td>\n",
       "      <td>2018-08-17</td>\n",
       "      <td>smart</td>\n",
       "    </tr>\n",
       "  </tbody>\n",
       "</table>\n",
       "<p>74 rows × 8 columns</p>\n",
       "</div>"
      ],
      "text/plain": [
       "     user_id  age churn_date             city first_name   last_name  \\\n",
       "1       1001   41        NaT           Москва       Иван        Ежов   \n",
       "6       1006   21        NaT        Ульяновск     Леонид    Ермолаев   \n",
       "10      1010   26        NaT           Тюмень     Эдуард     Кононов   \n",
       "17      1017   73        NaT        Краснодар      Мария  Аленникова   \n",
       "24      1024   73        NaT  Санкт-Петербург     Иулиан     Антипов   \n",
       "..       ...  ...        ...              ...        ...         ...   \n",
       "462     1462   72        NaT         Тольятти      Алёна  Абрамычева   \n",
       "466     1466   37        NaT      Новосибирск      Рубен      Шевцов   \n",
       "469     1469   41        NaT             Сочи      Аксён     Абалкин   \n",
       "479     1479   40        NaT        Хабаровск      Игорь    Богданов   \n",
       "494     1494   62        NaT             Омск      Ренат    Андропов   \n",
       "\n",
       "      reg_date tariff  \n",
       "1   2018-11-01  smart  \n",
       "6   2018-02-26  smart  \n",
       "10  2018-08-05  smart  \n",
       "17  2018-05-22  smart  \n",
       "24  2018-10-31  ultra  \n",
       "..         ...    ...  \n",
       "462 2018-10-29  smart  \n",
       "466 2018-02-28  ultra  \n",
       "469 2018-07-06  ultra  \n",
       "479 2018-07-03  smart  \n",
       "494 2018-08-17  smart  \n",
       "\n",
       "[74 rows x 8 columns]"
      ]
     },
     "execution_count": 23,
     "metadata": {},
     "output_type": "execute_result"
    }
   ],
   "source": [
    "users[users['user_id'].isin(set(users['user_id']) - set(messages['user_id']))]"
   ]
  },
  {
   "cell_type": "markdown",
   "metadata": {
    "pycharm": {
     "name": "#%% md\n"
    }
   },
   "source": [
    "Проблем в данных не обнаружено.\n",
    "Приступим к созданию таблиц с дополнительной информацией."
   ]
  },
  {
   "cell_type": "markdown",
   "metadata": {
    "pycharm": {
     "name": "#%% md\n"
    }
   },
   "source": [
    "## Звонки и минуты по месяцам"
   ]
  },
  {
   "cell_type": "markdown",
   "metadata": {
    "pycharm": {
     "name": "#%% md\n"
    }
   },
   "source": [
    "Для удобства создадим столбец `month`, содержащий месяц совершения звонка.\n",
    "Поскольку в датасете звонки только за 2018 год, уникальных значений этого столбца будет всего 12."
   ]
  },
  {
   "cell_type": "code",
   "execution_count": 24,
   "metadata": {
    "pycharm": {
     "name": "#%%\n"
    }
   },
   "outputs": [
    {
     "data": {
      "text/html": [
       "<div>\n",
       "<style scoped>\n",
       "    .dataframe tbody tr th:only-of-type {\n",
       "        vertical-align: middle;\n",
       "    }\n",
       "\n",
       "    .dataframe tbody tr th {\n",
       "        vertical-align: top;\n",
       "    }\n",
       "\n",
       "    .dataframe thead th {\n",
       "        text-align: right;\n",
       "    }\n",
       "</style>\n",
       "<table border=\"1\" class=\"dataframe\">\n",
       "  <thead>\n",
       "    <tr style=\"text-align: right;\">\n",
       "      <th>month</th>\n",
       "      <th>2018-01-01</th>\n",
       "      <th>2018-02-01</th>\n",
       "      <th>2018-03-01</th>\n",
       "      <th>2018-04-01</th>\n",
       "      <th>2018-05-01</th>\n",
       "      <th>2018-06-01</th>\n",
       "      <th>2018-07-01</th>\n",
       "      <th>2018-08-01</th>\n",
       "      <th>2018-09-01</th>\n",
       "      <th>2018-10-01</th>\n",
       "      <th>2018-11-01</th>\n",
       "      <th>2018-12-01</th>\n",
       "    </tr>\n",
       "    <tr>\n",
       "      <th>user_id</th>\n",
       "      <th></th>\n",
       "      <th></th>\n",
       "      <th></th>\n",
       "      <th></th>\n",
       "      <th></th>\n",
       "      <th></th>\n",
       "      <th></th>\n",
       "      <th></th>\n",
       "      <th></th>\n",
       "      <th></th>\n",
       "      <th></th>\n",
       "      <th></th>\n",
       "    </tr>\n",
       "  </thead>\n",
       "  <tbody>\n",
       "    <tr>\n",
       "      <th>1000</th>\n",
       "      <td>0</td>\n",
       "      <td>0</td>\n",
       "      <td>0</td>\n",
       "      <td>0</td>\n",
       "      <td>22</td>\n",
       "      <td>43</td>\n",
       "      <td>47</td>\n",
       "      <td>52</td>\n",
       "      <td>58</td>\n",
       "      <td>57</td>\n",
       "      <td>43</td>\n",
       "      <td>46</td>\n",
       "    </tr>\n",
       "    <tr>\n",
       "      <th>1001</th>\n",
       "      <td>0</td>\n",
       "      <td>0</td>\n",
       "      <td>0</td>\n",
       "      <td>0</td>\n",
       "      <td>0</td>\n",
       "      <td>0</td>\n",
       "      <td>0</td>\n",
       "      <td>0</td>\n",
       "      <td>0</td>\n",
       "      <td>0</td>\n",
       "      <td>59</td>\n",
       "      <td>63</td>\n",
       "    </tr>\n",
       "    <tr>\n",
       "      <th>1002</th>\n",
       "      <td>0</td>\n",
       "      <td>0</td>\n",
       "      <td>0</td>\n",
       "      <td>0</td>\n",
       "      <td>0</td>\n",
       "      <td>15</td>\n",
       "      <td>26</td>\n",
       "      <td>42</td>\n",
       "      <td>36</td>\n",
       "      <td>33</td>\n",
       "      <td>32</td>\n",
       "      <td>33</td>\n",
       "    </tr>\n",
       "    <tr>\n",
       "      <th>1003</th>\n",
       "      <td>0</td>\n",
       "      <td>0</td>\n",
       "      <td>0</td>\n",
       "      <td>0</td>\n",
       "      <td>0</td>\n",
       "      <td>0</td>\n",
       "      <td>0</td>\n",
       "      <td>55</td>\n",
       "      <td>134</td>\n",
       "      <td>108</td>\n",
       "      <td>115</td>\n",
       "      <td>108</td>\n",
       "    </tr>\n",
       "    <tr>\n",
       "      <th>1004</th>\n",
       "      <td>0</td>\n",
       "      <td>0</td>\n",
       "      <td>0</td>\n",
       "      <td>0</td>\n",
       "      <td>9</td>\n",
       "      <td>31</td>\n",
       "      <td>22</td>\n",
       "      <td>19</td>\n",
       "      <td>26</td>\n",
       "      <td>29</td>\n",
       "      <td>19</td>\n",
       "      <td>21</td>\n",
       "    </tr>\n",
       "  </tbody>\n",
       "</table>\n",
       "</div>"
      ],
      "text/plain": [
       "month    2018-01-01  2018-02-01  2018-03-01  2018-04-01  2018-05-01  \\\n",
       "user_id                                                               \n",
       "1000              0           0           0           0          22   \n",
       "1001              0           0           0           0           0   \n",
       "1002              0           0           0           0           0   \n",
       "1003              0           0           0           0           0   \n",
       "1004              0           0           0           0           9   \n",
       "\n",
       "month    2018-06-01  2018-07-01  2018-08-01  2018-09-01  2018-10-01  \\\n",
       "user_id                                                               \n",
       "1000             43          47          52          58          57   \n",
       "1001              0           0           0           0           0   \n",
       "1002             15          26          42          36          33   \n",
       "1003              0           0          55         134         108   \n",
       "1004             31          22          19          26          29   \n",
       "\n",
       "month    2018-11-01  2018-12-01  \n",
       "user_id                          \n",
       "1000             43          46  \n",
       "1001             59          63  \n",
       "1002             32          33  \n",
       "1003            115         108  \n",
       "1004             19          21  "
      ]
     },
     "execution_count": 24,
     "metadata": {},
     "output_type": "execute_result"
    }
   ],
   "source": [
    "calls['month'] = calls['call_date'].astype('datetime64[M]')\n",
    "\n",
    "call_count_by_month = calls.pivot_table(values='id',\n",
    "                                        columns='month',\n",
    "                                        index='user_id',\n",
    "                                        aggfunc='count',\n",
    "                                        fill_value=0)\n",
    "call_count_by_month.head()"
   ]
  },
  {
   "cell_type": "markdown",
   "metadata": {
    "pycharm": {
     "name": "#%% md\n"
    }
   },
   "source": [
    "Вспомним, что \"Мегалайн\" округляет секунды до минут в каждом отдельном звонке. Поэтому необходимо округлить `duration` до того как собрать сводную таблицу."
   ]
  },
  {
   "cell_type": "code",
   "execution_count": 25,
   "metadata": {
    "pycharm": {
     "name": "#%%\n"
    }
   },
   "outputs": [
    {
     "data": {
      "text/html": [
       "<div>\n",
       "<style scoped>\n",
       "    .dataframe tbody tr th:only-of-type {\n",
       "        vertical-align: middle;\n",
       "    }\n",
       "\n",
       "    .dataframe tbody tr th {\n",
       "        vertical-align: top;\n",
       "    }\n",
       "\n",
       "    .dataframe thead th {\n",
       "        text-align: right;\n",
       "    }\n",
       "</style>\n",
       "<table border=\"1\" class=\"dataframe\">\n",
       "  <thead>\n",
       "    <tr style=\"text-align: right;\">\n",
       "      <th>month</th>\n",
       "      <th>2018-01-01</th>\n",
       "      <th>2018-02-01</th>\n",
       "      <th>2018-03-01</th>\n",
       "      <th>2018-04-01</th>\n",
       "      <th>2018-05-01</th>\n",
       "      <th>2018-06-01</th>\n",
       "      <th>2018-07-01</th>\n",
       "      <th>2018-08-01</th>\n",
       "      <th>2018-09-01</th>\n",
       "      <th>2018-10-01</th>\n",
       "      <th>2018-11-01</th>\n",
       "      <th>2018-12-01</th>\n",
       "    </tr>\n",
       "    <tr>\n",
       "      <th>user_id</th>\n",
       "      <th></th>\n",
       "      <th></th>\n",
       "      <th></th>\n",
       "      <th></th>\n",
       "      <th></th>\n",
       "      <th></th>\n",
       "      <th></th>\n",
       "      <th></th>\n",
       "      <th></th>\n",
       "      <th></th>\n",
       "      <th></th>\n",
       "      <th></th>\n",
       "    </tr>\n",
       "  </thead>\n",
       "  <tbody>\n",
       "    <tr>\n",
       "      <th>1000</th>\n",
       "      <td>0</td>\n",
       "      <td>0</td>\n",
       "      <td>0</td>\n",
       "      <td>0</td>\n",
       "      <td>159</td>\n",
       "      <td>172</td>\n",
       "      <td>340</td>\n",
       "      <td>408</td>\n",
       "      <td>466</td>\n",
       "      <td>350</td>\n",
       "      <td>338</td>\n",
       "      <td>333</td>\n",
       "    </tr>\n",
       "    <tr>\n",
       "      <th>1001</th>\n",
       "      <td>0</td>\n",
       "      <td>0</td>\n",
       "      <td>0</td>\n",
       "      <td>0</td>\n",
       "      <td>0</td>\n",
       "      <td>0</td>\n",
       "      <td>0</td>\n",
       "      <td>0</td>\n",
       "      <td>0</td>\n",
       "      <td>0</td>\n",
       "      <td>430</td>\n",
       "      <td>414</td>\n",
       "    </tr>\n",
       "    <tr>\n",
       "      <th>1002</th>\n",
       "      <td>0</td>\n",
       "      <td>0</td>\n",
       "      <td>0</td>\n",
       "      <td>0</td>\n",
       "      <td>0</td>\n",
       "      <td>117</td>\n",
       "      <td>214</td>\n",
       "      <td>289</td>\n",
       "      <td>206</td>\n",
       "      <td>212</td>\n",
       "      <td>243</td>\n",
       "      <td>236</td>\n",
       "    </tr>\n",
       "    <tr>\n",
       "      <th>1003</th>\n",
       "      <td>0</td>\n",
       "      <td>0</td>\n",
       "      <td>0</td>\n",
       "      <td>0</td>\n",
       "      <td>0</td>\n",
       "      <td>0</td>\n",
       "      <td>0</td>\n",
       "      <td>380</td>\n",
       "      <td>961</td>\n",
       "      <td>855</td>\n",
       "      <td>824</td>\n",
       "      <td>802</td>\n",
       "    </tr>\n",
       "    <tr>\n",
       "      <th>1004</th>\n",
       "      <td>0</td>\n",
       "      <td>0</td>\n",
       "      <td>0</td>\n",
       "      <td>0</td>\n",
       "      <td>35</td>\n",
       "      <td>171</td>\n",
       "      <td>135</td>\n",
       "      <td>137</td>\n",
       "      <td>117</td>\n",
       "      <td>145</td>\n",
       "      <td>117</td>\n",
       "      <td>130</td>\n",
       "    </tr>\n",
       "  </tbody>\n",
       "</table>\n",
       "</div>"
      ],
      "text/plain": [
       "month    2018-01-01  2018-02-01  2018-03-01  2018-04-01  2018-05-01  \\\n",
       "user_id                                                               \n",
       "1000              0           0           0           0         159   \n",
       "1001              0           0           0           0           0   \n",
       "1002              0           0           0           0           0   \n",
       "1003              0           0           0           0           0   \n",
       "1004              0           0           0           0          35   \n",
       "\n",
       "month    2018-06-01  2018-07-01  2018-08-01  2018-09-01  2018-10-01  \\\n",
       "user_id                                                               \n",
       "1000            172         340         408         466         350   \n",
       "1001              0           0           0           0           0   \n",
       "1002            117         214         289         206         212   \n",
       "1003              0           0         380         961         855   \n",
       "1004            171         135         137         117         145   \n",
       "\n",
       "month    2018-11-01  2018-12-01  \n",
       "user_id                          \n",
       "1000            338         333  \n",
       "1001            430         414  \n",
       "1002            243         236  \n",
       "1003            824         802  \n",
       "1004            117         130  "
      ]
     },
     "execution_count": 25,
     "metadata": {},
     "output_type": "execute_result"
    }
   ],
   "source": [
    "calls['duration'] = np.ceil(calls['duration'])\n",
    "\n",
    "call_duration_by_month = calls.pivot_table(values='duration',\n",
    "                                           columns='month',\n",
    "                                           index='user_id',\n",
    "                                           aggfunc='sum',\n",
    "                                           fill_value=0)\n",
    "call_duration_by_month.head()"
   ]
  },
  {
   "cell_type": "markdown",
   "metadata": {
    "pycharm": {
     "name": "#%% md\n"
    }
   },
   "source": [
    "## Сообщения по месяцам"
   ]
  },
  {
   "cell_type": "code",
   "execution_count": 26,
   "metadata": {
    "pycharm": {
     "name": "#%%\n"
    }
   },
   "outputs": [
    {
     "data": {
      "text/html": [
       "<div>\n",
       "<style scoped>\n",
       "    .dataframe tbody tr th:only-of-type {\n",
       "        vertical-align: middle;\n",
       "    }\n",
       "\n",
       "    .dataframe tbody tr th {\n",
       "        vertical-align: top;\n",
       "    }\n",
       "\n",
       "    .dataframe thead th {\n",
       "        text-align: right;\n",
       "    }\n",
       "</style>\n",
       "<table border=\"1\" class=\"dataframe\">\n",
       "  <thead>\n",
       "    <tr style=\"text-align: right;\">\n",
       "      <th>month</th>\n",
       "      <th>2018-01-01</th>\n",
       "      <th>2018-02-01</th>\n",
       "      <th>2018-03-01</th>\n",
       "      <th>2018-04-01</th>\n",
       "      <th>2018-05-01</th>\n",
       "      <th>2018-06-01</th>\n",
       "      <th>2018-07-01</th>\n",
       "      <th>2018-08-01</th>\n",
       "      <th>2018-09-01</th>\n",
       "      <th>2018-10-01</th>\n",
       "      <th>2018-11-01</th>\n",
       "      <th>2018-12-01</th>\n",
       "    </tr>\n",
       "    <tr>\n",
       "      <th>user_id</th>\n",
       "      <th></th>\n",
       "      <th></th>\n",
       "      <th></th>\n",
       "      <th></th>\n",
       "      <th></th>\n",
       "      <th></th>\n",
       "      <th></th>\n",
       "      <th></th>\n",
       "      <th></th>\n",
       "      <th></th>\n",
       "      <th></th>\n",
       "      <th></th>\n",
       "    </tr>\n",
       "  </thead>\n",
       "  <tbody>\n",
       "    <tr>\n",
       "      <th>1000</th>\n",
       "      <td>0</td>\n",
       "      <td>0</td>\n",
       "      <td>0</td>\n",
       "      <td>0</td>\n",
       "      <td>22</td>\n",
       "      <td>60</td>\n",
       "      <td>75</td>\n",
       "      <td>81</td>\n",
       "      <td>57</td>\n",
       "      <td>73</td>\n",
       "      <td>58</td>\n",
       "      <td>70</td>\n",
       "    </tr>\n",
       "    <tr>\n",
       "      <th>1002</th>\n",
       "      <td>0</td>\n",
       "      <td>0</td>\n",
       "      <td>0</td>\n",
       "      <td>0</td>\n",
       "      <td>0</td>\n",
       "      <td>4</td>\n",
       "      <td>11</td>\n",
       "      <td>13</td>\n",
       "      <td>4</td>\n",
       "      <td>10</td>\n",
       "      <td>16</td>\n",
       "      <td>12</td>\n",
       "    </tr>\n",
       "    <tr>\n",
       "      <th>1003</th>\n",
       "      <td>0</td>\n",
       "      <td>0</td>\n",
       "      <td>0</td>\n",
       "      <td>0</td>\n",
       "      <td>0</td>\n",
       "      <td>0</td>\n",
       "      <td>0</td>\n",
       "      <td>37</td>\n",
       "      <td>91</td>\n",
       "      <td>83</td>\n",
       "      <td>94</td>\n",
       "      <td>75</td>\n",
       "    </tr>\n",
       "    <tr>\n",
       "      <th>1004</th>\n",
       "      <td>0</td>\n",
       "      <td>0</td>\n",
       "      <td>0</td>\n",
       "      <td>0</td>\n",
       "      <td>95</td>\n",
       "      <td>134</td>\n",
       "      <td>181</td>\n",
       "      <td>151</td>\n",
       "      <td>146</td>\n",
       "      <td>165</td>\n",
       "      <td>158</td>\n",
       "      <td>162</td>\n",
       "    </tr>\n",
       "    <tr>\n",
       "      <th>1005</th>\n",
       "      <td>7</td>\n",
       "      <td>38</td>\n",
       "      <td>56</td>\n",
       "      <td>41</td>\n",
       "      <td>42</td>\n",
       "      <td>47</td>\n",
       "      <td>56</td>\n",
       "      <td>64</td>\n",
       "      <td>52</td>\n",
       "      <td>44</td>\n",
       "      <td>51</td>\n",
       "      <td>54</td>\n",
       "    </tr>\n",
       "  </tbody>\n",
       "</table>\n",
       "</div>"
      ],
      "text/plain": [
       "month    2018-01-01  2018-02-01  2018-03-01  2018-04-01  2018-05-01  \\\n",
       "user_id                                                               \n",
       "1000              0           0           0           0          22   \n",
       "1002              0           0           0           0           0   \n",
       "1003              0           0           0           0           0   \n",
       "1004              0           0           0           0          95   \n",
       "1005              7          38          56          41          42   \n",
       "\n",
       "month    2018-06-01  2018-07-01  2018-08-01  2018-09-01  2018-10-01  \\\n",
       "user_id                                                               \n",
       "1000             60          75          81          57          73   \n",
       "1002              4          11          13           4          10   \n",
       "1003              0           0          37          91          83   \n",
       "1004            134         181         151         146         165   \n",
       "1005             47          56          64          52          44   \n",
       "\n",
       "month    2018-11-01  2018-12-01  \n",
       "user_id                          \n",
       "1000             58          70  \n",
       "1002             16          12  \n",
       "1003             94          75  \n",
       "1004            158         162  \n",
       "1005             51          54  "
      ]
     },
     "execution_count": 26,
     "metadata": {},
     "output_type": "execute_result"
    }
   ],
   "source": [
    "messages['month'] = messages['message_date'].astype('datetime64[M]')\n",
    "\n",
    "msg_count_by_month = messages.pivot_table(values='id',\n",
    "                                          columns='month',\n",
    "                                          index='user_id',\n",
    "                                          aggfunc='count',\n",
    "                                          fill_value=0)\n",
    "msg_count_by_month.head()"
   ]
  },
  {
   "cell_type": "markdown",
   "metadata": {
    "pycharm": {
     "name": "#%% md\n"
    }
   },
   "source": [
    "## Объем трафика по месяцам"
   ]
  },
  {
   "cell_type": "markdown",
   "metadata": {
    "pycharm": {
     "name": "#%% md\n"
    }
   },
   "source": [
    "Трафик по правилам компании округляется в конце месяца, а не по результатам каждой сессии. Поэтому сейчас округлять ничего не нужно."
   ]
  },
  {
   "cell_type": "code",
   "execution_count": 27,
   "metadata": {
    "pycharm": {
     "name": "#%%\n"
    }
   },
   "outputs": [
    {
     "data": {
      "text/html": [
       "<div>\n",
       "<style scoped>\n",
       "    .dataframe tbody tr th:only-of-type {\n",
       "        vertical-align: middle;\n",
       "    }\n",
       "\n",
       "    .dataframe tbody tr th {\n",
       "        vertical-align: top;\n",
       "    }\n",
       "\n",
       "    .dataframe thead th {\n",
       "        text-align: right;\n",
       "    }\n",
       "</style>\n",
       "<table border=\"1\" class=\"dataframe\">\n",
       "  <thead>\n",
       "    <tr style=\"text-align: right;\">\n",
       "      <th>month</th>\n",
       "      <th>2018-01-01</th>\n",
       "      <th>2018-02-01</th>\n",
       "      <th>2018-03-01</th>\n",
       "      <th>2018-04-01</th>\n",
       "      <th>2018-05-01</th>\n",
       "      <th>2018-06-01</th>\n",
       "      <th>2018-07-01</th>\n",
       "      <th>2018-08-01</th>\n",
       "      <th>2018-09-01</th>\n",
       "      <th>2018-10-01</th>\n",
       "      <th>2018-11-01</th>\n",
       "      <th>2018-12-01</th>\n",
       "    </tr>\n",
       "    <tr>\n",
       "      <th>user_id</th>\n",
       "      <th></th>\n",
       "      <th></th>\n",
       "      <th></th>\n",
       "      <th></th>\n",
       "      <th></th>\n",
       "      <th></th>\n",
       "      <th></th>\n",
       "      <th></th>\n",
       "      <th></th>\n",
       "      <th></th>\n",
       "      <th></th>\n",
       "      <th></th>\n",
       "    </tr>\n",
       "  </thead>\n",
       "  <tbody>\n",
       "    <tr>\n",
       "      <th>1000</th>\n",
       "      <td>0.0</td>\n",
       "      <td>0.0</td>\n",
       "      <td>0.0</td>\n",
       "      <td>0.0</td>\n",
       "      <td>2253.49</td>\n",
       "      <td>23233.77</td>\n",
       "      <td>14003.64</td>\n",
       "      <td>14055.93</td>\n",
       "      <td>14568.91</td>\n",
       "      <td>14702.49</td>\n",
       "      <td>14756.47</td>\n",
       "      <td>9817.61</td>\n",
       "    </tr>\n",
       "    <tr>\n",
       "      <th>1001</th>\n",
       "      <td>0.0</td>\n",
       "      <td>0.0</td>\n",
       "      <td>0.0</td>\n",
       "      <td>0.0</td>\n",
       "      <td>0.00</td>\n",
       "      <td>0.00</td>\n",
       "      <td>0.00</td>\n",
       "      <td>0.00</td>\n",
       "      <td>0.00</td>\n",
       "      <td>0.00</td>\n",
       "      <td>18429.34</td>\n",
       "      <td>14036.66</td>\n",
       "    </tr>\n",
       "    <tr>\n",
       "      <th>1002</th>\n",
       "      <td>0.0</td>\n",
       "      <td>0.0</td>\n",
       "      <td>0.0</td>\n",
       "      <td>0.0</td>\n",
       "      <td>0.00</td>\n",
       "      <td>10856.82</td>\n",
       "      <td>17580.10</td>\n",
       "      <td>20319.26</td>\n",
       "      <td>16691.08</td>\n",
       "      <td>13888.25</td>\n",
       "      <td>18587.28</td>\n",
       "      <td>18113.73</td>\n",
       "    </tr>\n",
       "    <tr>\n",
       "      <th>1003</th>\n",
       "      <td>0.0</td>\n",
       "      <td>0.0</td>\n",
       "      <td>0.0</td>\n",
       "      <td>0.0</td>\n",
       "      <td>0.00</td>\n",
       "      <td>0.00</td>\n",
       "      <td>0.00</td>\n",
       "      <td>8565.21</td>\n",
       "      <td>12468.87</td>\n",
       "      <td>14768.14</td>\n",
       "      <td>11356.89</td>\n",
       "      <td>10121.53</td>\n",
       "    </tr>\n",
       "    <tr>\n",
       "      <th>1004</th>\n",
       "      <td>0.0</td>\n",
       "      <td>0.0</td>\n",
       "      <td>0.0</td>\n",
       "      <td>0.0</td>\n",
       "      <td>13403.98</td>\n",
       "      <td>17600.02</td>\n",
       "      <td>22229.58</td>\n",
       "      <td>28584.37</td>\n",
       "      <td>15109.03</td>\n",
       "      <td>18475.44</td>\n",
       "      <td>15616.02</td>\n",
       "      <td>18021.04</td>\n",
       "    </tr>\n",
       "  </tbody>\n",
       "</table>\n",
       "</div>"
      ],
      "text/plain": [
       "month    2018-01-01  2018-02-01  2018-03-01  2018-04-01  2018-05-01  \\\n",
       "user_id                                                               \n",
       "1000            0.0         0.0         0.0         0.0     2253.49   \n",
       "1001            0.0         0.0         0.0         0.0        0.00   \n",
       "1002            0.0         0.0         0.0         0.0        0.00   \n",
       "1003            0.0         0.0         0.0         0.0        0.00   \n",
       "1004            0.0         0.0         0.0         0.0    13403.98   \n",
       "\n",
       "month    2018-06-01  2018-07-01  2018-08-01  2018-09-01  2018-10-01  \\\n",
       "user_id                                                               \n",
       "1000       23233.77    14003.64    14055.93    14568.91    14702.49   \n",
       "1001           0.00        0.00        0.00        0.00        0.00   \n",
       "1002       10856.82    17580.10    20319.26    16691.08    13888.25   \n",
       "1003           0.00        0.00     8565.21    12468.87    14768.14   \n",
       "1004       17600.02    22229.58    28584.37    15109.03    18475.44   \n",
       "\n",
       "month    2018-11-01  2018-12-01  \n",
       "user_id                          \n",
       "1000       14756.47     9817.61  \n",
       "1001       18429.34    14036.66  \n",
       "1002       18587.28    18113.73  \n",
       "1003       11356.89    10121.53  \n",
       "1004       15616.02    18021.04  "
      ]
     },
     "execution_count": 27,
     "metadata": {},
     "output_type": "execute_result"
    }
   ],
   "source": [
    "internet['month'] = internet['session_date'].astype('datetime64[M]')\n",
    "\n",
    "internet_sum_by_month = internet.pivot_table(values='mb_used',\n",
    "                                             columns='month',\n",
    "                                             index='user_id',\n",
    "                                             aggfunc='sum',\n",
    "                                             fill_value=0)\n",
    "internet_sum_by_month.head()"
   ]
  },
  {
   "cell_type": "markdown",
   "metadata": {
    "pycharm": {
     "name": "#%% md\n"
    }
   },
   "source": [
    "## Помесячная выручка\n",
    "\n",
    "- Округлим Мб согласно правилам компании;\n",
    "- Вычтем бесплатный лимит из суммарного количества звонков, сообщений и интернет-трафика;\n",
    "- Остаток умножим на значение из тарифного плана;\n",
    "- Прибавим абонентскую плату, соответствующую тарифному плану."
   ]
  },
  {
   "cell_type": "code",
   "execution_count": 28,
   "metadata": {
    "pycharm": {
     "name": "#%%\n"
    }
   },
   "outputs": [
    {
     "data": {
      "text/html": [
       "<div>\n",
       "<style scoped>\n",
       "    .dataframe tbody tr th:only-of-type {\n",
       "        vertical-align: middle;\n",
       "    }\n",
       "\n",
       "    .dataframe tbody tr th {\n",
       "        vertical-align: top;\n",
       "    }\n",
       "\n",
       "    .dataframe thead th {\n",
       "        text-align: right;\n",
       "    }\n",
       "</style>\n",
       "<table border=\"1\" class=\"dataframe\">\n",
       "  <thead>\n",
       "    <tr style=\"text-align: right;\">\n",
       "      <th></th>\n",
       "      <th>messages_included</th>\n",
       "      <th>mb_per_month_included</th>\n",
       "      <th>minutes_included</th>\n",
       "      <th>rub_monthly_fee</th>\n",
       "      <th>rub_per_gb</th>\n",
       "      <th>rub_per_message</th>\n",
       "      <th>rub_per_minute</th>\n",
       "    </tr>\n",
       "  </thead>\n",
       "  <tbody>\n",
       "    <tr>\n",
       "      <th>smart</th>\n",
       "      <td>50</td>\n",
       "      <td>15360</td>\n",
       "      <td>500</td>\n",
       "      <td>550</td>\n",
       "      <td>200</td>\n",
       "      <td>3</td>\n",
       "      <td>3</td>\n",
       "    </tr>\n",
       "    <tr>\n",
       "      <th>ultra</th>\n",
       "      <td>1000</td>\n",
       "      <td>30720</td>\n",
       "      <td>3000</td>\n",
       "      <td>1950</td>\n",
       "      <td>150</td>\n",
       "      <td>1</td>\n",
       "      <td>1</td>\n",
       "    </tr>\n",
       "  </tbody>\n",
       "</table>\n",
       "</div>"
      ],
      "text/plain": [
       "       messages_included  mb_per_month_included  minutes_included  \\\n",
       "smart                 50                  15360               500   \n",
       "ultra               1000                  30720              3000   \n",
       "\n",
       "       rub_monthly_fee  rub_per_gb  rub_per_message  rub_per_minute  \n",
       "smart              550         200                3               3  \n",
       "ultra             1950         150                1               1  "
      ]
     },
     "execution_count": 28,
     "metadata": {},
     "output_type": "execute_result"
    }
   ],
   "source": [
    "# для удобства обращения\n",
    "tariffs.index = tariffs['tariff_name'].values\n",
    "\n",
    "try:\n",
    "    tariffs.drop(columns='tariff_name',\n",
    "                 inplace=True)\n",
    "except:\n",
    "    pass\n",
    "\n",
    "tariffs"
   ]
  },
  {
   "cell_type": "code",
   "execution_count": 29,
   "metadata": {
    "pycharm": {
     "name": "#%%\n"
    }
   },
   "outputs": [],
   "source": [
    "def mb_ceil_to_gb(val):\n",
    "    \"\"\"\n",
    "    Округляет val до гигабайтов в большую сторону.\n",
    "    Возвращает количество гигабайт.\n",
    "    \"\"\"\n",
    "    if val % 1024 != 0:\n",
    "        return (val + 1024 - val % 1024) / 1024\n",
    "    return val / 1024\n",
    "\n",
    "\n",
    "def calculate_revenue(user):\n",
    "    \"\"\"\n",
    "    Считает выручку за каждый месяц для пользователя user\n",
    "    Возвращает Series, в которых индекс - номер месяца, значение - суммарная выручка в этом месяце\n",
    "    \"\"\"\n",
    "    result = {x: 0 for x in range(1, 13)}\n",
    "    user_tariff = tariffs.loc[user['tariff']]\n",
    "    for i in range(1, 13):\n",
    "        month_sum = 0\n",
    "        if i < user['reg_month'].month:\n",
    "            result[i] = month_sum\n",
    "            continue\n",
    "        month_sum = (np.clip(user.iloc[2 + i] - user_tariff['minutes_included'], 0, None) * user_tariff['rub_per_minute'] +\n",
    "                     np.clip(user.iloc[2 + i + 12] - user_tariff['messages_included'], 0, None) * user_tariff['rub_per_minute'] +\n",
    "                     np.clip(user.iloc[2 + i + 24] - user_tariff['gb_per_month_included'], 0, None) * user_tariff['rub_per_gb'] +\n",
    "                     user_tariff['rub_monthly_fee'])\n",
    "        # month_sum = (max(0, user.iloc[2 + i] - user_tariff['minutes_included']) * user_tariff['rub_per_minute'] +\n",
    "        #              max(0, user.iloc[2 + i + 12] - user_tariff['messages_included']) * user_tariff['rub_per_message'] +\n",
    "        #              max(0, user.iloc[2 + i + 24] - user_tariff['gb_per_month_included']) * user_tariff['rub_per_gb'] +\n",
    "        #              user_tariff['rub_monthly_fee'])\n",
    "        result[i] = month_sum\n",
    "    return pd.Series(result)"
   ]
  },
  {
   "cell_type": "code",
   "execution_count": 30,
   "metadata": {
    "pycharm": {
     "name": "#%%\n"
    }
   },
   "outputs": [],
   "source": [
    "# округление трафика\n",
    "internet_sum_by_month = internet_sum_by_month.applymap(mb_ceil_to_gb)"
   ]
  },
  {
   "cell_type": "code",
   "execution_count": 31,
   "metadata": {
    "pycharm": {
     "name": "#%%\n"
    }
   },
   "outputs": [
    {
     "data": {
      "text/html": [
       "<div>\n",
       "<style scoped>\n",
       "    .dataframe tbody tr th:only-of-type {\n",
       "        vertical-align: middle;\n",
       "    }\n",
       "\n",
       "    .dataframe tbody tr th {\n",
       "        vertical-align: top;\n",
       "    }\n",
       "\n",
       "    .dataframe thead th {\n",
       "        text-align: right;\n",
       "    }\n",
       "</style>\n",
       "<table border=\"1\" class=\"dataframe\">\n",
       "  <thead>\n",
       "    <tr style=\"text-align: right;\">\n",
       "      <th></th>\n",
       "      <th>user_id</th>\n",
       "      <th>reg_month</th>\n",
       "      <th>tariff</th>\n",
       "      <th>2018-01-01 00:00:00</th>\n",
       "      <th>2018-02-01 00:00:00</th>\n",
       "      <th>2018-03-01 00:00:00</th>\n",
       "      <th>2018-04-01 00:00:00</th>\n",
       "      <th>2018-05-01 00:00:00</th>\n",
       "      <th>2018-06-01 00:00:00</th>\n",
       "      <th>2018-07-01 00:00:00</th>\n",
       "      <th>...</th>\n",
       "      <th>2018-03-01 00:00:00</th>\n",
       "      <th>2018-04-01 00:00:00</th>\n",
       "      <th>2018-05-01 00:00:00</th>\n",
       "      <th>2018-06-01 00:00:00</th>\n",
       "      <th>2018-07-01 00:00:00</th>\n",
       "      <th>2018-08-01 00:00:00</th>\n",
       "      <th>2018-09-01 00:00:00</th>\n",
       "      <th>2018-10-01 00:00:00</th>\n",
       "      <th>2018-11-01 00:00:00</th>\n",
       "      <th>2018-12-01 00:00:00</th>\n",
       "    </tr>\n",
       "  </thead>\n",
       "  <tbody>\n",
       "    <tr>\n",
       "      <th>0</th>\n",
       "      <td>1000</td>\n",
       "      <td>2018-05-01</td>\n",
       "      <td>ultra</td>\n",
       "      <td>0.0</td>\n",
       "      <td>0.0</td>\n",
       "      <td>0.0</td>\n",
       "      <td>0.0</td>\n",
       "      <td>159.0</td>\n",
       "      <td>172.0</td>\n",
       "      <td>340.0</td>\n",
       "      <td>...</td>\n",
       "      <td>0.0</td>\n",
       "      <td>0.0</td>\n",
       "      <td>3.0</td>\n",
       "      <td>23.0</td>\n",
       "      <td>14.0</td>\n",
       "      <td>14.0</td>\n",
       "      <td>15.0</td>\n",
       "      <td>15.0</td>\n",
       "      <td>15.0</td>\n",
       "      <td>10.0</td>\n",
       "    </tr>\n",
       "    <tr>\n",
       "      <th>1</th>\n",
       "      <td>1001</td>\n",
       "      <td>2018-11-01</td>\n",
       "      <td>smart</td>\n",
       "      <td>0.0</td>\n",
       "      <td>0.0</td>\n",
       "      <td>0.0</td>\n",
       "      <td>0.0</td>\n",
       "      <td>0.0</td>\n",
       "      <td>0.0</td>\n",
       "      <td>0.0</td>\n",
       "      <td>...</td>\n",
       "      <td>0.0</td>\n",
       "      <td>0.0</td>\n",
       "      <td>0.0</td>\n",
       "      <td>0.0</td>\n",
       "      <td>0.0</td>\n",
       "      <td>0.0</td>\n",
       "      <td>0.0</td>\n",
       "      <td>0.0</td>\n",
       "      <td>18.0</td>\n",
       "      <td>14.0</td>\n",
       "    </tr>\n",
       "    <tr>\n",
       "      <th>2</th>\n",
       "      <td>1002</td>\n",
       "      <td>2018-06-01</td>\n",
       "      <td>smart</td>\n",
       "      <td>0.0</td>\n",
       "      <td>0.0</td>\n",
       "      <td>0.0</td>\n",
       "      <td>0.0</td>\n",
       "      <td>0.0</td>\n",
       "      <td>117.0</td>\n",
       "      <td>214.0</td>\n",
       "      <td>...</td>\n",
       "      <td>0.0</td>\n",
       "      <td>0.0</td>\n",
       "      <td>0.0</td>\n",
       "      <td>11.0</td>\n",
       "      <td>18.0</td>\n",
       "      <td>20.0</td>\n",
       "      <td>17.0</td>\n",
       "      <td>14.0</td>\n",
       "      <td>19.0</td>\n",
       "      <td>18.0</td>\n",
       "    </tr>\n",
       "    <tr>\n",
       "      <th>3</th>\n",
       "      <td>1003</td>\n",
       "      <td>2018-08-01</td>\n",
       "      <td>ultra</td>\n",
       "      <td>0.0</td>\n",
       "      <td>0.0</td>\n",
       "      <td>0.0</td>\n",
       "      <td>0.0</td>\n",
       "      <td>0.0</td>\n",
       "      <td>0.0</td>\n",
       "      <td>0.0</td>\n",
       "      <td>...</td>\n",
       "      <td>0.0</td>\n",
       "      <td>0.0</td>\n",
       "      <td>0.0</td>\n",
       "      <td>0.0</td>\n",
       "      <td>0.0</td>\n",
       "      <td>9.0</td>\n",
       "      <td>13.0</td>\n",
       "      <td>15.0</td>\n",
       "      <td>12.0</td>\n",
       "      <td>10.0</td>\n",
       "    </tr>\n",
       "    <tr>\n",
       "      <th>4</th>\n",
       "      <td>1004</td>\n",
       "      <td>2018-05-01</td>\n",
       "      <td>ultra</td>\n",
       "      <td>0.0</td>\n",
       "      <td>0.0</td>\n",
       "      <td>0.0</td>\n",
       "      <td>0.0</td>\n",
       "      <td>35.0</td>\n",
       "      <td>171.0</td>\n",
       "      <td>135.0</td>\n",
       "      <td>...</td>\n",
       "      <td>0.0</td>\n",
       "      <td>0.0</td>\n",
       "      <td>14.0</td>\n",
       "      <td>18.0</td>\n",
       "      <td>22.0</td>\n",
       "      <td>28.0</td>\n",
       "      <td>15.0</td>\n",
       "      <td>19.0</td>\n",
       "      <td>16.0</td>\n",
       "      <td>18.0</td>\n",
       "    </tr>\n",
       "  </tbody>\n",
       "</table>\n",
       "<p>5 rows × 39 columns</p>\n",
       "</div>"
      ],
      "text/plain": [
       "   user_id  reg_month tariff  2018-01-01 00:00:00  2018-02-01 00:00:00  \\\n",
       "0     1000 2018-05-01  ultra                  0.0                  0.0   \n",
       "1     1001 2018-11-01  smart                  0.0                  0.0   \n",
       "2     1002 2018-06-01  smart                  0.0                  0.0   \n",
       "3     1003 2018-08-01  ultra                  0.0                  0.0   \n",
       "4     1004 2018-05-01  ultra                  0.0                  0.0   \n",
       "\n",
       "   2018-03-01 00:00:00  2018-04-01 00:00:00  2018-05-01 00:00:00  \\\n",
       "0                  0.0                  0.0                159.0   \n",
       "1                  0.0                  0.0                  0.0   \n",
       "2                  0.0                  0.0                  0.0   \n",
       "3                  0.0                  0.0                  0.0   \n",
       "4                  0.0                  0.0                 35.0   \n",
       "\n",
       "   2018-06-01 00:00:00  2018-07-01 00:00:00  ...  2018-03-01 00:00:00  \\\n",
       "0                172.0                340.0  ...                  0.0   \n",
       "1                  0.0                  0.0  ...                  0.0   \n",
       "2                117.0                214.0  ...                  0.0   \n",
       "3                  0.0                  0.0  ...                  0.0   \n",
       "4                171.0                135.0  ...                  0.0   \n",
       "\n",
       "   2018-04-01 00:00:00  2018-05-01 00:00:00  2018-06-01 00:00:00  \\\n",
       "0                  0.0                  3.0                 23.0   \n",
       "1                  0.0                  0.0                  0.0   \n",
       "2                  0.0                  0.0                 11.0   \n",
       "3                  0.0                  0.0                  0.0   \n",
       "4                  0.0                 14.0                 18.0   \n",
       "\n",
       "   2018-07-01 00:00:00  2018-08-01 00:00:00  2018-09-01 00:00:00  \\\n",
       "0                 14.0                 14.0                 15.0   \n",
       "1                  0.0                  0.0                  0.0   \n",
       "2                 18.0                 20.0                 17.0   \n",
       "3                  0.0                  9.0                 13.0   \n",
       "4                 22.0                 28.0                 15.0   \n",
       "\n",
       "   2018-10-01 00:00:00  2018-11-01 00:00:00  2018-12-01 00:00:00  \n",
       "0                 15.0                 15.0                 10.0  \n",
       "1                  0.0                 18.0                 14.0  \n",
       "2                 14.0                 19.0                 18.0  \n",
       "3                 15.0                 12.0                 10.0  \n",
       "4                 19.0                 16.0                 18.0  \n",
       "\n",
       "[5 rows x 39 columns]"
      ]
     },
     "execution_count": 31,
     "metadata": {},
     "output_type": "execute_result"
    }
   ],
   "source": [
    "# вспомогательные столбцы\n",
    "tariffs['gb_per_month_included'] = (tariffs['mb_per_month_included'] / 1024).astype('int')\n",
    "users['reg_month'] = users['reg_date'].astype('datetime64[M]')\n",
    "\n",
    "# создание таблицы для проведения расчета выручки\n",
    "users_calls_msg_inet_union = (\n",
    "    users[['user_id', 'reg_month', 'tariff']]\n",
    "    .join(call_duration_by_month,\n",
    "          on='user_id',\n",
    "          how='left')\n",
    ")\n",
    "\n",
    "users_calls_msg_inet_union = (\n",
    "    users_calls_msg_inet_union\n",
    "    .join(msg_count_by_month,\n",
    "          on='user_id',\n",
    "          how='left',\n",
    "          rsuffix='_msg')\n",
    ")\n",
    "\n",
    "users_calls_msg_inet_union = (\n",
    "    users_calls_msg_inet_union\n",
    "    .join(internet_sum_by_month,\n",
    "          on='user_id',\n",
    "          how='left',\n",
    "          rsuffix='_inet')\n",
    "    .fillna(0)\n",
    ")\n",
    "\n",
    "users_calls_msg_inet_union.head()"
   ]
  },
  {
   "cell_type": "markdown",
   "metadata": {
    "pycharm": {
     "name": "#%% md\n"
    }
   },
   "source": [
    "Составим сводную таблицу с помесячной выручкой с каждого пользователя."
   ]
  },
  {
   "cell_type": "code",
   "execution_count": 32,
   "metadata": {
    "pycharm": {
     "name": "#%%\n"
    }
   },
   "outputs": [
    {
     "data": {
      "text/html": [
       "<div>\n",
       "<style scoped>\n",
       "    .dataframe tbody tr th:only-of-type {\n",
       "        vertical-align: middle;\n",
       "    }\n",
       "\n",
       "    .dataframe tbody tr th {\n",
       "        vertical-align: top;\n",
       "    }\n",
       "\n",
       "    .dataframe thead th {\n",
       "        text-align: right;\n",
       "    }\n",
       "</style>\n",
       "<table border=\"1\" class=\"dataframe\">\n",
       "  <thead>\n",
       "    <tr style=\"text-align: right;\">\n",
       "      <th></th>\n",
       "      <th>user_id</th>\n",
       "      <th>tariff</th>\n",
       "      <th>1</th>\n",
       "      <th>2</th>\n",
       "      <th>3</th>\n",
       "      <th>4</th>\n",
       "      <th>5</th>\n",
       "      <th>6</th>\n",
       "      <th>7</th>\n",
       "      <th>8</th>\n",
       "      <th>9</th>\n",
       "      <th>10</th>\n",
       "      <th>11</th>\n",
       "      <th>12</th>\n",
       "    </tr>\n",
       "  </thead>\n",
       "  <tbody>\n",
       "    <tr>\n",
       "      <th>0</th>\n",
       "      <td>1000</td>\n",
       "      <td>ultra</td>\n",
       "      <td>0.0</td>\n",
       "      <td>0.0</td>\n",
       "      <td>0.0</td>\n",
       "      <td>0.0</td>\n",
       "      <td>1950.0</td>\n",
       "      <td>1950.0</td>\n",
       "      <td>1950.0</td>\n",
       "      <td>1950.0</td>\n",
       "      <td>1950.0</td>\n",
       "      <td>1950.0</td>\n",
       "      <td>1950.0</td>\n",
       "      <td>1950.0</td>\n",
       "    </tr>\n",
       "    <tr>\n",
       "      <th>1</th>\n",
       "      <td>1001</td>\n",
       "      <td>smart</td>\n",
       "      <td>0.0</td>\n",
       "      <td>0.0</td>\n",
       "      <td>0.0</td>\n",
       "      <td>0.0</td>\n",
       "      <td>0.0</td>\n",
       "      <td>0.0</td>\n",
       "      <td>0.0</td>\n",
       "      <td>0.0</td>\n",
       "      <td>0.0</td>\n",
       "      <td>0.0</td>\n",
       "      <td>1150.0</td>\n",
       "      <td>550.0</td>\n",
       "    </tr>\n",
       "    <tr>\n",
       "      <th>2</th>\n",
       "      <td>1002</td>\n",
       "      <td>smart</td>\n",
       "      <td>0.0</td>\n",
       "      <td>0.0</td>\n",
       "      <td>0.0</td>\n",
       "      <td>0.0</td>\n",
       "      <td>0.0</td>\n",
       "      <td>550.0</td>\n",
       "      <td>1150.0</td>\n",
       "      <td>1550.0</td>\n",
       "      <td>950.0</td>\n",
       "      <td>550.0</td>\n",
       "      <td>1350.0</td>\n",
       "      <td>1150.0</td>\n",
       "    </tr>\n",
       "    <tr>\n",
       "      <th>3</th>\n",
       "      <td>1003</td>\n",
       "      <td>ultra</td>\n",
       "      <td>0.0</td>\n",
       "      <td>0.0</td>\n",
       "      <td>0.0</td>\n",
       "      <td>0.0</td>\n",
       "      <td>0.0</td>\n",
       "      <td>0.0</td>\n",
       "      <td>0.0</td>\n",
       "      <td>1950.0</td>\n",
       "      <td>1950.0</td>\n",
       "      <td>1950.0</td>\n",
       "      <td>1950.0</td>\n",
       "      <td>1950.0</td>\n",
       "    </tr>\n",
       "    <tr>\n",
       "      <th>4</th>\n",
       "      <td>1004</td>\n",
       "      <td>ultra</td>\n",
       "      <td>0.0</td>\n",
       "      <td>0.0</td>\n",
       "      <td>0.0</td>\n",
       "      <td>0.0</td>\n",
       "      <td>1950.0</td>\n",
       "      <td>1950.0</td>\n",
       "      <td>1950.0</td>\n",
       "      <td>1950.0</td>\n",
       "      <td>1950.0</td>\n",
       "      <td>1950.0</td>\n",
       "      <td>1950.0</td>\n",
       "      <td>1950.0</td>\n",
       "    </tr>\n",
       "  </tbody>\n",
       "</table>\n",
       "</div>"
      ],
      "text/plain": [
       "   user_id tariff    1    2    3    4       5       6       7       8       9  \\\n",
       "0     1000  ultra  0.0  0.0  0.0  0.0  1950.0  1950.0  1950.0  1950.0  1950.0   \n",
       "1     1001  smart  0.0  0.0  0.0  0.0     0.0     0.0     0.0     0.0     0.0   \n",
       "2     1002  smart  0.0  0.0  0.0  0.0     0.0   550.0  1150.0  1550.0   950.0   \n",
       "3     1003  ultra  0.0  0.0  0.0  0.0     0.0     0.0     0.0  1950.0  1950.0   \n",
       "4     1004  ultra  0.0  0.0  0.0  0.0  1950.0  1950.0  1950.0  1950.0  1950.0   \n",
       "\n",
       "       10      11      12  \n",
       "0  1950.0  1950.0  1950.0  \n",
       "1     0.0  1150.0   550.0  \n",
       "2   550.0  1350.0  1150.0  \n",
       "3  1950.0  1950.0  1950.0  \n",
       "4  1950.0  1950.0  1950.0  "
      ]
     },
     "execution_count": 32,
     "metadata": {},
     "output_type": "execute_result"
    }
   ],
   "source": [
    "users_revenue = (\n",
    "    users_calls_msg_inet_union[['user_id', 'tariff']]\n",
    "    .join(users_calls_msg_inet_union\n",
    "          .apply(calculate_revenue,\n",
    "                 axis=1))\n",
    ")\n",
    "\n",
    "users_revenue.head()"
   ]
  },
  {
   "cell_type": "markdown",
   "metadata": {
    "pycharm": {
     "name": "#%% md\n"
    }
   },
   "source": [
    "# Шаг 3. Проанализируйте данные"
   ]
  },
  {
   "cell_type": "markdown",
   "metadata": {
    "pycharm": {
     "name": "#%% md\n"
    }
   },
   "source": [
    "Опишите поведение клиентов оператора, исходя из выборки. Сколько минут разговора, сколько сообщений и какой объём интернет-трафика требуется пользователям каждого тарифа в месяц? Посчитайте среднее количество, дисперсию и стандартное отклонение. Постройте гистограммы. Опишите распределения."
   ]
  },
  {
   "cell_type": "markdown",
   "metadata": {
    "pycharm": {
     "name": "#%% md\n"
    }
   },
   "source": [
    "### Расчет средних, дисперсии и СКО"
   ]
  },
  {
   "cell_type": "markdown",
   "metadata": {
    "pycharm": {
     "name": "#%% md\n"
    }
   },
   "source": [
    "Рассчитаем среднее количество минут разговора, смс и интернет трафика для каждого пользователя с учетом их месяца подключения. Также рас"
   ]
  },
  {
   "cell_type": "code",
   "execution_count": 33,
   "metadata": {
    "pycharm": {
     "name": "#%%\n"
    }
   },
   "outputs": [
    {
     "data": {
      "text/html": [
       "<div>\n",
       "<style scoped>\n",
       "    .dataframe tbody tr th:only-of-type {\n",
       "        vertical-align: middle;\n",
       "    }\n",
       "\n",
       "    .dataframe tbody tr th {\n",
       "        vertical-align: top;\n",
       "    }\n",
       "\n",
       "    .dataframe thead th {\n",
       "        text-align: right;\n",
       "    }\n",
       "</style>\n",
       "<table border=\"1\" class=\"dataframe\">\n",
       "  <thead>\n",
       "    <tr style=\"text-align: right;\">\n",
       "      <th></th>\n",
       "      <th>user_id</th>\n",
       "      <th>reg_month</th>\n",
       "      <th>tariff</th>\n",
       "      <th>2018-01-01 00:00:00</th>\n",
       "      <th>2018-02-01 00:00:00</th>\n",
       "      <th>2018-03-01 00:00:00</th>\n",
       "      <th>2018-04-01 00:00:00</th>\n",
       "      <th>2018-05-01 00:00:00</th>\n",
       "      <th>2018-06-01 00:00:00</th>\n",
       "      <th>2018-07-01 00:00:00</th>\n",
       "      <th>2018-08-01 00:00:00</th>\n",
       "      <th>2018-09-01 00:00:00</th>\n",
       "      <th>2018-10-01 00:00:00</th>\n",
       "      <th>2018-11-01 00:00:00</th>\n",
       "      <th>2018-12-01 00:00:00</th>\n",
       "      <th>mean</th>\n",
       "      <th>sigma2</th>\n",
       "      <th>sigma</th>\n",
       "    </tr>\n",
       "  </thead>\n",
       "  <tbody>\n",
       "    <tr>\n",
       "      <th>0</th>\n",
       "      <td>1000</td>\n",
       "      <td>2018-05-01</td>\n",
       "      <td>ultra</td>\n",
       "      <td>0.0</td>\n",
       "      <td>0.0</td>\n",
       "      <td>0.0</td>\n",
       "      <td>0.0</td>\n",
       "      <td>159.0</td>\n",
       "      <td>172.0</td>\n",
       "      <td>340.0</td>\n",
       "      <td>408.0</td>\n",
       "      <td>466.0</td>\n",
       "      <td>350.0</td>\n",
       "      <td>338.0</td>\n",
       "      <td>333.0</td>\n",
       "      <td>320.75</td>\n",
       "      <td>9834.1875</td>\n",
       "      <td>99.167472</td>\n",
       "    </tr>\n",
       "    <tr>\n",
       "      <th>1</th>\n",
       "      <td>1001</td>\n",
       "      <td>2018-11-01</td>\n",
       "      <td>smart</td>\n",
       "      <td>0.0</td>\n",
       "      <td>0.0</td>\n",
       "      <td>0.0</td>\n",
       "      <td>0.0</td>\n",
       "      <td>0.0</td>\n",
       "      <td>0.0</td>\n",
       "      <td>0.0</td>\n",
       "      <td>0.0</td>\n",
       "      <td>0.0</td>\n",
       "      <td>0.0</td>\n",
       "      <td>430.0</td>\n",
       "      <td>414.0</td>\n",
       "      <td>422.00</td>\n",
       "      <td>64.0000</td>\n",
       "      <td>8.000000</td>\n",
       "    </tr>\n",
       "  </tbody>\n",
       "</table>\n",
       "</div>"
      ],
      "text/plain": [
       "   user_id  reg_month tariff  2018-01-01 00:00:00  2018-02-01 00:00:00  \\\n",
       "0     1000 2018-05-01  ultra                  0.0                  0.0   \n",
       "1     1001 2018-11-01  smart                  0.0                  0.0   \n",
       "\n",
       "   2018-03-01 00:00:00  2018-04-01 00:00:00  2018-05-01 00:00:00  \\\n",
       "0                  0.0                  0.0                159.0   \n",
       "1                  0.0                  0.0                  0.0   \n",
       "\n",
       "   2018-06-01 00:00:00  2018-07-01 00:00:00  2018-08-01 00:00:00  \\\n",
       "0                172.0                340.0                408.0   \n",
       "1                  0.0                  0.0                  0.0   \n",
       "\n",
       "   2018-09-01 00:00:00  2018-10-01 00:00:00  2018-11-01 00:00:00  \\\n",
       "0                466.0                350.0                338.0   \n",
       "1                  0.0                  0.0                430.0   \n",
       "\n",
       "   2018-12-01 00:00:00    mean     sigma2      sigma  \n",
       "0                333.0  320.75  9834.1875  99.167472  \n",
       "1                414.0  422.00    64.0000   8.000000  "
      ]
     },
     "metadata": {},
     "output_type": "display_data"
    },
    {
     "data": {
      "text/html": [
       "<div>\n",
       "<style scoped>\n",
       "    .dataframe tbody tr th:only-of-type {\n",
       "        vertical-align: middle;\n",
       "    }\n",
       "\n",
       "    .dataframe tbody tr th {\n",
       "        vertical-align: top;\n",
       "    }\n",
       "\n",
       "    .dataframe thead th {\n",
       "        text-align: right;\n",
       "    }\n",
       "</style>\n",
       "<table border=\"1\" class=\"dataframe\">\n",
       "  <thead>\n",
       "    <tr style=\"text-align: right;\">\n",
       "      <th></th>\n",
       "      <th>user_id</th>\n",
       "      <th>reg_month</th>\n",
       "      <th>tariff</th>\n",
       "      <th>2018-01-01 00:00:00</th>\n",
       "      <th>2018-02-01 00:00:00</th>\n",
       "      <th>2018-03-01 00:00:00</th>\n",
       "      <th>2018-04-01 00:00:00</th>\n",
       "      <th>2018-05-01 00:00:00</th>\n",
       "      <th>2018-06-01 00:00:00</th>\n",
       "      <th>2018-07-01 00:00:00</th>\n",
       "      <th>2018-08-01 00:00:00</th>\n",
       "      <th>2018-09-01 00:00:00</th>\n",
       "      <th>2018-10-01 00:00:00</th>\n",
       "      <th>2018-11-01 00:00:00</th>\n",
       "      <th>2018-12-01 00:00:00</th>\n",
       "      <th>mean</th>\n",
       "      <th>sigma2</th>\n",
       "      <th>sigma</th>\n",
       "    </tr>\n",
       "  </thead>\n",
       "  <tbody>\n",
       "    <tr>\n",
       "      <th>0</th>\n",
       "      <td>1000</td>\n",
       "      <td>2018-05-01</td>\n",
       "      <td>ultra</td>\n",
       "      <td>0.0</td>\n",
       "      <td>0.0</td>\n",
       "      <td>0.0</td>\n",
       "      <td>0.0</td>\n",
       "      <td>22.0</td>\n",
       "      <td>60.0</td>\n",
       "      <td>75.0</td>\n",
       "      <td>81.0</td>\n",
       "      <td>57.0</td>\n",
       "      <td>73.0</td>\n",
       "      <td>58.0</td>\n",
       "      <td>70.0</td>\n",
       "      <td>62.0</td>\n",
       "      <td>295.0</td>\n",
       "      <td>17.175564</td>\n",
       "    </tr>\n",
       "    <tr>\n",
       "      <th>1</th>\n",
       "      <td>1001</td>\n",
       "      <td>2018-11-01</td>\n",
       "      <td>smart</td>\n",
       "      <td>0.0</td>\n",
       "      <td>0.0</td>\n",
       "      <td>0.0</td>\n",
       "      <td>0.0</td>\n",
       "      <td>0.0</td>\n",
       "      <td>0.0</td>\n",
       "      <td>0.0</td>\n",
       "      <td>0.0</td>\n",
       "      <td>0.0</td>\n",
       "      <td>0.0</td>\n",
       "      <td>0.0</td>\n",
       "      <td>0.0</td>\n",
       "      <td>0.0</td>\n",
       "      <td>0.0</td>\n",
       "      <td>0.000000</td>\n",
       "    </tr>\n",
       "  </tbody>\n",
       "</table>\n",
       "</div>"
      ],
      "text/plain": [
       "   user_id  reg_month tariff  2018-01-01 00:00:00  2018-02-01 00:00:00  \\\n",
       "0     1000 2018-05-01  ultra                  0.0                  0.0   \n",
       "1     1001 2018-11-01  smart                  0.0                  0.0   \n",
       "\n",
       "   2018-03-01 00:00:00  2018-04-01 00:00:00  2018-05-01 00:00:00  \\\n",
       "0                  0.0                  0.0                 22.0   \n",
       "1                  0.0                  0.0                  0.0   \n",
       "\n",
       "   2018-06-01 00:00:00  2018-07-01 00:00:00  2018-08-01 00:00:00  \\\n",
       "0                 60.0                 75.0                 81.0   \n",
       "1                  0.0                  0.0                  0.0   \n",
       "\n",
       "   2018-09-01 00:00:00  2018-10-01 00:00:00  2018-11-01 00:00:00  \\\n",
       "0                 57.0                 73.0                 58.0   \n",
       "1                  0.0                  0.0                  0.0   \n",
       "\n",
       "   2018-12-01 00:00:00  mean  sigma2      sigma  \n",
       "0                 70.0  62.0   295.0  17.175564  \n",
       "1                  0.0   0.0     0.0   0.000000  "
      ]
     },
     "metadata": {},
     "output_type": "display_data"
    },
    {
     "data": {
      "text/html": [
       "<div>\n",
       "<style scoped>\n",
       "    .dataframe tbody tr th:only-of-type {\n",
       "        vertical-align: middle;\n",
       "    }\n",
       "\n",
       "    .dataframe tbody tr th {\n",
       "        vertical-align: top;\n",
       "    }\n",
       "\n",
       "    .dataframe thead th {\n",
       "        text-align: right;\n",
       "    }\n",
       "</style>\n",
       "<table border=\"1\" class=\"dataframe\">\n",
       "  <thead>\n",
       "    <tr style=\"text-align: right;\">\n",
       "      <th></th>\n",
       "      <th>user_id</th>\n",
       "      <th>reg_month</th>\n",
       "      <th>tariff</th>\n",
       "      <th>2018-01-01 00:00:00</th>\n",
       "      <th>2018-02-01 00:00:00</th>\n",
       "      <th>2018-03-01 00:00:00</th>\n",
       "      <th>2018-04-01 00:00:00</th>\n",
       "      <th>2018-05-01 00:00:00</th>\n",
       "      <th>2018-06-01 00:00:00</th>\n",
       "      <th>2018-07-01 00:00:00</th>\n",
       "      <th>2018-08-01 00:00:00</th>\n",
       "      <th>2018-09-01 00:00:00</th>\n",
       "      <th>2018-10-01 00:00:00</th>\n",
       "      <th>2018-11-01 00:00:00</th>\n",
       "      <th>2018-12-01 00:00:00</th>\n",
       "      <th>mean</th>\n",
       "      <th>sigma2</th>\n",
       "      <th>sigma</th>\n",
       "    </tr>\n",
       "  </thead>\n",
       "  <tbody>\n",
       "    <tr>\n",
       "      <th>0</th>\n",
       "      <td>1000</td>\n",
       "      <td>2018-05-01</td>\n",
       "      <td>ultra</td>\n",
       "      <td>0.0</td>\n",
       "      <td>0.0</td>\n",
       "      <td>0.0</td>\n",
       "      <td>0.0</td>\n",
       "      <td>3.0</td>\n",
       "      <td>23.0</td>\n",
       "      <td>14.0</td>\n",
       "      <td>14.0</td>\n",
       "      <td>15.0</td>\n",
       "      <td>15.0</td>\n",
       "      <td>15.0</td>\n",
       "      <td>10.0</td>\n",
       "      <td>13.625</td>\n",
       "      <td>27.484375</td>\n",
       "      <td>5.242554</td>\n",
       "    </tr>\n",
       "    <tr>\n",
       "      <th>1</th>\n",
       "      <td>1001</td>\n",
       "      <td>2018-11-01</td>\n",
       "      <td>smart</td>\n",
       "      <td>0.0</td>\n",
       "      <td>0.0</td>\n",
       "      <td>0.0</td>\n",
       "      <td>0.0</td>\n",
       "      <td>0.0</td>\n",
       "      <td>0.0</td>\n",
       "      <td>0.0</td>\n",
       "      <td>0.0</td>\n",
       "      <td>0.0</td>\n",
       "      <td>0.0</td>\n",
       "      <td>18.0</td>\n",
       "      <td>14.0</td>\n",
       "      <td>16.000</td>\n",
       "      <td>4.000000</td>\n",
       "      <td>2.000000</td>\n",
       "    </tr>\n",
       "  </tbody>\n",
       "</table>\n",
       "</div>"
      ],
      "text/plain": [
       "   user_id  reg_month tariff  2018-01-01 00:00:00  2018-02-01 00:00:00  \\\n",
       "0     1000 2018-05-01  ultra                  0.0                  0.0   \n",
       "1     1001 2018-11-01  smart                  0.0                  0.0   \n",
       "\n",
       "   2018-03-01 00:00:00  2018-04-01 00:00:00  2018-05-01 00:00:00  \\\n",
       "0                  0.0                  0.0                  3.0   \n",
       "1                  0.0                  0.0                  0.0   \n",
       "\n",
       "   2018-06-01 00:00:00  2018-07-01 00:00:00  2018-08-01 00:00:00  \\\n",
       "0                 23.0                 14.0                 14.0   \n",
       "1                  0.0                  0.0                  0.0   \n",
       "\n",
       "   2018-09-01 00:00:00  2018-10-01 00:00:00  2018-11-01 00:00:00  \\\n",
       "0                 15.0                 15.0                 15.0   \n",
       "1                  0.0                  0.0                 18.0   \n",
       "\n",
       "   2018-12-01 00:00:00    mean     sigma2     sigma  \n",
       "0                 10.0  13.625  27.484375  5.242554  \n",
       "1                 14.0  16.000   4.000000  2.000000  "
      ]
     },
     "metadata": {},
     "output_type": "display_data"
    }
   ],
   "source": [
    "users_calls = (\n",
    "    users[['user_id', 'reg_month', 'tariff']]\n",
    "    .join(call_duration_by_month,\n",
    "          on='user_id',\n",
    "          how='left')\n",
    "    .fillna(0)\n",
    ")\n",
    "users_calls['mean'] = users_calls.apply(lambda x: x.iloc[x['reg_month'].month + 2:15].mean(), axis=1)\n",
    "users_calls['sigma2'] = users_calls.apply(lambda x: x.iloc[x['reg_month'].month + 2:15].std(ddof=0)**2, axis=1)\n",
    "users_calls['sigma'] = users_calls.apply(lambda x: x.iloc[x['reg_month'].month + 2:15].std(ddof=0), axis=1)\n",
    "\n",
    "users_msg = (\n",
    "    users[['user_id', 'reg_month', 'tariff']]\n",
    "    .join(msg_count_by_month,\n",
    "          on='user_id',\n",
    "          how='left').\n",
    "    fillna(0)\n",
    ")\n",
    "users_msg['mean'] = users_msg.apply(lambda x: x.iloc[x['reg_month'].month + 2:15].mean(), axis=1)\n",
    "users_msg['sigma2'] = users_msg.apply(lambda x: x.iloc[x['reg_month'].month + 2:15].std(ddof=0)**2, axis=1)\n",
    "users_msg['sigma'] = users_msg.apply(lambda x: x.iloc[x['reg_month'].month + 2:15].std(ddof=0), axis=1)\n",
    "\n",
    "users_inet = (\n",
    "    users[['user_id', 'reg_month', 'tariff']]\n",
    "    .join(internet_sum_by_month,\n",
    "          on='user_id',\n",
    "          how='left')\n",
    "    .fillna(0)\n",
    ")\n",
    "users_inet['mean'] = users_inet.apply(lambda x: x.iloc[x['reg_month'].month + 2:15].mean(), axis=1)\n",
    "users_inet['sigma2'] = users_inet.apply(lambda x: x.iloc[x['reg_month'].month + 2:15].std(ddof=0)**2, axis=1)\n",
    "users_inet['sigma'] = users_inet.apply(lambda x: x.iloc[x['reg_month'].month + 2:15].std(ddof=0), axis=1)\n",
    "\n",
    "display(users_calls.head(2))\n",
    "display(users_msg.head(2))\n",
    "display(users_inet.head(2))"
   ]
  },
  {
   "cell_type": "markdown",
   "metadata": {
    "pycharm": {
     "name": "#%% md\n"
    }
   },
   "source": [
    "### Распеределения средних"
   ]
  },
  {
   "cell_type": "markdown",
   "metadata": {
    "pycharm": {
     "name": "#%% md\n"
    }
   },
   "source": [
    "#### Звонки"
   ]
  },
  {
   "cell_type": "markdown",
   "metadata": {
    "pycharm": {
     "name": "#%% md\n"
    }
   },
   "source": [
    "Построим гистограммы распределения средних значений, покажем стандартное отклонение и квартили для более подробного понимания.\n",
    "Отдельно рассмотрим какая доля пользователей тратят не больше минут, чем включено в их тариф."
   ]
  },
  {
   "cell_type": "code",
   "execution_count": 34,
   "metadata": {
    "pycharm": {
     "name": "#%%\n"
    }
   },
   "outputs": [
    {
     "name": "stdout",
     "output_type": "stream",
     "text": [
      "Доля пользователей тарифа smart, которые тратят в месяц не более включенного количества минут:\n",
      "71.40%\n",
      "Доля пользователей тарифа ultra, которые тратят в месяц не более включенного количества минут:\n",
      "100.00%\n"
     ]
    },
    {
     "data": {
      "text/html": [
       "<div>\n",
       "<style scoped>\n",
       "    .dataframe tbody tr th:only-of-type {\n",
       "        vertical-align: middle;\n",
       "    }\n",
       "\n",
       "    .dataframe tbody tr th {\n",
       "        vertical-align: top;\n",
       "    }\n",
       "\n",
       "    .dataframe thead th {\n",
       "        text-align: right;\n",
       "    }\n",
       "</style>\n",
       "<table border=\"1\" class=\"dataframe\">\n",
       "  <thead>\n",
       "    <tr style=\"text-align: right;\">\n",
       "      <th></th>\n",
       "      <th>count</th>\n",
       "      <th>mean</th>\n",
       "      <th>std</th>\n",
       "      <th>min</th>\n",
       "      <th>25%</th>\n",
       "      <th>50%</th>\n",
       "      <th>75%</th>\n",
       "      <th>max</th>\n",
       "    </tr>\n",
       "    <tr>\n",
       "      <th>tariff</th>\n",
       "      <th></th>\n",
       "      <th></th>\n",
       "      <th></th>\n",
       "      <th></th>\n",
       "      <th></th>\n",
       "      <th></th>\n",
       "      <th></th>\n",
       "      <th></th>\n",
       "    </tr>\n",
       "  </thead>\n",
       "  <tbody>\n",
       "    <tr>\n",
       "      <th>smart</th>\n",
       "      <td>351.0</td>\n",
       "      <td>415.784481</td>\n",
       "      <td>149.025721</td>\n",
       "      <td>0.0</td>\n",
       "      <td>310.666667</td>\n",
       "      <td>423.3</td>\n",
       "      <td>518.616667</td>\n",
       "      <td>891.500000</td>\n",
       "    </tr>\n",
       "    <tr>\n",
       "      <th>ultra</th>\n",
       "      <td>149.0</td>\n",
       "      <td>518.012821</td>\n",
       "      <td>287.981263</td>\n",
       "      <td>0.0</td>\n",
       "      <td>301.166667</td>\n",
       "      <td>512.1</td>\n",
       "      <td>746.333333</td>\n",
       "      <td>1179.363636</td>\n",
       "    </tr>\n",
       "  </tbody>\n",
       "</table>\n",
       "</div>"
      ],
      "text/plain": [
       "        count        mean         std  min         25%    50%         75%  \\\n",
       "tariff                                                                      \n",
       "smart   351.0  415.784481  149.025721  0.0  310.666667  423.3  518.616667   \n",
       "ultra   149.0  518.012821  287.981263  0.0  301.166667  512.1  746.333333   \n",
       "\n",
       "                max  \n",
       "tariff               \n",
       "smart    891.500000  \n",
       "ultra   1179.363636  "
      ]
     },
     "metadata": {},
     "output_type": "display_data"
    },
    {
     "data": {
      "image/png": "[encoded data removed]",
      "text/plain": [
       "<Figure size 648x648 with 2 Axes>"
      ]
     },
     "metadata": {},
     "output_type": "display_data"
    }
   ],
   "source": [
    "fig, (ax_hist, ax_box) = plt.subplots(2, sharex=True, gridspec_kw={\"height_ratios\": (.70, .30)})\n",
    "\n",
    "sns.histplot(data=users_calls, x='mean', hue='tariff', kde=True, binwidth=50, ax=ax_hist)\n",
    "ax_hist.legend(['Смарт', 'Ультра'], title='Тариф', fontsize='15')\n",
    "ax_hist.set_title('Распределение средней продолжительности звонка', fontsize=20)\n",
    "ax_hist.set_ylabel('Количество абонентов', fontsize=15)\n",
    "plt.setp(ax_hist.get_legend().get_title(), fontsize='20')\n",
    "\n",
    "sns.boxplot(data=users_calls, x='mean', y='tariff', ax=ax_box)\n",
    "ax_box.set_xlabel('Средняя продолжительность звонка, мин', fontsize=15)\n",
    "ax_box.set_ylabel('Тариф', fontsize=15)\n",
    "\n",
    "calls_mean_desc = users_calls.groupby('tariff')['mean'].describe()\n",
    "\n",
    "for tariff in calls_mean_desc.index:\n",
    "    print(f\"Доля пользователей тарифа {tariff}, которые тратят в месяц не более включенного количества минут:\")\n",
    "    print(f\"{norm(calls_mean_desc.loc[tariff, 'mean'], calls_mean_desc.loc[tariff, 'std']).cdf(tariffs.loc[tariff, 'minutes_included']):.2%}\")\n",
    "\n",
    "display(calls_mean_desc)"
   ]
  },
  {
   "cell_type": "markdown",
   "metadata": {
    "pycharm": {
     "name": "#%% md\n"
    }
   },
   "source": [
    "**ВЫВОДЫ:**\n",
    "Тариф Smart:\n",
    "- Средние распределены нормально, что соответствует ЦПТ.\n",
    "- В среднем пользователю тарифа \"smart\" требуется 415 минут разговора в месяц.\n",
    "- 520 минут в среднем хватает более чем 75% пользователей.\n",
    "- 71,4% не выходят за рамки тарифа.\n",
    "\n",
    "Тариф Ultra:\n",
    "- Аналогично тарифу Smart, средние распределены нормально, но имеют большую дисперсию, что объясняется малым количеством пользователей в выборке.\n",
    "- В среднем пользователь тарифа Ultra тратит 518 минут разговора в месяц, что лишь немного превышает лимит более дешевого тарифа Smart и не превышает лимит тарифа Ultra.\n",
    "- 746 минут разговора хватает для 75% пользователей.\n",
    "- 100% пользователей не выходят за свой лимит в 3000 минут в месяц."
   ]
  },
  {
   "cell_type": "markdown",
   "metadata": {
    "pycharm": {
     "name": "#%% md\n"
    }
   },
   "source": [
    "#### СМС"
   ]
  },
  {
   "cell_type": "code",
   "execution_count": 35,
   "metadata": {
    "pycharm": {
     "name": "#%%\n"
    }
   },
   "outputs": [
    {
     "data": {
      "text/html": [
       "<div>\n",
       "<style scoped>\n",
       "    .dataframe tbody tr th:only-of-type {\n",
       "        vertical-align: middle;\n",
       "    }\n",
       "\n",
       "    .dataframe tbody tr th {\n",
       "        vertical-align: top;\n",
       "    }\n",
       "\n",
       "    .dataframe thead th {\n",
       "        text-align: right;\n",
       "    }\n",
       "</style>\n",
       "<table border=\"1\" class=\"dataframe\">\n",
       "  <thead>\n",
       "    <tr style=\"text-align: right;\">\n",
       "      <th></th>\n",
       "      <th>count</th>\n",
       "      <th>mean</th>\n",
       "      <th>std</th>\n",
       "      <th>min</th>\n",
       "      <th>25%</th>\n",
       "      <th>50%</th>\n",
       "      <th>75%</th>\n",
       "      <th>max</th>\n",
       "    </tr>\n",
       "    <tr>\n",
       "      <th>tariff</th>\n",
       "      <th></th>\n",
       "      <th></th>\n",
       "      <th></th>\n",
       "      <th></th>\n",
       "      <th></th>\n",
       "      <th></th>\n",
       "      <th></th>\n",
       "      <th></th>\n",
       "    </tr>\n",
       "  </thead>\n",
       "  <tbody>\n",
       "    <tr>\n",
       "      <th>smart</th>\n",
       "      <td>351.0</td>\n",
       "      <td>32.012986</td>\n",
       "      <td>26.520553</td>\n",
       "      <td>0.0</td>\n",
       "      <td>11.0</td>\n",
       "      <td>27.0</td>\n",
       "      <td>48.0</td>\n",
       "      <td>118.0</td>\n",
       "    </tr>\n",
       "    <tr>\n",
       "      <th>ultra</th>\n",
       "      <td>149.0</td>\n",
       "      <td>53.147225</td>\n",
       "      <td>46.488956</td>\n",
       "      <td>0.0</td>\n",
       "      <td>14.0</td>\n",
       "      <td>44.0</td>\n",
       "      <td>82.0</td>\n",
       "      <td>192.0</td>\n",
       "    </tr>\n",
       "  </tbody>\n",
       "</table>\n",
       "</div>"
      ],
      "text/plain": [
       "        count       mean        std  min   25%   50%   75%    max\n",
       "tariff                                                           \n",
       "smart   351.0  32.012986  26.520553  0.0  11.0  27.0  48.0  118.0\n",
       "ultra   149.0  53.147225  46.488956  0.0  14.0  44.0  82.0  192.0"
      ]
     },
     "metadata": {},
     "output_type": "display_data"
    },
    {
     "data": {
      "image/png": "[encoded data removed]",
      "text/plain": [
       "<Figure size 648x648 with 2 Axes>"
      ]
     },
     "metadata": {},
     "output_type": "display_data"
    }
   ],
   "source": [
    "fig, (ax_hist, ax_box) = plt.subplots(2, sharex=True, gridspec_kw={\"height_ratios\": (.70, .30)})\n",
    "\n",
    "sns.histplot(data=users_msg, x='mean', hue='tariff', kde=True, binwidth=10, ax=ax_hist)\n",
    "ax_hist.legend(['Смарт', 'Ультра'], title='Тариф', fontsize='15')\n",
    "ax_hist.set_title('Распределение среднего количества СМС', fontsize=20)\n",
    "ax_hist.set_ylabel('Количество абонентов', fontsize=15)\n",
    "plt.setp(ax_hist.get_legend().get_title(), fontsize='20')\n",
    "\n",
    "sns.boxplot(data=users_msg, x='mean', y='tariff', ax=ax_box)\n",
    "ax_box.set_xlabel('Среднее количество СМС', fontsize=15)\n",
    "ax_box.set_ylabel('Тариф', fontsize=15)\n",
    "\n",
    "\n",
    "display(users_msg.groupby('tariff')['mean'].describe())"
   ]
  },
  {
   "cell_type": "markdown",
   "metadata": {
    "pycharm": {
     "name": "#%% md\n"
    }
   },
   "source": [
    "**ВЫВОДЫ:**\n",
    "Тариф Smart:\n",
    "- Распределение среднего количества СМС напоминает нормальное с \"отрезанным\" левым хвостом. Также о смещении влево свидетельствует тот факт, что медиана меньше среднего.\n",
    "- В среднем пользователям нужно 32 СМС в месяц.\n",
    "- 48 СМС достаточно для 75% процентов пользователей.\n",
    "- Следовательно, около 25% выходят за рамки тарифа.\n",
    "\n",
    "Тариф Ultra:\n",
    "- Распределение аналогично влево.\n",
    "- В среднем абонентам нужно 53 СМС.\n",
    "- 82 СМС хватает для 75% пользователей.\n",
    "- За пределы тарифа пользователи не выходят."
   ]
  },
  {
   "cell_type": "markdown",
   "metadata": {
    "pycharm": {
     "name": "#%% md\n"
    }
   },
   "source": [
    "#### Интернет"
   ]
  },
  {
   "cell_type": "code",
   "execution_count": 36,
   "metadata": {
    "pycharm": {
     "name": "#%%\n"
    }
   },
   "outputs": [
    {
     "name": "stdout",
     "output_type": "stream",
     "text": [
      "Доля пользователей тарифа smart, которые тратят в месяц не более включенного количества Гб:\n",
      "38.01%\n",
      "Доля пользователей тарифа ultra, которые тратят в месяц не более включенного количества Гб:\n",
      "90.48%\n"
     ]
    },
    {
     "data": {
      "text/html": [
       "<div>\n",
       "<style scoped>\n",
       "    .dataframe tbody tr th:only-of-type {\n",
       "        vertical-align: middle;\n",
       "    }\n",
       "\n",
       "    .dataframe tbody tr th {\n",
       "        vertical-align: top;\n",
       "    }\n",
       "\n",
       "    .dataframe thead th {\n",
       "        text-align: right;\n",
       "    }\n",
       "</style>\n",
       "<table border=\"1\" class=\"dataframe\">\n",
       "  <thead>\n",
       "    <tr style=\"text-align: right;\">\n",
       "      <th></th>\n",
       "      <th>count</th>\n",
       "      <th>mean</th>\n",
       "      <th>std</th>\n",
       "      <th>min</th>\n",
       "      <th>25%</th>\n",
       "      <th>50%</th>\n",
       "      <th>75%</th>\n",
       "      <th>max</th>\n",
       "    </tr>\n",
       "    <tr>\n",
       "      <th>tariff</th>\n",
       "      <th></th>\n",
       "      <th></th>\n",
       "      <th></th>\n",
       "      <th></th>\n",
       "      <th></th>\n",
       "      <th></th>\n",
       "      <th></th>\n",
       "      <th></th>\n",
       "    </tr>\n",
       "  </thead>\n",
       "  <tbody>\n",
       "    <tr>\n",
       "      <th>smart</th>\n",
       "      <td>351.0</td>\n",
       "      <td>16.134628</td>\n",
       "      <td>3.716157</td>\n",
       "      <td>0.0</td>\n",
       "      <td>13.777778</td>\n",
       "      <td>16.200000</td>\n",
       "      <td>18.666667</td>\n",
       "      <td>27.25</td>\n",
       "    </tr>\n",
       "    <tr>\n",
       "      <th>ultra</th>\n",
       "      <td>149.0</td>\n",
       "      <td>19.146939</td>\n",
       "      <td>8.287418</td>\n",
       "      <td>0.0</td>\n",
       "      <td>13.500000</td>\n",
       "      <td>18.333333</td>\n",
       "      <td>25.400000</td>\n",
       "      <td>38.50</td>\n",
       "    </tr>\n",
       "  </tbody>\n",
       "</table>\n",
       "</div>"
      ],
      "text/plain": [
       "        count       mean       std  min        25%        50%        75%  \\\n",
       "tariff                                                                     \n",
       "smart   351.0  16.134628  3.716157  0.0  13.777778  16.200000  18.666667   \n",
       "ultra   149.0  19.146939  8.287418  0.0  13.500000  18.333333  25.400000   \n",
       "\n",
       "          max  \n",
       "tariff         \n",
       "smart   27.25  \n",
       "ultra   38.50  "
      ]
     },
     "metadata": {},
     "output_type": "display_data"
    },
    {
     "data": {
      "image/png": "[encoded data removed]",
      "text/plain": [
       "<Figure size 648x648 with 2 Axes>"
      ]
     },
     "metadata": {},
     "output_type": "display_data"
    }
   ],
   "source": [
    "fig, (ax_hist, ax_box) = plt.subplots(2, sharex=True, gridspec_kw={\"height_ratios\": (.70, .30)})\n",
    "\n",
    "sns.histplot(data=users_inet, x='mean', hue='tariff', kde=True, binwidth=1, ax=ax_hist)\n",
    "ax_hist.legend(['Смарт', 'Ультра'], title='Тариф', fontsize='15')\n",
    "ax_hist.set_title('Распределение среднего использованного трафика', fontsize=20)\n",
    "ax_hist.set_ylabel('Количество абонентов', fontsize=15)\n",
    "plt.setp(ax_hist.get_legend().get_title(), fontsize='20')\n",
    "\n",
    "sns.boxplot(data=users_inet, x='mean', y='tariff', ax=ax_box)\n",
    "ax_box.set_xlabel('Среднее количество использованного трафика, Гб', fontsize=15)\n",
    "ax_box.set_ylabel('Тариф', fontsize=15)\n",
    "\n",
    "inet_mean_desc = users_inet.groupby('tariff')['mean'].describe()\n",
    "\n",
    "for tariff in inet_mean_desc.index:\n",
    "    print(f\"Доля пользователей тарифа {tariff}, которые тратят в месяц не более включенного количества Гб:\")\n",
    "    print(f\"{norm(inet_mean_desc.loc[tariff, 'mean'], inet_mean_desc.loc[tariff, 'std']).cdf(tariffs.loc[tariff, 'gb_per_month_included']):.2%}\")\n",
    "\n",
    "display(inet_mean_desc)"
   ]
  },
  {
   "cell_type": "markdown",
   "metadata": {
    "pycharm": {
     "name": "#%% md\n"
    }
   },
   "source": [
    "**ВЫВОДЫ:**\n",
    "Тариф Smart:\n",
    "- Нормальное распределение средних значений использованного трафика.\n",
    "- В среднем пользователи этого тарифа тратят 16 Гб интернета в месяц, что превышает их месячный лимит.\n",
    "- 19 Гб достаточно для более чем 75% абонентов.\n",
    "- Лишь 38,01% не расходуют свой интернет-трафик целиком.\n",
    "\n",
    "Тариф Ultra:\n",
    "- Значения распределены нормально, достаточно большой разброс из-за сравнительно малого количества пользователей с этим тарифом в выборке.\n",
    "- В среднем людям с этим тарифом хватает 19 Гб трафика.\n",
    "- 75% пользователей удовлетворены 25 Гб.\n",
    "- Более 30 Гб (лимит по данному тарифу) тратят менее 10% абонентов."
   ]
  },
  {
   "cell_type": "markdown",
   "metadata": {
    "pycharm": {
     "name": "#%% md\n"
    }
   },
   "source": [
    "# Шаг 4. Проверьте гипотезы"
   ]
  },
  {
   "cell_type": "markdown",
   "metadata": {
    "pycharm": {
     "name": "#%% md\n"
    }
   },
   "source": [
    "Гипотезы:\n",
    "- средняя выручка пользователей тарифов «Ультра» и «Смарт» различаются;\n",
    "- средняя выручка пользователей из Москвы отличается от выручки пользователей из других регионов.\n",
    "\n",
    "Пороговое значение alpha задайте самостоятельно.\n",
    "\n",
    "Поясните:\n",
    "- как вы формулировали нулевую и альтернативную гипотезы;\n",
    "- какой критерий использовали для проверки гипотез и почему."
   ]
  },
  {
   "cell_type": "markdown",
   "metadata": {
    "pycharm": {
     "name": "#%% md\n"
    }
   },
   "source": [
    "Для проверки применим t-тест на равенство средних двух генеральных совокупностей.\n",
    "Тест может быть применен, потому что:\n",
    "1) Генеральные совокупности не зависят друг от друга: абоненты пользуются услугами провайдера независимо друг от друга.\n",
    "2) Выборочные средние распределены нормально. Это следует из Центральной Предельной Теоремы.\n",
    "3) Дисперсии генеральных совокупностей равны. Не обладая самими ГС, мы не можем гарантировать выполнение этого условия. На практике t-тест считается подходящим для проверки, если выборки достаточно большие и равны по размеру между собой."
   ]
  },
  {
   "cell_type": "markdown",
   "metadata": {
    "pycharm": {
     "name": "#%% md\n"
    }
   },
   "source": [
    "## Cредняя выручка пользователей тарифов «Ультра» и «Смарт» различаются\n"
   ]
  },
  {
   "cell_type": "code",
   "execution_count": 37,
   "metadata": {
    "pycharm": {
     "name": "#%%\n"
    }
   },
   "outputs": [
    {
     "data": {
      "text/html": [
       "<div>\n",
       "<style scoped>\n",
       "    .dataframe tbody tr th:only-of-type {\n",
       "        vertical-align: middle;\n",
       "    }\n",
       "\n",
       "    .dataframe tbody tr th {\n",
       "        vertical-align: top;\n",
       "    }\n",
       "\n",
       "    .dataframe thead th {\n",
       "        text-align: right;\n",
       "    }\n",
       "</style>\n",
       "<table border=\"1\" class=\"dataframe\">\n",
       "  <thead>\n",
       "    <tr style=\"text-align: right;\">\n",
       "      <th></th>\n",
       "      <th>user_id</th>\n",
       "      <th>reg_month</th>\n",
       "      <th>tariff</th>\n",
       "      <th>1</th>\n",
       "      <th>2</th>\n",
       "      <th>3</th>\n",
       "      <th>4</th>\n",
       "      <th>5</th>\n",
       "      <th>6</th>\n",
       "      <th>7</th>\n",
       "      <th>8</th>\n",
       "      <th>9</th>\n",
       "      <th>10</th>\n",
       "      <th>11</th>\n",
       "      <th>12</th>\n",
       "      <th>mean</th>\n",
       "    </tr>\n",
       "  </thead>\n",
       "  <tbody>\n",
       "    <tr>\n",
       "      <th>0</th>\n",
       "      <td>1000</td>\n",
       "      <td>2018-05-01</td>\n",
       "      <td>ultra</td>\n",
       "      <td>0.0</td>\n",
       "      <td>0.0</td>\n",
       "      <td>0.0</td>\n",
       "      <td>0.0</td>\n",
       "      <td>1950.0</td>\n",
       "      <td>1950.0</td>\n",
       "      <td>1950.0</td>\n",
       "      <td>1950.0</td>\n",
       "      <td>1950.0</td>\n",
       "      <td>1950.0</td>\n",
       "      <td>1950.0</td>\n",
       "      <td>1950.0</td>\n",
       "      <td>1950.0</td>\n",
       "    </tr>\n",
       "    <tr>\n",
       "      <th>1</th>\n",
       "      <td>1001</td>\n",
       "      <td>2018-11-01</td>\n",
       "      <td>smart</td>\n",
       "      <td>0.0</td>\n",
       "      <td>0.0</td>\n",
       "      <td>0.0</td>\n",
       "      <td>0.0</td>\n",
       "      <td>0.0</td>\n",
       "      <td>0.0</td>\n",
       "      <td>0.0</td>\n",
       "      <td>0.0</td>\n",
       "      <td>0.0</td>\n",
       "      <td>0.0</td>\n",
       "      <td>1150.0</td>\n",
       "      <td>550.0</td>\n",
       "      <td>850.0</td>\n",
       "    </tr>\n",
       "  </tbody>\n",
       "</table>\n",
       "</div>"
      ],
      "text/plain": [
       "   user_id  reg_month tariff    1    2    3    4       5       6       7  \\\n",
       "0     1000 2018-05-01  ultra  0.0  0.0  0.0  0.0  1950.0  1950.0  1950.0   \n",
       "1     1001 2018-11-01  smart  0.0  0.0  0.0  0.0     0.0     0.0     0.0   \n",
       "\n",
       "        8       9      10      11      12    mean  \n",
       "0  1950.0  1950.0  1950.0  1950.0  1950.0  1950.0  \n",
       "1     0.0     0.0     0.0  1150.0   550.0   850.0  "
      ]
     },
     "execution_count": 37,
     "metadata": {},
     "output_type": "execute_result"
    }
   ],
   "source": [
    "users_revenue_test1 = users[['user_id', 'reg_month']].merge(users_revenue, on='user_id', how='left')\n",
    "users_revenue_test1['mean'] = users_revenue_test1.apply(lambda x: x.iloc[x['reg_month'].month + 2:].mean(), axis=1)\n",
    "\n",
    "users_revenue_test1.head(2)"
   ]
  },
  {
   "cell_type": "markdown",
   "metadata": {
    "pycharm": {
     "name": "#%% md\n"
    }
   },
   "source": [
    "Сформулируем нулевую H_0 и альтернативную гипотезы H1:\n",
    "H_0: Средняя выручка пользователей тарифа \"Смарт\" равна средней выручке пользоватей тарифа Ультра. mu_s == mu_u\n",
    "H_1: Средняя выручка пользователей тарифа \"Смарт\" ***не*** равна средней выручке пользоватей тарифа Ультра. mu_s != mu_u\n",
    "Пороговое значение alpha примем равным 5%."
   ]
  },
  {
   "cell_type": "code",
   "execution_count": 38,
   "metadata": {
    "pycharm": {
     "name": "#%%\n"
    }
   },
   "outputs": [
    {
     "name": "stdout",
     "output_type": "stream",
     "text": [
      "p-value = 8.3061667871314e-16\n",
      "Согласно тесту Левене дисперсии выборок не равны\n",
      "\n",
      "p-value = 3.86328154952228e-18\n",
      "Согласно тесту Бартлетта дисперсии выборок не равны\n"
     ]
    },
    {
     "data": {
      "image/png": "[encoded data removed]",
      "text/plain": [
       "<Figure size 648x648 with 1 Axes>"
      ]
     },
     "metadata": {},
     "output_type": "display_data"
    },
    {
     "name": "stdout",
     "output_type": "stream",
     "text": [
      "p-value = 1.5239894775879077e-33\n",
      "Отвергаем нулевую гипотезу H_0.\n",
      "Принимаем альтернативную H_1.\n",
      "Средние выручки пользователей разных тарифов не равны.\n"
     ]
    }
   ],
   "source": [
    "alpha = 0.05\n",
    "\n",
    "users_revenue_test1_ultra = users_revenue_test1.query(\"tariff == 'ultra'\")\n",
    "users_revenue_test1_smart = users_revenue_test1.query(\"tariff == 'smart'\").sample(len(users_revenue_test1_ultra), random_state=45)\n",
    "\n",
    "levene_res = levene(users_revenue_test1_ultra['mean'], users_revenue_test1_smart['mean'])\n",
    "print(f\"p-value = {levene_res.pvalue}\")\n",
    "if levene_res.pvalue < alpha:\n",
    "    print('Согласно тесту Левене дисперсии выборок не равны')\n",
    "else:\n",
    "    print('Согласно тесту Левене дисперсии выборок равны')\n",
    "\n",
    "print()\n",
    "\n",
    "bartlett_res = bartlett(users_revenue_test1_ultra['mean'], users_revenue_test1_smart['mean'])\n",
    "print(f\"p-value = {bartlett_res.pvalue}\")\n",
    "if bartlett_res.pvalue < alpha:\n",
    "    print('Согласно тесту Бартлетта дисперсии выборок не равны')\n",
    "else:\n",
    "    print('Согласно тесту Бартлетта дисперсии выборок равны')\n",
    "\n",
    "sns.kdeplot(users_revenue_test1_smart['mean'])\n",
    "sns.kdeplot(users_revenue_test1_ultra['mean'])\n",
    "plt.legend(['Смарт', 'Ультра'], fontsize='x-large')\n",
    "plt.title('Распределение средней выручки', fontsize=20)\n",
    "plt.show()\n",
    "\n",
    "res = ttest_ind(users_revenue_test1_smart['mean'], users_revenue_test1_ultra['mean'])\n",
    "print(f\"p-value = {res.pvalue}\")\n",
    "if res.pvalue < alpha:\n",
    "    print(\"Отвергаем нулевую гипотезу H_0.\")\n",
    "    print(\"Принимаем альтернативную H_1.\")\n",
    "    print(\"Средние выручки пользователей разных тарифов не равны.\")\n",
    "else:\n",
    "    print(\"Не отвергаем нулевую гипотезу H_0.\")\n",
    "    print(\"Средние выручки пользователей разных тарифов равны.\")"
   ]
  },
  {
   "cell_type": "markdown",
   "metadata": {
    "pycharm": {
     "name": "#%% md\n"
    }
   },
   "source": [
    "Проверим, будут ли равны дисперсии выборок без уравнивания их по размеру."
   ]
  },
  {
   "cell_type": "code",
   "execution_count": 39,
   "metadata": {
    "pycharm": {
     "name": "#%%\n"
    }
   },
   "outputs": [
    {
     "name": "stdout",
     "output_type": "stream",
     "text": [
      "p-value = 3.2260285064426927e-19\n",
      "Согласно тесту Левене дисперсии выборок не равны\n",
      "\n",
      "p-value = 7.070507011382885e-21\n",
      "Согласно тесту Бартлетта дисперсии выборок не равны\n"
     ]
    }
   ],
   "source": [
    "users_revenue_test1_ultra = users_revenue_test1.query(\"tariff == 'ultra'\")\n",
    "users_revenue_test1_smart = users_revenue_test1.query(\"tariff == 'smart'\")\n",
    "\n",
    "levene_res = levene(users_revenue_test1_ultra['mean'], users_revenue_test1_smart['mean'])\n",
    "print(f\"p-value = {levene_res.pvalue}\")\n",
    "if levene_res.pvalue < alpha:\n",
    "    print('Согласно тесту Левене дисперсии выборок не равны')\n",
    "else:\n",
    "    print('Согласно тесту Левене дисперсии выборок равны')\n",
    "\n",
    "print()\n",
    "\n",
    "bartlett_res = bartlett(users_revenue_test1_ultra['mean'], users_revenue_test1_smart['mean'])\n",
    "print(f\"p-value = {bartlett_res.pvalue}\")\n",
    "if bartlett_res.pvalue < alpha:\n",
    "    print('Согласно тесту Бартлетта дисперсии выборок не равны')\n",
    "else:\n",
    "    print('Согласно тесту Бартлетта дисперсии выборок равны')"
   ]
  },
  {
   "cell_type": "markdown",
   "metadata": {
    "pycharm": {
     "name": "#%% md\n"
    }
   },
   "source": [
    "## Cредняя выручка пользователей из Москвы отличается от выручки пользователей из других регионов."
   ]
  },
  {
   "cell_type": "code",
   "execution_count": 40,
   "metadata": {
    "pycharm": {
     "name": "#%%\n"
    }
   },
   "outputs": [
    {
     "data": {
      "text/html": [
       "<div>\n",
       "<style scoped>\n",
       "    .dataframe tbody tr th:only-of-type {\n",
       "        vertical-align: middle;\n",
       "    }\n",
       "\n",
       "    .dataframe tbody tr th {\n",
       "        vertical-align: top;\n",
       "    }\n",
       "\n",
       "    .dataframe thead th {\n",
       "        text-align: right;\n",
       "    }\n",
       "</style>\n",
       "<table border=\"1\" class=\"dataframe\">\n",
       "  <thead>\n",
       "    <tr style=\"text-align: right;\">\n",
       "      <th></th>\n",
       "      <th>user_id</th>\n",
       "      <th>reg_month</th>\n",
       "      <th>city</th>\n",
       "      <th>tariff</th>\n",
       "      <th>1</th>\n",
       "      <th>2</th>\n",
       "      <th>3</th>\n",
       "      <th>4</th>\n",
       "      <th>5</th>\n",
       "      <th>6</th>\n",
       "      <th>7</th>\n",
       "      <th>8</th>\n",
       "      <th>9</th>\n",
       "      <th>10</th>\n",
       "      <th>11</th>\n",
       "      <th>12</th>\n",
       "      <th>mean</th>\n",
       "    </tr>\n",
       "  </thead>\n",
       "  <tbody>\n",
       "    <tr>\n",
       "      <th>0</th>\n",
       "      <td>1000</td>\n",
       "      <td>2018-05-01</td>\n",
       "      <td>Краснодар</td>\n",
       "      <td>ultra</td>\n",
       "      <td>0.0</td>\n",
       "      <td>0.0</td>\n",
       "      <td>0.0</td>\n",
       "      <td>0.0</td>\n",
       "      <td>1950.0</td>\n",
       "      <td>1950.0</td>\n",
       "      <td>1950.0</td>\n",
       "      <td>1950.0</td>\n",
       "      <td>1950.0</td>\n",
       "      <td>1950.0</td>\n",
       "      <td>1950.0</td>\n",
       "      <td>1950.0</td>\n",
       "      <td>1950.0</td>\n",
       "    </tr>\n",
       "    <tr>\n",
       "      <th>1</th>\n",
       "      <td>1001</td>\n",
       "      <td>2018-11-01</td>\n",
       "      <td>Москва</td>\n",
       "      <td>smart</td>\n",
       "      <td>0.0</td>\n",
       "      <td>0.0</td>\n",
       "      <td>0.0</td>\n",
       "      <td>0.0</td>\n",
       "      <td>0.0</td>\n",
       "      <td>0.0</td>\n",
       "      <td>0.0</td>\n",
       "      <td>0.0</td>\n",
       "      <td>0.0</td>\n",
       "      <td>0.0</td>\n",
       "      <td>1150.0</td>\n",
       "      <td>550.0</td>\n",
       "      <td>850.0</td>\n",
       "    </tr>\n",
       "  </tbody>\n",
       "</table>\n",
       "</div>"
      ],
      "text/plain": [
       "   user_id  reg_month       city tariff    1    2    3    4       5       6  \\\n",
       "0     1000 2018-05-01  Краснодар  ultra  0.0  0.0  0.0  0.0  1950.0  1950.0   \n",
       "1     1001 2018-11-01     Москва  smart  0.0  0.0  0.0  0.0     0.0     0.0   \n",
       "\n",
       "        7       8       9      10      11      12    mean  \n",
       "0  1950.0  1950.0  1950.0  1950.0  1950.0  1950.0  1950.0  \n",
       "1     0.0     0.0     0.0     0.0  1150.0   550.0   850.0  "
      ]
     },
     "execution_count": 40,
     "metadata": {},
     "output_type": "execute_result"
    }
   ],
   "source": [
    "users_revenue_test2 = users[['user_id', 'reg_month', 'city']].merge(users_revenue, on='user_id', how='left')\n",
    "users_revenue_test2['mean'] = users_revenue_test2.apply(lambda x: x.iloc[x['reg_month'].month + 3:].mean(), axis=1)\n",
    "\n",
    "users_revenue_test2.head(2)"
   ]
  },
  {
   "cell_type": "code",
   "execution_count": 41,
   "metadata": {
    "pycharm": {
     "name": "#%%\n"
    },
    "scrolled": false
   },
   "outputs": [
    {
     "name": "stdout",
     "output_type": "stream",
     "text": [
      "p-value = 0.6939963961267703\n",
      "Согласно тесту Левене дисперсии выборок равны\n",
      "\n",
      "p-value = 0.3407041450955163\n",
      "Согласно тесту Бартлетта дисперсии выборок равны\n"
     ]
    },
    {
     "data": {
      "image/png": "[encoded data removed]",
      "text/plain": [
       "<Figure size 648x648 with 1 Axes>"
      ]
     },
     "metadata": {},
     "output_type": "display_data"
    }
   ],
   "source": [
    "users_revenue_test2_msc = users_revenue_test2.query(\"city == 'Москва'\")\n",
    "users_revenue_test2_other = users_revenue_test2.query(\"city != 'Москва'\").sample(len(users_revenue_test2_msc), random_state=45)\n",
    "\n",
    "levene_res = levene(users_revenue_test2_msc['mean'], users_revenue_test2_other['mean'])\n",
    "print(f\"p-value = {levene_res.pvalue}\")\n",
    "if levene_res.pvalue < alpha:\n",
    "    print('Согласно тесту Левене дисперсии выборок не равны')\n",
    "else:\n",
    "    print('Согласно тесту Левене дисперсии выборок равны')\n",
    "\n",
    "print()\n",
    "\n",
    "bartlett_res = bartlett(users_revenue_test2_msc['mean'], users_revenue_test2_other['mean'])\n",
    "print(f\"p-value = {bartlett_res.pvalue}\")\n",
    "if bartlett_res.pvalue < alpha:\n",
    "    print('Согласно тесту Бартлетта дисперсии выборок не равны')\n",
    "else:\n",
    "    print('Согласно тесту Бартлетта дисперсии выборок равны')\n",
    "\n",
    "sns.kdeplot(users_revenue_test2_msc['mean'])\n",
    "sns.kdeplot(users_revenue_test2_other['mean'])\n",
    "plt.legend(['Москва', 'Другой город'], fontsize='x-large')\n",
    "plt.title('Распределение средней выручки', fontsize=20)\n",
    "plt.show()"
   ]
  },
  {
   "cell_type": "markdown",
   "metadata": {
    "pycharm": {
     "name": "#%% md\n"
    }
   },
   "source": [
    "Перед нами сумма двух нормальных распределений: пользователи тарифа \"Ультра\" и тарифа \"Смарт\". Уже доказано, что средняя выручка по этим тарифам не равна между собой. Поэтому необходимо разделить каждую выборку на две и протестировать каждую по отдельности."
   ]
  },
  {
   "cell_type": "code",
   "execution_count": 42,
   "metadata": {
    "pycharm": {
     "name": "#%%\n"
    }
   },
   "outputs": [
    {
     "name": "stdout",
     "output_type": "stream",
     "text": [
      "Тариф Ультра:\n",
      "p-value = 0.19180349453264725\n",
      "Согласно тесту Левене дисперсии выборок равны\n",
      "\n",
      "Тариф Ультра:\n",
      "p-value = 0.0007020802994437141\n",
      "Согласно тесту Бартлетта дисперсии выборок не равны\n",
      "\n",
      "Тариф Смарт:\n",
      "p-value = 0.7759985407012785\n",
      "Согласно тесту Левене дисперсии выборок равны\n",
      "\n",
      "Тариф Смарт:\n",
      "p-value = 0.26713449284382074\n",
      "Согласно тесту Бартлетта дисперсии выборок равны\n",
      "\n",
      "Размеры выборок:\n",
      "Москва, Ультра = 32; Другой город, Ультра = 33.\n",
      "Москва, Смарт = 67; Другой город, Смарт = 66.\n"
     ]
    },
    {
     "data": {
      "image/png": "[encoded data removed]",
      "text/plain": [
       "<Figure size 648x648 with 1 Axes>"
      ]
     },
     "metadata": {},
     "output_type": "display_data"
    }
   ],
   "source": [
    "users_revenue_test2_msc_ultra = users_revenue_test2_msc.query(\"tariff == 'ultra'\")\n",
    "users_revenue_test2_msc_smart = users_revenue_test2_msc.query(\"tariff == 'smart'\")\n",
    "\n",
    "users_revenue_test2_other_ultra = users_revenue_test2_other.query(\"tariff == 'ultra'\")\n",
    "users_revenue_test2_other_smart = users_revenue_test2_other.query(\"tariff == 'smart'\")\n",
    "\n",
    "levene_res = levene(users_revenue_test2_msc_ultra['mean'], users_revenue_test2_other_ultra['mean'])\n",
    "print('Тариф Ультра:')\n",
    "print(f\"p-value = {levene_res.pvalue}\")\n",
    "if levene_res.pvalue < alpha:\n",
    "    print('Согласно тесту Левене дисперсии выборок не равны')\n",
    "else:\n",
    "    print('Согласно тесту Левене дисперсии выборок равны')\n",
    "\n",
    "print()\n",
    "\n",
    "bartlett_res = bartlett(users_revenue_test2_msc_ultra['mean'], users_revenue_test2_other_ultra['mean'])\n",
    "print('Тариф Ультра:')\n",
    "print(f\"p-value = {bartlett_res.pvalue}\")\n",
    "if bartlett_res.pvalue < alpha:\n",
    "    print('Согласно тесту Бартлетта дисперсии выборок не равны')\n",
    "else:\n",
    "    print('Согласно тесту Бартлетта дисперсии выборок равны')\n",
    "\n",
    "print()\n",
    "levene_res = levene(users_revenue_test2_msc_smart['mean'], users_revenue_test2_other_smart['mean'])\n",
    "print('Тариф Смарт:')\n",
    "print(f\"p-value = {levene_res.pvalue}\")\n",
    "if levene_res.pvalue < alpha:\n",
    "    print('Согласно тесту Левене дисперсии выборок не равны')\n",
    "else:\n",
    "    print('Согласно тесту Левене дисперсии выборок равны')\n",
    "\n",
    "print()\n",
    "\n",
    "bartlett_res = bartlett(users_revenue_test2_msc_smart['mean'], users_revenue_test2_other_smart['mean'])\n",
    "print('Тариф Смарт:')\n",
    "print(f\"p-value = {bartlett_res.pvalue}\")\n",
    "if bartlett_res.pvalue < alpha:\n",
    "    print('Согласно тесту Бартлетта дисперсии выборок не равны')\n",
    "else:\n",
    "    print('Согласно тесту Бартлетта дисперсии выборок равны')\n",
    "\n",
    "print()\n",
    "\n",
    "print(f\"Размеры выборок:\\n\"\n",
    "      f\"Москва, Ультра = {users_revenue_test2_msc_ultra.shape[0]}; \"\n",
    "      f\"Другой город, Ультра = {users_revenue_test2_other_ultra.shape[0]}.\\n\"\n",
    "      f\"Москва, Смарт = {users_revenue_test2_msc_smart.shape[0]}; \"\n",
    "      f\"Другой город, Смарт = {users_revenue_test2_other_smart.shape[0]}.\")\n",
    "\n",
    "sns.kdeplot(users_revenue_test2_msc_ultra['mean'])\n",
    "sns.kdeplot(users_revenue_test2_other_ultra['mean'])\n",
    "plt.legend(['Москва', 'Другой город'], fontsize='x-large')\n",
    "plt.title('Распределение средней выручки по тарифу \"Ультра\"', fontsize=20)\n",
    "plt.show()"
   ]
  },
  {
   "cell_type": "code",
   "execution_count": 43,
   "metadata": {
    "pycharm": {
     "name": "#%%\n"
    }
   },
   "outputs": [
    {
     "data": {
      "image/png": "[encoded data removed]",
      "text/plain": [
       "<Figure size 648x648 with 1 Axes>"
      ]
     },
     "metadata": {},
     "output_type": "display_data"
    }
   ],
   "source": [
    "sns.kdeplot(users_revenue_test2_msc_smart['mean'])\n",
    "sns.kdeplot(users_revenue_test2_other_smart['mean'])\n",
    "plt.legend(['Москва', 'Другой город'], fontsize='x-large')\n",
    "plt.title('Распределение средней выручки по тарифу \"Смарт\"', fontsize=20)\n",
    "plt.show()"
   ]
  },
  {
   "cell_type": "markdown",
   "metadata": {
    "pycharm": {
     "name": "#%% md\n"
    }
   },
   "source": [
    "Эти распределения больше напоминают нормальные. В каждой выборке больше 30 объектов. Теперь можно проводить тесты.\n",
    "Сформулируем гипотезы:\n",
    "H_0: Средние выручки пользователей тарифа Ультра в Москве и в других городах равны mu_1 == mu_2\n",
    "H_1: Средние выручки пользователей тарифа Ультра в Москве и в других городах ***не*** равны mu_1 != mu_2\n",
    "\n",
    "Аналогичные гипотезы для тарифа Смарт:\n",
    "H_0: Средние выручки пользователей тарифа Смарт в Москве и в других городах равны mu_1 == mu_2\n",
    "H_1: Средние выручки пользователей тарифа Смарт в Москве и в других городах ***не*** равны mu_1 != mu_2\n",
    "\n",
    "Пороговое значение alpha примем равным 5%."
   ]
  },
  {
   "cell_type": "code",
   "execution_count": 44,
   "metadata": {
    "pycharm": {
     "name": "#%%\n"
    }
   },
   "outputs": [
    {
     "name": "stdout",
     "output_type": "stream",
     "text": [
      "Тариф Ультра: p-value = 0.19180349453264817\n",
      "Тариф Смарт: p-value = 0.14373305781652393\n",
      "\n",
      "Не отвергаем нулевую гипотезу H_0.\n",
      "Средние выручки пользователей тарифа Ультра в Москве и в других городах равны.\n",
      "\n",
      "Не отвергаем нулевую гипотезу H_0.\n",
      "Средние выручки пользователей тарифа Смарт в Москве и в других городах равны.\n"
     ]
    }
   ],
   "source": [
    "alpha = 0.05\n",
    "\n",
    "res_1 = ttest_ind(users_revenue_test2_msc_ultra['mean'], users_revenue_test2_other_ultra['mean'])\n",
    "print(f\"Тариф Ультра: p-value = {res_1.pvalue}\")\n",
    "\n",
    "res_2 = ttest_ind(users_revenue_test2_msc_smart['mean'], users_revenue_test2_other_smart['mean'])\n",
    "print(f\"Тариф Смарт: p-value = {res_2.pvalue}\")\n",
    "\n",
    "print()\n",
    "if res_1.pvalue < alpha:\n",
    "    print(\"Для пользователей тарифа Ультра отвергаем нулевую гипотезу H_0.\")\n",
    "    print(\"Принимаем альтернативную H_1.\")\n",
    "    print(\"Средние выручки пользователей тарифа Ультра в Москве и в других городах не равны.\")\n",
    "else:\n",
    "    print(\"Не отвергаем нулевую гипотезу H_0.\")\n",
    "    print(\"Средние выручки пользователей тарифа Ультра в Москве и в других городах равны.\")\n",
    "print()\n",
    "\n",
    "if res_2.pvalue < alpha:\n",
    "    print(\"Для пользователей тарифа Смарт отвергаем нулевую гипотезу H_0.\")\n",
    "    print(\"Принимаем альтернативную H_1.\")\n",
    "    print(\"Средние выручки пользователей тарифа Смарт в Москве и в других городах не равны.\")\n",
    "else:\n",
    "    print(\"Не отвергаем нулевую гипотезу H_0.\")\n",
    "    print(\"Средние выручки пользователей тарифа Смарт в Москве и в других городах равны.\")"
   ]
  },
  {
   "cell_type": "markdown",
   "metadata": {
    "pycharm": {
     "name": "#%% md\n"
    }
   },
   "source": [
    "**ВЫВОДЫ:**\n",
    "1) Средняя выручка для разных тарифов ***не равна*** между собой.\n",
    "2) Средняя выручка для Москвы и других городов ***равна*** между собой. Причем вне зависимости от тарифа."
   ]
  },
  {
   "cell_type": "markdown",
   "metadata": {
    "pycharm": {
     "name": "#%% md\n"
    }
   },
   "source": [
    "\n",
    "# Шаг 5. Напишите общий вывод"
   ]
  },
  {
   "cell_type": "markdown",
   "metadata": {
    "pycharm": {
     "name": "#%% md\n"
    }
   },
   "source": [
    "**ИНТЕРЕСНЫЕ НАБЛЮДЕНИЯ:**\n",
    "1) Существуют абоненты, которые не совершили ни одного звонка за весь год;\n",
    "2) Также существуют пользователи, которые не используют интернет;\n",
    "3) Достаточно много пользователей вообще не отправляют смс;\n",
    "\n",
    "**ВЫВОДЫ:**\n",
    "1) За рамки тарифа Smart по количеству звонков выходят 71,4% пользователей, по количеству СМС - около 25%, по интренет-трафику - более 60%.\n",
    "2) Пользователи тарифа Ultra обычно не выходят за лимит по звонкам и СМС. Около 10% из них тратят больше трафика, чем предоставляется в пакете услуг по абонентской плате.\n",
    "3) Средние выручки пользователей разных тарифов не равны.\n",
    "4) Средняя выручка пользователя не зависит от города."
   ]
  },
  {
   "cell_type": "markdown",
   "metadata": {
    "pycharm": {
     "name": "#%% md\n"
    }
   },
   "source": [
    "Для ответа на глобальный вопрос исследования: \"какой тариф приносит больше денег?\", введем и рассчитаем следующую метрику.\n",
    "Усредним помесячную выручку для каждого клиента, затем усредним среднюю выручку по всем клиентам одного тарифа, затем умножим это \"двойное\" среднее на количество абонентов каждого тарифа.\n",
    "Таким образом, если предоставленная выборка отражает реальное соотношение клиентов каждого тарифа, найденное число будет отражать реальную выручку с клиентов каждого тарифа."
   ]
  },
  {
   "cell_type": "code",
   "execution_count": 45,
   "metadata": {
    "pycharm": {
     "name": "#%%\n"
    }
   },
   "outputs": [
    {
     "name": "stdout",
     "output_type": "stream",
     "text": [
      "Пользователи тарифа Ультра приносят 3.1e+05 у.е.\n",
      "Пользователи тарифа Смарт приносят 4.6e+05 у.е.\n"
     ]
    }
   ],
   "source": [
    "users_revenue = users[['user_id', 'reg_month']].merge(users_revenue, on='user_id', how='left')\n",
    "users_revenue['mean'] = users_revenue.apply(lambda x: x.iloc[x['reg_month'].month + 2:].mean(), axis=1)\n",
    "\n",
    "a = users_revenue.query('tariff == \"ultra\"')['mean'].mean() * users_revenue.query('tariff == \"ultra\"').shape[0]\n",
    "b = users_revenue.query('tariff == \"smart\"')['mean'].mean() * users_revenue.query('tariff == \"smart\"').shape[0]\n",
    "\n",
    "print(f'Пользователи тарифа Ультра приносят {a:.2} у.е.')\n",
    "print(f'Пользователи тарифа Смарт приносят {b:.2} у.е.')"
   ]
  },
  {
   "cell_type": "markdown",
   "metadata": {
    "pycharm": {
     "name": "#%% md\n"
    }
   },
   "source": [
    "**ВЫВОД:**\n",
    "Пользователи тарифа Смарт суммарно приносят больше денег компании, но каждый отдельный пользователь тарифа Ультра в среднем приносит больше. Увеличение количества клиентов с тарифом Ультра принесет компании больше денег, поэтому я бы рекомендовал вложить бюджет в рекламную компанию тарифа Ультра."
   ]
  }
 ],
 "metadata": {
  "ExecuteTimeLog": [
   {
    "duration": 1467,
    "start_time": "2022-07-16T16:56:00.254Z"
   },
   {
    "duration": 1236,
    "start_time": "2022-07-16T16:56:01.723Z"
   },
   {
    "duration": 21,
    "start_time": "2022-07-16T16:56:02.961Z"
   },
   {
    "duration": 21,
    "start_time": "2022-07-16T16:56:02.984Z"
   },
   {
    "duration": 34,
    "start_time": "2022-07-16T16:56:03.007Z"
   },
   {
    "duration": 39,
    "start_time": "2022-07-16T16:56:03.043Z"
   },
   {
    "duration": 72,
    "start_time": "2022-07-16T16:56:03.084Z"
   },
   {
    "duration": 53,
    "start_time": "2022-07-16T16:56:03.158Z"
   },
   {
    "duration": 82,
    "start_time": "2022-07-16T16:56:03.213Z"
   },
   {
    "duration": 33,
    "start_time": "2022-07-16T16:56:03.297Z"
   },
   {
    "duration": 17,
    "start_time": "2022-07-16T16:56:03.332Z"
   },
   {
    "duration": 9,
    "start_time": "2022-07-16T16:56:03.351Z"
   },
   {
    "duration": 5,
    "start_time": "2022-07-16T16:56:03.363Z"
   },
   {
    "duration": 76,
    "start_time": "2022-07-16T16:56:03.371Z"
   },
   {
    "duration": 229,
    "start_time": "2022-07-16T16:56:03.449Z"
   },
   {
    "duration": 123,
    "start_time": "2022-07-16T16:56:03.680Z"
   },
   {
    "duration": 31,
    "start_time": "2022-07-16T16:56:03.805Z"
   },
   {
    "duration": 37,
    "start_time": "2022-07-16T16:56:03.838Z"
   },
   {
    "duration": 156,
    "start_time": "2022-07-16T16:56:03.876Z"
   },
   {
    "duration": 52,
    "start_time": "2022-07-16T16:56:04.034Z"
   },
   {
    "duration": 44,
    "start_time": "2022-07-16T16:56:04.088Z"
   },
   {
    "duration": 27,
    "start_time": "2022-07-16T16:56:04.134Z"
   },
   {
    "duration": 69,
    "start_time": "2022-07-16T16:56:04.163Z"
   },
   {
    "duration": 27,
    "start_time": "2022-07-16T16:56:04.234Z"
   },
   {
    "duration": 103,
    "start_time": "2022-07-16T16:56:04.263Z"
   },
   {
    "duration": 134,
    "start_time": "2022-07-16T16:56:04.368Z"
   },
   {
    "duration": 61,
    "start_time": "2022-07-16T16:56:04.510Z"
   },
   {
    "duration": 71,
    "start_time": "2022-07-16T16:56:04.572Z"
   },
   {
    "duration": 10,
    "start_time": "2022-07-16T16:56:04.645Z"
   },
   {
    "duration": 6,
    "start_time": "2022-07-16T16:56:04.657Z"
   },
   {
    "duration": 63,
    "start_time": "2022-07-16T16:56:04.665Z"
   },
   {
    "duration": 488,
    "start_time": "2022-07-16T16:56:04.729Z"
   },
   {
    "duration": 852,
    "start_time": "2022-07-16T16:56:05.219Z"
   },
   {
    "duration": 337,
    "start_time": "2022-07-16T16:56:06.072Z"
   },
   {
    "duration": 303,
    "start_time": "2022-07-16T16:56:06.411Z"
   },
   {
    "duration": 364,
    "start_time": "2022-07-16T16:56:06.716Z"
   },
   {
    "duration": 153,
    "start_time": "2022-07-16T16:56:07.082Z"
   },
   {
    "duration": 285,
    "start_time": "2022-07-16T16:56:07.237Z"
   },
   {
    "duration": 224,
    "start_time": "2022-07-16T16:56:07.525Z"
   },
   {
    "duration": 104,
    "start_time": "2022-07-16T16:56:07.751Z"
   },
   {
    "duration": 220,
    "start_time": "2022-07-16T16:56:07.858Z"
   },
   {
    "duration": 315,
    "start_time": "2022-07-16T16:56:08.080Z"
   },
   {
    "duration": 229,
    "start_time": "2022-07-16T16:56:08.396Z"
   },
   {
    "duration": 8,
    "start_time": "2022-07-16T16:56:08.626Z"
   },
   {
    "duration": 149,
    "start_time": "2022-07-16T16:56:08.635Z"
   },
   {
    "duration": 16,
    "start_time": "2022-07-16T17:00:57.447Z"
   }
  ],
  "kernelspec": {
   "display_name": "Python 3 (ipykernel)",
   "language": "python",
   "name": "python3"
  },
  "language_info": {
   "codemirror_mode": {
    "name": "ipython",
    "version": 3
   },
   "file_extension": ".py",
   "mimetype": "text/x-python",
   "name": "python",
   "nbconvert_exporter": "python",
   "pygments_lexer": "ipython3",
   "version": "3.9.7"
  },
  "toc": {
   "base_numbering": 1,
   "nav_menu": {},
   "number_sections": true,
   "sideBar": true,
   "skip_h1_title": true,
   "title_cell": "Table of Contents",
   "title_sidebar": "Contents",
   "toc_cell": false,
   "toc_position": {},
   "toc_section_display": true,
   "toc_window_display": true
  },
  "varInspector": {
   "cols": {
    "lenName": 16,
    "lenType": 16,
    "lenVar": 40
   },
   "kernels_config": {
    "python": {
     "delete_cmd_postfix": "",
     "delete_cmd_prefix": "del ",
     "library": "var_list.py",
     "varRefreshCmd": "print(var_dic_list())"
    },
    "r": {
     "delete_cmd_postfix": ") ",
     "delete_cmd_prefix": "rm(",
     "library": "var_list.r",
     "varRefreshCmd": "cat(var_dic_list()) "
    }
   },
   "types_to_exclude": [
    "module",
    "function",
    "builtin_function_or_method",
    "instance",
    "_Feature"
   ],
   "window_display": false
  }
 },
 "nbformat": 4,
 "nbformat_minor": 1
}
